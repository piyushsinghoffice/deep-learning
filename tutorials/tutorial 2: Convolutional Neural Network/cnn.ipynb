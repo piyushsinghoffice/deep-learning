{
 "cells": [
  {
   "cell_type": "markdown",
   "id": "079889c3",
   "metadata": {},
   "source": [
    "# Convolutional Neural Network (CNN) on MNIST\n",
    "\n",
    "In this tutorial, we move from a simple **Multi-Layer Perceptron (MLP)** to a **Convolutional Neural Network (CNN)**, which is far more effective for image classification tasks.  \n",
    "CNNs exploit the spatial structure of images by applying *convolutional filters* to detect edges, shapes, and patterns."
   ]
  },
  {
   "cell_type": "markdown",
   "id": "c8e9590c",
   "metadata": {},
   "source": [
    "##### What is a CNN?"
   ]
  },
  {
   "cell_type": "markdown",
   "id": "77574d4e",
   "metadata": {},
   "source": [
    "A **Convolutional Neural Network (CNN)** is designed to handle data with grid-like topology (e.g., images).  \n",
    "Key building blocks:\n",
    "\n",
    "- **Convolutional Layers**: Learn filters/kernels that slide over the input and extract local features (edges, corners, textures).\n",
    "- **Activation Functions (ReLU)**: Introduce non-linearity, enabling the network to learn complex patterns.\n",
    "- **Pooling Layers (MaxPooling)**: Downsample feature maps to reduce computation and improve generalization.\n",
    "- **Fully Connected Layers**: Combine extracted features to perform classification."
   ]
  },
  {
   "cell_type": "markdown",
   "id": "0458c27c",
   "metadata": {},
   "source": [
    "##### Why CNNs for Images?"
   ]
  },
  {
   "cell_type": "markdown",
   "id": "0600f159",
   "metadata": {},
   "source": [
    "Unlike MLPs, which flatten images and ignore spatial locality, CNNs:\n",
    "- Preserve the **2D structure** of the image.\n",
    "- Share weights across pixels (parameter-efficient).\n",
    "- Automatically learn hierarchical representations:\n",
    "  - Lower layers → edges, blobs\n",
    "  - Higher layers → shapes, digits, objects"
   ]
  },
  {
   "cell_type": "markdown",
   "id": "739e0a8d",
   "metadata": {},
   "source": [
    "##### Architecture in This Notebook"
   ]
  },
  {
   "cell_type": "markdown",
   "id": "cfc674c6",
   "metadata": {},
   "source": [
    "For the **MNIST handwritten digit dataset (28×28 grayscale)**:\n",
    "1. **Conv Layer 1**: 1 input channel → 32 filters, kernel size = 3, padding = 1  \n",
    "   → preserves 28×28 size.\n",
    "2. **Conv Layer 2**: 32 → 64 filters, kernel size = 3, padding = 1  \n",
    "   → followed by 2×2 MaxPooling → reduces size to 14×14.\n",
    "3. **Fully Connected Layer 1**: Flattens into `64 × 14 × 14 = 12544` features → 128 neurons.\n",
    "4. **Fully Connected Layer 2**: Outputs 10 logits (digits 0–9)."
   ]
  },
  {
   "cell_type": "markdown",
   "id": "c297e8d4",
   "metadata": {},
   "source": [
    "##### Training Objective"
   ]
  },
  {
   "cell_type": "markdown",
   "id": "15c4a014",
   "metadata": {},
   "source": [
    "- **Loss Function**: Cross-Entropy Loss  \n",
    "- **Optimizer**: Adam  \n",
    "- **Evaluation Metric**: Accuracy  \n",
    "\n",
    "CNNs generally achieve **98%+ accuracy on MNIST** with only a few epochs of training."
   ]
  },
  {
   "cell_type": "markdown",
   "id": "24b0bd76",
   "metadata": {},
   "source": [
    "##### Steps in This Notebook"
   ]
  },
  {
   "cell_type": "markdown",
   "id": "210a85db",
   "metadata": {},
   "source": [
    "1. **Load MNIST dataset** with `torchvision`.\n",
    "2. **Define CNN model** with 2 convolutional layers and 2 fully connected layers.\n",
    "3. **Train the model** and monitor accuracy.\n",
    "4. **Evaluate on test images**.\n",
    "5. **Visualize predictions** for random samples."
   ]
  },
  {
   "cell_type": "markdown",
   "id": "0b2bbd2b",
   "metadata": {},
   "source": [
    "# Code"
   ]
  },
  {
   "cell_type": "markdown",
   "id": "f2861929",
   "metadata": {},
   "source": [
    "### Imports"
   ]
  },
  {
   "cell_type": "code",
   "execution_count": 1,
   "id": "fe461f82",
   "metadata": {},
   "outputs": [],
   "source": [
    "import torch\n",
    "import torch.nn as nn\n",
    "import torch.nn.functional as F\n",
    "import torch.optim as optim\n",
    "from torchvision import datasets, transforms\n",
    "from torch.utils.data import DataLoader\n",
    "\n",
    "import plotly.express as px\n",
    "from plotly.subplots import make_subplots\n",
    "import plotly.graph_objects as go"
   ]
  },
  {
   "cell_type": "markdown",
   "id": "5e622dc3",
   "metadata": {},
   "source": [
    "### Load Data"
   ]
  },
  {
   "cell_type": "code",
   "execution_count": 2,
   "id": "ec407900",
   "metadata": {},
   "outputs": [],
   "source": [
    "def get_mnist_dataloaders(batch_size=64, root=\"../../data\", shuffle_test=False):\n",
    "    # simple transforms\n",
    "    transform = transforms.Compose([\n",
    "        transforms.ToTensor(),\n",
    "        transforms.Normalize((0.1307,), (0.3081,)),\n",
    "    ])\n",
    "    train_dataset = datasets.MNIST(root, train=True, download=True, transform=transform)\n",
    "    test_dataset  = datasets.MNIST(root, train=False, download=True, transform=transform)\n",
    "    train_loader = DataLoader(train_dataset, batch_size=batch_size, shuffle=True)\n",
    "    test_loader  = DataLoader(test_dataset, batch_size=batch_size, shuffle=shuffle_test)\n",
    "    return train_loader, test_loader"
   ]
  },
  {
   "cell_type": "code",
   "execution_count": 3,
   "id": "144a1d6e",
   "metadata": {},
   "outputs": [],
   "source": [
    "class SimpleCNN(nn.Module):\n",
    "    def __init__(self, num_classes=10):\n",
    "        super(SimpleCNN, self).__init__()\n",
    "        # Conv layers\n",
    "        self.conv1 = nn.Conv2d(in_channels=1, out_channels=32, kernel_size=3, padding=1) # 28x28 → 28x28\n",
    "        self.conv2 = nn.Conv2d(32, 64, kernel_size=3, padding=1)                         # 28x28 → 28x28\n",
    "        self.pool = nn.MaxPool2d(2, 2)  # downsample → 14x14\n",
    "\n",
    "        # Fully connected layers\n",
    "        self.fc1 = nn.Linear(64 * 14 * 14, 128)\n",
    "        self.fc2 = nn.Linear(128, num_classes)\n",
    "\n",
    "    def forward(self, x):\n",
    "        x = F.relu(self.conv1(x))  # (N, 32, 28, 28)\n",
    "        x = self.pool(F.relu(self.conv2(x)))  # (N, 64, 14, 14)\n",
    "        x = x.view(x.size(0), -1)  # flatten\n",
    "        x = F.relu(self.fc1(x))\n",
    "        x = self.fc2(x)\n",
    "        return x\n"
   ]
  },
  {
   "cell_type": "code",
   "execution_count": 4,
   "id": "8de82c67",
   "metadata": {},
   "outputs": [],
   "source": [
    "def accuracy(outputs, labels):\n",
    "    _, preds = torch.max(outputs, 1)\n",
    "    return torch.mean((preds == labels).float())"
   ]
  },
  {
   "cell_type": "code",
   "execution_count": 5,
   "id": "7f49cd64",
   "metadata": {},
   "outputs": [],
   "source": [
    "\n",
    "\n",
    "def train(epochs=5, batch_size=64, lr=1e-3, device=None):\n",
    "    if device is None:\n",
    "        device = torch.device(\"cuda\" if torch.cuda.is_available() else \"cpu\")\n",
    "    print(\"Using device:\", device)\n",
    "\n",
    "    train_loader, test_loader = get_mnist_dataloaders(batch_size=batch_size)\n",
    "    model = SimpleCNN().to(device)\n",
    "    criterion = nn.CrossEntropyLoss()\n",
    "    optimizer = optim.Adam(model.parameters(), lr=lr)\n",
    "\n",
    "    for epoch in range(1, epochs+1):\n",
    "        model.train()\n",
    "        train_loss, train_acc = 0.0, 0.0\n",
    "\n",
    "        for data, target in train_loader:\n",
    "            data, target = data.to(device), target.to(device)\n",
    "            optimizer.zero_grad()\n",
    "            outputs = model(data)\n",
    "            loss = criterion(outputs, target)\n",
    "            loss.backward()\n",
    "            optimizer.step()\n",
    "\n",
    "            train_loss += loss.item()\n",
    "            train_acc += accuracy(outputs, target).item()\n",
    "\n",
    "        train_loss /= len(train_loader)\n",
    "        train_acc /= len(train_loader)\n",
    "\n",
    "        # Evaluation\n",
    "        model.eval()\n",
    "        test_loss, test_acc = 0.0, 0.0\n",
    "        with torch.no_grad():\n",
    "            for data, target in test_loader:\n",
    "                data, target = data.to(device), target.to(device)\n",
    "                outputs = model(data)\n",
    "                loss = criterion(outputs, target)\n",
    "                test_loss += loss.item()\n",
    "                test_acc += accuracy(outputs, target).item()\n",
    "\n",
    "        test_loss /= len(test_loader)\n",
    "        test_acc /= len(test_loader)\n",
    "\n",
    "        print(f\"Epoch {epoch}: Train Loss={train_loss:.4f}, Acc={train_acc:.4f} | \"\n",
    "              f\"Test Loss={test_loss:.4f}, Acc={test_acc:.4f}\")\n",
    "\n",
    "    torch.save(model.state_dict(), \"simple_cnn.pth\")\n",
    "    print(\"Model saved to simple_cnn.pth\")\n",
    "\n",
    "    return model\n"
   ]
  },
  {
   "cell_type": "code",
   "execution_count": 6,
   "id": "39926c43",
   "metadata": {},
   "outputs": [
    {
     "name": "stdout",
     "output_type": "stream",
     "text": [
      "Using device: cpu\n",
      "Epoch 1: Train Loss=0.1189, Acc=0.9638 | Test Loss=0.0618, Acc=0.9790\n",
      "Epoch 2: Train Loss=0.0388, Acc=0.9878 | Test Loss=0.0344, Acc=0.9881\n",
      "Epoch 3: Train Loss=0.0227, Acc=0.9921 | Test Loss=0.0377, Acc=0.9883\n",
      "Epoch 4: Train Loss=0.0161, Acc=0.9949 | Test Loss=0.0455, Acc=0.9885\n",
      "Epoch 5: Train Loss=0.0118, Acc=0.9959 | Test Loss=0.0432, Acc=0.9892\n",
      "Model saved to simple_cnn.pth\n"
     ]
    },
    {
     "data": {
      "text/plain": [
       "SimpleCNN(\n",
       "  (conv1): Conv2d(1, 32, kernel_size=(3, 3), stride=(1, 1), padding=(1, 1))\n",
       "  (conv2): Conv2d(32, 64, kernel_size=(3, 3), stride=(1, 1), padding=(1, 1))\n",
       "  (pool): MaxPool2d(kernel_size=2, stride=2, padding=0, dilation=1, ceil_mode=False)\n",
       "  (fc1): Linear(in_features=12544, out_features=128, bias=True)\n",
       "  (fc2): Linear(in_features=128, out_features=10, bias=True)\n",
       ")"
      ]
     },
     "execution_count": 6,
     "metadata": {},
     "output_type": "execute_result"
    }
   ],
   "source": [
    "model = train(epochs=5, batch_size=64, lr=1e-3)\n",
    "\n",
    "# Load trained model\n",
    "device = torch.device(\"cuda\" if torch.cuda.is_available() else \"cpu\")\n",
    "model = SimpleCNN()\n",
    "model.load_state_dict(torch.load(\"simple_cnn.pth\", map_location=device))\n",
    "model.to(device)\n",
    "model.eval()"
   ]
  },
  {
   "cell_type": "code",
   "execution_count": 17,
   "id": "a5be324e",
   "metadata": {},
   "outputs": [
    {
     "name": "stdout",
     "output_type": "stream",
     "text": [
      "Data shape: torch.Size([5, 1, 28, 28])\n",
      "Target shape: torch.Size([5])\n"
     ]
    },
    {
     "data": {
      "application/vnd.plotly.v1+json": {
       "config": {
        "plotlyServerURL": "https://plot.ly"
       },
       "data": [
        {
         "colorscale": [
          [
           0,
           "rgb(0, 0, 0)"
          ],
          [
           0.09090909090909091,
           "rgb(16, 16, 16)"
          ],
          [
           0.18181818181818182,
           "rgb(38, 38, 38)"
          ],
          [
           0.2727272727272727,
           "rgb(59, 59, 59)"
          ],
          [
           0.36363636363636365,
           "rgb(81, 80, 80)"
          ],
          [
           0.45454545454545453,
           "rgb(102, 101, 101)"
          ],
          [
           0.5454545454545454,
           "rgb(124, 123, 122)"
          ],
          [
           0.6363636363636364,
           "rgb(146, 146, 145)"
          ],
          [
           0.7272727272727273,
           "rgb(171, 171, 170)"
          ],
          [
           0.8181818181818182,
           "rgb(197, 197, 195)"
          ],
          [
           0.9090909090909091,
           "rgb(224, 224, 223)"
          ],
          [
           1,
           "rgb(254, 254, 253)"
          ]
         ],
         "showscale": false,
         "type": "heatmap",
         "xaxis": "x",
         "yaxis": "y",
         "z": {
          "bdata": "cTLZvnEy2b5xMtm+cTLZvnEy2b5xMtm+cTLZvnEy2b5xMtm+cTLZvnEy2b5xMtm+cTLZvnEy2b5xMtm+cTLZvnEy2b5xMtm+cTLZvnEy2b5xMtm+cTLZvnEy2b5xMtm+cTLZvnEy2b5xMtm+cTLZvnEy2b5xMtm+cTLZvnEy2b5xMtm+cTLZvnEy2b5xMtm+cTLZvnEy2b5xMtm+cTLZvnEy2b5xMtm+cTLZvnEy2b5xMtm+cTLZvnEy2b5xMtm+cTLZvnEy2b5xMtm+cTLZvnEy2b5xMtm+cTLZvnEy2b5xMtm+cTLZvnEy2b5xMtm+cTLZvnEy2b5xMtm+cTLZvnEy2b5xMtm+cTLZvnEy2b5xMtm+cTLZvnEy2b5xMtm+cTLZvnEy2b5xMtm+cTLZvnEy2b5xMtm+cTLZvnEy2b5xMtm+cTLZvnEy2b5xMtm+cTLZvnEy2b5xMtm+cTLZvnEy2b5xMtm+cTLZvnEy2b5xMtm+cTLZvnEy2b5xMtm+cTLZvnEy2b5xMtm+cTLZvnEy2b5xMtm+cTLZvnEy2b5xMtm+cTLZvnEy2b5xMtm+cTLZvnEy2b5xMtm+cTLZvnEy2b5xMtm+cTLZvnEy2b5xMtm+cTLZvnEy2b5xMtm+cTLZvnEy2b5xMtm+cTLZvnEy2b5xMtm+cTLZvnEy2b5xMtm+cTLZvnEy2b5xMtm+cTLZvnEy2b5xMtm+cTLZvnEy2b5xMtm+cTLZvnEy2b5xMtm+cTLZvnEy2b5xMtm+cTLZvnEy2b5xMtm+cTLZvnEy2b5xMtm+cTLZvnEy2b5xMtm+cTLZvnEy2b5xMtm+cTLZvnEy2b5xMtm+KUdmPz2TNECbi56+cTLZvnEy2b5xMtm+cTLZvnEy2b5xMtm+cTLZvnEy2b5xMtm+cTLZvnEy2b5xMtm+cTLZvnEy2b5xMtm+cTLZvnEy2b5xMtm+cTLZvnEy2b5xMtm+cTLZvnEy2b5xMtm+hEOaPgCwL0CzwjNAm4uevnEy2b5xMtm+cTLZvnEy2b5xMtm+cTLZvnEy2b5xMtm+cTLZvnEy2b5xMtm+cTLZvnEy2b5xMtm+cTLZvuwPpb5IRAE/IK7SvnEy2b5xMtm+cTLZvnEy2b5xMtm+y8ryvB9d+j+zwjNAi4AwQJuLnr5xMtm+cTLZvnEy2b5xMtm+cTLZvnEy2b5xMtm+cTLZvnEy2b5xMtm+cTLZvnEy2b5xMtm+cTLZvm/jbr7rvsw/s8IzQEAE/D5xMtm+cTLZvnEy2b5xMtm+cTLZvkOIqj+zwjNAsCspQDS/kz5xMtm+cTLZvnEy2b5xMtm+cTLZvnEy2b5xMtm+cTLZvnEy2b5xMtm+cTLZvnEy2b5xMtm+cTLZvnEy2b4LZs4+s8IzQLPCM0BBU2Y+cTLZvnEy2b5xMtm+cTLZvhjZuj523y5As8IzQLo38j9xMtm+cTLZvnEy2b5xMtm+cTLZvnEy2b5xMtm+cTLZvnEy2b5xMtm+cTLZvnEy2b5xMtm+cTLZvnEy2b7BCAw8mfMcQLPCM0DsDi5A7A+lvnEy2b5xMtm+cTLZvnEy2b7lkLc/s8IzQLPCM0C64cc+cTLZvnEy2b5xMtm+cTLZvnEy2b5xMtm+cTLZvnEy2b5xMtm+cTLZvnEy2b5xMtm+cTLZvnEy2b5xMtm+wQoLP7PCM0DsDi5AEo8RP3Ey2b5xMtm+cTLZvnEy2b5ZeoS+NM4UQLPCM0BcEBhAEOx7vnEy2b5xMtm+cTLZvnEy2b5xMtm+cTLZvnEy2b5xMtm+cTLZvnEy2b5xMtm+cTLZvnEy2b5xMtm+cTLZvngm2D+zwjNAc0gkQHEy2b5xMtm+cTLZvnEy2b5xMtm+jt6bP7PCM0CzwjNA9xr3P3Ey2b5xMtm+cTLZvnEy2b5xMtm+cTLZvnEy2b5xMtm+cTLZvnEy2b5xMtm+cTLZvnEy2b5xMtm+cTLZvpuLnr6wKylAs8IzQKdmCUCbi56+cTLZvnEy2b5xMtm+7A+lvjTOFECzwjNAvp4VQCZMpz5xMtm+cTLZvnEy2b5xMtm+cTLZvnEy2b5xMtm+cTLZvnEy2b5xMtm+cTLZvnEy2b5xMtm+cTLZvnEy2b6NGLK+cLEZQLPCM0CzwjNA40kOQIzH2T8Q7Hu+cTLZvhtGpz+zwjNAs8IzQKitsj9xMtm+cTLZvnEy2b5xMtm+cTLZvnEy2b5xMtm+cTLZvnEy2b5xMtm+cTLZvnEy2b5xMtm+cTLZvnEy2b5xMtm+cTLZvoRDmj4PIxxAs8IzQLPCM0CzwjNAs8IzQLPCM0BcEBhAs8IzQLPCM0DzkXY/cTLZvnEy2b5xMtm+cTLZvnEy2b5xMtm+cTLZvnEy2b5xMtm+cTLZvnEy2b5xMtm+cTLZvnEy2b5xMtm+cTLZvnEy2b5xMtm+pwKJu3o9mj80zhRANM4UQOl3I0CzwjNAs8IzQLPCM0CzwjNA2G0sQJnzHECZ8xxAmfMcQOwPpb5xMtm+cTLZvnEy2b5xMtm+cTLZvnEy2b5xMtm+cTLZvnEy2b5xMtm+cTLZvnEy2b5xMtm+cTLZvnEy2b5xMtm+cTLZvnEy2b6996S9MTcKQLPCM0CzwjNAYj4tQGqz6z/BNSBA9xr3PzUVvj+NGLK+cTLZvnEy2b5xMtm+cTLZvnEy2b5xMtm+cTLZvnEy2b5xMtm+cTLZvnEy2b5xMtm+cTLZvnEy2b5xMtm+cTLZvnEy2b5xMtm+cTLZvjP++z+zwjNAs8IzQHziLj9xMtm+tIWKvHEy2b5xMtm+cTLZvnEy2b5xMtm+cTLZvnEy2b5xMtm+cTLZvnEy2b5xMtm+cTLZvnEy2b5xMtm+cTLZvnEy2b5xMtm+cTLZvnEy2b5xMtm+cTLZvjrRFD8AsC9As8IzQHgm2D8uIb++cTLZvnEy2b5xMtm+cTLZvnEy2b5xMtm+cTLZvnEy2b5xMtm+cTLZvnEy2b5xMtm+cTLZvnEy2b5xMtm+cTLZvnEy2b5xMtm+cTLZvnEy2b5xMtm+cTLZvnEy2b6TxQdAs8IzQLPCM0D/dpA/cTLZvnEy2b5xMtm+cTLZvnEy2b5xMtm+cTLZvnEy2b5xMtm+cTLZvnEy2b5xMtm+cTLZvnEy2b5xMtm+cTLZvnEy2b5xMtm+cTLZvnEy2b5xMtm+cTLZvnEy2b7owDq+N2UfQLPCM0CzwjNAHus7P3Ey2b5xMtm+cTLZvnEy2b5xMtm+cTLZvnEy2b5xMtm+cTLZvnEy2b5xMtm+cTLZvnEy2b5xMtm+cTLZvnEy2b5xMtm+cTLZvnEy2b5xMtm+cTLZvnEy2b5xMtm+Eo8RP7PCM0CzwjNAqv0TQKn+ir5xMtm+cTLZvnEy2b5xMtm+cTLZvnEy2b5xMtm+cTLZvnEy2b5xMtm+cTLZvnEy2b5xMtm+cTLZvnEy2b5xMtm+cTLZvnEy2b5xMtm+cTLZvnEy2b5xMtm+cTLZvkq2vz+zwjNAs8IzQPORdj9xMtm+cTLZvnEy2b5xMtm+cTLZvnEy2b5xMtm+cTLZvnEy2b5xMtm+cTLZvnEy2b5xMtm+cTLZvnEy2b5xMtm+cTLZvnEy2b5xMtm+cTLZvnEy2b5xMtm+cTLZvnEy2b6bUYg/s8IzQM/Y8z920K0+cTLZvnEy2b5xMtm+cTLZvnEy2b5xMtm+cTLZvnEy2b5xMtm+cTLZvnEy2b5xMtm+cTLZvnEy2b5xMtm+cTLZvnEy2b5xMtm+cTLZvnEy2b5xMtm+cTLZvnEy2b5xMtm+cTLZvnEy2b5xMtm+cTLZvnEy2b5xMtm+cTLZvnEy2b5xMtm+cTLZvnEy2b5xMtm+cTLZvnEy2b5xMtm+cTLZvnEy2b5xMtm+cTLZvnEy2b5xMtm+cTLZvnEy2b5xMtm+cTLZvnEy2b5xMtm+cTLZvnEy2b5xMtm+cTLZvnEy2b5xMtm+cTLZvnEy2b5xMtm+cTLZvnEy2b5xMtm+cTLZvnEy2b5xMtm+cTLZvnEy2b5xMtm+cTLZvnEy2b5xMtm+cTLZvnEy2b5xMtm+cTLZvnEy2b5xMtm+cTLZvnEy2b5xMtm+cTLZvnEy2b5xMtm+cTLZvnEy2b5xMtm+cTLZvnEy2b5xMtm+cTLZvnEy2b5xMtm+cTLZvnEy2b5xMtm+cTLZvg==",
          "dtype": "f4",
          "shape": "28, 28"
         }
        },
        {
         "colorscale": [
          [
           0,
           "rgb(0, 0, 0)"
          ],
          [
           0.09090909090909091,
           "rgb(16, 16, 16)"
          ],
          [
           0.18181818181818182,
           "rgb(38, 38, 38)"
          ],
          [
           0.2727272727272727,
           "rgb(59, 59, 59)"
          ],
          [
           0.36363636363636365,
           "rgb(81, 80, 80)"
          ],
          [
           0.45454545454545453,
           "rgb(102, 101, 101)"
          ],
          [
           0.5454545454545454,
           "rgb(124, 123, 122)"
          ],
          [
           0.6363636363636364,
           "rgb(146, 146, 145)"
          ],
          [
           0.7272727272727273,
           "rgb(171, 171, 170)"
          ],
          [
           0.8181818181818182,
           "rgb(197, 197, 195)"
          ],
          [
           0.9090909090909091,
           "rgb(224, 224, 223)"
          ],
          [
           1,
           "rgb(254, 254, 253)"
          ]
         ],
         "showscale": false,
         "type": "heatmap",
         "xaxis": "x2",
         "yaxis": "y2",
         "z": {
          "bdata": "cTLZvnEy2b5xMtm+cTLZvnEy2b5xMtm+cTLZvnEy2b5xMtm+cTLZvnEy2b5xMtm+cTLZvnEy2b5xMtm+cTLZvnEy2b5xMtm+cTLZvnEy2b5xMtm+cTLZvnEy2b5xMtm+cTLZvnEy2b5xMtm+cTLZvnEy2b5xMtm+cTLZvnEy2b5xMtm+cTLZvnEy2b5xMtm+cTLZvnEy2b5xMtm+cTLZvnEy2b5xMtm+cTLZvnEy2b5xMtm+cTLZvnEy2b5xMtm+cTLZvnEy2b5xMtm+cTLZvnEy2b5xMtm+cTLZvnEy2b5xMtm+cTLZvnEy2b5xMtm+cTLZvnEy2b5xMtm+cTLZvnEy2b5xMtm+cTLZvnEy2b5xMtm+cTLZvnEy2b5xMtm+cTLZvnEy2b5xMtm+cTLZvnEy2b5xMtm+cTLZvnEy2b5xMtm+cTLZvnEy2b5xMtm+cTLZvnEy2b5xMtm+cTLZvnEy2b5xMtm+cTLZvnEy2b5xMtm+cTLZvnEy2b5xMtm+cTLZvnEy2b5xMtm+cTLZvnEy2b5xMtm+cTLZvnEy2b5xMtm+cTLZvnEy2b5xMtm+cTLZvnEy2b5xMtm+cTLZvnEy2b5xMtm+cTLZvnEy2b5xMtm+cTLZvnEy2b5xMtm+cTLZvnEy2b5xMtm+PZSrvujAOr5xMtm+cTLZvnEy2b5xMtm+cTLZvnEy2b5xMtm+cTLZvnEy2b5xMtm+cTLZvnEy2b5xMtm+cTLZvnEy2b5xMtm+cTLZvnEy2b5xMtm+cTLZvnEy2b5xMtm+cTLZvujAOr6iDXA/yKrePx9d+j+EUhtAtAndP8J8yT/owDq+cTLZvnEy2b5xMtm+cTLZvnEy2b5xMtm+cTLZvnEy2b5xMtm+cTLZvnEy2b5xMtm+cTLZvnEy2b5xMtm+cTLZvnEy2b5xMtm+cTLZvrOXHj+q/RNAnyEyQCnyMkCfITJAnyEyQJ8hMkAp8jJAXED/P+jAOr5xMtm+cTLZvnEy2b5xMtm+cTLZvnEy2b5xMtm+cTLZvnEy2b5xMtm+cTLZvnEy2b5xMtm+cTLZvnEy2b5xMtm+cTLZvv8Iv73EzCpAnyEyQJ8hMkAp8jJAVhLqPwEFYz8SjxE/KfIyQJ8hMkCu28c/cTLZvnEy2b5xMtm+cTLZvnEy2b5xMtm+cTLZvnEy2b5xMtm+cTLZvnEy2b5xMtm+cTLZvnEy2b5xMtm+cTLZvnEy2b67BwtAKfIyQCnyMkBqs+s/cTLZvnEy2b5xMtm+cTLZvjrRFD8p8jJAKfIyQHrmir1xMtm+cTLZvnEy2b5xMtm+cTLZvnEy2b5xMtm+cTLZvnEy2b5xMtm+cTLZvnEy2b5xMtm+cTLZvnEy2b5xMtm+rZQeQJ8hMkBqgwRAm4uevnEy2b5xMtm+cTLZvnEy2b5vqmG9nyEyQJ8hMkBCMoA+cTLZvnEy2b5xMtm+cTLZvnEy2b5xMtm+cTLZvnEy2b5xMtm+cTLZvnEy2b5xMtm+cTLZvnEy2b5xMtm+cTLZvtkWCz5F2AtAVhLqPwWnE75xMtm+cTLZvnEy2b5xMtm+b6phvZ8hMkCfITJAWCmsP3Ey2b5xMtm+cTLZvnEy2b5xMtm+cTLZvnEy2b5xMtm+cTLZvnEy2b5xMtm+cTLZvnEy2b5xMtm+cTLZvnEy2b5xMtm+WXqEvksHmL5/pcW+cTLZvnEy2b5xMtm+cTLZvjrRFD+fITJAnyEyQFgprD9xMtm+cTLZvnEy2b5xMtm+cTLZvnEy2b5xMtm+cTLZvnEy2b5xMtm+cTLZvnEy2b5xMtm+cTLZvnEy2b5xMtm+cTLZvnEy2b5xMtm+cTLZvnEy2b5xMtm+cTLZvnEy2b49kzRAKfIyQCnyMkASjxE/cTLZvnEy2b5xMtm+cTLZvnEy2b5xMtm+cTLZvnEy2b5xMtm+cTLZvnEy2b5xMtm+cTLZvnEy2b5xMtm+cTLZvnEy2b5xMtm+cTLZvnEy2b5xMtm+cTLZvnEy2b7/CL+9KfIyQJ8hMkBfpyJABacTvnEy2b5xMtm+cTLZvnEy2b5xMtm+cTLZvnEy2b5xMtm+cTLZvnEy2b5xMtm+cTLZvnEy2b5xMtm+cTLZvnEy2b5xMtm+cTLZvnEy2b5xMtm+cTLZvnEy2b5vqmG99+oPQCnyMkCfITJAoGjbP3Ey2b5xMtm+cTLZvnEy2b5xMtm+cTLZvnEy2b5xMtm+cTLZvnEy2b5xMtm+cTLZvnEy2b5xMtm+cTLZvnEy2b5xMtm+cTLZvnEy2b5xMtm+cTLZvnEy2b5xMtm+LF4oP58hMkAp8jJAI8QdQG8c/D1xMtm+cTLZvnEy2b5xMtm+cTLZvnEy2b5xMtm+cTLZvnEy2b5xMtm+cTLZvnEy2b5xMtm+cTLZvnEy2b5xMtm+cTLZvnEy2b5xMtm+cTLZvnEy2b5xMtm+eh8YPjdlH0Ap8jJAPZM0QAQcJT9xMtm+cTLZvnEy2b5xMtm+cTLZvnEy2b5xMtm+cTLZvnEy2b5xMtm+cTLZvnEy2b5xMtm+cTLZvnEy2b5xMtm+cTLZvnEy2b5xMtm+cTLZvnEy2b5xMtm+cTLZvrQJ3T+fITJAnyEyQG0aD0B65oq9cTLZvnEy2b5xMtm+cTLZvnEy2b5xMtm+PZSrvrYgnz9oXcE+QVNmPnEy2b5xMtm+cTLZvnEy2b5xMtm+cTLZvnEy2b5xMtm+cTLZvnEy2b5xMtm+cTLZvnbQrT7pdyNAnyEyQJ8hMkDBCgs/cTLZvnEy2b5xMtm+cTLZvnEy2b6sbts+LF4oP7sHC0CfITJARdgLQDYsgD9xMtm+cTLZvnEy2b5xMtm+cTLZvnEy2b5xMtm+cTLZvnEy2b5xMtm+cTLZvnEy2b6wKylAnyEyQJ8hMkCfITJAcTLZvnEy2b5EjHM9Ss2BP0Fx6D8PIxxAYj4tQJ8hMkAp8jJAnyEyQK/yiT9xMtm+cTLZvnEy2b5xMtm+cTLZvnEy2b5xMtm+cTLZvnEy2b5xMtm+cTLZvnEy2b5xMtm+jt6bPynyMkAp8jJAKfIyQEJBAUA0zhRAKfIyQCnyMkA9kzRAKfIyQCnyMkCwKylAO0PTP0SMcz1xMtm+cTLZvnEy2b5xMtm+cTLZvnEy2b5xMtm+cTLZvnEy2b5xMtm+cTLZvnEy2b5xMtm+cTLZvksHmL5qgwRAnyEyQJ8hMkAp8jJAnyEyQJ8hMkCfITJA7A4uQGqDBEDXHcs/vDAyPnEy2b5xMtm+cTLZvnEy2b5xMtm+cTLZvnEy2b5xMtm+cTLZvnEy2b5xMtm+cTLZvnEy2b5xMtm+cTLZvnEy2b5xMtm+RIxzPaitsj+gaNs/oGjbP6Bo2z+gaNs/oGjbP6BKWT5xMtm+cTLZvnEy2b5xMtm+cTLZvnEy2b5xMtm+cTLZvnEy2b5xMtm+cTLZvnEy2b5xMtm+cTLZvnEy2b5xMtm+cTLZvnEy2b5xMtm+cTLZvnEy2b5xMtm+cTLZvnEy2b5xMtm+cTLZvnEy2b5xMtm+cTLZvnEy2b5xMtm+cTLZvnEy2b5xMtm+cTLZvnEy2b5xMtm+cTLZvnEy2b5xMtm+cTLZvnEy2b5xMtm+cTLZvnEy2b5xMtm+cTLZvnEy2b5xMtm+cTLZvnEy2b5xMtm+cTLZvnEy2b5xMtm+cTLZvnEy2b5xMtm+cTLZvnEy2b5xMtm+cTLZvnEy2b5xMtm+cTLZvnEy2b5xMtm+cTLZvnEy2b5xMtm+cTLZvnEy2b5xMtm+cTLZvnEy2b5xMtm+cTLZvnEy2b5xMtm+cTLZvnEy2b5xMtm+cTLZvnEy2b5xMtm+cTLZvnEy2b5xMtm+cTLZvnEy2b5xMtm+cTLZvnEy2b5xMtm+cTLZvnEy2b5xMtm+cTLZvnEy2b5xMtm+cTLZvnEy2b5xMtm+cTLZvnEy2b5xMtm+cTLZvnEy2b5xMtm+cTLZvnEy2b5xMtm+cTLZvnEy2b5xMtm+cTLZvnEy2b5xMtm+cTLZvnEy2b5xMtm+cTLZvnEy2b5xMtm+cTLZvnEy2b5xMtm+cTLZvnEy2b5xMtm+cTLZvnEy2b5xMtm+cTLZvnEy2b5xMtm+cTLZvnEy2b5xMtm+cTLZvnEy2b5xMtm+cTLZvnEy2b5xMtm+cTLZvnEy2b5xMtm+cTLZvg==",
          "dtype": "f4",
          "shape": "28, 28"
         }
        },
        {
         "colorscale": [
          [
           0,
           "rgb(0, 0, 0)"
          ],
          [
           0.09090909090909091,
           "rgb(16, 16, 16)"
          ],
          [
           0.18181818181818182,
           "rgb(38, 38, 38)"
          ],
          [
           0.2727272727272727,
           "rgb(59, 59, 59)"
          ],
          [
           0.36363636363636365,
           "rgb(81, 80, 80)"
          ],
          [
           0.45454545454545453,
           "rgb(102, 101, 101)"
          ],
          [
           0.5454545454545454,
           "rgb(124, 123, 122)"
          ],
          [
           0.6363636363636364,
           "rgb(146, 146, 145)"
          ],
          [
           0.7272727272727273,
           "rgb(171, 171, 170)"
          ],
          [
           0.8181818181818182,
           "rgb(197, 197, 195)"
          ],
          [
           0.9090909090909091,
           "rgb(224, 224, 223)"
          ],
          [
           1,
           "rgb(254, 254, 253)"
          ]
         ],
         "showscale": false,
         "type": "heatmap",
         "xaxis": "x3",
         "yaxis": "y3",
         "z": {
          "bdata": "cTLZvnEy2b5xMtm+cTLZvnEy2b5xMtm+cTLZvnEy2b5xMtm+cTLZvnEy2b5xMtm+cTLZvnEy2b5xMtm+cTLZvnEy2b5xMtm+cTLZvnEy2b5xMtm+cTLZvnEy2b5xMtm+cTLZvnEy2b5xMtm+cTLZvnEy2b5xMtm+cTLZvnEy2b5xMtm+cTLZvnEy2b5xMtm+cTLZvnEy2b5xMtm+cTLZvnEy2b5xMtm+cTLZvnEy2b5xMtm+cTLZvnEy2b5xMtm+cTLZvnEy2b5xMtm+cTLZvnEy2b5xMtm+cTLZvnEy2b5xMtm+cTLZvnEy2b5xMtm+cTLZvnEy2b5xMtm+cTLZvnEy2b5xMtm+cTLZvnEy2b5xMtm+cTLZvnEy2b5xMtm+cTLZvnEy2b5xMtm+cTLZvnEy2b5xMtm+cTLZvnEy2b5xMtm+cTLZvnEy2b5xMtm+cTLZvnEy2b5xMtm+cTLZvnEy2b5xMtm+cTLZvnEy2b5xMtm+cTLZvnEy2b5xMtm+cTLZvnEy2b5xMtm+cTLZvnEy2b5xMtm+cTLZvnEy2b5xMtm+cTLZvnEy2b5xMtm+cTLZvnEy2b5xMtm+cTLZvnEy2b5xMtm+cTLZvnEy2b5xMtm+cTLZvnEy2b5xMtm+cTLZvnEy2b5xMtm+cTLZvnEy2b5xMtm+cTLZvnEy2b5xMtm+cTLZvnEy2b5xMtm+cTLZvnEy2b5xMtm+cTLZvnEy2b5xMtm+cTLZvnEy2b5xMtm+cTLZvnEy2b5xMtm+cTLZvnEy2b5xMtm+SweYvm+qYb1xMtm+cTLZvksHmL5vqmG9hpnEPynyMkA0zhRAHus7PzrRFD9LB5i+cTLZvnEy2b5xMtm+cTLZvnEy2b5xMtm+cTLZvnEy2b5xMtm+cTLZvnEy2b5xMtm+cTLZvnEy2b5xMtm+WXqEvvHs4T+fITJAyKrePzS/kz7zA6Q/nyEyQCnyMkCfITJAnyEyQJ8hMkAp8jJA5ZC3P7Ygnz+iDXA//wi/vXEy2b5xMtm+cTLZvnEy2b5xMtm+cTLZvnEy2b5xMtm+cTLZvnEy2b5xMtm+cTLZvoRDmj6fITJAnyEyQCnyMkAEHCU/6MA6vjS/kz6gaNs/oGjbP2qDBECfITJAKfIyQJ8hMkCfITJAnyEyQPqBGkBc6tQ+cTLZvnEy2b5xMtm+cTLZvnEy2b5xMtm+cTLZvnEy2b5xMtm+cTLZvnEy2b60hYq8XED/P1xA/z8p8jJABBwlP3Ey2b5xMtm+cTLZvnEy2b5LB5i+euaKvXrmir16PZo/nyEyQJ8hMkAp8jJA43n1P3Ey2b5xMtm+cTLZvnEy2b5xMtm+cTLZvnEy2b5xMtm+cTLZvnEy2b5xMtm+cTLZvnEy2b4dlghAQkEBQCnyMkA0zhRA6vnHPXEy2b5xMtm+cTLZvnEy2b5xMtm+cTLZvje6Uj+wKylAPZM0QON59T9xMtm+cTLZvnEy2b5xMtm+cTLZvnEy2b5xMtm+cTLZvnEy2b5xMtm+cTLZvnEy2b5xMtm+cTLZvoawhj9Hn/0/qv0TQKdmCUBBU2Y+cTLZvnEy2b5xMtm+cTLZvnEy2b7x7OE/WCmsP3CxGUALZs4+cTLZvnEy2b5xMtm+cTLZvnEy2b5xMtm+cTLZvnEy2b5xMtm+cTLZvnEy2b5xMtm+cTLZvnEy2b49lKu+6MA6vvRTBUAgLRNA7A4uQPHs4T8sXig/LF4oPwelpT860RQ/LF4oPwEFYz9CGtm9cTLZvnEy2b5xMtm+cTLZvnEy2b5xMtm+cTLZvnEy2b5xMtm+cTLZvnEy2b5xMtm+cTLZvnEy2b5xMtm+cTLZvnEy2b4FpxO+XOrUPinyMkCfITJAnyEyQJ8hMkCwKylAvDAyPksHmL5/pcW+cTLZvnEy2b5xMtm+cTLZvnEy2b5xMtm+cTLZvnEy2b5xMtm+cTLZvnEy2b5xMtm+cTLZvnEy2b5xMtm+cTLZvnEy2b5xMtm+cTLZvnEy2b6GmcQ/KfIyQCnyMkAp8jJAQXHoP3Ey2b5xMtm+cTLZvnEy2b5xMtm+cTLZvnEy2b5xMtm+cTLZvnEy2b5xMtm+cTLZvnEy2b5xMtm+cTLZvnEy2b5xMtm+cTLZvnEy2b5xMtm+cTLZvnEy2b6wgFw/KfIyQJ8hMkCfITJAnyEyQEsGIUDowDq+cTLZvnEy2b5xMtm+cTLZvnEy2b5xMtm+cTLZvnEy2b5xMtm+cTLZvnEy2b5xMtm+cTLZvnEy2b5xMtm+cTLZvnEy2b5xMtm+cTLZvoRDmj4TGJI/Yj4tQCnyMkDIqt4/l7FFP5o6xj8p8jJABBwlP3Ey2b5xMtm+cTLZvnEy2b5xMtm+cTLZvnEy2b5xMtm+cTLZvnEy2b5xMtm+cTLZvnEy2b5xMtm+cTLZvnEy2b5xMtm+cTLZvmhdwT7PqAxAIC0TQCZbKEB6PZo/m4uevnEy2b5ZeoS+bMqtP/RTBUA1Fb4/cTLZvnEy2b5xMtm+cTLZvnEy2b5xMtm+cTLZvnEy2b5xMtm+cTLZvnEy2b5xMtm+cTLZvnEy2b5xMtm+cTLZvll6hL6zwjNAKfIyQCnyMkB6PZo/cTLZvnEy2b5xMtm+cTLZvi4hv75+VO0/KfIyQAEFYz9xMtm+cTLZvnEy2b5xMtm+cTLZvnEy2b5xMtm+cTLZvnEy2b5xMtm+cTLZvnEy2b5xMtm+cTLZvnEy2b5KzYE/KfIyQJ8hMkBqgwRAm4uevnEy2b5xMtm+cTLZvnEy2b5vqmG9nyEyQJ8hMkCfITJAcTLZvnEy2b5xMtm+cTLZvnEy2b5xMtm+cTLZvnEy2b5xMtm+cTLZvnEy2b5xMtm+cTLZvnEy2b5xMtm+Ss2BPynyMkCfITJAoGjbP3Ey2b5xMtm+cTLZvnEy2b5xMtm+6MA6voRSG0CfITJAnyEyQEFTZj5xMtm+cTLZvnEy2b5xMtm+cTLZvnEy2b5xMtm+cTLZvnEy2b5xMtm+cTLZvnEy2b5xMtm+cTLZvll6hL4p8jJAnyEyQKBo2z9xMtm+cTLZvnEy2b5xMtm+cTLZvv8Iv73EzCpAnyEyQKdmCUBxMtm+cTLZvnEy2b5xMtm+cTLZvnEy2b5xMtm+cTLZvnEy2b5xMtm+cTLZvnEy2b5xMtm+cTLZvnEy2b5xMtm+flTtPynyMkAp8jJAMTcKQHEy2b5xMtm+cTLZvll6hL67BwtAKfIyQE6dK0A8WpU/cTLZvnEy2b5xMtm+cTLZvnEy2b5xMtm+cTLZvnEy2b5xMtm+cTLZvnEy2b5xMtm+cTLZvnEy2b5xMtm+cTLZvksHmL7dS+A/nyEyQJ8hMkC0Cd0/l7FFP7/zSD/PqAxAKfIyQCZbKECif50/cTLZvnEy2b5xMtm+cTLZvnEy2b5xMtm+cTLZvnEy2b5xMtm+cTLZvnEy2b5xMtm+cTLZvnEy2b5xMtm+cTLZvnEy2b5xMtm+WXqEvt1L4D+fITJAKfIyQJ8hMkCfITJAnyEyQCnyMkDzkXY/cTLZvnEy2b5xMtm+cTLZvnEy2b5xMtm+cTLZvnEy2b5xMtm+cTLZvnEy2b5xMtm+cTLZvnEy2b5xMtm+cTLZvnEy2b5xMtm+cTLZvnEy2b5LB5i+ej2aPzE3CkCfITJAnyEyQJ8hMkB6PZo/m4uevnEy2b5xMtm+cTLZvnEy2b5xMtm+cTLZvnEy2b5xMtm+cTLZvnEy2b5xMtm+cTLZvnEy2b5xMtm+cTLZvnEy2b5xMtm+cTLZvnEy2b5xMtm+cTLZvnEy2b5xMtm+cTLZvnEy2b5xMtm+cTLZvnEy2b5xMtm+cTLZvnEy2b5xMtm+cTLZvnEy2b5xMtm+cTLZvnEy2b5xMtm+cTLZvnEy2b5xMtm+cTLZvnEy2b5xMtm+cTLZvnEy2b5xMtm+cTLZvnEy2b5xMtm+cTLZvnEy2b5xMtm+cTLZvnEy2b5xMtm+cTLZvnEy2b5xMtm+cTLZvnEy2b5xMtm+cTLZvnEy2b5xMtm+cTLZvnEy2b5xMtm+cTLZvnEy2b5xMtm+cTLZvnEy2b5xMtm+cTLZvnEy2b5xMtm+cTLZvnEy2b5xMtm+cTLZvnEy2b5xMtm+cTLZvnEy2b5xMtm+cTLZvnEy2b5xMtm+cTLZvnEy2b5xMtm+cTLZvg==",
          "dtype": "f4",
          "shape": "28, 28"
         }
        },
        {
         "colorscale": [
          [
           0,
           "rgb(0, 0, 0)"
          ],
          [
           0.09090909090909091,
           "rgb(16, 16, 16)"
          ],
          [
           0.18181818181818182,
           "rgb(38, 38, 38)"
          ],
          [
           0.2727272727272727,
           "rgb(59, 59, 59)"
          ],
          [
           0.36363636363636365,
           "rgb(81, 80, 80)"
          ],
          [
           0.45454545454545453,
           "rgb(102, 101, 101)"
          ],
          [
           0.5454545454545454,
           "rgb(124, 123, 122)"
          ],
          [
           0.6363636363636364,
           "rgb(146, 146, 145)"
          ],
          [
           0.7272727272727273,
           "rgb(171, 171, 170)"
          ],
          [
           0.8181818181818182,
           "rgb(197, 197, 195)"
          ],
          [
           0.9090909090909091,
           "rgb(224, 224, 223)"
          ],
          [
           1,
           "rgb(254, 254, 253)"
          ]
         ],
         "showscale": false,
         "type": "heatmap",
         "xaxis": "x4",
         "yaxis": "y4",
         "z": {
          "bdata": "cTLZvnEy2b5xMtm+cTLZvnEy2b5xMtm+cTLZvnEy2b5xMtm+cTLZvnEy2b5xMtm+cTLZvnEy2b5xMtm+cTLZvnEy2b5xMtm+cTLZvnEy2b5xMtm+cTLZvnEy2b5xMtm+cTLZvnEy2b5xMtm+cTLZvnEy2b5xMtm+cTLZvnEy2b5xMtm+cTLZvnEy2b5xMtm+cTLZvnEy2b5xMtm+cTLZvnEy2b5xMtm+cTLZvnEy2b5xMtm+cTLZvnEy2b5xMtm+cTLZvnEy2b5xMtm+cTLZvnEy2b5xMtm+cTLZvnEy2b5xMtm+cTLZvnEy2b5xMtm+cTLZvnEy2b5xMtm+cTLZvnEy2b5xMtm+cTLZvnEy2b5xMtm+cTLZvnEy2b5xMtm+cTLZvnEy2b5xMtm+cTLZvnEy2b5xMtm+cTLZvnEy2b5xMtm+cTLZvnEy2b5xMtm+cTLZvnEy2b5xMtm+cTLZvnEy2b5xMtm+cTLZvnEy2b5xMtm+cTLZvnEy2b5xMtm+cTLZvnEy2b5xMtm+cTLZvnEy2b5xMtm+cTLZvnEy2b5xMtm+cTLZvnEy2b5xMtm+cTLZvnEy2b5xMtm+cTLZvnEy2b5xMtm+cTLZvnEy2b5xMtm+cTLZvnEy2b5xMtm+cTLZvnEy2b5xMtm+cTLZvnEy2b5xMtm+cTLZvnEy2b5xMtm+cTLZvnEy2b5xMtm+cTLZvnEy2b5xMtm+cTLZvnEy2b5xMtm+cTLZvnEy2b5xMtm+cTLZvnEy2b5xMtm+cTLZvnEy2b5xMtm+cTLZvnEy2b5xMtm+cTLZvnEy2b5xMtm+cTLZvnEy2b5xMtm+cTLZvnEy2b5xMtm+cTLZvnEy2b5xMtm+cTLZvnEy2b5xMtm+cTLZvnEy2b5xMtm+cTLZvnEy2b5xMtm+cTLZvnEy2b5xMtm+cTLZvnEy2b5xMtm+cTLZvlgprD89kzRAjt6bP3Ey2b5xMtm+cTLZvnEy2b5xMtm+cTLZvnEy2b5xMtm+cTLZvnEy2b5xMtm+cTLZvnEy2b5xMtm+cTLZvnEy2b5xMtm+cTLZvnEy2b5xMtm+cTLZvnEy2b5xMtm+cTLZvsvK8rw3ZR9AKfIyQFbiAkBxMtm+cTLZvnEy2b5xMtm+cTLZvnEy2b4FpxO+vDAyPnofGD5xMtm+cTLZvnEy2b5xMtm+cTLZvnEy2b5xMtm+cTLZvnEy2b5xMtm+cTLZvnEy2b5xMtm+cTLZvnEy2b56PZo/KfIyQCnyMkD98uE+cTLZvnEy2b5xMtm+cTLZvnEy2b6bi56+4LIDQCnyMkCu28c/cTLZvnEy2b5xMtm+cTLZvnEy2b5xMtm+cTLZvnEy2b5xMtm+cTLZvnEy2b5xMtm+cTLZvnEy2b4e6zs/FVExQCnyMkDIqt4/0CnMvnEy2b5xMtm+cTLZvnEy2b5xMtm+QAT8PinyMkDBNSBA1cegPnEy2b5xMtm+cTLZvnEy2b5xMtm+cTLZvnEy2b5xMtm+cTLZvnEy2b5xMtm+cTLZvnEy2b5xMtm+9+oPQCnyMkDV1iFA/0FMPnEy2b5xMtm+cTLZvnEy2b5xMtm+k7aGPl+nIkAp8jJAoGjbP3Ey2b5xMtm+cTLZvnEy2b5xMtm+cTLZvnEy2b5xMtm+cTLZvnEy2b5xMtm+cTLZvnEy2b5xMtm+i1UbP4uAMEAp8jJAcg+FP3Ey2b5xMtm+cTLZvnEy2b5xMtm+cTLZvp777j4p8jJAR5/9PyvSVL5xMtm+cTLZvnEy2b5xMtm+cTLZvnEy2b5xMtm+cTLZvnEy2b5xMtm+cTLZvnEy2b5xMtm+cTLZvuWQtz8p8jJAKfIyQHIPhT9xMtm+cTLZvnEy2b5xMtm+cTLZvnEy2b7/dpA/KfIyQC/nqD9xMtm+cTLZvnEy2b5xMtm+cTLZvnEy2b5xMtm+cTLZvnEy2b5xMtm+cTLZvnEy2b5xMtm+cTLZvnEy2b56PZo/nyEyQCnyMkA0zhRA+oKRvnEy2b5xMtm+cTLZvnEy2b5xMtm+hFIbQCnyMkAv56g/cTLZvnEy2b5xMtm+cTLZvnEy2b5xMtm+cTLZvnEy2b5xMtm+cTLZvnEy2b5xMtm+cTLZvnEy2b5xMtm+cTLZvuwOLkAp8jJAKfIyQEOIqj86Rws9cTLZvnEy2b5xMtm+cTLZvoRSG0Ap8jJAL+eoP3Ey2b5xMtm+cTLZvnEy2b5xMtm+cTLZvnEy2b5xMtm+cTLZvnEy2b5xMtm+cTLZvnEy2b5xMtm+cTLZvnEy2b4SjxE/c0gkQCnyMkAp8jJAiOklQEq2vz8SjxE/Eo8RP15XwT+LgDBAKfIyQC/nqD9xMtm+cTLZvnEy2b5xMtm+cTLZvnEy2b5xMtm+cTLZvnEy2b5xMtm+cTLZvnEy2b5xMtm+cTLZvnEy2b5xMtm+cTLZvrOXHj86/ClAKfIyQCnyMkAp8jJAKfIyQCnyMkAp8jJAKfIyQJ8hMkA8WpU/cTLZvnEy2b5xMtm+cTLZvnEy2b5xMtm+cTLZvnEy2b5xMtm+cTLZvnEy2b5xMtm+cTLZvnEy2b5xMtm+cTLZvnEy2b5xMtm+QAT8Po7emz9cEBhAKfIyQCnyMkAp8jJAKfIyQCnyMkASuiZAcTLZvnEy2b5xMtm+cTLZvnEy2b5xMtm+cTLZvnEy2b5xMtm+cTLZvnEy2b5xMtm+cTLZvnEy2b5xMtm+cTLZvnEy2b5xMtm+cTLZvnEy2b5xMtm+BacTvuqHLb3qhy29oEpZPinyMkAp8jJA2MJfP3Ey2b5xMtm+cTLZvnEy2b5xMtm+cTLZvnEy2b5xMtm+cTLZvnEy2b5xMtm+cTLZvnEy2b5xMtm+cTLZvnEy2b5xMtm+cTLZvnEy2b5xMtm+cTLZvnEy2b5xMtm+cTLZvqcCibsp8jJAALAvQDrRFD9xMtm+cTLZvnEy2b5xMtm+cTLZvnEy2b5xMtm+cTLZvnEy2b5xMtm+cTLZvnEy2b5xMtm+cTLZvnEy2b5xMtm+cTLZvnEy2b5xMtm+cTLZvnEy2b5xMtm+cTLZvnEy2b5WEuo/KfIyQM/Y8z9xMtm+cTLZvnEy2b5xMtm+cTLZvnEy2b5xMtm+cTLZvnEy2b5xMtm+cTLZvnEy2b5xMtm+cTLZvnEy2b5xMtm+cTLZvnEy2b5xMtm+cTLZvnEy2b5xMtm+cTLZvnEy2b5xMtm+VhLqPynyMkDP2PM/cTLZvnEy2b5xMtm+cTLZvnEy2b5xMtm+cTLZvnEy2b5xMtm+cTLZvnEy2b5xMtm+cTLZvnEy2b5xMtm+cTLZvnEy2b5xMtm+cTLZvnEy2b5xMtm+cTLZvnEy2b5xMtm+cTLZvlYS6j8p8jJAz9jzP3Ey2b5xMtm+cTLZvnEy2b5xMtm+cTLZvnEy2b5xMtm+cTLZvnEy2b5xMtm+cTLZvnEy2b5xMtm+cTLZvnEy2b5xMtm+cTLZvnEy2b5xMtm+cTLZvnEy2b5xMtm+cTLZvnEy2b5WEuo/KfIyQM/Y8z9xMtm+cTLZvnEy2b5xMtm+cTLZvnEy2b5xMtm+cTLZvnEy2b5xMtm+cTLZvnEy2b5xMtm+cTLZvnEy2b5xMtm+cTLZvnEy2b5xMtm+cTLZvnEy2b5xMtm+cTLZvnEy2b5xMtm+VhLqPynyMkDP2PM/cTLZvnEy2b5xMtm+cTLZvnEy2b5xMtm+cTLZvnEy2b5xMtm+cTLZvnEy2b5xMtm+cTLZvnEy2b5xMtm+cTLZvnEy2b5xMtm+cTLZvnEy2b5xMtm+cTLZvnEy2b5xMtm+cTLZvlYS6j9qs+s/QAT8PnEy2b5xMtm+cTLZvnEy2b5xMtm+cTLZvnEy2b5xMtm+cTLZvnEy2b5xMtm+cTLZvnEy2b5xMtm+cTLZvnEy2b5xMtm+cTLZvnEy2b5xMtm+cTLZvnEy2b5xMtm+cTLZvnEy2b5xMtm+cTLZvnEy2b5xMtm+cTLZvnEy2b5xMtm+cTLZvnEy2b5xMtm+cTLZvnEy2b5xMtm+cTLZvnEy2b5xMtm+cTLZvnEy2b5xMtm+cTLZvnEy2b5xMtm+cTLZvnEy2b5xMtm+cTLZvnEy2b5xMtm+cTLZvnEy2b5xMtm+cTLZvnEy2b5xMtm+cTLZvnEy2b5xMtm+cTLZvnEy2b5xMtm+cTLZvg==",
          "dtype": "f4",
          "shape": "28, 28"
         }
        },
        {
         "colorscale": [
          [
           0,
           "rgb(0, 0, 0)"
          ],
          [
           0.09090909090909091,
           "rgb(16, 16, 16)"
          ],
          [
           0.18181818181818182,
           "rgb(38, 38, 38)"
          ],
          [
           0.2727272727272727,
           "rgb(59, 59, 59)"
          ],
          [
           0.36363636363636365,
           "rgb(81, 80, 80)"
          ],
          [
           0.45454545454545453,
           "rgb(102, 101, 101)"
          ],
          [
           0.5454545454545454,
           "rgb(124, 123, 122)"
          ],
          [
           0.6363636363636364,
           "rgb(146, 146, 145)"
          ],
          [
           0.7272727272727273,
           "rgb(171, 171, 170)"
          ],
          [
           0.8181818181818182,
           "rgb(197, 197, 195)"
          ],
          [
           0.9090909090909091,
           "rgb(224, 224, 223)"
          ],
          [
           1,
           "rgb(254, 254, 253)"
          ]
         ],
         "showscale": false,
         "type": "heatmap",
         "xaxis": "x5",
         "yaxis": "y5",
         "z": {
          "bdata": "cTLZvnEy2b5xMtm+cTLZvnEy2b5xMtm+cTLZvnEy2b5xMtm+cTLZvnEy2b5xMtm+cTLZvnEy2b5xMtm+cTLZvnEy2b5xMtm+cTLZvnEy2b5xMtm+cTLZvnEy2b5xMtm+cTLZvnEy2b5xMtm+cTLZvnEy2b5xMtm+cTLZvnEy2b5xMtm+cTLZvnEy2b5xMtm+cTLZvnEy2b5xMtm+cTLZvnEy2b5xMtm+cTLZvnEy2b5xMtm+cTLZvnEy2b5xMtm+cTLZvnEy2b5xMtm+cTLZvnEy2b5xMtm+cTLZvnEy2b5xMtm+cTLZvnEy2b5xMtm+cTLZvnEy2b5xMtm+cTLZvnEy2b5xMtm+cTLZvnEy2b5xMtm+cTLZvnEy2b5xMtm+cTLZvnEy2b5xMtm+cTLZvnEy2b5xMtm+cTLZvnEy2b5xMtm+cTLZvnEy2b5xMtm+cTLZvnEy2b5xMtm+cTLZvnEy2b5xMtm+cTLZvnEy2b5xMtm+cTLZvnEy2b5xMtm+cTLZvnEy2b5xMtm+cTLZvnEy2b5xMtm+cTLZvnEy2b5xMtm+cTLZvnEy2b5xMtm+cTLZvnEy2b5xMtm+cTLZvnEy2b5xMtm+cTLZvnEy2b5xMtm+cTLZvnEy2b5xMtm+cTLZvnEy2b5xMtm+cTLZvnEy2b5Hn/0/z6gMQHEy2b5xMtm+cTLZvnEy2b5xMtm+cTLZvnEy2b5xMtm+cTLZvnEy2b5xMtm+cTLZvnEy2b5xMtm+cTLZvnEy2b5xMtm+cTLZvnEy2b5xMtm+cTLZvnEy2b5xMtm+cTLZvnEy2b5xMtm+M/77PynyMkDqhy29cTLZvnEy2b5xMtm+cTLZvnEy2b5xMtm+cTLZvnEy2b5xMtm+cTLZvnEy2b5xMtm+cTLZvnEy2b5xMtm+cTLZvnEy2b5xMtm+cTLZvnEy2b5xMtm+cTLZvnEy2b5xMtm+cTLZvjP++z8p8jJAQxZ9P3Ey2b5xMtm+cTLZvnEy2b5xMtm+cTLZvnEy2b5xMtm+cTLZvnEy2b5xMtm+cTLZvnEy2b5xMtm+cTLZvnEy2b5xMtm+cTLZvnEy2b5xMtm+cTLZvnEy2b5xMtm+cTLZvnEy2b4z/vs/KfIyQOvVjj9xMtm+cTLZvnEy2b5xMtm+cTLZvnEy2b5xMtm+cTLZvnEy2b5xMtm+cTLZvnEy2b5xMtm+cTLZvnEy2b5xMtm+cTLZvnEy2b5xMtm+cTLZvnEy2b5xMtm+cTLZvnEy2b5xMtm+M/77PynyMkAhdLw/cTLZvnEy2b5xMtm+cTLZvnEy2b5xMtm+cTLZvnEy2b5xMtm+cTLZvnEy2b5xMtm+cTLZvnEy2b5xMtm+cTLZvnEy2b5xMtm+cTLZvnEy2b5xMtm+cTLZvnEy2b5xMtm+cTLZvjP++z8p8jJAQxZ9P3Ey2b5xMtm+cTLZvnEy2b5xMtm+cTLZvnEy2b5xMtm+cTLZvnEy2b5xMtm+cTLZvnEy2b5xMtm+cTLZvnEy2b5xMtm+cTLZvnEy2b5xMtm+cTLZvnEy2b5xMtm+cTLZvtApzL64cABAKfIyQEMWfT9xMtm+cTLZvnEy2b5xMtm+cTLZvnEy2b5xMtm+cTLZvnEy2b5xMtm+cTLZvnEy2b5xMtm+cTLZvnEy2b5xMtm+cTLZvnEy2b5xMtm+cTLZvnEy2b5xMtm+cTLZvnEy2b56Hxg+KfIyQCnyMkBqs+s/cTLZvnEy2b5xMtm+cTLZvnEy2b5xMtm+cTLZvnEy2b5xMtm+cTLZvnEy2b5xMtm+cTLZvnEy2b5xMtm+cTLZvnEy2b5xMtm+cTLZvnEy2b5xMtm+cTLZvnEy2b5xMtm+qf6KvkXYC0Ap8jJA5uAYQHEy2b5xMtm+cTLZvnEy2b5xMtm+cTLZvnEy2b5xMtm+cTLZvnEy2b5xMtm+cTLZvnEy2b5xMtm+cTLZvnEy2b5xMtm+cTLZvnEy2b5xMtm+cTLZvnEy2b5xMtm+cTLZvnEy2b4z/vs/KfIyQObgGEBxMtm+cTLZvnEy2b5xMtm+cTLZvnEy2b5xMtm+cTLZvnEy2b5xMtm+cTLZvnEy2b5xMtm+cTLZvnEy2b5xMtm+cTLZvnEy2b5xMtm+cTLZvnEy2b5xMtm+cTLZvnEy2b6NGLK+9FMFQLPCM0BwsRlAcTLZvnEy2b5xMtm+cTLZvnEy2b5xMtm+cTLZvnEy2b5xMtm+cTLZvnEy2b5xMtm+cTLZvnEy2b5xMtm+cTLZvnEy2b5xMtm+cTLZvnEy2b5xMtm+cTLZvnEy2b5xMtm+eh8YPinyMkAp8jJA5uAYQHEy2b5xMtm+cTLZvnEy2b5xMtm+cTLZvnEy2b5xMtm+cTLZvnEy2b5xMtm+cTLZvnEy2b5xMtm+cTLZvnEy2b5xMtm+cTLZvnEy2b5xMtm+cTLZvnEy2b5xMtm+cTLZvnofGD4p8jJAKfIyQGqz6z9xMtm+cTLZvnEy2b5xMtm+cTLZvnEy2b5xMtm+cTLZvnEy2b5xMtm+cTLZvnEy2b5xMtm+cTLZvnEy2b5xMtm+cTLZvnEy2b5xMtm+cTLZvnEy2b5xMtm+cTLZvnEy2b56Hxg+KfIyQCnyMkBDFn0/cTLZvnEy2b5xMtm+cTLZvnEy2b5xMtm+cTLZvnEy2b5xMtm+cTLZvnEy2b5xMtm+cTLZvnEy2b5xMtm+cTLZvnEy2b5xMtm+cTLZvnEy2b5xMtm+cTLZvnEy2b5xMtm+eh8YPinyMkAp8jJAz9jzP3Ey2b5xMtm+cTLZvnEy2b5xMtm+cTLZvnEy2b5xMtm+cTLZvnEy2b5xMtm+cTLZvnEy2b5xMtm+cTLZvnEy2b5xMtm+cTLZvnEy2b5xMtm+cTLZvnEy2b5xMtm+cTLZvksHmL6nZglAKfIyQOwOLkDHVLQ+cTLZvnEy2b5xMtm+cTLZvnEy2b5xMtm+cTLZvnEy2b5xMtm+cTLZvnEy2b5xMtm+cTLZvnEy2b5xMtm+cTLZvnEy2b5xMtm+cTLZvnEy2b5xMtm+cTLZvnEy2b5xMtm+BBwlP58hMkCzwjNAarPrP3Ey2b5xMtm+cTLZvnEy2b5xMtm+cTLZvnEy2b5xMtm+cTLZvnEy2b5xMtm+cTLZvnEy2b5xMtm+cTLZvnEy2b5xMtm+cTLZvnEy2b5xMtm+cTLZvnEy2b5xMtm+cTLZvnEy2b7m4BhAPZM0QB9d+j9xMtm+cTLZvnEy2b5xMtm+cTLZvnEy2b5xMtm+cTLZvnEy2b5xMtm+cTLZvnEy2b5xMtm+cTLZvnEy2b5xMtm+cTLZvnEy2b5xMtm+cTLZvnEy2b5xMtm+cTLZvnEy2b5xMtm+5uAYQLPCM0AfXfo/cTLZvnEy2b5xMtm+cTLZvnEy2b5xMtm+cTLZvnEy2b5xMtm+cTLZvnEy2b5xMtm+cTLZvnEy2b5xMtm+cTLZvnEy2b5xMtm+cTLZvnEy2b5xMtm+cTLZvnEy2b5xMtm+cTLZvulMDj8mWyhAestsP3Ey2b5xMtm+cTLZvnEy2b5xMtm+cTLZvnEy2b5xMtm+cTLZvnEy2b5xMtm+cTLZvnEy2b5xMtm+cTLZvnEy2b5xMtm+cTLZvnEy2b5xMtm+cTLZvnEy2b5xMtm+cTLZvnEy2b5xMtm+cTLZvnEy2b5xMtm+cTLZvnEy2b5xMtm+cTLZvnEy2b5xMtm+cTLZvnEy2b5xMtm+cTLZvnEy2b5xMtm+cTLZvnEy2b5xMtm+cTLZvnEy2b5xMtm+cTLZvnEy2b5xMtm+cTLZvnEy2b5xMtm+cTLZvnEy2b5xMtm+cTLZvnEy2b5xMtm+cTLZvnEy2b5xMtm+cTLZvnEy2b5xMtm+cTLZvnEy2b5xMtm+cTLZvnEy2b5xMtm+cTLZvnEy2b5xMtm+cTLZvnEy2b5xMtm+cTLZvnEy2b5xMtm+cTLZvnEy2b5xMtm+cTLZvnEy2b5xMtm+cTLZvnEy2b5xMtm+cTLZvnEy2b5xMtm+cTLZvnEy2b5xMtm+cTLZvnEy2b5xMtm+cTLZvnEy2b5xMtm+cTLZvnEy2b5xMtm+cTLZvnEy2b5xMtm+cTLZvnEy2b5xMtm+cTLZvnEy2b5xMtm+cTLZvnEy2b5xMtm+cTLZvnEy2b5xMtm+cTLZvnEy2b5xMtm+cTLZvg==",
          "dtype": "f4",
          "shape": "28, 28"
         }
        }
       ],
       "layout": {
        "annotations": [
         {
          "font": {
           "size": 16
          },
          "showarrow": false,
          "text": "True: 4<br>Pred: 4",
          "x": 0.08399999999999999,
          "xanchor": "center",
          "xref": "paper",
          "y": 1,
          "yanchor": "bottom",
          "yref": "paper"
         },
         {
          "font": {
           "size": 16
          },
          "showarrow": false,
          "text": "True: 2<br>Pred: 2",
          "x": 0.292,
          "xanchor": "center",
          "xref": "paper",
          "y": 1,
          "yanchor": "bottom",
          "yref": "paper"
         },
         {
          "font": {
           "size": 16
          },
          "showarrow": false,
          "text": "True: 8<br>Pred: 8",
          "x": 0.5,
          "xanchor": "center",
          "xref": "paper",
          "y": 1,
          "yanchor": "bottom",
          "yref": "paper"
         },
         {
          "font": {
           "size": 16
          },
          "showarrow": false,
          "text": "True: 4<br>Pred: 4",
          "x": 0.708,
          "xanchor": "center",
          "xref": "paper",
          "y": 1,
          "yanchor": "bottom",
          "yref": "paper"
         },
         {
          "font": {
           "size": 16
          },
          "showarrow": false,
          "text": "True: 1<br>Pred: 1",
          "x": 0.9159999999999999,
          "xanchor": "center",
          "xref": "paper",
          "y": 1,
          "yanchor": "bottom",
          "yref": "paper"
         }
        ],
        "height": 250,
        "margin": {
         "b": 10,
         "l": 10,
         "r": 10,
         "t": 90
        },
        "template": {
         "data": {
          "bar": [
           {
            "error_x": {
             "color": "#2a3f5f"
            },
            "error_y": {
             "color": "#2a3f5f"
            },
            "marker": {
             "line": {
              "color": "#E5ECF6",
              "width": 0.5
             },
             "pattern": {
              "fillmode": "overlay",
              "size": 10,
              "solidity": 0.2
             }
            },
            "type": "bar"
           }
          ],
          "barpolar": [
           {
            "marker": {
             "line": {
              "color": "#E5ECF6",
              "width": 0.5
             },
             "pattern": {
              "fillmode": "overlay",
              "size": 10,
              "solidity": 0.2
             }
            },
            "type": "barpolar"
           }
          ],
          "carpet": [
           {
            "aaxis": {
             "endlinecolor": "#2a3f5f",
             "gridcolor": "white",
             "linecolor": "white",
             "minorgridcolor": "white",
             "startlinecolor": "#2a3f5f"
            },
            "baxis": {
             "endlinecolor": "#2a3f5f",
             "gridcolor": "white",
             "linecolor": "white",
             "minorgridcolor": "white",
             "startlinecolor": "#2a3f5f"
            },
            "type": "carpet"
           }
          ],
          "choropleth": [
           {
            "colorbar": {
             "outlinewidth": 0,
             "ticks": ""
            },
            "type": "choropleth"
           }
          ],
          "contour": [
           {
            "colorbar": {
             "outlinewidth": 0,
             "ticks": ""
            },
            "colorscale": [
             [
              0,
              "#0d0887"
             ],
             [
              0.1111111111111111,
              "#46039f"
             ],
             [
              0.2222222222222222,
              "#7201a8"
             ],
             [
              0.3333333333333333,
              "#9c179e"
             ],
             [
              0.4444444444444444,
              "#bd3786"
             ],
             [
              0.5555555555555556,
              "#d8576b"
             ],
             [
              0.6666666666666666,
              "#ed7953"
             ],
             [
              0.7777777777777778,
              "#fb9f3a"
             ],
             [
              0.8888888888888888,
              "#fdca26"
             ],
             [
              1,
              "#f0f921"
             ]
            ],
            "type": "contour"
           }
          ],
          "contourcarpet": [
           {
            "colorbar": {
             "outlinewidth": 0,
             "ticks": ""
            },
            "type": "contourcarpet"
           }
          ],
          "heatmap": [
           {
            "colorbar": {
             "outlinewidth": 0,
             "ticks": ""
            },
            "colorscale": [
             [
              0,
              "#0d0887"
             ],
             [
              0.1111111111111111,
              "#46039f"
             ],
             [
              0.2222222222222222,
              "#7201a8"
             ],
             [
              0.3333333333333333,
              "#9c179e"
             ],
             [
              0.4444444444444444,
              "#bd3786"
             ],
             [
              0.5555555555555556,
              "#d8576b"
             ],
             [
              0.6666666666666666,
              "#ed7953"
             ],
             [
              0.7777777777777778,
              "#fb9f3a"
             ],
             [
              0.8888888888888888,
              "#fdca26"
             ],
             [
              1,
              "#f0f921"
             ]
            ],
            "type": "heatmap"
           }
          ],
          "histogram": [
           {
            "marker": {
             "pattern": {
              "fillmode": "overlay",
              "size": 10,
              "solidity": 0.2
             }
            },
            "type": "histogram"
           }
          ],
          "histogram2d": [
           {
            "colorbar": {
             "outlinewidth": 0,
             "ticks": ""
            },
            "colorscale": [
             [
              0,
              "#0d0887"
             ],
             [
              0.1111111111111111,
              "#46039f"
             ],
             [
              0.2222222222222222,
              "#7201a8"
             ],
             [
              0.3333333333333333,
              "#9c179e"
             ],
             [
              0.4444444444444444,
              "#bd3786"
             ],
             [
              0.5555555555555556,
              "#d8576b"
             ],
             [
              0.6666666666666666,
              "#ed7953"
             ],
             [
              0.7777777777777778,
              "#fb9f3a"
             ],
             [
              0.8888888888888888,
              "#fdca26"
             ],
             [
              1,
              "#f0f921"
             ]
            ],
            "type": "histogram2d"
           }
          ],
          "histogram2dcontour": [
           {
            "colorbar": {
             "outlinewidth": 0,
             "ticks": ""
            },
            "colorscale": [
             [
              0,
              "#0d0887"
             ],
             [
              0.1111111111111111,
              "#46039f"
             ],
             [
              0.2222222222222222,
              "#7201a8"
             ],
             [
              0.3333333333333333,
              "#9c179e"
             ],
             [
              0.4444444444444444,
              "#bd3786"
             ],
             [
              0.5555555555555556,
              "#d8576b"
             ],
             [
              0.6666666666666666,
              "#ed7953"
             ],
             [
              0.7777777777777778,
              "#fb9f3a"
             ],
             [
              0.8888888888888888,
              "#fdca26"
             ],
             [
              1,
              "#f0f921"
             ]
            ],
            "type": "histogram2dcontour"
           }
          ],
          "mesh3d": [
           {
            "colorbar": {
             "outlinewidth": 0,
             "ticks": ""
            },
            "type": "mesh3d"
           }
          ],
          "parcoords": [
           {
            "line": {
             "colorbar": {
              "outlinewidth": 0,
              "ticks": ""
             }
            },
            "type": "parcoords"
           }
          ],
          "pie": [
           {
            "automargin": true,
            "type": "pie"
           }
          ],
          "scatter": [
           {
            "fillpattern": {
             "fillmode": "overlay",
             "size": 10,
             "solidity": 0.2
            },
            "type": "scatter"
           }
          ],
          "scatter3d": [
           {
            "line": {
             "colorbar": {
              "outlinewidth": 0,
              "ticks": ""
             }
            },
            "marker": {
             "colorbar": {
              "outlinewidth": 0,
              "ticks": ""
             }
            },
            "type": "scatter3d"
           }
          ],
          "scattercarpet": [
           {
            "marker": {
             "colorbar": {
              "outlinewidth": 0,
              "ticks": ""
             }
            },
            "type": "scattercarpet"
           }
          ],
          "scattergeo": [
           {
            "marker": {
             "colorbar": {
              "outlinewidth": 0,
              "ticks": ""
             }
            },
            "type": "scattergeo"
           }
          ],
          "scattergl": [
           {
            "marker": {
             "colorbar": {
              "outlinewidth": 0,
              "ticks": ""
             }
            },
            "type": "scattergl"
           }
          ],
          "scattermap": [
           {
            "marker": {
             "colorbar": {
              "outlinewidth": 0,
              "ticks": ""
             }
            },
            "type": "scattermap"
           }
          ],
          "scattermapbox": [
           {
            "marker": {
             "colorbar": {
              "outlinewidth": 0,
              "ticks": ""
             }
            },
            "type": "scattermapbox"
           }
          ],
          "scatterpolar": [
           {
            "marker": {
             "colorbar": {
              "outlinewidth": 0,
              "ticks": ""
             }
            },
            "type": "scatterpolar"
           }
          ],
          "scatterpolargl": [
           {
            "marker": {
             "colorbar": {
              "outlinewidth": 0,
              "ticks": ""
             }
            },
            "type": "scatterpolargl"
           }
          ],
          "scatterternary": [
           {
            "marker": {
             "colorbar": {
              "outlinewidth": 0,
              "ticks": ""
             }
            },
            "type": "scatterternary"
           }
          ],
          "surface": [
           {
            "colorbar": {
             "outlinewidth": 0,
             "ticks": ""
            },
            "colorscale": [
             [
              0,
              "#0d0887"
             ],
             [
              0.1111111111111111,
              "#46039f"
             ],
             [
              0.2222222222222222,
              "#7201a8"
             ],
             [
              0.3333333333333333,
              "#9c179e"
             ],
             [
              0.4444444444444444,
              "#bd3786"
             ],
             [
              0.5555555555555556,
              "#d8576b"
             ],
             [
              0.6666666666666666,
              "#ed7953"
             ],
             [
              0.7777777777777778,
              "#fb9f3a"
             ],
             [
              0.8888888888888888,
              "#fdca26"
             ],
             [
              1,
              "#f0f921"
             ]
            ],
            "type": "surface"
           }
          ],
          "table": [
           {
            "cells": {
             "fill": {
              "color": "#EBF0F8"
             },
             "line": {
              "color": "white"
             }
            },
            "header": {
             "fill": {
              "color": "#C8D4E3"
             },
             "line": {
              "color": "white"
             }
            },
            "type": "table"
           }
          ]
         },
         "layout": {
          "annotationdefaults": {
           "arrowcolor": "#2a3f5f",
           "arrowhead": 0,
           "arrowwidth": 1
          },
          "autotypenumbers": "strict",
          "coloraxis": {
           "colorbar": {
            "outlinewidth": 0,
            "ticks": ""
           }
          },
          "colorscale": {
           "diverging": [
            [
             0,
             "#8e0152"
            ],
            [
             0.1,
             "#c51b7d"
            ],
            [
             0.2,
             "#de77ae"
            ],
            [
             0.3,
             "#f1b6da"
            ],
            [
             0.4,
             "#fde0ef"
            ],
            [
             0.5,
             "#f7f7f7"
            ],
            [
             0.6,
             "#e6f5d0"
            ],
            [
             0.7,
             "#b8e186"
            ],
            [
             0.8,
             "#7fbc41"
            ],
            [
             0.9,
             "#4d9221"
            ],
            [
             1,
             "#276419"
            ]
           ],
           "sequential": [
            [
             0,
             "#0d0887"
            ],
            [
             0.1111111111111111,
             "#46039f"
            ],
            [
             0.2222222222222222,
             "#7201a8"
            ],
            [
             0.3333333333333333,
             "#9c179e"
            ],
            [
             0.4444444444444444,
             "#bd3786"
            ],
            [
             0.5555555555555556,
             "#d8576b"
            ],
            [
             0.6666666666666666,
             "#ed7953"
            ],
            [
             0.7777777777777778,
             "#fb9f3a"
            ],
            [
             0.8888888888888888,
             "#fdca26"
            ],
            [
             1,
             "#f0f921"
            ]
           ],
           "sequentialminus": [
            [
             0,
             "#0d0887"
            ],
            [
             0.1111111111111111,
             "#46039f"
            ],
            [
             0.2222222222222222,
             "#7201a8"
            ],
            [
             0.3333333333333333,
             "#9c179e"
            ],
            [
             0.4444444444444444,
             "#bd3786"
            ],
            [
             0.5555555555555556,
             "#d8576b"
            ],
            [
             0.6666666666666666,
             "#ed7953"
            ],
            [
             0.7777777777777778,
             "#fb9f3a"
            ],
            [
             0.8888888888888888,
             "#fdca26"
            ],
            [
             1,
             "#f0f921"
            ]
           ]
          },
          "colorway": [
           "#636efa",
           "#EF553B",
           "#00cc96",
           "#ab63fa",
           "#FFA15A",
           "#19d3f3",
           "#FF6692",
           "#B6E880",
           "#FF97FF",
           "#FECB52"
          ],
          "font": {
           "color": "#2a3f5f"
          },
          "geo": {
           "bgcolor": "white",
           "lakecolor": "white",
           "landcolor": "#E5ECF6",
           "showlakes": true,
           "showland": true,
           "subunitcolor": "white"
          },
          "hoverlabel": {
           "align": "left"
          },
          "hovermode": "closest",
          "mapbox": {
           "style": "light"
          },
          "paper_bgcolor": "white",
          "plot_bgcolor": "#E5ECF6",
          "polar": {
           "angularaxis": {
            "gridcolor": "white",
            "linecolor": "white",
            "ticks": ""
           },
           "bgcolor": "#E5ECF6",
           "radialaxis": {
            "gridcolor": "white",
            "linecolor": "white",
            "ticks": ""
           }
          },
          "scene": {
           "xaxis": {
            "backgroundcolor": "#E5ECF6",
            "gridcolor": "white",
            "gridwidth": 2,
            "linecolor": "white",
            "showbackground": true,
            "ticks": "",
            "zerolinecolor": "white"
           },
           "yaxis": {
            "backgroundcolor": "#E5ECF6",
            "gridcolor": "white",
            "gridwidth": 2,
            "linecolor": "white",
            "showbackground": true,
            "ticks": "",
            "zerolinecolor": "white"
           },
           "zaxis": {
            "backgroundcolor": "#E5ECF6",
            "gridcolor": "white",
            "gridwidth": 2,
            "linecolor": "white",
            "showbackground": true,
            "ticks": "",
            "zerolinecolor": "white"
           }
          },
          "shapedefaults": {
           "line": {
            "color": "#2a3f5f"
           }
          },
          "ternary": {
           "aaxis": {
            "gridcolor": "white",
            "linecolor": "white",
            "ticks": ""
           },
           "baxis": {
            "gridcolor": "white",
            "linecolor": "white",
            "ticks": ""
           },
           "bgcolor": "#E5ECF6",
           "caxis": {
            "gridcolor": "white",
            "linecolor": "white",
            "ticks": ""
           }
          },
          "title": {
           "x": 0.05
          },
          "xaxis": {
           "automargin": true,
           "gridcolor": "white",
           "linecolor": "white",
           "ticks": "",
           "title": {
            "standoff": 15
           },
           "zerolinecolor": "white",
           "zerolinewidth": 2
          },
          "yaxis": {
           "automargin": true,
           "gridcolor": "white",
           "linecolor": "white",
           "ticks": "",
           "title": {
            "standoff": 15
           },
           "zerolinecolor": "white",
           "zerolinewidth": 2
          }
         }
        },
        "title": {
         "text": "MNIST Predictions (First 5 Test Images)",
         "x": 0.5,
         "xanchor": "center",
         "y": 0.95,
         "yanchor": "top"
        },
        "width": 1000,
        "xaxis": {
         "anchor": "y",
         "domain": [
          0,
          0.16799999999999998
         ]
        },
        "xaxis2": {
         "anchor": "y2",
         "domain": [
          0.208,
          0.376
         ]
        },
        "xaxis3": {
         "anchor": "y3",
         "domain": [
          0.416,
          0.584
         ]
        },
        "xaxis4": {
         "anchor": "y4",
         "domain": [
          0.624,
          0.792
         ]
        },
        "xaxis5": {
         "anchor": "y5",
         "domain": [
          0.832,
          1
         ]
        },
        "yaxis": {
         "anchor": "x",
         "autorange": "reversed",
         "domain": [
          0,
          1
         ]
        },
        "yaxis2": {
         "anchor": "x2",
         "autorange": "reversed",
         "domain": [
          0,
          1
         ]
        },
        "yaxis3": {
         "anchor": "x3",
         "autorange": "reversed",
         "domain": [
          0,
          1
         ]
        },
        "yaxis4": {
         "anchor": "x4",
         "autorange": "reversed",
         "domain": [
          0,
          1
         ]
        },
        "yaxis5": {
         "anchor": "x5",
         "autorange": "reversed",
         "domain": [
          0,
          1
         ]
        }
       }
      }
     },
     "metadata": {},
     "output_type": "display_data"
    }
   ],
   "source": [
    "# Load test data\n",
    "_, test_loader = get_mnist_dataloaders(batch_size=5, shuffle_test=True)\n",
    "\n",
    "for batch_idx, (data, target) in enumerate(test_loader):\n",
    "    print(\"Data shape:\", data.shape)\n",
    "    print(\"Target shape:\", target.shape)\n",
    "    break\n",
    "\n",
    "data, target = next(iter(test_loader))\n",
    "data, target = data.to(device), target.to(device)\n",
    "\n",
    "# Run prediction\n",
    "with torch.no_grad():\n",
    "    outputs = model(data)\n",
    "    _, preds = torch.max(outputs, 1)\n",
    "\n",
    "# Plot 5 samples with predicted + actual labels\n",
    "fig = make_subplots(\n",
    "    rows=1, cols=5,\n",
    "    subplot_titles=[f\"True: {lbl.item()}<br>Pred: {pred.item()}\"\n",
    "                    for lbl, pred in zip(target[:5], preds[:5])]\n",
    ")\n",
    "\n",
    "for i, img in enumerate(data[:5]):\n",
    "    img = img.squeeze().cpu().numpy()\n",
    "    heatmap = go.Heatmap(\n",
    "        z=img,\n",
    "        colorscale=\"gray\",\n",
    "        showscale=False\n",
    "    )\n",
    "    fig.add_trace(heatmap, row=1, col=i+1)\n",
    "\n",
    "# Fix orientation (avoid flipped digits)\n",
    "fig.update_yaxes(autorange=\"reversed\", scaleanchor=None)\n",
    "\n",
    "fig.update_layout(\n",
    "    width=1000, height=250,\n",
    "    margin=dict(l=10, r=10, b=10, t=90),\n",
    "    title=dict(\n",
    "        text=\"MNIST Predictions (First 5 Test Images)\",\n",
    "        y=0.95,\n",
    "        x=0.5,\n",
    "        xanchor='center',\n",
    "        yanchor='top'\n",
    "    )\n",
    ")\n",
    "\n",
    "fig.show()"
   ]
  }
 ],
 "metadata": {
  "kernelspec": {
   "display_name": "venv",
   "language": "python",
   "name": "python3"
  },
  "language_info": {
   "codemirror_mode": {
    "name": "ipython",
    "version": 3
   },
   "file_extension": ".py",
   "mimetype": "text/x-python",
   "name": "python",
   "nbconvert_exporter": "python",
   "pygments_lexer": "ipython3",
   "version": "3.11.0"
  }
 },
 "nbformat": 4,
 "nbformat_minor": 5
}
