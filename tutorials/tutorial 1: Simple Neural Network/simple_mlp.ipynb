{
 "cells": [
  {
   "cell_type": "markdown",
   "id": "3fa2e5ef",
   "metadata": {},
   "source": [
    "# Simple Neural Network (MLP) on MNIST\n",
    "\n",
    "In this tutorial, we implement the **simplest feedforward neural network** (also known as a *Multi-Layer Perceptron, MLP*) using **PyTorch**.  \n",
    "This acts as the **\"Hello World\"** of deep learning and provides the foundation to understand more complex architectures (CNNs, RNNs, Transformers, etc.)."
   ]
  },
  {
   "cell_type": "markdown",
   "id": "200b1700",
   "metadata": {},
   "source": [
    "##### What is an MLP?"
   ]
  },
  {
   "cell_type": "markdown",
   "id": "cff254e9",
   "metadata": {},
   "source": [
    "A **Multi-Layer Perceptron (MLP)** is a sequence of fully connected layers where:\n",
    "- Each neuron in one layer is connected to every neuron in the next.\n",
    "- Non-linear activation functions (like **ReLU**) allow the model to learn complex patterns.\n",
    "- The final layer produces class scores (logits).\n",
    "\n",
    "For MNIST (handwritten digit classification):\n",
    "- **Input layer**: Flattened 28×28 = 784 pixels.\n",
    "- **Hidden layers**: Two fully connected layers (128 and 64 units).\n",
    "- **Output layer**: 10 units (digits 0–9)."
   ]
  },
  {
   "cell_type": "markdown",
   "id": "f6a95be4",
   "metadata": {},
   "source": [
    "##### Why MNIST?"
   ]
  },
  {
   "cell_type": "markdown",
   "id": "1a65f534",
   "metadata": {},
   "source": [
    "The **MNIST dataset** is a classic benchmark of handwritten digits (0–9), with:\n",
    "- 60,000 training images  \n",
    "- 10,000 test images  \n",
    "- Each image is 28×28 grayscale  \n",
    "\n",
    "It is small, easy to train on a CPU/GPU, and perfect for learning the basics."
   ]
  },
  {
   "cell_type": "markdown",
   "id": "31bd1839",
   "metadata": {},
   "source": [
    "##### Training Objective"
   ]
  },
  {
   "cell_type": "markdown",
   "id": "8d59e3a6",
   "metadata": {},
   "source": [
    "We want the network to **minimize the Cross-Entropy Loss**, which measures the difference between the predicted probabilities and the true labels.  \n",
    "We use the **Adam optimizer** for efficient gradient-based learning."
   ]
  },
  {
   "cell_type": "markdown",
   "id": "31066602",
   "metadata": {},
   "source": [
    "##### Steps in This Notebook"
   ]
  },
  {
   "cell_type": "markdown",
   "id": "be884fbf",
   "metadata": {},
   "source": [
    "1. **Load MNIST dataset** with PyTorch’s `torchvision`.\n",
    "2. **Define the MLP model** with two hidden layers.\n",
    "3. **Train the model** using backpropagation.\n",
    "4. **Evaluate on test data**.\n",
    "5. **Visualize predictions** for random samples."
   ]
  },
  {
   "cell_type": "markdown",
   "id": "fdf2ca20",
   "metadata": {},
   "source": [
    "After completing this, you’ll have a working understanding of how a basic neural network works and be ready to move on to deeper architectures like CNNs."
   ]
  },
  {
   "cell_type": "markdown",
   "id": "a8da0ea2",
   "metadata": {},
   "source": [
    "# Code"
   ]
  },
  {
   "cell_type": "markdown",
   "id": "4b7b50d2",
   "metadata": {},
   "source": [
    "### Imports"
   ]
  },
  {
   "cell_type": "code",
   "execution_count": 1,
   "id": "2156278f",
   "metadata": {},
   "outputs": [],
   "source": [
    "import torch\n",
    "import torch.nn as nn\n",
    "import torch.nn.functional as F\n",
    "import torch.optim as optim\n",
    "from torch.utils.data import DataLoader\n",
    "from torchvision import datasets, transforms\n",
    "\n",
    "import plotly.express as px\n",
    "from plotly.subplots import make_subplots\n",
    "import plotly.graph_objects as go"
   ]
  },
  {
   "cell_type": "markdown",
   "id": "86ad2f65",
   "metadata": {},
   "source": [
    "### Load Data"
   ]
  },
  {
   "cell_type": "code",
   "execution_count": 2,
   "id": "c178bc4a",
   "metadata": {},
   "outputs": [],
   "source": [
    "def get_mnist_dataloaders(batch_size=64, root=\"../../data\", shuffle_test=False):\n",
    "    # simple transforms\n",
    "    transform = transforms.Compose([\n",
    "        transforms.ToTensor(),\n",
    "        transforms.Normalize((0.1307,), (0.3081,)),\n",
    "    ])\n",
    "    train_dataset = datasets.MNIST(root, train=True, download=True, transform=transform)\n",
    "    test_dataset  = datasets.MNIST(root, train=False, download=True, transform=transform)\n",
    "    train_loader = DataLoader(train_dataset, batch_size=batch_size, shuffle=True)\n",
    "    test_loader  = DataLoader(test_dataset, batch_size=batch_size, shuffle=shuffle_test)\n",
    "    return train_loader, test_loader"
   ]
  },
  {
   "cell_type": "code",
   "execution_count": 3,
   "id": "40ee6fd5",
   "metadata": {},
   "outputs": [
    {
     "name": "stdout",
     "output_type": "stream",
     "text": [
      "Number of training batches: 938\n",
      "Number of test batches: 157\n",
      "----------------------------------------\n",
      "Data shape: torch.Size([64, 1, 28, 28])\n",
      "Target shape: torch.Size([64])\n"
     ]
    },
    {
     "data": {
      "application/vnd.plotly.v1+json": {
       "config": {
        "plotlyServerURL": "https://plot.ly"
       },
       "data": [
        {
         "colorscale": [
          [
           0,
           "rgb(0, 0, 0)"
          ],
          [
           0.09090909090909091,
           "rgb(16, 16, 16)"
          ],
          [
           0.18181818181818182,
           "rgb(38, 38, 38)"
          ],
          [
           0.2727272727272727,
           "rgb(59, 59, 59)"
          ],
          [
           0.36363636363636365,
           "rgb(81, 80, 80)"
          ],
          [
           0.45454545454545453,
           "rgb(102, 101, 101)"
          ],
          [
           0.5454545454545454,
           "rgb(124, 123, 122)"
          ],
          [
           0.6363636363636364,
           "rgb(146, 146, 145)"
          ],
          [
           0.7272727272727273,
           "rgb(171, 171, 170)"
          ],
          [
           0.8181818181818182,
           "rgb(197, 197, 195)"
          ],
          [
           0.9090909090909091,
           "rgb(224, 224, 223)"
          ],
          [
           1,
           "rgb(254, 254, 253)"
          ]
         ],
         "showscale": false,
         "type": "heatmap",
         "xaxis": "x",
         "yaxis": "y",
         "z": {
          "bdata": "cTLZvnEy2b5xMtm+cTLZvnEy2b5xMtm+cTLZvnEy2b5xMtm+cTLZvnEy2b5xMtm+cTLZvnEy2b5xMtm+cTLZvnEy2b5xMtm+cTLZvnEy2b5xMtm+cTLZvnEy2b5xMtm+cTLZvnEy2b5xMtm+cTLZvnEy2b5xMtm+cTLZvnEy2b5xMtm+cTLZvnEy2b5xMtm+cTLZvnEy2b5xMtm+cTLZvnEy2b5xMtm+cTLZvnEy2b5xMtm+cTLZvnEy2b5xMtm+cTLZvnEy2b5xMtm+cTLZvnEy2b5xMtm+cTLZvnEy2b5xMtm+cTLZvnEy2b5xMtm+cTLZvnEy2b5xMtm+cTLZvnEy2b5xMtm+cTLZvnEy2b5xMtm+cTLZvnEy2b5xMtm+cTLZvnEy2b5xMtm+cTLZvnEy2b5xMtm+cTLZvnEy2b5xMtm+cTLZvnEy2b5xMtm+cTLZvnEy2b5xMtm+cTLZvnEy2b5xMtm+cTLZvnEy2b5xMtm+cTLZvnEy2b5xMtm+cTLZvnEy2b5xMtm+cTLZvnEy2b5xMtm+cTLZvnEy2b5xMtm+cTLZvnEy2b5xMtm+cTLZvnEy2b5xMtm+cTLZvnEy2b5xMtm+cTLZvnEy2b5xMtm+cTLZvnEy2b5xMtm+cTLZvnEy2b5xMtm+cTLZvnEy2b5xMtm+cTLZvnEy2b5xMtm+cTLZvnEy2b5xMtm+cTLZvnEy2b5xMtm+cTLZvnEy2b5xMtm+cTLZvnEy2b5xMtm+cTLZvnEy2b5xMtm+cTLZvnEy2b5xMtm+cTLZvnEy2b5xMtm+cTLZvnEy2b5xMtm+cTLZvnEy2b7Ywl8/Tp0rQBVRMUDLwaA/6octvXEy2b5xMtm+cTLZvnEy2b5xMtm+cTLZvnEy2b5xMtm+cTLZvnEy2b5xMtm+cTLZvnEy2b5xMtm+cTLZvnEy2b5xMtm+cTLZvnEy2b5xMtm+v2k/PYQr872orbI/Tp0rQLPCM0CzwjNAs8IzQObgGEBl15M9cTLZvnEy2b5xMtm+cTLZvnEy2b5xMtm+cTLZvnEy2b5xMtm+cTLZvnEy2b5xMtm+cTLZvnEy2b5xMtm+cTLZvnEy2b6gSlk+yKreP58hMkBfpyJAs8IzQLPCM0C6N/I/32KiP7PCM0CzwjNAflTtP3Ey2b5xMtm+cTLZvnEy2b5xMtm+cTLZvnEy2b5xMtm+cTLZvnEy2b5xMtm+cTLZvnEy2b5xMtm+cTLZvnEy2b60hYq8EromQLPCM0CzwjNAs8IzQLPCM0D5Mbk/SweYvi4hv760Cd0/s8IzQHNIJEBxMtm+cTLZvnEy2b5xMtm+cTLZvnEy2b5xMtm+cTLZvnEy2b5xMtm+cTLZvnEy2b5xMtm+cTLZvnEy2b5xMtm+r/KJP7PCM0ASuiZAnvvuPpnzHECzwjNAv/NIP3Ey2b5xMtm+wQoLP7PCM0DYbSxALAviPXEy2b5xMtm+cTLZvnEy2b5xMtm+cTLZvnEy2b5xMtm+cTLZvnEy2b5xMtm+cTLZvnEy2b5xMtm+cTLZvh2WCECzwjNAJ6LRP/qCkb76gRpAs8IzQFDk1D9xMtm+cTLZvhDse74notE/s8IzQObgGEA9lKu+cTLZvnEy2b5xMtm+cTLZvnEy2b5xMtm+cTLZvnEy2b5xMtm+cTLZvnEy2b5xMtm+cTLZvpO2hj523y5As8IzQJnIBz9xMtm+G9R5P5PFB0BBceg/fOIuP3Ey2b5xMtm+gGuvP7PCM0CzwjNAm4uevnEy2b5xMtm+cTLZvnEy2b5xMtm+cTLZvnEy2b5xMtm+cTLZvnEy2b5xMtm+cTLZvnEy2b54Jtg/s8IzQCAtE0B/pcW+cTLZvnEy2b4uIb++jRiyvt6cuL5xMtm+cTLZvlSgKz+zwjNAs8IzQJuLnr5xMtm+cTLZvnEy2b5xMtm+cTLZvnEy2b5xMtm+cTLZvnEy2b5xMtm+cTLZvnEy2b6bi56+sCspQLPCM0Cif50/cTLZvnEy2b5xMtm+cTLZvnEy2b5xMtm+cTLZvnEy2b5eOT8+s8IzQLPCM0Cbi56+cTLZvnEy2b5xMtm+cTLZvnEy2b5xMtm+cTLZvnEy2b5xMtm+cTLZvnEy2b5xMtm+SweYvrPCM0CzwjNAvDAyPnEy2b5xMtm+cTLZvnEy2b5xMtm+cTLZvnEy2b5xMtm+29khP7PCM0CzwjNAm4uevnEy2b5xMtm+cTLZvnEy2b5xMtm+cTLZvnEy2b5xMtm+cTLZvnEy2b5xMtm+cTLZvp777j6zwjNAs8IzQLwwMj5xMtm+cTLZvnEy2b5xMtm+cTLZvnEy2b5xMtm+cTLZvspPcz+zwjNAtAndP3Ey2b5xMtm+cTLZvnEy2b5xMtm+cTLZvnEy2b5xMtm+cTLZvnEy2b5xMtm+cTLZvnEy2b4pR2Y/s8IzQLPCM0C8MDI+cTLZvnEy2b5xMtm+cTLZvnEy2b5xMtm+cTLZvnEy2b6aOsY/s8IzQNc0jT9xMtm+cTLZvnEy2b5xMtm+cTLZvnEy2b5xMtm+cTLZvnEy2b5xMtm+cTLZvnEy2b5xMtm+sIBcP7PCM0CzwjNAvDAyPnEy2b5xMtm+cTLZvnEy2b5xMtm+cTLZvnEy2b5xMtm+/RglQLPCM0CZyAc/cTLZvnEy2b5xMtm+cTLZvnEy2b5xMtm+cTLZvnEy2b5xMtm+cTLZvnEy2b5xMtm+cTLZvksHmL6zwjNAs8IzQLwwMj5xMtm+cTLZvnEy2b5xMtm+cTLZvnEy2b5xMtm+Y54GvrArKUCzwjNAmcgHP3Ey2b5xMtm+cTLZvnEy2b5xMtm+cTLZvnEy2b5xMtm+cTLZvnEy2b5xMtm+cTLZvnEy2b5LB5i+s8IzQLPCM0BKtr8/cTLZvnEy2b5xMtm+cTLZvnEy2b5xMtm+0CnMvqitsj+zwjNAxMwqQMEIDDxxMtm+cTLZvnEy2b5xMtm+cTLZvnEy2b5xMtm+cTLZvnEy2b5xMtm+cTLZvnEy2b5xMtm+0CnMvmqz6z+zwjNAxMwqQMEIDDxxMtm+cTLZvnEy2b5xMtm+cTLZvuNbcz6zwjNAs8IzQIawhj9xMtm+cTLZvnEy2b5xMtm+cTLZvnEy2b5xMtm+cTLZvnEy2b5xMtm+cTLZvnEy2b5xMtm+cTLZvnEy2b5jnga+sCspQLPCM0CiDXA/cTLZvnEy2b5xMtm+cTLZvll6hL5Hn/0/s8IzQBK6JkDLyvK8cTLZvnEy2b5xMtm+cTLZvnEy2b5xMtm+cTLZvnEy2b5xMtm+cTLZvnEy2b5xMtm+cTLZvnEy2b5xMtm+cTLZvswRAkCzwjNAFVExQF/8VT+bi56+cTLZvsdUtD4dlghAs8IzQLPCM0B20K0+cTLZvnEy2b5xMtm+cTLZvnEy2b5xMtm+cTLZvnEy2b5xMtm+cTLZvnEy2b5xMtm+cTLZvnEy2b5xMtm+cTLZvnEy2b49lKu+zBECQLPCM0CzwjNAcLEZQL6eFUCwKylAs8IzQACwL0ApR2Y/f6XFvnEy2b5xMtm+cTLZvnEy2b5xMtm+cTLZvnEy2b5xMtm+cTLZvnEy2b5xMtm+cTLZvnEy2b5xMtm+cTLZvnEy2b5xMtm+cTLZvt6cuL4QeE8/qv0TQLPCM0CzwjNAPZM0QLQJ3T8EHCU/cTLZvnEy2b5xMtm+cTLZvnEy2b5xMtm+cTLZvnEy2b5xMtm+cTLZvnEy2b5xMtm+cTLZvnEy2b5xMtm+cTLZvnEy2b5xMtm+cTLZvnEy2b5xMtm+cTLZvnEy2b5xMtm+cTLZvnEy2b5xMtm+cTLZvnEy2b5xMtm+cTLZvnEy2b5xMtm+cTLZvnEy2b5xMtm+cTLZvnEy2b5xMtm+cTLZvnEy2b5xMtm+cTLZvnEy2b5xMtm+cTLZvnEy2b5xMtm+cTLZvnEy2b5xMtm+cTLZvnEy2b5xMtm+cTLZvnEy2b5xMtm+cTLZvnEy2b5xMtm+cTLZvnEy2b5xMtm+cTLZvnEy2b5xMtm+cTLZvnEy2b5xMtm+cTLZvnEy2b5xMtm+cTLZvnEy2b5xMtm+cTLZvnEy2b5xMtm+cTLZvnEy2b5xMtm+cTLZvnEy2b5xMtm+cTLZvnEy2b5xMtm+cTLZvnEy2b5xMtm+cTLZvnEy2b5xMtm+cTLZvg==",
          "dtype": "f4",
          "shape": "28, 28"
         }
        },
        {
         "colorscale": [
          [
           0,
           "rgb(0, 0, 0)"
          ],
          [
           0.09090909090909091,
           "rgb(16, 16, 16)"
          ],
          [
           0.18181818181818182,
           "rgb(38, 38, 38)"
          ],
          [
           0.2727272727272727,
           "rgb(59, 59, 59)"
          ],
          [
           0.36363636363636365,
           "rgb(81, 80, 80)"
          ],
          [
           0.45454545454545453,
           "rgb(102, 101, 101)"
          ],
          [
           0.5454545454545454,
           "rgb(124, 123, 122)"
          ],
          [
           0.6363636363636364,
           "rgb(146, 146, 145)"
          ],
          [
           0.7272727272727273,
           "rgb(171, 171, 170)"
          ],
          [
           0.8181818181818182,
           "rgb(197, 197, 195)"
          ],
          [
           0.9090909090909091,
           "rgb(224, 224, 223)"
          ],
          [
           1,
           "rgb(254, 254, 253)"
          ]
         ],
         "showscale": false,
         "type": "heatmap",
         "xaxis": "x2",
         "yaxis": "y2",
         "z": {
          "bdata": "cTLZvnEy2b5xMtm+cTLZvnEy2b5xMtm+cTLZvnEy2b5xMtm+cTLZvnEy2b5xMtm+cTLZvnEy2b5xMtm+cTLZvnEy2b5xMtm+cTLZvnEy2b5xMtm+cTLZvnEy2b5xMtm+cTLZvnEy2b5xMtm+cTLZvnEy2b5xMtm+cTLZvnEy2b5xMtm+cTLZvnEy2b5xMtm+cTLZvnEy2b5xMtm+cTLZvnEy2b5xMtm+cTLZvnEy2b5xMtm+cTLZvnEy2b5xMtm+cTLZvnEy2b5xMtm+cTLZvnEy2b5xMtm+cTLZvnEy2b5xMtm+cTLZvnEy2b5xMtm+cTLZvnEy2b5xMtm+cTLZvnEy2b5xMtm+cTLZvnEy2b5xMtm+cTLZvnEy2b5xMtm+cTLZvnEy2b5xMtm+cTLZvnEy2b5xMtm+cTLZvnEy2b5xMtm+cTLZvnEy2b5xMtm+cTLZvnEy2b5xMtm+cTLZvnEy2b5xMtm+cTLZvnEy2b5xMtm+cTLZvnEy2b5xMtm+cTLZvnEy2b5xMtm+cTLZvnEy2b5xMtm+cTLZvnEy2b5xMtm+cTLZvnEy2b5xMtm+cTLZvnEy2b5xMtm+cTLZvnEy2b5xMtm+cTLZvnEy2b5xMtm+cTLZvnEy2b5xMtm+cTLZvnEy2b5xMtm+cTLZvnEy2b5xMtm+cTLZvnEy2b5xMtm+cTLZvnEy2b5xMtm+cTLZvnEy2b5xMtm+cTLZvnEy2b5xMtm+cTLZvnEy2b5xMtm+cTLZvnEy2b5xMtm+cTLZvnEy2b5xMtm+cTLZvnEy2b5xMtm+cTLZvnEy2b5jnga+nIonQAWO4z8bKCU+pq8gvur5xz1xMtm+cTLZvnEy2b5xMtm+cTLZvnEy2b5xMtm+cTLZvnEy2b5xMtm+cTLZvnEy2b5xMtm+cTLZvnEy2b5xMtm+cTLZvnEy2b5xMtm+cTLZvnEy2b5xMtm+Ri0/P7PCM0CzwjNAi4AwQBkv5T+8MDI+cTLZvnEy2b5xMtm+cTLZvnEy2b5xMtm+cTLZvnEy2b5xMtm+cTLZvnEy2b5xMtm+cTLZvnEy2b5xMtm+cTLZvnEy2b5xMtm+cTLZvnEy2b5xMtm+cTLZvq/yiT+zwjNAEwHQP79pPz1xMtm+cTLZvnEy2b5xMtm+cTLZvnEy2b5xMtm+cTLZvnEy2b5xMtm+cTLZvnEy2b5xMtm+cTLZvnEy2b5xMtm+cTLZvnEy2b5xMtm+cTLZvnEy2b5xMtm+cTLZvnEy2b4TGJI/nyEyQG8c/D1xMtm+cTLZvnEy2b5xMtm+cTLZvnEy2b5xMtm+cTLZvnEy2b5xMtm+cTLZvnEy2b5xMtm+cTLZvnEy2b5xMtm+cTLZvnEy2b5xMtm+cTLZvnEy2b5xMtm+cTLZvnEy2b4FpxO+sCspQJo6xj9xMtm+cTLZvnEy2b5xMtm+cTLZvnEy2b5xMtm+cTLZvnEy2b5xMtm+cTLZvnEy2b5xMtm+cTLZvnEy2b5xMtm+cTLZvnEy2b5xMtm+cTLZvnEy2b5xMtm+cTLZvnEy2b5xMtm+bm9CP7PCM0DfYqI/cTLZvnEy2b5xMtm+cTLZvnEy2b5xMtm+cTLZvnEy2b5xMtm+cTLZvnEy2b5xMtm+cTLZvnEy2b5xMtm+cTLZvnEy2b5xMtm+cTLZvnEy2b5xMtm+cTLZvnEy2b5xMtm+f6XFvsJ8yT/BNSBAvDAyPnEy2b5xMtm+cTLZvnEy2b5xMtm+cTLZvnEy2b5xMtm+cTLZvnEy2b5xMtm+cTLZvnEy2b5xMtm+cTLZvnEy2b5xMtm+cTLZvnEy2b5xMtm+cTLZvnEy2b5xMtm+cTLZvkYtPz+zwjNAZJyYP3Ey2b5xMtm+cTLZvnEy2b5xMtm+cTLZvnEy2b5xMtm+cTLZvnEy2b5xMtm+cTLZvnEy2b5xMtm+cTLZvnEy2b5xMtm+cTLZvnEy2b5xMtm+cTLZvnEy2b5xMtm+cTLZvnEy2b4b1Hk/2G0sQL9pPz3owDq+RIxzPUSMcz2NGLK+cTLZvnEy2b5xMtm+cTLZvnEy2b5xMtm+cTLZvnEy2b5xMtm+cTLZvnEy2b5xMtm+cTLZvnEy2b5xMtm+cTLZvnEy2b5xMtm+cTLZvnEy2b5xMtm+G9R5P7PCM0DSPxdASwYhQLPCM0CzwjNACfUGQItVGz/enLi+cTLZvnEy2b5xMtm+cTLZvnEy2b5xMtm+cTLZvnEy2b5xMtm+cTLZvnEy2b5xMtm+cTLZvnEy2b5xMtm+cTLZvnEy2b5xMtm+cTLZvorJR7460RQ/PFqVPzxalT8EHCU/NiyAP2qz6z+zwjNAgGuvP3Ey2b5xMtm+cTLZvnEy2b5xMtm+cTLZvnEy2b5xMtm+cTLZvnEy2b5xMtm+cTLZvnEy2b5xMtm+cTLZvnEy2b5xMtm+cTLZvnEy2b5xMtm+cTLZvnEy2b5xMtm+cTLZvnEy2b7sD6W+Q4iqP2I+LUALZs4+cTLZvnEy2b5xMtm+cTLZvnEy2b5xMtm+cTLZvnEy2b5xMtm+cTLZvnEy2b5xMtm+cTLZvnEy2b5xMtm+cTLZvnEy2b5xMtm+cTLZvnEy2b5xMtm+cTLZvnEy2b5xMtm+cTLZvuM6jT6zwjNA85F2P3Ey2b5xMtm+cTLZvnEy2b5xMtm+cTLZvnEy2b5xMtm+cTLZvnEy2b5xMtm+cTLZvnEy2b5xMtm+cTLZvnEy2b5xMtm+cTLZvnEy2b5xMtm+cTLZvnEy2b5xMtm+cTLZvnEy2b5whgQ/s8IzQM1mNT9xMtm+cTLZvnEy2b5xMtm+cTLZvnEy2b5xMtm+cTLZvnEy2b5xMtm+cTLZvnEy2b5xMtm+cTLZvnEy2b5xMtm+cTLZvnEy2b5xMtm+cTLZvnEy2b5xMtm+cTLZvnEy2b5xMtm+aF3BPiZbKEAbKCU+cTLZvnEy2b5xMtm+cTLZvnEy2b5xMtm+cTLZvnEy2b5xMtm+cTLZvnEy2b5xMtm+cTLZvnEy2b5xMtm+cTLZvnEy2b5xMtm+cTLZvnEy2b5xMtm+cTLZvnEy2b5xMtm+EOx7vlxA/z8ZL+U/cTLZvnEy2b5xMtm+cTLZvnEy2b5xMtm+cTLZvnEy2b5xMtm+cTLZvnEy2b5xMtm+cTLZvnEy2b5xMtm+cTLZvnEy2b5xMtm+cTLZvnEy2b5xMtm+cTLZvnEy2b5xMtm+WXqEviei0T/m4BhAK9JUvnEy2b5xMtm+cTLZvnEy2b5xMtm+cTLZvnEy2b5xMtm+cTLZvnEy2b5xMtm+cTLZvnEy2b5xMtm+cTLZvnEy2b5xMtm+cTLZvnEy2b5xMtm+cTLZvnEy2b5xMtm+WXqEvgelpT8mWyhAJkynPnEy2b5xMtm+cTLZvnEy2b5xMtm+cTLZvnEy2b5xMtm+cTLZvnEy2b5xMtm+cTLZvnEy2b5xMtm+cTLZvnEy2b5xMtm+cTLZvnEy2b5xMtm+cTLZvnEy2b5xMtm+QVNmPs+oDEAmWyhA1cegPnEy2b5xMtm+cTLZvnEy2b5xMtm+cTLZvnEy2b5xMtm+cTLZvnEy2b5xMtm+cTLZvnEy2b5xMtm+cTLZvnEy2b5xMtm+cTLZvnEy2b5xMtm+cTLZvnEy2b5xMtm+x1S0Pvca9z+GsIY/f6XFvnEy2b5xMtm+cTLZvnEy2b5xMtm+cTLZvnEy2b5xMtm+cTLZvnEy2b5xMtm+cTLZvnEy2b5xMtm+cTLZvnEy2b5xMtm+cTLZvnEy2b5xMtm+cTLZvnEy2b5xMtm+cTLZvnEy2b5xMtm+cTLZvnEy2b5xMtm+cTLZvnEy2b5xMtm+cTLZvnEy2b5xMtm+cTLZvnEy2b5xMtm+cTLZvnEy2b5xMtm+cTLZvnEy2b5xMtm+cTLZvnEy2b5xMtm+cTLZvnEy2b5xMtm+cTLZvnEy2b5xMtm+cTLZvnEy2b5xMtm+cTLZvnEy2b5xMtm+cTLZvnEy2b5xMtm+cTLZvnEy2b5xMtm+cTLZvnEy2b5xMtm+cTLZvnEy2b5xMtm+cTLZvnEy2b5xMtm+cTLZvnEy2b5xMtm+cTLZvnEy2b5xMtm+cTLZvnEy2b5xMtm+cTLZvnEy2b5xMtm+cTLZvnEy2b5xMtm+cTLZvnEy2b5xMtm+cTLZvnEy2b5xMtm+cTLZvg==",
          "dtype": "f4",
          "shape": "28, 28"
         }
        },
        {
         "colorscale": [
          [
           0,
           "rgb(0, 0, 0)"
          ],
          [
           0.09090909090909091,
           "rgb(16, 16, 16)"
          ],
          [
           0.18181818181818182,
           "rgb(38, 38, 38)"
          ],
          [
           0.2727272727272727,
           "rgb(59, 59, 59)"
          ],
          [
           0.36363636363636365,
           "rgb(81, 80, 80)"
          ],
          [
           0.45454545454545453,
           "rgb(102, 101, 101)"
          ],
          [
           0.5454545454545454,
           "rgb(124, 123, 122)"
          ],
          [
           0.6363636363636364,
           "rgb(146, 146, 145)"
          ],
          [
           0.7272727272727273,
           "rgb(171, 171, 170)"
          ],
          [
           0.8181818181818182,
           "rgb(197, 197, 195)"
          ],
          [
           0.9090909090909091,
           "rgb(224, 224, 223)"
          ],
          [
           1,
           "rgb(254, 254, 253)"
          ]
         ],
         "showscale": false,
         "type": "heatmap",
         "xaxis": "x3",
         "yaxis": "y3",
         "z": {
          "bdata": "cTLZvnEy2b5xMtm+cTLZvnEy2b5xMtm+cTLZvnEy2b5xMtm+cTLZvnEy2b5xMtm+cTLZvnEy2b5xMtm+cTLZvnEy2b5xMtm+cTLZvnEy2b5xMtm+cTLZvnEy2b5xMtm+cTLZvnEy2b5xMtm+cTLZvnEy2b5xMtm+cTLZvnEy2b5xMtm+cTLZvnEy2b5xMtm+cTLZvnEy2b5xMtm+cTLZvnEy2b5xMtm+cTLZvnEy2b5xMtm+cTLZvnEy2b5xMtm+cTLZvnEy2b5xMtm+cTLZvnEy2b5xMtm+cTLZvnEy2b5xMtm+cTLZvnEy2b5xMtm+cTLZvnEy2b5xMtm+cTLZvnEy2b5xMtm+cTLZvnEy2b5xMtm+cTLZvnEy2b5xMtm+cTLZvnEy2b5xMtm+cTLZvnEy2b5xMtm+cTLZvnEy2b5xMtm+cTLZvnEy2b5xMtm+cTLZvnEy2b5xMtm+cTLZvnEy2b5xMtm+cTLZvnEy2b5xMtm+cTLZvnEy2b5xMtm+cTLZvnEy2b5xMtm+cTLZvnEy2b5xMtm+cTLZvnEy2b5xMtm+cTLZvnEy2b5xMtm+cTLZvnEy2b5xMtm+cTLZvnEy2b5xMtm+cTLZvnEy2b5xMtm+cTLZvnEy2b5xMtm+cTLZvnEy2b5xMtm+cTLZvnEy2b5xMtm+cTLZvnEy2b5xMtm+cTLZvnEy2b5xMtm+cTLZvnEy2b5xMtm+cTLZvnEy2b5xMtm+cTLZvnEy2b5xMtm+cTLZvnEy2b5xMtm+cTLZvnEy2b5xMtm+cTLZvnEy2b5xMtm+cTLZvnEy2b5xMtm+cTLZvnEy2b5xMtm+cTLZvnEy2b5xMtm+cTLZvnEy2b5xMtm+cTLZvnEy2b5xMtm+cTLZvnEy2b5xMtm+cTLZvnEy2b5xMtm+cTLZvnEy2b5xMtm+cTLZvnEy2b5xMtm+cTLZvnEy2b5xMtm+cTLZvnEy2b5xMtm+cTLZvnEy2b5xMtm+cTLZvnEy2b5xMtm+cTLZvnEy2b5xMtm+cTLZvnEy2b5xMtm+cTLZvnEy2b5xMtm+cTLZvnEy2b5xMtm+cTLZvnEy2b5xMtm+cTLZvnEy2b5xMtm+cTLZvnEy2b5xMtm+cTLZvr33pL2/aT89X/xVP6aW8D+mlvA/ppbwP9c0jT//CL+9cTLZvnEy2b5xMtm+cTLZvnEy2b5xMtm+cTLZvnEy2b5xMtm+cTLZvnEy2b5xMtm+cTLZvnEy2b4grtK+PFqVP7xOtD8Y2bo+0e+1P7xOtD/m4BhAnyEyQCnyMkCfITJAnyEyQJ8hMkAp8jJA5uAYQDxalT9xMtm+cTLZvnEy2b5xMtm+cTLZvnEy2b5xMtm+cTLZvnEy2b5xMtm+cTLZvnEy2b5oXcE+nyEyQJ8hMkCfITJAnyEyQCnyMkCfITJAnyEyQJ8hMkAp8jJAnyEyQJ8hMkCfITJAKfIyQJ8hMkCq/RNAcTLZvnEy2b5xMtm+cTLZvnEy2b5xMtm+cTLZvnEy2b5xMtm+cTLZvnEy2b5IRAE/iOklQJ8hMkCfITJAnyEyQJ8hMkBwsRlAQ4iqP2pJrjxqSa48N7pSP35U7T/BCgs/w5OLP4G7EECfITJA7A4uQPMDpD9xMtm+cTLZvnEy2b5xMtm+cTLZvnEy2b5xMtm+cTLZvnEy2b6u28c/1dYhQJ8hMkCfITJAnyEyQEXYC0Dvf/U+6vnHPXEy2b5xMtm+cTLZvnEy2b5xMtm+cTLZvnEy2b7zkXY/nyEyQJ8hMkAN07o/cTLZvnEy2b5xMtm+cTLZvnEy2b5xMtm+cTLZvnEy2b5xMtm+vp4VQJ8hMkCfITJAnyEyQPfqD0DLyvK8cTLZvnEy2b5xMtm+cTLZvnEy2b5xMtm+cTLZvnEy2b5xMtm+85F2P58hMkCfITJAyk9zP3Ey2b5xMtm+cTLZvnEy2b5xMtm+cTLZvnEy2b5xMtm+G9R5PynyMkAp8jJAKfIyQM+oDEBHuC2+cTLZvnEy2b5xMtm+cTLZvnEy2b5xMtm+cTLZvnEy2b5xMtm+cTLZvhvUeT8p8jJAKfIyQMpPcz9xMtm+cTLZvnEy2b5xMtm+cTLZvnEy2b5xMtm+cTLZvjUVvj+fITJAnyEyQJ8hMkABBWM/cTLZvnEy2b5xMtm+cTLZvnEy2b5xMtm+cTLZvnEy2b5xMtm+cTLZvnEy2b68MDI+1dYhQJ8hMkDV1iFAcTLZvnEy2b5xMtm+cTLZvnEy2b5xMtm+cTLZvnEy2b4p8jJAnyEyQJ8hMkBLBiFAcTLZvnEy2b5xMtm+cTLZvnEy2b5xMtm+cTLZvnEy2b5xMtm+cTLZvo0Ysr6/aT89DIwRQJ8hMkBiPi1Ay8GgP3Ey2b5xMtm+cTLZvnEy2b5xMtm+cTLZvnEy2b5xMtm+KfIyQJ8hMkCfITJAyk9zP3Ey2b5xMtm+cTLZvnEy2b5xMtm+cTLZvnEy2b5xMtm+cTLZviwL4j3/X84/nyEyQCnyMkCfITJAqv0TQHEy2b5xMtm+cTLZvnEy2b5xMtm+cTLZvnEy2b5xMtm+cTLZvj2TNEAp8jJAKfIyQMpPcz9xMtm+cTLZvnEy2b5xMtm+cTLZvnEy2b5xMtm+cTLZvhvUeT9fpyJAKfIyQCnyMkA9kzRAw5OLP3Ey2b5xMtm+cTLZvnEy2b5xMtm+cTLZvnEy2b5xMtm+cTLZvnEy2b4p8jJAnyEyQJ8hMkDV1iFAhpnEP0sHmL5xMtm+LAviPQelpT8t0OY/QXHoP76eFUAp8jJAnyEyQJ8hMkB6PZo/akmuPN6cuL5xMtm+cTLZvnEy2b5xMtm+cTLZvnEy2b5xMtm+cTLZvnEy2b5xMtm+1dYhQJ8hMkCfITJAnyEyQJ8hMkBcQP8/ppbwP+bgGEAp8jJAnyEyQJ8hMkCfITJAKfIyQLArKUDgsgNAy8ryvHEy2b5xMtm+cTLZvnEy2b5xMtm+cTLZvnEy2b5xMtm+cTLZvnEy2b5xMtm+cTLZvvORdj+fITJAnyEyQJ8hMkCfITJAnyEyQJ8hMkCfITJAKfIyQJ8hMkCfITJAnyEyQLhwAEDpTA4/cTLZvnEy2b5xMtm+cTLZvnEy2b5xMtm+cTLZvnEy2b5xMtm+cTLZvnEy2b5xMtm+cTLZvnEy2b5xMtm+rtvHPynyMkAp8jJAKfIyQCnyMkAp8jJAKfIyQD2TNEBwsRlAvE60PxjZuj5xMtm+cTLZvnEy2b5xMtm+cTLZvnEy2b5xMtm+cTLZvnEy2b5xMtm+cTLZvnEy2b5xMtm+cTLZvnEy2b5xMtm+cTLZvksHmL40v5M+flTtP35U7T9+VO0/1x3LP2pJrjxqSa48QhrZvXEy2b5xMtm+cTLZvnEy2b5xMtm+cTLZvnEy2b5xMtm+cTLZvnEy2b5xMtm+cTLZvnEy2b5xMtm+cTLZvnEy2b5xMtm+cTLZvnEy2b5xMtm+cTLZvnEy2b5xMtm+cTLZvnEy2b5xMtm+cTLZvnEy2b5xMtm+cTLZvnEy2b5xMtm+cTLZvnEy2b5xMtm+cTLZvnEy2b5xMtm+cTLZvnEy2b5xMtm+cTLZvnEy2b5xMtm+cTLZvnEy2b5xMtm+cTLZvnEy2b5xMtm+cTLZvnEy2b5xMtm+cTLZvnEy2b5xMtm+cTLZvnEy2b5xMtm+cTLZvnEy2b5xMtm+cTLZvnEy2b5xMtm+cTLZvnEy2b5xMtm+cTLZvnEy2b5xMtm+cTLZvnEy2b5xMtm+cTLZvnEy2b5xMtm+cTLZvnEy2b5xMtm+cTLZvnEy2b5xMtm+cTLZvnEy2b5xMtm+cTLZvnEy2b5xMtm+cTLZvnEy2b5xMtm+cTLZvnEy2b5xMtm+cTLZvnEy2b5xMtm+cTLZvnEy2b5xMtm+cTLZvnEy2b5xMtm+cTLZvnEy2b5xMtm+cTLZvnEy2b5xMtm+cTLZvnEy2b5xMtm+cTLZvnEy2b5xMtm+cTLZvnEy2b5xMtm+cTLZvnEy2b5xMtm+cTLZvnEy2b5xMtm+cTLZvnEy2b5xMtm+cTLZvnEy2b5xMtm+cTLZvnEy2b5xMtm+cTLZvnEy2b5xMtm+cTLZvnEy2b5xMtm+cTLZvnEy2b5xMtm+cTLZvnEy2b5xMtm+cTLZvnEy2b5xMtm+cTLZvnEy2b5xMtm+cTLZvg==",
          "dtype": "f4",
          "shape": "28, 28"
         }
        },
        {
         "colorscale": [
          [
           0,
           "rgb(0, 0, 0)"
          ],
          [
           0.09090909090909091,
           "rgb(16, 16, 16)"
          ],
          [
           0.18181818181818182,
           "rgb(38, 38, 38)"
          ],
          [
           0.2727272727272727,
           "rgb(59, 59, 59)"
          ],
          [
           0.36363636363636365,
           "rgb(81, 80, 80)"
          ],
          [
           0.45454545454545453,
           "rgb(102, 101, 101)"
          ],
          [
           0.5454545454545454,
           "rgb(124, 123, 122)"
          ],
          [
           0.6363636363636364,
           "rgb(146, 146, 145)"
          ],
          [
           0.7272727272727273,
           "rgb(171, 171, 170)"
          ],
          [
           0.8181818181818182,
           "rgb(197, 197, 195)"
          ],
          [
           0.9090909090909091,
           "rgb(224, 224, 223)"
          ],
          [
           1,
           "rgb(254, 254, 253)"
          ]
         ],
         "showscale": false,
         "type": "heatmap",
         "xaxis": "x4",
         "yaxis": "y4",
         "z": {
          "bdata": "cTLZvnEy2b5xMtm+cTLZvnEy2b5xMtm+cTLZvnEy2b5xMtm+cTLZvnEy2b5xMtm+cTLZvnEy2b5xMtm+cTLZvnEy2b5xMtm+cTLZvnEy2b5xMtm+cTLZvnEy2b5xMtm+cTLZvnEy2b5xMtm+cTLZvnEy2b5xMtm+cTLZvnEy2b5xMtm+cTLZvnEy2b5xMtm+cTLZvnEy2b5xMtm+cTLZvnEy2b5xMtm+cTLZvnEy2b5xMtm+cTLZvnEy2b5xMtm+cTLZvnEy2b5xMtm+cTLZvnEy2b5xMtm+cTLZvnEy2b5xMtm+cTLZvnEy2b5xMtm+cTLZvnEy2b5xMtm+cTLZvnEy2b5xMtm+cTLZvnEy2b5xMtm+cTLZvnEy2b5xMtm+cTLZvnEy2b5xMtm+cTLZvnEy2b5xMtm+cTLZvnEy2b5xMtm+cTLZvnEy2b5xMtm+cTLZvnEy2b5xMtm+cTLZvnEy2b5xMtm+cTLZvnEy2b5xMtm+cTLZvnEy2b5xMtm+cTLZvnEy2b5xMtm+oEpZPpL17j89kzRA3py4vnEy2b5xMtm+cTLZvnEy2b5xMtm+cTLZvnEy2b5xMtm+cTLZvnEy2b5xMtm+cTLZvnEy2b5xMtm+cTLZvnEy2b5xMtm+cTLZvnEy2b5xMtm+cTLZvnEy2b5xMtm+cTLZvuCyA0Ap8jJAoGjbP9ApzL5xMtm+cTLZvnEy2b5xMtm+cTLZvnEy2b5xMtm+cTLZvnEy2b5xMtm+cTLZvnEy2b5xMtm+cTLZvnEy2b5xMtm+cTLZvnEy2b5xMtm+cTLZvnEy2b5xMtm+cTLZvur5xz1zSCRAR5/9P+wPpb5xMtm+cTLZvnEy2b5xMtm+cTLZvnEy2b5xMtm+cTLZvnEy2b5xMtm+cTLZvnEy2b5xMtm+cTLZvnEy2b5xMtm+cTLZvnEy2b5xMtm+cTLZvnEy2b5xMtm+cTLZvnEy2b75Mbk/KfIyQNcdyz9xMtm+cTLZvnEy2b5xMtm+cTLZvnEy2b5xMtm+cTLZvnEy2b5xMtm+cTLZvnEy2b5xMtm+cTLZvnEy2b5xMtm+cTLZvnEy2b5xMtm+cTLZvnEy2b5xMtm+cTLZvnEy2b7BCAw8nIonQJnzHEBeOT8+cTLZvnEy2b5xMtm+cTLZvnEy2b5xMtm+cTLZvnEy2b5xMtm+cTLZvnEy2b5xMtm+cTLZvnEy2b5xMtm+cTLZvnEy2b5xMtm+cTLZvnEy2b5xMtm+cTLZvnEy2b5xMtm+5ZC3PynyMkBknJg/cTLZvnEy2b5xMtm+cTLZvnEy2b5xMtm+cTLZvnEy2b5xMtm+cTLZvnEy2b5xMtm+cTLZvnEy2b5xMtm+cTLZvnEy2b5xMtm+cTLZvnEy2b5xMtm+cTLZvnEy2b5xMtm+/wi/vQCwL0Ap8jJAJkynPnEy2b5xMtm+cTLZvnEy2b5xMtm+cTLZvnEy2b5xMtm+cTLZvnEy2b5xMtm+cTLZvnEy2b5xMtm+cTLZvnEy2b5xMtm+cTLZvnEy2b5xMtm+cTLZvnEy2b5xMtm+cTLZvpQMsT8p8jJAbRoPQP8Iv71xMtm+cTLZvnEy2b5xMtm+cTLZvnEy2b5xMtm+cTLZvnEy2b5xMtm+cTLZvnEy2b5xMtm+cTLZvnEy2b5xMtm+cTLZvnEy2b5xMtm+cTLZvnEy2b5xMtm+cTLZviCu0r7/X84/7A4uQLrhxz5xMtm+cTLZvnEy2b5xMtm+cTLZvnEy2b5xMtm+cTLZvnEy2b5xMtm+cTLZvnEy2b5xMtm+cTLZvnEy2b5xMtm+cTLZvnEy2b5xMtm+cTLZvnEy2b5xMtm+cTLZvnEy2b7BCAw8KfIyQAyMEUBxMtm+cTLZvnEy2b5xMtm+cTLZvnEy2b5xMtm+cTLZvnEy2b5xMtm+cTLZvnEy2b5xMtm+cTLZvnEy2b5xMtm+cTLZvnEy2b5xMtm+cTLZvnEy2b5xMtm+cTLZvnEy2b5xMtm+qv0TQCnyMkBOnStA4LIDQOCyA0BKtr8/bxz8PXEy2b5xMtm+cTLZvnEy2b5xMtm+cTLZvnEy2b5xMtm+cTLZvnEy2b5xMtm+cTLZvnEy2b5xMtm+cTLZvnEy2b5xMtm+cTLZvnEy2b5xMtm+cTLZvsTMKkAp8jJAKfIyQCnyMkAp8jJAKfIyQHNIJEAuIb++cTLZvnEy2b5xMtm+cTLZvnEy2b5xMtm+cTLZvnEy2b5xMtm+cTLZvnEy2b5xMtm+cTLZvnEy2b5xMtm+cTLZvnEy2b5xMtm+cTLZvje6Uj+fITJAXED/P6xu2z5jnga+Y54GvlDk1D8p8jJAZIXWP3Ey2b5xMtm+cTLZvnEy2b5xMtm+cTLZvnEy2b5xMtm+cTLZvnEy2b5xMtm+cTLZvnEy2b5xMtm+cTLZvnEy2b5xMtm+cTLZvnEy2b6iDXA/KfIyQDYsgD9xMtm+cTLZvnEy2b68MDI+OvwpQHbfLkDjOo0+cTLZvnEy2b5xMtm+cTLZvnEy2b5xMtm+cTLZvnEy2b5xMtm+cTLZvnEy2b5xMtm+cTLZvnEy2b5xMtm+cTLZvnEy2b5xMtm+og1wPynyMkA2LIA/cTLZvnEy2b5xMtm+qf6Kvl+nIkAp8jJAestsP3Ey2b5xMtm+cTLZvnEy2b5xMtm+cTLZvnEy2b5xMtm+cTLZvnEy2b5xMtm+cTLZvnEy2b5xMtm+cTLZvnEy2b5xMtm+cTLZvr9pPz1iPi1AR5/9P3Ey2b5xMtm+cTLZvr/zSD8p8jJAYj4tQL9pPz1xMtm+cTLZvnEy2b5xMtm+cTLZvnEy2b5xMtm+cTLZvnEy2b5xMtm+cTLZvnEy2b5xMtm+cTLZvnEy2b5xMtm+cTLZvnEy2b5xMtm+xMwqQP0YJUBCGtm9cTLZvkFTZj64cABAKfIyQFD7lj9xMtm+cTLZvnEy2b5xMtm+cTLZvnEy2b5xMtm+cTLZvnEy2b5xMtm+cTLZvnEy2b5xMtm+cTLZvnEy2b5xMtm+cTLZvnEy2b5xMtm+cTLZvkMWfT8p8jJAHZYIQEMWfT+wKylAKfIyQDTOFEAuIb++cTLZvnEy2b5xMtm+cTLZvnEy2b5xMtm+cTLZvnEy2b5xMtm+cTLZvnEy2b5xMtm+cTLZvnEy2b5xMtm+cTLZvnEy2b5xMtm+cTLZvnEy2b4grtK+wnzJPynyMkAp8jJAKfIyQDTOFEDqhy29cTLZvnEy2b5xMtm+cTLZvnEy2b5xMtm+cTLZvnEy2b5xMtm+cTLZvnEy2b5xMtm+cTLZvnEy2b5xMtm+cTLZvnEy2b5xMtm+cTLZvnEy2b5xMtm+cTLZvqavIL6GmcQ/KfIyQGScmD/6gpG+cTLZvnEy2b5xMtm+cTLZvnEy2b5xMtm+cTLZvnEy2b5xMtm+cTLZvnEy2b5xMtm+cTLZvnEy2b5xMtm+cTLZvnEy2b5xMtm+cTLZvnEy2b5xMtm+cTLZvnEy2b5xMtm+cTLZvnEy2b5xMtm+cTLZvnEy2b5xMtm+cTLZvnEy2b5xMtm+cTLZvnEy2b5xMtm+cTLZvnEy2b5xMtm+cTLZvnEy2b5xMtm+cTLZvnEy2b5xMtm+cTLZvnEy2b5xMtm+cTLZvnEy2b5xMtm+cTLZvnEy2b5xMtm+cTLZvnEy2b5xMtm+cTLZvnEy2b5xMtm+cTLZvnEy2b5xMtm+cTLZvnEy2b5xMtm+cTLZvnEy2b5xMtm+cTLZvnEy2b5xMtm+cTLZvnEy2b5xMtm+cTLZvnEy2b5xMtm+cTLZvnEy2b5xMtm+cTLZvnEy2b5xMtm+cTLZvnEy2b5xMtm+cTLZvnEy2b5xMtm+cTLZvnEy2b5xMtm+cTLZvnEy2b5xMtm+cTLZvnEy2b5xMtm+cTLZvnEy2b5xMtm+cTLZvnEy2b5xMtm+cTLZvnEy2b5xMtm+cTLZvnEy2b5xMtm+cTLZvnEy2b5xMtm+cTLZvnEy2b5xMtm+cTLZvnEy2b5xMtm+cTLZvnEy2b5xMtm+cTLZvnEy2b5xMtm+cTLZvnEy2b5xMtm+cTLZvnEy2b5xMtm+cTLZvnEy2b5xMtm+cTLZvnEy2b5xMtm+cTLZvnEy2b5xMtm+cTLZvnEy2b5xMtm+cTLZvnEy2b5xMtm+cTLZvnEy2b5xMtm+cTLZvg==",
          "dtype": "f4",
          "shape": "28, 28"
         }
        },
        {
         "colorscale": [
          [
           0,
           "rgb(0, 0, 0)"
          ],
          [
           0.09090909090909091,
           "rgb(16, 16, 16)"
          ],
          [
           0.18181818181818182,
           "rgb(38, 38, 38)"
          ],
          [
           0.2727272727272727,
           "rgb(59, 59, 59)"
          ],
          [
           0.36363636363636365,
           "rgb(81, 80, 80)"
          ],
          [
           0.45454545454545453,
           "rgb(102, 101, 101)"
          ],
          [
           0.5454545454545454,
           "rgb(124, 123, 122)"
          ],
          [
           0.6363636363636364,
           "rgb(146, 146, 145)"
          ],
          [
           0.7272727272727273,
           "rgb(171, 171, 170)"
          ],
          [
           0.8181818181818182,
           "rgb(197, 197, 195)"
          ],
          [
           0.9090909090909091,
           "rgb(224, 224, 223)"
          ],
          [
           1,
           "rgb(254, 254, 253)"
          ]
         ],
         "showscale": false,
         "type": "heatmap",
         "xaxis": "x5",
         "yaxis": "y5",
         "z": {
          "bdata": "cTLZvnEy2b5xMtm+cTLZvnEy2b5xMtm+cTLZvnEy2b5xMtm+cTLZvnEy2b5xMtm+cTLZvnEy2b5xMtm+cTLZvnEy2b5xMtm+cTLZvnEy2b5xMtm+cTLZvnEy2b5xMtm+cTLZvnEy2b5xMtm+cTLZvnEy2b5xMtm+cTLZvnEy2b5xMtm+cTLZvnEy2b5xMtm+cTLZvnEy2b5xMtm+cTLZvnEy2b5xMtm+cTLZvnEy2b5xMtm+cTLZvnEy2b5xMtm+cTLZvnEy2b5xMtm+cTLZvnEy2b5xMtm+cTLZvnEy2b5xMtm+cTLZvnEy2b5xMtm+cTLZvnEy2b5xMtm+cTLZvnEy2b5xMtm+cTLZvnEy2b5xMtm+cTLZvnEy2b5xMtm+cTLZvnEy2b5xMtm+cTLZvnEy2b5xMtm+cTLZvnEy2b5xMtm+cTLZvnEy2b5xMtm+cTLZvnEy2b5xMtm+cTLZvnEy2b5xMtm+cTLZvnEy2b5xMtm+cTLZvnEy2b5xMtm+cTLZvnEy2b5xMtm+cTLZvnEy2b5xMtm+cTLZvnEy2b5xMtm+cTLZvnEy2b5xMtm+cTLZvnEy2b5xMtm+cTLZvnEy2b5xMtm+cTLZvnEy2b5xMtm+cTLZvnEy2b5xMtm+cTLZvnEy2b5xMtm+cTLZvnEy2b5xMtm+cTLZvnEy2b5xMtm+cTLZvnEy2b5xMtm+cTLZvnEy2b5xMtm+cTLZvnEy2b5xMtm+cTLZvnEy2b5xMtm+cTLZvnEy2b5xMtm+cTLZvnEy2b5xMtm+cTLZvnEy2b5xMtm+cTLZvnEy2b5xMtm+cTLZvnEy2b5xMtm+cTLZvpO2hj6tlB5Al7FFP3Ey2b5xMtm+cTLZvnEy2b5xMtm+cTLZvnEy2b5xMtm+cTLZvnEy2b5xMtm+cTLZvnEy2b5xMtm+cTLZvnEy2b5xMtm+PZSrvujAOr5xMtm+cTLZvnEy2b5xMtm+cTLZvkFTZj4p8jJAnyEyQKBo2z9xMtm+cTLZvnEy2b5xMtm+cTLZvnEy2b5xMtm+cTLZvnEy2b5xMtm+cTLZvnEy2b5xMtm+cTLZvnEy2b5xMtm+RIxzPbsHC0BcQP8/LF4oPyxeKD8sXig/LF4oP/Hs4T9iPi1AKfIyQJ8hMkCgaNs/cTLZvnEy2b5xMtm+cTLZvnEy2b5xMtm+cTLZvnEy2b5xMtm+cTLZvnEy2b5xMtm+cTLZvnEy2b5xMtm+cTLZvkrNgT8p8jJAnyEyQJ8hMkCfITJAKfIyQJ8hMkCfITJAnyEyQCnyMkCfITJA/fLhPnEy2b5xMtm+cTLZvnEy2b5xMtm+cTLZvnEy2b5xMtm+cTLZvnEy2b5xMtm+cTLZvnEy2b5xMtm+cTLZvnEy2b5BU2Y+PZM0QCnyMkAp8jJArZQeQJnzHEAPIxxAc0gkQCnyMkCzwjNA8wOkP3Ey2b5xMtm+cTLZvnEy2b5xMtm+cTLZvnEy2b5xMtm+cTLZvnEy2b5xMtm+cTLZvnEy2b5xMtm+cTLZvnEy2b5xMtm+cTLZvgQcJT8EHCU/BBwlP5uLnr5xMtm+cTLZvhvUeT+fITJAKfIyQAQcJT9xMtm+cTLZvnEy2b5xMtm+cTLZvnEy2b5xMtm+cTLZvnEy2b5xMtm+cTLZvnEy2b5xMtm+cTLZvnEy2b5xMtm+cTLZvnEy2b5xMtm+cTLZvnEy2b5xMtm+cTLZvnofGD4mWyhAnyEyQEsGIUDowDq+cTLZvnEy2b5xMtm+cTLZvnEy2b5xMtm+cTLZvnEy2b5xMtm+cTLZvnEy2b5xMtm+cTLZvnEy2b5xMtm+cTLZvnEy2b5xMtm+cTLZvnEy2b5xMtm+cTLZvnEy2b6EQ5o+nyEyQJ8hMkA8WpU/cTLZvnEy2b5xMtm+cTLZvnEy2b5xMtm+cTLZvnEy2b5xMtm+cTLZvnEy2b5xMtm+cTLZvnEy2b5xMtm+cTLZvnEy2b5xMtm+cTLZvm+qYb1vqmG9b6phvW+qYb1vqmG9OtEUPynyMkAp8jJAcTLZvnEy2b5xMtm+cTLZvnEy2b5xMtm+cTLZvnEy2b5xMtm+cTLZvnEy2b5xMtm+cTLZvnEy2b5xMtm+cTLZvnEy2b5xMtm+cTLZvsEKCz8p8jJAnyEyQJ8hMkCfITJAKfIyQJ8hMkCfITJAnyEyQLQJ3T+0Cd0/tAndP7QJ3T9xMtm+cTLZvnEy2b5xMtm+cTLZvnEy2b5xMtm+cTLZvnEy2b5xMtm+cTLZvnEy2b5xMtm+cTLZvnEy2b7BCgs/KfIyQJ8hMkCfITJAnyEyQCnyMkCfITJAnyEyQJ8hMkAp8jJAnyEyQJ8hMkAgLRNAcTLZvnEy2b5xMtm+cTLZvnEy2b5xMtm+cTLZvnEy2b5xMtm+cTLZvnEy2b5xMtm+cTLZvnEy2b5xMtm+cTLZvmzKrT9YKaw/WCmsP1gprD9CMoA+nyEyQJ8hMkCnZglAeuaKvXrmir165oq9b+NuvnEy2b5xMtm+cTLZvnEy2b5xMtm+cTLZvnEy2b5xMtm+cTLZvnEy2b5xMtm+cTLZvnEy2b5xMtm+cTLZvnEy2b5xMtm+cTLZvnEy2b5xMtm+b6phvSnyMkAp8jJAbMqtP3Ey2b5xMtm+cTLZvnEy2b5xMtm+cTLZvnEy2b5xMtm+cTLZvnEy2b5xMtm+cTLZvnEy2b5xMtm+cTLZvnEy2b5xMtm+cTLZvnEy2b5xMtm+cTLZvnEy2b5xMtm+cTLZvpO2hj6fITJAnyEyQHIPhT9xMtm+cTLZvnEy2b5xMtm+cTLZvnEy2b5xMtm+cTLZvnEy2b5xMtm+cTLZvnEy2b5xMtm+cTLZvnEy2b5xMtm+cTLZvnEy2b5xMtm+cTLZvnEy2b5xMtm+cTLZvnEy2b6Aa68/nyEyQJ8hMkB65oq9cTLZvnEy2b5xMtm+cTLZvnEy2b5xMtm+cTLZvnEy2b5xMtm+cTLZvnEy2b5xMtm+cTLZvnEy2b5xMtm+cTLZvnEy2b5xMtm+cTLZvnEy2b5xMtm+cTLZvnEy2b5xMtm+gGuvP58hMkCfITJAEo8RP3Ey2b5xMtm+cTLZvnEy2b5xMtm+cTLZvnEy2b5xMtm+cTLZvnEy2b5xMtm+cTLZvnEy2b5xMtm+cTLZvnEy2b5xMtm+cTLZvnEy2b5xMtm+cTLZvnEy2b5xMtm+cTLZvrPCM0Ap8jJAKfIyQCnyMkBxMtm+cTLZvnEy2b5xMtm+cTLZvnEy2b5xMtm+cTLZvnEy2b5xMtm+cTLZvnEy2b5xMtm+cTLZvnEy2b5xMtm+cTLZvnEy2b5xMtm+cTLZvnEy2b5xMtm+cTLZvnEy2b5qs+s/nyEyQJ8hMkCfITJAcTLZvnEy2b5xMtm+cTLZvnEy2b5xMtm+cTLZvnEy2b5xMtm+cTLZvnEy2b5xMtm+cTLZvnEy2b5xMtm+cTLZvnEy2b5xMtm+cTLZvnEy2b5xMtm+cTLZvnEy2b5xMtm+KUdmP58hMkCfITJAnyEyQHEy2b5xMtm+cTLZvnEy2b5xMtm+cTLZvnEy2b5xMtm+cTLZvnEy2b5xMtm+cTLZvnEy2b5xMtm+cTLZvnEy2b5xMtm+cTLZvnEy2b5xMtm+cTLZvnEy2b5xMtm+cTLZvszaYb6q/RNAnyEyQKdmCUBxMtm+cTLZvnEy2b5xMtm+cTLZvnEy2b5xMtm+cTLZvnEy2b5xMtm+cTLZvnEy2b5xMtm+cTLZvnEy2b5xMtm+cTLZvnEy2b5xMtm+cTLZvnEy2b5xMtm+cTLZvnEy2b5xMtm+cTLZvnEy2b5xMtm+cTLZvnEy2b5xMtm+cTLZvnEy2b5xMtm+cTLZvnEy2b5xMtm+cTLZvnEy2b5xMtm+cTLZvnEy2b5xMtm+cTLZvnEy2b5xMtm+cTLZvnEy2b5xMtm+cTLZvnEy2b5xMtm+cTLZvnEy2b5xMtm+cTLZvnEy2b5xMtm+cTLZvnEy2b5xMtm+cTLZvnEy2b5xMtm+cTLZvnEy2b5xMtm+cTLZvnEy2b5xMtm+cTLZvnEy2b5xMtm+cTLZvnEy2b5xMtm+cTLZvnEy2b5xMtm+cTLZvnEy2b5xMtm+cTLZvnEy2b5xMtm+cTLZvnEy2b5xMtm+cTLZvnEy2b5xMtm+cTLZvnEy2b5xMtm+cTLZvg==",
          "dtype": "f4",
          "shape": "28, 28"
         }
        }
       ],
       "layout": {
        "annotations": [
         {
          "font": {
           "size": 16
          },
          "showarrow": false,
          "text": "Label: 0",
          "x": 0.08399999999999999,
          "xanchor": "center",
          "xref": "paper",
          "y": 1,
          "yanchor": "bottom",
          "yref": "paper"
         },
         {
          "font": {
           "size": 16
          },
          "showarrow": false,
          "text": "Label: 5",
          "x": 0.292,
          "xanchor": "center",
          "xref": "paper",
          "y": 1,
          "yanchor": "bottom",
          "yref": "paper"
         },
         {
          "font": {
           "size": 16
          },
          "showarrow": false,
          "text": "Label: 0",
          "x": 0.5,
          "xanchor": "center",
          "xref": "paper",
          "y": 1,
          "yanchor": "bottom",
          "yref": "paper"
         },
         {
          "font": {
           "size": 16
          },
          "showarrow": false,
          "text": "Label: 6",
          "x": 0.708,
          "xanchor": "center",
          "xref": "paper",
          "y": 1,
          "yanchor": "bottom",
          "yref": "paper"
         },
         {
          "font": {
           "size": 16
          },
          "showarrow": false,
          "text": "Label: 7",
          "x": 0.9159999999999999,
          "xanchor": "center",
          "xref": "paper",
          "y": 1,
          "yanchor": "bottom",
          "yref": "paper"
         }
        ],
        "height": 250,
        "margin": {
         "b": 10,
         "l": 10,
         "r": 10,
         "t": 60
        },
        "template": {
         "data": {
          "bar": [
           {
            "error_x": {
             "color": "#2a3f5f"
            },
            "error_y": {
             "color": "#2a3f5f"
            },
            "marker": {
             "line": {
              "color": "#E5ECF6",
              "width": 0.5
             },
             "pattern": {
              "fillmode": "overlay",
              "size": 10,
              "solidity": 0.2
             }
            },
            "type": "bar"
           }
          ],
          "barpolar": [
           {
            "marker": {
             "line": {
              "color": "#E5ECF6",
              "width": 0.5
             },
             "pattern": {
              "fillmode": "overlay",
              "size": 10,
              "solidity": 0.2
             }
            },
            "type": "barpolar"
           }
          ],
          "carpet": [
           {
            "aaxis": {
             "endlinecolor": "#2a3f5f",
             "gridcolor": "white",
             "linecolor": "white",
             "minorgridcolor": "white",
             "startlinecolor": "#2a3f5f"
            },
            "baxis": {
             "endlinecolor": "#2a3f5f",
             "gridcolor": "white",
             "linecolor": "white",
             "minorgridcolor": "white",
             "startlinecolor": "#2a3f5f"
            },
            "type": "carpet"
           }
          ],
          "choropleth": [
           {
            "colorbar": {
             "outlinewidth": 0,
             "ticks": ""
            },
            "type": "choropleth"
           }
          ],
          "contour": [
           {
            "colorbar": {
             "outlinewidth": 0,
             "ticks": ""
            },
            "colorscale": [
             [
              0,
              "#0d0887"
             ],
             [
              0.1111111111111111,
              "#46039f"
             ],
             [
              0.2222222222222222,
              "#7201a8"
             ],
             [
              0.3333333333333333,
              "#9c179e"
             ],
             [
              0.4444444444444444,
              "#bd3786"
             ],
             [
              0.5555555555555556,
              "#d8576b"
             ],
             [
              0.6666666666666666,
              "#ed7953"
             ],
             [
              0.7777777777777778,
              "#fb9f3a"
             ],
             [
              0.8888888888888888,
              "#fdca26"
             ],
             [
              1,
              "#f0f921"
             ]
            ],
            "type": "contour"
           }
          ],
          "contourcarpet": [
           {
            "colorbar": {
             "outlinewidth": 0,
             "ticks": ""
            },
            "type": "contourcarpet"
           }
          ],
          "heatmap": [
           {
            "colorbar": {
             "outlinewidth": 0,
             "ticks": ""
            },
            "colorscale": [
             [
              0,
              "#0d0887"
             ],
             [
              0.1111111111111111,
              "#46039f"
             ],
             [
              0.2222222222222222,
              "#7201a8"
             ],
             [
              0.3333333333333333,
              "#9c179e"
             ],
             [
              0.4444444444444444,
              "#bd3786"
             ],
             [
              0.5555555555555556,
              "#d8576b"
             ],
             [
              0.6666666666666666,
              "#ed7953"
             ],
             [
              0.7777777777777778,
              "#fb9f3a"
             ],
             [
              0.8888888888888888,
              "#fdca26"
             ],
             [
              1,
              "#f0f921"
             ]
            ],
            "type": "heatmap"
           }
          ],
          "histogram": [
           {
            "marker": {
             "pattern": {
              "fillmode": "overlay",
              "size": 10,
              "solidity": 0.2
             }
            },
            "type": "histogram"
           }
          ],
          "histogram2d": [
           {
            "colorbar": {
             "outlinewidth": 0,
             "ticks": ""
            },
            "colorscale": [
             [
              0,
              "#0d0887"
             ],
             [
              0.1111111111111111,
              "#46039f"
             ],
             [
              0.2222222222222222,
              "#7201a8"
             ],
             [
              0.3333333333333333,
              "#9c179e"
             ],
             [
              0.4444444444444444,
              "#bd3786"
             ],
             [
              0.5555555555555556,
              "#d8576b"
             ],
             [
              0.6666666666666666,
              "#ed7953"
             ],
             [
              0.7777777777777778,
              "#fb9f3a"
             ],
             [
              0.8888888888888888,
              "#fdca26"
             ],
             [
              1,
              "#f0f921"
             ]
            ],
            "type": "histogram2d"
           }
          ],
          "histogram2dcontour": [
           {
            "colorbar": {
             "outlinewidth": 0,
             "ticks": ""
            },
            "colorscale": [
             [
              0,
              "#0d0887"
             ],
             [
              0.1111111111111111,
              "#46039f"
             ],
             [
              0.2222222222222222,
              "#7201a8"
             ],
             [
              0.3333333333333333,
              "#9c179e"
             ],
             [
              0.4444444444444444,
              "#bd3786"
             ],
             [
              0.5555555555555556,
              "#d8576b"
             ],
             [
              0.6666666666666666,
              "#ed7953"
             ],
             [
              0.7777777777777778,
              "#fb9f3a"
             ],
             [
              0.8888888888888888,
              "#fdca26"
             ],
             [
              1,
              "#f0f921"
             ]
            ],
            "type": "histogram2dcontour"
           }
          ],
          "mesh3d": [
           {
            "colorbar": {
             "outlinewidth": 0,
             "ticks": ""
            },
            "type": "mesh3d"
           }
          ],
          "parcoords": [
           {
            "line": {
             "colorbar": {
              "outlinewidth": 0,
              "ticks": ""
             }
            },
            "type": "parcoords"
           }
          ],
          "pie": [
           {
            "automargin": true,
            "type": "pie"
           }
          ],
          "scatter": [
           {
            "fillpattern": {
             "fillmode": "overlay",
             "size": 10,
             "solidity": 0.2
            },
            "type": "scatter"
           }
          ],
          "scatter3d": [
           {
            "line": {
             "colorbar": {
              "outlinewidth": 0,
              "ticks": ""
             }
            },
            "marker": {
             "colorbar": {
              "outlinewidth": 0,
              "ticks": ""
             }
            },
            "type": "scatter3d"
           }
          ],
          "scattercarpet": [
           {
            "marker": {
             "colorbar": {
              "outlinewidth": 0,
              "ticks": ""
             }
            },
            "type": "scattercarpet"
           }
          ],
          "scattergeo": [
           {
            "marker": {
             "colorbar": {
              "outlinewidth": 0,
              "ticks": ""
             }
            },
            "type": "scattergeo"
           }
          ],
          "scattergl": [
           {
            "marker": {
             "colorbar": {
              "outlinewidth": 0,
              "ticks": ""
             }
            },
            "type": "scattergl"
           }
          ],
          "scattermap": [
           {
            "marker": {
             "colorbar": {
              "outlinewidth": 0,
              "ticks": ""
             }
            },
            "type": "scattermap"
           }
          ],
          "scattermapbox": [
           {
            "marker": {
             "colorbar": {
              "outlinewidth": 0,
              "ticks": ""
             }
            },
            "type": "scattermapbox"
           }
          ],
          "scatterpolar": [
           {
            "marker": {
             "colorbar": {
              "outlinewidth": 0,
              "ticks": ""
             }
            },
            "type": "scatterpolar"
           }
          ],
          "scatterpolargl": [
           {
            "marker": {
             "colorbar": {
              "outlinewidth": 0,
              "ticks": ""
             }
            },
            "type": "scatterpolargl"
           }
          ],
          "scatterternary": [
           {
            "marker": {
             "colorbar": {
              "outlinewidth": 0,
              "ticks": ""
             }
            },
            "type": "scatterternary"
           }
          ],
          "surface": [
           {
            "colorbar": {
             "outlinewidth": 0,
             "ticks": ""
            },
            "colorscale": [
             [
              0,
              "#0d0887"
             ],
             [
              0.1111111111111111,
              "#46039f"
             ],
             [
              0.2222222222222222,
              "#7201a8"
             ],
             [
              0.3333333333333333,
              "#9c179e"
             ],
             [
              0.4444444444444444,
              "#bd3786"
             ],
             [
              0.5555555555555556,
              "#d8576b"
             ],
             [
              0.6666666666666666,
              "#ed7953"
             ],
             [
              0.7777777777777778,
              "#fb9f3a"
             ],
             [
              0.8888888888888888,
              "#fdca26"
             ],
             [
              1,
              "#f0f921"
             ]
            ],
            "type": "surface"
           }
          ],
          "table": [
           {
            "cells": {
             "fill": {
              "color": "#EBF0F8"
             },
             "line": {
              "color": "white"
             }
            },
            "header": {
             "fill": {
              "color": "#C8D4E3"
             },
             "line": {
              "color": "white"
             }
            },
            "type": "table"
           }
          ]
         },
         "layout": {
          "annotationdefaults": {
           "arrowcolor": "#2a3f5f",
           "arrowhead": 0,
           "arrowwidth": 1
          },
          "autotypenumbers": "strict",
          "coloraxis": {
           "colorbar": {
            "outlinewidth": 0,
            "ticks": ""
           }
          },
          "colorscale": {
           "diverging": [
            [
             0,
             "#8e0152"
            ],
            [
             0.1,
             "#c51b7d"
            ],
            [
             0.2,
             "#de77ae"
            ],
            [
             0.3,
             "#f1b6da"
            ],
            [
             0.4,
             "#fde0ef"
            ],
            [
             0.5,
             "#f7f7f7"
            ],
            [
             0.6,
             "#e6f5d0"
            ],
            [
             0.7,
             "#b8e186"
            ],
            [
             0.8,
             "#7fbc41"
            ],
            [
             0.9,
             "#4d9221"
            ],
            [
             1,
             "#276419"
            ]
           ],
           "sequential": [
            [
             0,
             "#0d0887"
            ],
            [
             0.1111111111111111,
             "#46039f"
            ],
            [
             0.2222222222222222,
             "#7201a8"
            ],
            [
             0.3333333333333333,
             "#9c179e"
            ],
            [
             0.4444444444444444,
             "#bd3786"
            ],
            [
             0.5555555555555556,
             "#d8576b"
            ],
            [
             0.6666666666666666,
             "#ed7953"
            ],
            [
             0.7777777777777778,
             "#fb9f3a"
            ],
            [
             0.8888888888888888,
             "#fdca26"
            ],
            [
             1,
             "#f0f921"
            ]
           ],
           "sequentialminus": [
            [
             0,
             "#0d0887"
            ],
            [
             0.1111111111111111,
             "#46039f"
            ],
            [
             0.2222222222222222,
             "#7201a8"
            ],
            [
             0.3333333333333333,
             "#9c179e"
            ],
            [
             0.4444444444444444,
             "#bd3786"
            ],
            [
             0.5555555555555556,
             "#d8576b"
            ],
            [
             0.6666666666666666,
             "#ed7953"
            ],
            [
             0.7777777777777778,
             "#fb9f3a"
            ],
            [
             0.8888888888888888,
             "#fdca26"
            ],
            [
             1,
             "#f0f921"
            ]
           ]
          },
          "colorway": [
           "#636efa",
           "#EF553B",
           "#00cc96",
           "#ab63fa",
           "#FFA15A",
           "#19d3f3",
           "#FF6692",
           "#B6E880",
           "#FF97FF",
           "#FECB52"
          ],
          "font": {
           "color": "#2a3f5f"
          },
          "geo": {
           "bgcolor": "white",
           "lakecolor": "white",
           "landcolor": "#E5ECF6",
           "showlakes": true,
           "showland": true,
           "subunitcolor": "white"
          },
          "hoverlabel": {
           "align": "left"
          },
          "hovermode": "closest",
          "mapbox": {
           "style": "light"
          },
          "paper_bgcolor": "white",
          "plot_bgcolor": "#E5ECF6",
          "polar": {
           "angularaxis": {
            "gridcolor": "white",
            "linecolor": "white",
            "ticks": ""
           },
           "bgcolor": "#E5ECF6",
           "radialaxis": {
            "gridcolor": "white",
            "linecolor": "white",
            "ticks": ""
           }
          },
          "scene": {
           "xaxis": {
            "backgroundcolor": "#E5ECF6",
            "gridcolor": "white",
            "gridwidth": 2,
            "linecolor": "white",
            "showbackground": true,
            "ticks": "",
            "zerolinecolor": "white"
           },
           "yaxis": {
            "backgroundcolor": "#E5ECF6",
            "gridcolor": "white",
            "gridwidth": 2,
            "linecolor": "white",
            "showbackground": true,
            "ticks": "",
            "zerolinecolor": "white"
           },
           "zaxis": {
            "backgroundcolor": "#E5ECF6",
            "gridcolor": "white",
            "gridwidth": 2,
            "linecolor": "white",
            "showbackground": true,
            "ticks": "",
            "zerolinecolor": "white"
           }
          },
          "shapedefaults": {
           "line": {
            "color": "#2a3f5f"
           }
          },
          "ternary": {
           "aaxis": {
            "gridcolor": "white",
            "linecolor": "white",
            "ticks": ""
           },
           "baxis": {
            "gridcolor": "white",
            "linecolor": "white",
            "ticks": ""
           },
           "bgcolor": "#E5ECF6",
           "caxis": {
            "gridcolor": "white",
            "linecolor": "white",
            "ticks": ""
           }
          },
          "title": {
           "x": 0.05
          },
          "xaxis": {
           "automargin": true,
           "gridcolor": "white",
           "linecolor": "white",
           "ticks": "",
           "title": {
            "standoff": 15
           },
           "zerolinecolor": "white",
           "zerolinewidth": 2
          },
          "yaxis": {
           "automargin": true,
           "gridcolor": "white",
           "linecolor": "white",
           "ticks": "",
           "title": {
            "standoff": 15
           },
           "zerolinecolor": "white",
           "zerolinewidth": 2
          }
         }
        },
        "title": {
         "text": "First 5 MNIST Images",
         "x": 0.5,
         "xanchor": "center",
         "y": 0.95,
         "yanchor": "top"
        },
        "width": 1000,
        "xaxis": {
         "anchor": "y",
         "domain": [
          0,
          0.16799999999999998
         ]
        },
        "xaxis2": {
         "anchor": "y2",
         "domain": [
          0.208,
          0.376
         ]
        },
        "xaxis3": {
         "anchor": "y3",
         "domain": [
          0.416,
          0.584
         ]
        },
        "xaxis4": {
         "anchor": "y4",
         "domain": [
          0.624,
          0.792
         ]
        },
        "xaxis5": {
         "anchor": "y5",
         "domain": [
          0.832,
          1
         ]
        },
        "yaxis": {
         "anchor": "x",
         "autorange": "reversed",
         "domain": [
          0,
          1
         ]
        },
        "yaxis2": {
         "anchor": "x2",
         "autorange": "reversed",
         "domain": [
          0,
          1
         ]
        },
        "yaxis3": {
         "anchor": "x3",
         "autorange": "reversed",
         "domain": [
          0,
          1
         ]
        },
        "yaxis4": {
         "anchor": "x4",
         "autorange": "reversed",
         "domain": [
          0,
          1
         ]
        },
        "yaxis5": {
         "anchor": "x5",
         "autorange": "reversed",
         "domain": [
          0,
          1
         ]
        }
       }
      }
     },
     "metadata": {},
     "output_type": "display_data"
    }
   ],
   "source": [
    "train_data, test_data = get_mnist_dataloaders()\n",
    "print(f\"Number of training batches: {len(train_data)}\")\n",
    "print(f\"Number of test batches: {len(test_data)}\\n{'-'*40}\")\n",
    "\n",
    "for batch_idx, (data, target) in enumerate(train_data):\n",
    "    print(\"Data shape:\", data.shape)\n",
    "    print(\"Target shape:\", target.shape)\n",
    "    break\n",
    "\n",
    "# Create a 1x5 subplot grid\n",
    "fig = make_subplots(rows=1, cols=5,\n",
    "                    subplot_titles=[f\"Label: {lbl.item()}\" for lbl in target[:5]])\n",
    "\n",
    "for i, (img, label) in enumerate(zip(data[:5], target[:5])):\n",
    "    img = img.squeeze().numpy()\n",
    "    heatmap = go.Heatmap(\n",
    "        z=img,\n",
    "        colorscale=\"gray\",\n",
    "        showscale=False\n",
    "    )\n",
    "    fig.add_trace(heatmap, row=1, col=i+1)\n",
    "\n",
    "# Fix orientation: y-axis reversed, no mirroring\n",
    "fig.update_yaxes(autorange=\"reversed\", scaleanchor=None)\n",
    "\n",
    "fig.update_layout(\n",
    "    width=1000, height=250,\n",
    "    margin=dict(l=10, r=10, b=10, t=60),  # increase top margin\n",
    "    title=dict(\n",
    "        text=\"First 5 MNIST Images\",\n",
    "        y=0.95,               # position closer to top (0–1 range)\n",
    "        x=0.5,                # center\n",
    "        xanchor='center',\n",
    "        yanchor='top'\n",
    "    )\n",
    ")\n",
    "\n",
    "fig.show()\n",
    "\n",
    "del train_data, test_data, data, target, batch_idx, img, label, heatmap, fig"
   ]
  },
  {
   "cell_type": "markdown",
   "id": "372cc92d",
   "metadata": {},
   "source": [
    "### Simple Neural Network"
   ]
  },
  {
   "cell_type": "code",
   "execution_count": 4,
   "id": "06861a3d",
   "metadata": {},
   "outputs": [],
   "source": [
    "class SimpleMLP(nn.Module):\n",
    "    def __init__(self, input_size=28*28, hidden_sizes=[128, 64], num_classes=10):\n",
    "        super(SimpleMLP, self).__init__()\n",
    "        self.fc1 = nn.Linear(input_size, hidden_sizes[0])\n",
    "        self.fc2 = nn.Linear(hidden_sizes[0], hidden_sizes[1])\n",
    "        self.fc3 = nn.Linear(hidden_sizes[1], num_classes)\n",
    "    \n",
    "    def forward(self, x):\n",
    "        x = x.view(x.size(0), -1)  # flatten\n",
    "        x = F.relu(self.fc1(x))\n",
    "        x = F.relu(self.fc2(x))\n",
    "        x = self.fc3(x)\n",
    "        return x\n"
   ]
  },
  {
   "cell_type": "markdown",
   "id": "b1bc128d",
   "metadata": {},
   "source": [
    "```mermaid\n",
    "graph LR\n",
    "    A[\"Input Layer (28x28 = 784)\"] --> B[\"FC1: Linear (784 → 128)\"]\n",
    "    B --> C[ReLU]\n",
    "    C --> D[\"FC2: Linear(128 → 64)\"]\n",
    "    D --> E[ReLU]\n",
    "    E --> F[\"FC3: Linear(64 → 10)\"]\n",
    "    F --> G[\"Output Layer (10 classes)\"]\n",
    "```"
   ]
  },
  {
   "cell_type": "code",
   "execution_count": 5,
   "id": "20ea1d8e",
   "metadata": {},
   "outputs": [],
   "source": [
    "def accuracy(outputs, labels):\n",
    "    \"\"\"Compute accuracy, given logits outputs and true labels.\"\"\"\n",
    "    _, preds = torch.max(outputs, 1)\n",
    "    return torch.mean((preds == labels).float())\n"
   ]
  },
  {
   "cell_type": "code",
   "execution_count": 6,
   "id": "3daaee87",
   "metadata": {},
   "outputs": [],
   "source": [
    "def train(\n",
    "    epochs=5,\n",
    "    batch_size=64,\n",
    "    learning_rate=1e-3,\n",
    "    device=None\n",
    "):\n",
    "    if device is None:\n",
    "        device = torch.device(\"cuda\" if torch.cuda.is_available() else \"cpu\")\n",
    "    print(\"Using device:\", device)\n",
    "    \n",
    "    train_loader, test_loader = get_mnist_dataloaders(batch_size=batch_size)\n",
    "    model = SimpleMLP().to(device)\n",
    "    criterion = nn.CrossEntropyLoss()\n",
    "    optimizer = optim.Adam(model.parameters(), lr=learning_rate)\n",
    "    \n",
    "    history = {\"train_loss\": [], \"train_acc\": [], \"test_loss\": [], \"test_acc\": []}\n",
    "\n",
    "    for epoch in range(1, epochs + 1):\n",
    "        model.train()\n",
    "        running_loss = 0.0\n",
    "        running_acc = 0.0\n",
    "        for batch_idx, (data, target) in enumerate(train_loader):\n",
    "            data, target = data.to(device), target.to(device)\n",
    "            optimizer.zero_grad()\n",
    "            outputs = model(data)\n",
    "            loss = criterion(outputs, target)\n",
    "            loss.backward()\n",
    "            optimizer.step()\n",
    "            \n",
    "            running_loss += loss.item()\n",
    "            running_acc += accuracy(outputs, target).item()\n",
    "        \n",
    "        avg_loss = running_loss / len(train_loader)\n",
    "        avg_acc  = running_acc / len(train_loader)\n",
    "        print(f\"Epoch {epoch} — loss: {avg_loss:.4f}, acc: {avg_acc:.4f}\")\n",
    "        \n",
    "        # evaluate on test set\n",
    "        model.eval()\n",
    "        test_loss = 0.0\n",
    "        test_acc = 0.0\n",
    "        with torch.no_grad():\n",
    "            for data, target in test_loader:\n",
    "                data, target = data.to(device), target.to(device)\n",
    "                outputs = model(data)\n",
    "                loss = criterion(outputs, target)\n",
    "                test_loss += loss.item()\n",
    "                test_acc += accuracy(outputs, target).item()\n",
    "        test_loss /= len(test_loader)\n",
    "        test_acc  /= len(test_loader)\n",
    "        print(f\" → Test — loss: {test_loss:.4f}, acc: {test_acc:.4f}\")\n",
    "    \n",
    "        # Store metrics\n",
    "        history[\"train_loss\"].append(avg_loss)\n",
    "        history[\"train_acc\"].append(avg_acc)\n",
    "        history[\"test_loss\"].append(test_loss)\n",
    "        history[\"test_acc\"].append(test_acc)\n",
    "\n",
    "    return model, history\n"
   ]
  },
  {
   "cell_type": "code",
   "execution_count": 7,
   "id": "aa927ee4",
   "metadata": {},
   "outputs": [
    {
     "name": "stdout",
     "output_type": "stream",
     "text": [
      "Using device: cpu\n",
      "Epoch 1 — loss: 0.3271, acc: 0.9039\n",
      " → Test — loss: 0.1527, acc: 0.9530\n",
      "Epoch 2 — loss: 0.1329, acc: 0.9596\n",
      " → Test — loss: 0.1060, acc: 0.9681\n",
      "Epoch 3 — loss: 0.0904, acc: 0.9722\n",
      " → Test — loss: 0.0824, acc: 0.9738\n",
      "Model saved to simple_mlp.pth\n"
     ]
    }
   ],
   "source": [
    "model, history = train(epochs=3, batch_size=128, learning_rate=1e-3)\n",
    "\n",
    "torch.save(model.state_dict(), \"simple_mlp.pth\")\n",
    "print(\"Model saved to simple_mlp.pth\")"
   ]
  },
  {
   "cell_type": "code",
   "execution_count": 8,
   "id": "cd660fc8",
   "metadata": {},
   "outputs": [
    {
     "data": {
      "text/plain": [
       "SimpleMLP(\n",
       "  (fc1): Linear(in_features=784, out_features=128, bias=True)\n",
       "  (fc2): Linear(in_features=128, out_features=64, bias=True)\n",
       "  (fc3): Linear(in_features=64, out_features=10, bias=True)\n",
       ")"
      ]
     },
     "execution_count": 8,
     "metadata": {},
     "output_type": "execute_result"
    }
   ],
   "source": [
    "# Load trained model\n",
    "device = torch.device(\"cuda\" if torch.cuda.is_available() else \"cpu\")\n",
    "model = SimpleMLP()\n",
    "model.load_state_dict(torch.load(\"simple_mlp.pth\", map_location=device))\n",
    "model.to(device)\n",
    "model.eval()"
   ]
  },
  {
   "cell_type": "code",
   "execution_count": 9,
   "id": "45f64807",
   "metadata": {},
   "outputs": [
    {
     "name": "stdout",
     "output_type": "stream",
     "text": [
      "Data shape: torch.Size([5, 1, 28, 28])\n",
      "Target shape: torch.Size([5])\n"
     ]
    },
    {
     "data": {
      "application/vnd.plotly.v1+json": {
       "config": {
        "plotlyServerURL": "https://plot.ly"
       },
       "data": [
        {
         "colorscale": [
          [
           0,
           "rgb(0, 0, 0)"
          ],
          [
           0.09090909090909091,
           "rgb(16, 16, 16)"
          ],
          [
           0.18181818181818182,
           "rgb(38, 38, 38)"
          ],
          [
           0.2727272727272727,
           "rgb(59, 59, 59)"
          ],
          [
           0.36363636363636365,
           "rgb(81, 80, 80)"
          ],
          [
           0.45454545454545453,
           "rgb(102, 101, 101)"
          ],
          [
           0.5454545454545454,
           "rgb(124, 123, 122)"
          ],
          [
           0.6363636363636364,
           "rgb(146, 146, 145)"
          ],
          [
           0.7272727272727273,
           "rgb(171, 171, 170)"
          ],
          [
           0.8181818181818182,
           "rgb(197, 197, 195)"
          ],
          [
           0.9090909090909091,
           "rgb(224, 224, 223)"
          ],
          [
           1,
           "rgb(254, 254, 253)"
          ]
         ],
         "showscale": false,
         "type": "heatmap",
         "xaxis": "x",
         "yaxis": "y",
         "z": {
          "bdata": "cTLZvnEy2b5xMtm+cTLZvnEy2b5xMtm+cTLZvnEy2b5xMtm+cTLZvnEy2b5xMtm+cTLZvnEy2b5xMtm+cTLZvnEy2b5xMtm+cTLZvnEy2b5xMtm+cTLZvnEy2b5xMtm+cTLZvnEy2b5xMtm+cTLZvnEy2b5xMtm+cTLZvnEy2b5xMtm+cTLZvnEy2b5xMtm+cTLZvnEy2b5xMtm+cTLZvnEy2b5xMtm+cTLZvnEy2b5xMtm+cTLZvnEy2b5xMtm+cTLZvnEy2b5xMtm+cTLZvnEy2b5xMtm+cTLZvnEy2b5xMtm+cTLZvnEy2b5xMtm+cTLZvnEy2b5xMtm+cTLZvnEy2b5xMtm+cTLZvnEy2b5xMtm+cTLZvnEy2b5xMtm+cTLZvnEy2b5xMtm+cTLZvnEy2b5xMtm+cTLZvnEy2b5xMtm+cTLZvnEy2b5xMtm+cTLZvnEy2b5xMtm+cTLZvnEy2b5xMtm+cTLZvnEy2b5xMtm+cTLZvnEy2b5xMtm+cTLZvnEy2b5xMtm+cTLZvp777j4p8jJAC7z4P145Pz5xMtm+cTLZvnEy2b5xMtm+cTLZvnEy2b5xMtm+cTLZvnEy2b5xMtm+cTLZvnEy2b5xMtm+cTLZvnEy2b5xMtm+cTLZvnEy2b5xMtm+cTLZvnEy2b5xMtm+cTLZvnofGD46/ClAs8IzQLPCM0CMx9k/SweYvnEy2b5xMtm+cTLZvnEy2b5xMtm+cTLZvnEy2b5xMtm+cTLZvnEy2b5xMtm+cTLZvnEy2b5xMtm+cTLZvnEy2b5xMtm+cTLZvnEy2b5xMtm+cTLZvnEy2b4LZs4+7A4uQLPCM0CzwjNAs8IzQO9/9T5xMtm+cTLZvnEy2b5xMtm+cTLZvnEy2b5xMtm+cTLZvnEy2b5xMtm+cTLZvnEy2b5xMtm+cTLZvnEy2b5xMtm+cTLZvnEy2b5xMtm+cTLZvnEy2b7Vx6A+IC0TQLPCM0CzwjNAs8IzQLPCM0Dvf/U+cTLZvnEy2b5xMtm+cTLZvnEy2b5xMtm+cTLZvnEy2b5xMtm+cTLZvnEy2b5xMtm+cTLZvnEy2b5xMtm+cTLZvnEy2b5xMtm+cTLZvnEy2b6mryC+4LIDQLPCM0CzwjNAs8IzQLPCM0AZL+U/WXqEvnEy2b5xMtm+cTLZvnEy2b5xMtm+cTLZvnEy2b5xMtm+cTLZvnEy2b5xMtm+cTLZvnEy2b5xMtm+cTLZvnEy2b5xMtm+cTLZvnEy2b5xMtm+ZIXWP7PCM0CzwjNAs8IzQLPCM0CtlB5ASweYvnEy2b5xMtm+cTLZvnEy2b5xMtm+cTLZvnEy2b5xMtm+cTLZvnEy2b5xMtm+cTLZvnEy2b5xMtm+cTLZvnEy2b5xMtm+cTLZvnEy2b5v426+vE60PxVRMUCzwjNAs8IzQLPCM0AAsC9A85F2P3Ey2b5xMtm+cTLZvnEy2b5xMtm+cTLZvnEy2b5xMtm+cTLZvnEy2b5xMtm+cTLZvnEy2b5xMtm+cTLZvnEy2b5xMtm+cTLZvnEy2b4uIb++RdgLQLPCM0CzwjNAs8IzQLPCM0BOnStA3py4vnEy2b5xMtm+cTLZvnEy2b5xMtm+cTLZvnEy2b5xMtm+cTLZvnEy2b5xMtm+cTLZvnEy2b5xMtm+cTLZvnEy2b5xMtm+cTLZvnEy2b5xMtm+sIBcP7PCM0CzwjNAs8IzQLPCM0CciidAaF3BPnEy2b5xMtm+cTLZvnEy2b5xMtm+cTLZvnEy2b5xMtm+cTLZvnEy2b5xMtm+cTLZvnEy2b5xMtm+cTLZvnEy2b5xMtm+cTLZvnEy2b5xMtm+cTLZvv9fzj+zwjNAs8IzQD2TNECzwjNAmfMcQO9/9T520K0+QhrZvXEy2b5xMtm+cTLZvnEy2b5xMtm+cTLZvnEy2b5xMtm+cTLZvnEy2b5xMtm+cTLZvnEy2b5xMtm+cTLZvnEy2b5xMtm+cTLZvqcCibtcEBhAs8IzQLPCM0CzwjNAs8IzQLPCM0CzwjNAs8IzQM+oDEC996S9cTLZvnEy2b5xMtm+cTLZvnEy2b5xMtm+cTLZvnEy2b5xMtm+cTLZvnEy2b5xMtm+cTLZvnEy2b5xMtm+cTLZvnEy2b5ZeQ1As8IzQLPCM0CzwjNAPZM0QLPCM0A9kzRAs8IzQLPCM0CzwjNAM/77P3Ey2b5xMtm+cTLZvnEy2b5xMtm+cTLZvnEy2b5xMtm+cTLZvnEy2b5xMtm+cTLZvnEy2b5xMtm+cTLZvnEy2b6n6K09nIonQLPCM0CzwjNAs8IzQLPCM0CzwjNAs8IzQLPCM0CzwjNAs8IzQFl5DUBxMtm+cTLZvnEy2b5xMtm+cTLZvnEy2b5xMtm+cTLZvnEy2b5xMtm+cTLZvnEy2b5xMtm+cTLZvnEy2b4uIb++XlfBP7PCM0CzwjNAs8IzQLPCM0CzwjNAs8IzQLPCM0CzwjNAs8IzQLPCM0BZeQ1AcTLZvnEy2b5xMtm+cTLZvnEy2b5xMtm+cTLZvnEy2b5xMtm+cTLZvnEy2b5xMtm+cTLZvnEy2b5xMtm+gGuvP7PCM0CzwjNAs8IzQLPCM0CzwjNAPZM0QLPCM0CzwjNAs8IzQLPCM0D6gRpAfOIuP3Ey2b5xMtm+cTLZvnEy2b5xMtm+cTLZvnEy2b5xMtm+cTLZvnEy2b5xMtm+cTLZvnEy2b5xMtm+cTLZvlxA/z+zwjNAs8IzQLPCM0CzwjNAs8IzQLPCM0CzwjNAs8IzQLPCM0CfITJAfOIuP3Ey2b5xMtm+cTLZvnEy2b5xMtm+cTLZvnEy2b5xMtm+cTLZvnEy2b5xMtm+cTLZvnEy2b5xMtm+cTLZvnEy2b7/X84/s8IzQLPCM0CzwjNAs8IzQLPCM0CzwjNAs8IzQLPCM0CzwjNAxMwqQHEy2b5xMtm+cTLZvnEy2b5xMtm+cTLZvnEy2b5xMtm+cTLZvnEy2b5xMtm+cTLZvnEy2b5xMtm+cTLZvnEy2b5xMtm+QAT8PrPCM0CzwjNAs8IzQLPCM0CzwjNAs8IzQLPCM0CzwjNAs8IzQA3Tuj9xMtm+cTLZvnEy2b5xMtm+cTLZvnEy2b5xMtm+cTLZvnEy2b5xMtm+cTLZvnEy2b5xMtm+cTLZvnEy2b5xMtm+cTLZvkAE/D6zwjNAs8IzQLPCM0CzwjNAs8IzQLPCM0CzwjNAs8IzQBvUeT8r0lS+cTLZvnEy2b5xMtm+cTLZvnEy2b5xMtm+cTLZvnEy2b5xMtm+cTLZvnEy2b5xMtm+cTLZvnEy2b5xMtm+cTLZvnEy2b7enLi+JkynPgelpT8AsC9As8IzQHNIJEAHpaU/iD5ZPyvSVL7QKcy+cTLZvnEy2b5xMtm+cTLZvnEy2b5xMtm+cTLZvnEy2b5xMtm+cTLZvnEy2b5xMtm+cTLZvnEy2b5xMtm+cTLZvnEy2b5xMtm+cTLZvnEy2b5xMtm+cTLZvnEy2b5xMtm+cTLZvnEy2b5xMtm+cTLZvnEy2b5xMtm+cTLZvnEy2b5xMtm+cTLZvnEy2b5xMtm+cTLZvnEy2b5xMtm+cTLZvnEy2b5xMtm+cTLZvnEy2b5xMtm+cTLZvnEy2b5xMtm+cTLZvnEy2b5xMtm+cTLZvnEy2b5xMtm+cTLZvnEy2b5xMtm+cTLZvnEy2b5xMtm+cTLZvnEy2b5xMtm+cTLZvnEy2b5xMtm+cTLZvnEy2b5xMtm+cTLZvnEy2b5xMtm+cTLZvnEy2b5xMtm+cTLZvnEy2b5xMtm+cTLZvnEy2b5xMtm+cTLZvnEy2b5xMtm+cTLZvnEy2b5xMtm+cTLZvnEy2b5xMtm+cTLZvnEy2b5xMtm+cTLZvnEy2b5xMtm+cTLZvnEy2b5xMtm+cTLZvnEy2b5xMtm+cTLZvnEy2b5xMtm+cTLZvnEy2b5xMtm+cTLZvnEy2b5xMtm+cTLZvnEy2b5xMtm+cTLZvnEy2b5xMtm+cTLZvnEy2b5xMtm+cTLZvnEy2b5xMtm+cTLZvnEy2b5xMtm+cTLZvnEy2b5xMtm+cTLZvnEy2b5xMtm+cTLZvnEy2b5xMtm+cTLZvnEy2b5xMtm+cTLZvnEy2b5xMtm+cTLZvnEy2b5xMtm+cTLZvnEy2b5xMtm+cTLZvnEy2b5xMtm+cTLZvg==",
          "dtype": "f4",
          "shape": "28, 28"
         }
        },
        {
         "colorscale": [
          [
           0,
           "rgb(0, 0, 0)"
          ],
          [
           0.09090909090909091,
           "rgb(16, 16, 16)"
          ],
          [
           0.18181818181818182,
           "rgb(38, 38, 38)"
          ],
          [
           0.2727272727272727,
           "rgb(59, 59, 59)"
          ],
          [
           0.36363636363636365,
           "rgb(81, 80, 80)"
          ],
          [
           0.45454545454545453,
           "rgb(102, 101, 101)"
          ],
          [
           0.5454545454545454,
           "rgb(124, 123, 122)"
          ],
          [
           0.6363636363636364,
           "rgb(146, 146, 145)"
          ],
          [
           0.7272727272727273,
           "rgb(171, 171, 170)"
          ],
          [
           0.8181818181818182,
           "rgb(197, 197, 195)"
          ],
          [
           0.9090909090909091,
           "rgb(224, 224, 223)"
          ],
          [
           1,
           "rgb(254, 254, 253)"
          ]
         ],
         "showscale": false,
         "type": "heatmap",
         "xaxis": "x2",
         "yaxis": "y2",
         "z": {
          "bdata": "cTLZvnEy2b5xMtm+cTLZvnEy2b5xMtm+cTLZvnEy2b5xMtm+cTLZvnEy2b5xMtm+cTLZvnEy2b5xMtm+cTLZvnEy2b5xMtm+cTLZvnEy2b5xMtm+cTLZvnEy2b5xMtm+cTLZvnEy2b5xMtm+cTLZvnEy2b5xMtm+cTLZvnEy2b5xMtm+cTLZvnEy2b5xMtm+cTLZvnEy2b5xMtm+cTLZvnEy2b5xMtm+cTLZvnEy2b5xMtm+cTLZvnEy2b5xMtm+cTLZvnEy2b5xMtm+cTLZvnEy2b5xMtm+cTLZvnEy2b5xMtm+cTLZvnEy2b5xMtm+cTLZvnEy2b5xMtm+cTLZvnEy2b5xMtm+cTLZvnEy2b5xMtm+cTLZvnEy2b5xMtm+cTLZvnEy2b5xMtm+cTLZvnEy2b5xMtm+cTLZvnEy2b5xMtm+cTLZvnEy2b5xMtm+cTLZvnEy2b5xMtm+cTLZvnEy2b5xMtm+cTLZvnEy2b5xMtm+cTLZvnEy2b5xMtm+cTLZvnEy2b5xMtm+cTLZvnEy2b5xMtm+cTLZvnEy2b5xMtm+cTLZvnEy2b5xMtm+cTLZvnEy2b5xMtm+cTLZvnEy2b5xMtm+cTLZvnEy2b5xMtm+cTLZvnEy2b5xMtm+cTLZvnEy2b5xMtm+WXqEvuvVjj+4cABA9xr3P34kBkDr1Y4/29khP3Ey2b5xMtm+cTLZvnEy2b5xMtm+cTLZvnEy2b5xMtm+cTLZvnEy2b5xMtm+cTLZvnEy2b5xMtm+cTLZvnEy2b6n6K09K9JUvnEy2b5xMtm+5zVMPzr8KUAp8jJAKfIyQD2TNEAp8jJAKfIyQACwL0CwKylAlAyxP8EIDDxxMtm+cTLZvnEy2b5xMtm+cTLZvnEy2b5xMtm+cTLZvnEy2b5xMtm+cTLZvnEy2b4QeE8/iOklQNXWIUBeOT8+/0FMPthtLEAp8jJAKfIyQCnyMkA9kzRAllwSQE6dK0Ap8jJAKfIyQCnyMkB6PZo/cTLZvnEy2b5xMtm+cTLZvnEy2b5xMtm+cTLZvnEy2b5xMtm+cTLZvnEy2b5xMtm+K9JUvkef/T8p8jJAm1GIPzP++z8p8jJAKfIyQDr8KUBl15M9p+itPWOeBr46Rws9yk9zPynyMkAp8jJAllwSQHEy2b5xMtm+cTLZvnEy2b5xMtm+cTLZvnEy2b5xMtm+cTLZvnEy2b5xMtm+cTLZvnEy2b6e++4+xMwqQCnyMkAp8jJAKfIyQGI+LUB6y2w/cTLZvnEy2b5xMtm+cTLZvivSVL4MjBFAKfIyQJZcEkBxMtm+cTLZvnEy2b5xMtm+cTLZvnEy2b5xMtm+cTLZvnEy2b5xMtm+cTLZvnEy2b5xMtm+cTLZvjS/kz7x7OE/CfUGQK2UHkDKT3M/cTLZvnEy2b5xMtm+cTLZvnEy2b5xMtm+HZYIQCnyMkCWXBJAcTLZvnEy2b5xMtm+cTLZvnEy2b5xMtm+cTLZvnEy2b5xMtm+cTLZvnEy2b5xMtm+cTLZvnEy2b5xMtm+cTLZvnEy2b4sC+I9cTLZvnEy2b5xMtm+cTLZvnEy2b5xMtm+NL+TPojpJUAp8jJAllwSQHEy2b5xMtm+cTLZvnEy2b5xMtm+cTLZvnEy2b5xMtm+cTLZvnEy2b5xMtm+cTLZvnEy2b5xMtm+cTLZvnEy2b5xMtm+cTLZvnEy2b5xMtm+cTLZvnEy2b5xMtm+cTLZvotVGz8p8jJAKfIyQJZcEkBxMtm+cTLZvnEy2b5xMtm+cTLZvnEy2b5xMtm+cTLZvnEy2b5xMtm+cTLZvnEy2b5xMtm+cTLZvnEy2b5xMtm+cTLZvnEy2b5xMtm+cTLZvnEy2b5xMtm+cTLZvnEy2b7XHcs/KfIyQCnyMkCWXBJAcTLZvnEy2b5xMtm+cTLZvnEy2b5xMtm+cTLZvnEy2b5xMtm+cTLZvnEy2b5xMtm+cTLZvnEy2b5xMtm+cTLZvnEy2b5xMtm+cTLZvnEy2b5xMtm+cTLZvnEy2b6gSlk+c0gkQCnyMkAp8jJAllwSQHEy2b5xMtm+cTLZvnEy2b5xMtm+cTLZvnEy2b5xMtm+cTLZvnEy2b5xMtm+cTLZvnEy2b5xMtm+cTLZvnEy2b5xMtm+cTLZvnEy2b664cc+cTLZvnEy2b5xMtm+1x3LP7PCM0CzwjNAs8IzQCAtE0BxMtm+cTLZvnEy2b5xMtm+cTLZvnEy2b5xMtm+cTLZvnEy2b5xMtm+cTLZvnEy2b5xMtm+cTLZvnEy2b5vqmG9B6WlP7ArKUCwKylA7A4uQLArKUA6/ClAsCspQJ8hMkAp8jJAKfIyQCnyMkBUoCs/cTLZvnEy2b5xMtm+cTLZvnEy2b5xMtm+cTLZvnEy2b5xMtm+cTLZvnEy2b5xMtm+cTLZvnEy2b5xMtm+H136PynyMkAp8jJAKfIyQCnyMkAp8jJAs8IzQCnyMkAp8jJAKfIyQCnyMkBF2AtA7A+lvnEy2b5xMtm+cTLZvnEy2b5xMtm+cTLZvnEy2b5xMtm+cTLZvnEy2b5xMtm+cTLZvnEy2b5xMtm+QxZ9P9htLEAp8jJAJlsoQAWO4z8FjuM/qv0TQLPCM0Ap8jJAKfIyQCnyMkAp8jJAvp4VQP3y4T5xMtm+cTLZvnEy2b5xMtm+cTLZvnEy2b5xMtm+cTLZvnEy2b5xMtm+cTLZvnEy2b5xMtm+cTLZviAtE0Ap8jJAgbsQQHofGD5xMtm+LiG/vmSF1j+zwjNAKfIyQCnyMkAp8jJAKfIyQCnyMkCEUhtAQhrZvXEy2b5xMtm+cTLZvnEy2b5xMtm+cTLZvnEy2b5xMtm+cTLZvnEy2b5xMtm+cTLZvp777j7EzCpAKfIyQAn1BkBxMtm+jRiyvgtmzj4p8jJAs8IzQCnyMkBfpyJACfUGQCAtE0Ap8jJAKfIyQEJBAUBxMtm+cTLZvnEy2b5xMtm+cTLZvnEy2b5xMtm+cTLZvnEy2b5xMtm+cTLZvnEy2b5iExg/7A4uQCnyMkDjSQ5A6vnHPd9ioj8p8jJAKfIyQHNIJECu28c/oEpZPnEy2b6mryC+arPrP5ZcEkBcQP8/cTLZvnEy2b5xMtm+cTLZvnEy2b5xMtm+cTLZvnEy2b5xMtm+cTLZvnEy2b5xMtm+cTLZviAtE0Ap8jJAKfIyQCnyMkAp8jJAnyEyQJnzHED/QUw+cTLZvnEy2b5xMtm+cTLZvnEy2b5xMtm+cTLZvnEy2b5xMtm+cTLZvnEy2b5xMtm+cTLZvnEy2b5xMtm+cTLZvnEy2b5xMtm+cTLZvnEy2b7LwaA/i4AwQCnyMkAp8jJA2G0sQCPEHUBxMtm+cTLZvnEy2b5xMtm+cTLZvnEy2b5xMtm+cTLZvnEy2b5xMtm+cTLZvnEy2b5xMtm+cTLZvnEy2b5xMtm+cTLZvnEy2b5xMtm+cTLZvnEy2b5xMtm+cTLZvqJ/nT8p8jJAKfIyQG5vQj9xMtm+cTLZvnEy2b5xMtm+cTLZvnEy2b5xMtm+cTLZvnEy2b5xMtm+cTLZvnEy2b5xMtm+cTLZvnEy2b5xMtm+cTLZvnEy2b5xMtm+cTLZvnEy2b5xMtm+cTLZvnEy2b5xMtm+cTLZvnEy2b5xMtm+cTLZvnEy2b5xMtm+cTLZvnEy2b5xMtm+cTLZvnEy2b5xMtm+cTLZvnEy2b5xMtm+cTLZvnEy2b5xMtm+cTLZvnEy2b5xMtm+cTLZvnEy2b5xMtm+cTLZvnEy2b5xMtm+cTLZvnEy2b5xMtm+cTLZvnEy2b5xMtm+cTLZvnEy2b5xMtm+cTLZvnEy2b5xMtm+cTLZvnEy2b5xMtm+cTLZvnEy2b5xMtm+cTLZvnEy2b5xMtm+cTLZvnEy2b5xMtm+cTLZvnEy2b5xMtm+cTLZvnEy2b5xMtm+cTLZvnEy2b5xMtm+cTLZvnEy2b5xMtm+cTLZvnEy2b5xMtm+cTLZvnEy2b5xMtm+cTLZvnEy2b5xMtm+cTLZvnEy2b5xMtm+cTLZvnEy2b5xMtm+cTLZvnEy2b5xMtm+cTLZvnEy2b5xMtm+cTLZvnEy2b5xMtm+cTLZvnEy2b5xMtm+cTLZvnEy2b5xMtm+cTLZvnEy2b5xMtm+cTLZvnEy2b5xMtm+cTLZvnEy2b5xMtm+cTLZvg==",
          "dtype": "f4",
          "shape": "28, 28"
         }
        },
        {
         "colorscale": [
          [
           0,
           "rgb(0, 0, 0)"
          ],
          [
           0.09090909090909091,
           "rgb(16, 16, 16)"
          ],
          [
           0.18181818181818182,
           "rgb(38, 38, 38)"
          ],
          [
           0.2727272727272727,
           "rgb(59, 59, 59)"
          ],
          [
           0.36363636363636365,
           "rgb(81, 80, 80)"
          ],
          [
           0.45454545454545453,
           "rgb(102, 101, 101)"
          ],
          [
           0.5454545454545454,
           "rgb(124, 123, 122)"
          ],
          [
           0.6363636363636364,
           "rgb(146, 146, 145)"
          ],
          [
           0.7272727272727273,
           "rgb(171, 171, 170)"
          ],
          [
           0.8181818181818182,
           "rgb(197, 197, 195)"
          ],
          [
           0.9090909090909091,
           "rgb(224, 224, 223)"
          ],
          [
           1,
           "rgb(254, 254, 253)"
          ]
         ],
         "showscale": false,
         "type": "heatmap",
         "xaxis": "x3",
         "yaxis": "y3",
         "z": {
          "bdata": "cTLZvnEy2b5xMtm+cTLZvnEy2b5xMtm+cTLZvnEy2b5xMtm+cTLZvnEy2b5xMtm+cTLZvnEy2b5xMtm+cTLZvnEy2b5xMtm+cTLZvnEy2b5xMtm+cTLZvnEy2b5xMtm+cTLZvnEy2b5xMtm+cTLZvnEy2b5xMtm+cTLZvnEy2b5xMtm+cTLZvnEy2b5xMtm+cTLZvnEy2b5xMtm+cTLZvnEy2b5xMtm+cTLZvnEy2b5xMtm+cTLZvnEy2b5xMtm+cTLZvnEy2b5xMtm+cTLZvnEy2b5xMtm+cTLZvnEy2b5xMtm+cTLZvnEy2b5xMtm+cTLZvnEy2b5xMtm+cTLZvnEy2b5xMtm+cTLZvnEy2b5xMtm+cTLZvnEy2b5xMtm+cTLZvnEy2b5xMtm+cTLZvnEy2b5xMtm+cTLZvnEy2b5xMtm+cTLZvnEy2b5xMtm+cTLZvnEy2b5xMtm+cTLZvnEy2b5xMtm+cTLZvnEy2b5xMtm+cTLZvnEy2b5xMtm+cTLZvnEy2b5xMtm+cTLZvnEy2b5xMtm+cTLZvnEy2b5xMtm+cTLZvnEy2b5xMtm+cTLZvnEy2b5xMtm+cTLZvnEy2b5xMtm+cTLZvnEy2b5xMtm+cTLZvnEy2b5xMtm+cTLZvnEy2b5xMtm+cTLZvnEy2b5xMtm+cTLZvnEy2b5xMtm+cTLZvnEy2b5xMtm+cTLZvnEy2b5xMtm+cTLZvnEy2b5xMtm+cTLZvnEy2b5xMtm+cTLZvnEy2b5xMtm+cTLZvnEy2b5xMtm+cTLZvnEy2b4grtK+euaKvaJ/nT/SPxdAs8IzQLPCM0CzwjNAs8IzQEq2vz8FpxO+cTLZvnEy2b5xMtm+cTLZvnEy2b5xMtm+cTLZvnEy2b5xMtm+cTLZvnEy2b5xMtm+cTLZvnEy2b5xMtm+cTLZvuwPpb7NZjU/hpnEPynyMkAp8jJAKfIyQCnyMkAp8jJAKfIyQCnyMkAp8jJAZIXWP9ApzL5xMtm+cTLZvnEy2b5xMtm+cTLZvnEy2b5xMtm+cTLZvnEy2b5xMtm+cTLZvnEy2b5xMtm+cTLZvnEy2b4hdLw/KfIyQCnyMkAp8jJAKfIyQCnyMkAp8jJAKfIyQCnyMkAp8jJAKfIyQCnyMkDqhy29cTLZvnEy2b5xMtm+cTLZvnEy2b5xMtm+cTLZvnEy2b5xMtm+cTLZvnEy2b5xMtm+cTLZvnEy2b5xMtm+IXS8PynyMkAp8jJAKfIyQIRSG0BRiWk/UYlpP1GJaT8N07o/KfIyQCnyMkAp8jJA6octvXEy2b5xMtm+cTLZvnEy2b5xMtm+cTLZvnEy2b5xMtm+cTLZvnEy2b5xMtm+cTLZvnEy2b5xMtm+cTLZvqJ/nT9wsRlAcLEZQGzKrT9iExg/cTLZvnEy2b5xMtm+mcgHPynyMkAp8jJAKfIyQOqHLb1xMtm+cTLZvnEy2b5xMtm+cTLZvnEy2b5xMtm+cTLZvnEy2b5xMtm+cTLZvnEy2b5xMtm+cTLZvnEy2b5xMtm+cTLZvnEy2b5xMtm+cTLZvnEy2b5xMtm+cTLZvpnIBz8p8jJAKfIyQCZbKED/CL+9cTLZvnEy2b5xMtm+cTLZvnEy2b5xMtm+cTLZvnEy2b5xMtm+cTLZvnEy2b5xMtm+cTLZvnEy2b5xMtm+cTLZvnEy2b5xMtm+cTLZvnEy2b5xMtm+cTLZvqn+ir54Jtg/KfIyQCnyMkBYKaw/cTLZvnEy2b5xMtm+cTLZvnEy2b5xMtm+cTLZvnEy2b5xMtm+cTLZvnEy2b5xMtm+cTLZvnEy2b5xMtm+cTLZvnEy2b5xMtm+cTLZvnEy2b5xMtm+cTLZvr9pPz1khdY/KfIyQCnyMkD9GCVAb6phvXEy2b5xMtm+cTLZvnEy2b5xMtm+cTLZvnEy2b5xMtm+cTLZvnEy2b5xMtm+cTLZvnEy2b5xMtm+cTLZvnEy2b5xMtm+cTLZvnEy2b7XNI0/kvXuP5L17j/pdyNAKfIyQCnyMkAp8jJA9xr3P+wPpb5xMtm+cTLZvnEy2b5xMtm+cTLZvnEy2b5xMtm+cTLZvnEy2b5xMtm+cTLZvnEy2b5xMtm+cTLZvnEy2b5xMtm+cTLZvnEy2b7Vx6A+SwYhQCnyMkAp8jJAKfIyQCnyMkAp8jJAKfIyQCnyMkA1Fb4/7A+lvnEy2b5xMtm+cTLZvnEy2b5xMtm+cTLZvnEy2b5xMtm+cTLZvnEy2b5xMtm+cTLZvnEy2b5xMtm+cTLZvnEy2b5xMtm+EwHQPynyMkAp8jJAKfIyQCnyMkAp8jJAKfIyQCnyMkAp8jJAKfIyQDxalT9xMtm+cTLZvnEy2b5xMtm+cTLZvnEy2b5xMtm+cTLZvnEy2b5xMtm+cTLZvnEy2b5xMtm+cTLZvnEy2b5xMtm+cTLZvgtmzj4p8jJAKfIyQCnyMkAp8jJAKfIyQCnyMkAp8jJAKfIyQCnyMkDV1iFA6MA6vnEy2b5xMtm+cTLZvnEy2b5xMtm+cTLZvnEy2b5xMtm+cTLZvnEy2b5xMtm+cTLZvnEy2b5xMtm+cTLZvnEy2b7sD6W+on+dPw3Tuj//QUw+/0FMPv9BTD7/QUw+IC0TQCnyMkAp8jJAKfIyQLrhxz5xMtm+cTLZvnEy2b5xMtm+cTLZvnEy2b5xMtm+cTLZvnEy2b5xMtm+cTLZvnEy2b5xMtm+cTLZvnEy2b5xMtm+cTLZvnEy2b5xMtm+cTLZvnEy2b5xMtm+cTLZvkXYC0Ap8jJAKfIyQCnyMkAN07o/cTLZvnEy2b5xMtm+cTLZvnEy2b5xMtm+cTLZvnEy2b5xMtm+cTLZvnEy2b5xMtm+cTLZvnEy2b5xMtm+cTLZvnEy2b5xMtm+cTLZvnEy2b5xMtm+cTLZvnEy2b5f/FU/KfIyQCnyMkAp8jJAAQVjP3Ey2b5xMtm+cTLZvnEy2b5xMtm+cTLZvnEy2b5xMtm+cTLZvnEy2b5xMtm+cTLZvnEy2b5xMtm+cTLZvnEy2b5xMtm+cTLZvnEy2b5xMtm+cTLZvr33pL2IPlk/bRoPQCnyMkAp8jJAKfIyQIQr871xMtm+cTLZvnEy2b5xMtm+cTLZvnEy2b5xMtm+cTLZvnEy2b5xMtm+cTLZvnEy2b5xMtm+cTLZvnEy2b5ZeoS+9xr3P8E1IEDBNSBAwTUgQME1IED9GCVAKfIyQCnyMkAp8jJAKfIyQAyMEUAQ7Hu+cTLZvnEy2b5xMtm+cTLZvnEy2b5xMtm+cTLZvnEy2b5xMtm+cTLZvnEy2b5xMtm+cTLZvnEy2b5xMtm+tIWKvCnyMkAp8jJAKfIyQCnyMkAp8jJAKfIyQCnyMkAp8jJAKfIyQCnyMkBl15M9cTLZvnEy2b5xMtm+cTLZvnEy2b5xMtm+cTLZvnEy2b5xMtm+cTLZvnEy2b5xMtm+cTLZvnEy2b5xMtm+cTLZvrSFirwp8jJAKfIyQCnyMkAp8jJAKfIyQCnyMkAp8jJAKfIyQJZcEkBvqmG90CnMvnEy2b5xMtm+cTLZvnEy2b5xMtm+cTLZvnEy2b5xMtm+cTLZvnEy2b5xMtm+cTLZvnEy2b5xMtm+cTLZvnEy2b7M2mG+40kOQCnyMkAp8jJAKfIyQCnyMkBcEBhAjt6bP2+qYb0uIb++cTLZvnEy2b5xMtm+cTLZvnEy2b5xMtm+cTLZvnEy2b5xMtm+cTLZvnEy2b5xMtm+cTLZvnEy2b5xMtm+cTLZvnEy2b5xMtm+cTLZvnEy2b5xMtm+cTLZvnEy2b5xMtm+cTLZvnEy2b5xMtm+cTLZvnEy2b5xMtm+cTLZvnEy2b5xMtm+cTLZvnEy2b5xMtm+cTLZvnEy2b5xMtm+cTLZvnEy2b5xMtm+cTLZvnEy2b5xMtm+cTLZvnEy2b5xMtm+cTLZvnEy2b5xMtm+cTLZvnEy2b5xMtm+cTLZvnEy2b5xMtm+cTLZvnEy2b5xMtm+cTLZvnEy2b5xMtm+cTLZvnEy2b5xMtm+cTLZvnEy2b5xMtm+cTLZvnEy2b5xMtm+cTLZvnEy2b5xMtm+cTLZvnEy2b5xMtm+cTLZvnEy2b5xMtm+cTLZvnEy2b5xMtm+cTLZvnEy2b5xMtm+cTLZvnEy2b5xMtm+cTLZvnEy2b5xMtm+cTLZvg==",
          "dtype": "f4",
          "shape": "28, 28"
         }
        },
        {
         "colorscale": [
          [
           0,
           "rgb(0, 0, 0)"
          ],
          [
           0.09090909090909091,
           "rgb(16, 16, 16)"
          ],
          [
           0.18181818181818182,
           "rgb(38, 38, 38)"
          ],
          [
           0.2727272727272727,
           "rgb(59, 59, 59)"
          ],
          [
           0.36363636363636365,
           "rgb(81, 80, 80)"
          ],
          [
           0.45454545454545453,
           "rgb(102, 101, 101)"
          ],
          [
           0.5454545454545454,
           "rgb(124, 123, 122)"
          ],
          [
           0.6363636363636364,
           "rgb(146, 146, 145)"
          ],
          [
           0.7272727272727273,
           "rgb(171, 171, 170)"
          ],
          [
           0.8181818181818182,
           "rgb(197, 197, 195)"
          ],
          [
           0.9090909090909091,
           "rgb(224, 224, 223)"
          ],
          [
           1,
           "rgb(254, 254, 253)"
          ]
         ],
         "showscale": false,
         "type": "heatmap",
         "xaxis": "x4",
         "yaxis": "y4",
         "z": {
          "bdata": "cTLZvnEy2b5xMtm+cTLZvnEy2b5xMtm+cTLZvnEy2b5xMtm+cTLZvnEy2b5xMtm+cTLZvnEy2b5xMtm+cTLZvnEy2b5xMtm+cTLZvnEy2b5xMtm+cTLZvnEy2b5xMtm+cTLZvnEy2b5xMtm+cTLZvnEy2b5xMtm+cTLZvnEy2b5xMtm+cTLZvnEy2b5xMtm+cTLZvnEy2b5xMtm+cTLZvnEy2b5xMtm+cTLZvnEy2b5xMtm+cTLZvnEy2b5xMtm+cTLZvnEy2b5xMtm+cTLZvnEy2b5xMtm+cTLZvnEy2b5xMtm+cTLZvnEy2b5xMtm+cTLZvnEy2b5xMtm+cTLZvnEy2b5xMtm+cTLZvnEy2b5xMtm+cTLZvnEy2b5xMtm+cTLZvnEy2b5xMtm+cTLZvnEy2b5xMtm+cTLZvnEy2b5xMtm+cTLZvnEy2b5xMtm+cTLZvnEy2b5xMtm+cTLZvnEy2b5xMtm+cTLZvnEy2b5xMtm+cTLZvnEy2b5iExg/DdO6P8/Y8z/YbSxA/0FMPnEy2b5xMtm+cTLZvnEy2b5xMtm+cTLZvnEy2b5xMtm+cTLZvnEy2b5xMtm+cTLZvnEy2b5xMtm+cTLZvnEy2b5xMtm+cTLZvnEy2b5xMtm+cTLZvnEy2b5xMtm+gbsQQCnyMkCfITJA/RglQKavIL5xMtm+cTLZvnEy2b5xMtm+cTLZvnEy2b5xMtm+cTLZvnEy2b5xMtm+cTLZvnEy2b5xMtm+cTLZvnEy2b5xMtm+cTLZvnEy2b5xMtm+cTLZvnEy2b5xMtm+cTLZvnrLbD+LgDBA7A4uQBVRMUAHpaU/WXqEvnEy2b5xMtm+cTLZvnEy2b5xMtm+cTLZvnEy2b5xMtm+cTLZvnEy2b5xMtm+cTLZvnEy2b5xMtm+cTLZvnEy2b5xMtm+cTLZvnEy2b5xMtm+cTLZvnEy2b5xMtm+nvvuPmhdwT6ciidAnyEyQAWO4z+TtoY+cTLZvnEy2b5xMtm+cTLZvnEy2b5xMtm+cTLZvnEy2b5xMtm+cTLZvnEy2b5xMtm+cTLZvnEy2b5xMtm+cTLZvnEy2b5xMtm+cTLZvnEy2b5xMtm+cTLZvnEy2b5xMtm+vE60P58hMkCfITJA7A4uQGzKrT9xMtm+cTLZvnEy2b5xMtm+cTLZvnEy2b5xMtm+cTLZvnEy2b5xMtm+cTLZvnEy2b5xMtm+cTLZvnEy2b5xMtm+cTLZvnEy2b5xMtm+cTLZvnEy2b5xMtm+cTLZvnEy2b6Aa68/7A4uQLPCM0Ap8jJA29khP3Ey2b5xMtm+cTLZvnEy2b5xMtm+cTLZvnEy2b5xMtm+cTLZvnEy2b5xMtm+cTLZvnEy2b5xMtm+cTLZvnEy2b5xMtm+cTLZvnEy2b5xMtm+cTLZvnEy2b5xMtm+cTLZvrYgnz8p8jJAnyEyQEXYC0BxMtm+cTLZvnEy2b5xMtm+cTLZvnEy2b5xMtm+cTLZvnEy2b5xMtm+cTLZvnEy2b5xMtm+cTLZvnEy2b5xMtm+cTLZvnEy2b5xMtm+cTLZvnEy2b5xMtm+cTLZvnEy2b6bi56+k8UHQJ8hMkBfpyJAPZSrvnEy2b5xMtm+cTLZvnEy2b5xMtm+cTLZvnEy2b5xMtm+cTLZvnEy2b5xMtm+cTLZvnEy2b5xMtm+cTLZvnEy2b5xMtm+cTLZvnEy2b5xMtm+cTLZvnEy2b5xMtm+cTLZvv92kD+fITJA7A4uQGhdwT5xMtm+cTLZvnEy2b5xMtm+cTLZvnEy2b5xMtm+cTLZvnEy2b5xMtm+cTLZvnEy2b5xMtm+cTLZvnEy2b5xMtm+cTLZvnEy2b5xMtm+cTLZvnEy2b5xMtm+cTLZvnEy2b6if50/nyEyQCZbKEBqSa48cTLZvnEy2b5xMtm+cTLZvnEy2b5xMtm+cTLZvnEy2b5xMtm+cTLZvnEy2b5xMtm+cTLZvnEy2b5xMtm+cTLZvnEy2b5xMtm+cTLZvnEy2b5xMtm+cTLZvnEy2b4Y2bo+9+oPQCnyMkBknJg/cTLZvnEy2b5xMtm+cTLZvnEy2b5xMtm+cTLZvnEy2b5xMtm+cTLZvnEy2b5xMtm+cTLZvnEy2b5xMtm+cTLZvnEy2b5xMtm+cTLZvnEy2b5xMtm+cTLZvnEy2b5xMtm+gGuvPynyMkCfITJAvDAyPnEy2b5xMtm+cTLZvnEy2b5xMtm+cTLZvnEy2b5xMtm+cTLZvnEy2b5xMtm+cTLZvnEy2b5xMtm+cTLZvnEy2b5xMtm+cTLZvnEy2b5xMtm+cTLZvnEy2b5xMtm+/fLhPgCwL0Ap8jJAHZYIQPqCkb5xMtm+cTLZvnEy2b5xMtm+cTLZvnEy2b5xMtm+cTLZvnEy2b5xMtm+cTLZvnEy2b5xMtm+cTLZvnEy2b5xMtm+cTLZvnEy2b5xMtm+cTLZvnEy2b5xMtm+jRiyvlxA/z+fITJADyMcQKavIL5xMtm+cTLZvnEy2b5xMtm+cTLZvnEy2b5xMtm+cTLZvnEy2b5xMtm+cTLZvnEy2b5xMtm+cTLZvnEy2b5xMtm+cTLZvnEy2b5xMtm+cTLZvnEy2b4Y2bo+estsP8+oDECfITJAnyEyQIG7EEBxMtm+cTLZvnEy2b5xMtm+cTLZvnEy2b5xMtm+cTLZvnEy2b5xMtm+cTLZvnEy2b5xMtm+cTLZvnEy2b5xMtm+cTLZvnEy2b60hYq8bxz8PV5ugz8N07o/PZM0QCnyMkAp8jJAKfIyQCnyMkA9kzRAKfIyQNvZIT9xMtm+cTLZvnEy2b5xMtm+cTLZvnEy2b5xMtm+cTLZvnEy2b5xMtm+cTLZvnEy2b5xMtm+cTLZvmITGD+4cABAiOklQJ8hMkCfITJAnyEyQCnyMkCfITJAnyEyQJ8hMkCfITJAuwcLQMvBoD+0hYq8cTLZvnEy2b5xMtm+cTLZvnEy2b5xMtm+cTLZvnEy2b5xMtm+cTLZvnEy2b5xMtm+R7gtvtvZIT/6gRpAKfIyQJ8hMkCfITJAnyEyQJ8hMkAp8jJAnyEyQJL17j+IPlk/pq8gvpuLnr5xMtm+cTLZvnEy2b5xMtm+cTLZvnEy2b5xMtm+cTLZvnEy2b5xMtm+cTLZvnEy2b5xMtm+BacTvqdmCUCfITJAnyEyQMTMKkBHn/0/og1wP58hMkCfITJAxMwqQBvUeT89lKu+cTLZvnEy2b5xMtm+cTLZvnEy2b5xMtm+cTLZvnEy2b5xMtm+cTLZvnEy2b5xMtm+cTLZvnEy2b5xMtm+cTLZvqBKWT75Mbk/+TG5P/kxuT9qSa48cTLZvn4kBkCfITJAUOTUP2pJrjxxMtm+cTLZvnEy2b5xMtm+cTLZvnEy2b5xMtm+cTLZvnEy2b5xMtm+cTLZvnEy2b5xMtm+cTLZvnEy2b5xMtm+cTLZvnEy2b5xMtm+cTLZvnEy2b5xMtm+cTLZvnEy2b5xMtm+cTLZvnEy2b5xMtm+cTLZvnEy2b5xMtm+cTLZvnEy2b5xMtm+cTLZvnEy2b5xMtm+cTLZvnEy2b5xMtm+cTLZvnEy2b5xMtm+cTLZvnEy2b5xMtm+cTLZvnEy2b5xMtm+cTLZvnEy2b5xMtm+cTLZvnEy2b5xMtm+cTLZvnEy2b5xMtm+cTLZvnEy2b5xMtm+cTLZvnEy2b5xMtm+cTLZvnEy2b5xMtm+cTLZvnEy2b5xMtm+cTLZvnEy2b5xMtm+cTLZvnEy2b5xMtm+cTLZvnEy2b5xMtm+cTLZvnEy2b5xMtm+cTLZvnEy2b5xMtm+cTLZvnEy2b5xMtm+cTLZvnEy2b5xMtm+cTLZvnEy2b5xMtm+cTLZvnEy2b5xMtm+cTLZvnEy2b5xMtm+cTLZvnEy2b5xMtm+cTLZvnEy2b5xMtm+cTLZvnEy2b5xMtm+cTLZvnEy2b5xMtm+cTLZvnEy2b5xMtm+cTLZvnEy2b5xMtm+cTLZvnEy2b5xMtm+cTLZvnEy2b5xMtm+cTLZvnEy2b5xMtm+cTLZvnEy2b5xMtm+cTLZvnEy2b5xMtm+cTLZvnEy2b5xMtm+cTLZvnEy2b5xMtm+cTLZvnEy2b5xMtm+cTLZvnEy2b5xMtm+cTLZvnEy2b5xMtm+cTLZvnEy2b5xMtm+cTLZvnEy2b5xMtm+cTLZvg==",
          "dtype": "f4",
          "shape": "28, 28"
         }
        },
        {
         "colorscale": [
          [
           0,
           "rgb(0, 0, 0)"
          ],
          [
           0.09090909090909091,
           "rgb(16, 16, 16)"
          ],
          [
           0.18181818181818182,
           "rgb(38, 38, 38)"
          ],
          [
           0.2727272727272727,
           "rgb(59, 59, 59)"
          ],
          [
           0.36363636363636365,
           "rgb(81, 80, 80)"
          ],
          [
           0.45454545454545453,
           "rgb(102, 101, 101)"
          ],
          [
           0.5454545454545454,
           "rgb(124, 123, 122)"
          ],
          [
           0.6363636363636364,
           "rgb(146, 146, 145)"
          ],
          [
           0.7272727272727273,
           "rgb(171, 171, 170)"
          ],
          [
           0.8181818181818182,
           "rgb(197, 197, 195)"
          ],
          [
           0.9090909090909091,
           "rgb(224, 224, 223)"
          ],
          [
           1,
           "rgb(254, 254, 253)"
          ]
         ],
         "showscale": false,
         "type": "heatmap",
         "xaxis": "x5",
         "yaxis": "y5",
         "z": {
          "bdata": "cTLZvnEy2b5xMtm+cTLZvnEy2b5xMtm+cTLZvnEy2b5xMtm+cTLZvnEy2b5xMtm+cTLZvnEy2b5xMtm+cTLZvnEy2b5xMtm+cTLZvnEy2b5xMtm+cTLZvnEy2b5xMtm+cTLZvnEy2b5xMtm+cTLZvnEy2b5xMtm+cTLZvnEy2b5xMtm+cTLZvnEy2b5xMtm+cTLZvnEy2b5xMtm+cTLZvnEy2b5xMtm+cTLZvnEy2b5xMtm+cTLZvnEy2b5xMtm+cTLZvnEy2b5xMtm+cTLZvnEy2b5xMtm+cTLZvnEy2b5xMtm+cTLZvnEy2b5xMtm+cTLZvnEy2b5xMtm+cTLZvnEy2b5xMtm+cTLZvnEy2b5xMtm+cTLZvnEy2b5xMtm+cTLZvnEy2b5xMtm+cTLZvnEy2b5xMtm+cTLZvnEy2b5xMtm+cTLZvnEy2b5xMtm+cTLZvnEy2b5xMtm+cTLZvnEy2b5xMtm+cTLZvnEy2b5xMtm+cTLZvnEy2b5xMtm+cTLZvnEy2b5xMtm+cTLZvnEy2b5xMtm+cTLZvnEy2b5xMtm+cTLZvnEy2b5xMtm+cTLZvnEy2b5xMtm+cTLZvnEy2b5xMtm+cTLZvnEy2b5xMtm+cTLZvnEy2b5xMtm+cTLZvnEy2b5xMtm+cTLZvnEy2b5xMtm+cTLZvnEy2b5xMtm+cTLZvnEy2b5xMtm+cTLZvnEy2b5xMtm+cTLZvnEy2b5xMtm+cTLZvnEy2b5xMtm+cTLZvnEy2b5xMtm+cTLZvnEy2b5xMtm+cTLZvnEy2b5xMtm+cTLZvnEy2b5xMtm+cTLZvnEy2b5xMtm+cTLZvnEy2b5xMtm+cTLZvnEy2b5xMtm+cTLZvnEy2b5xMtm+cTLZvnEy2b5xMtm+cTLZvnEy2b5xMtm+cTLZvnEy2b5xMtm+cTLZvnEy2b5xMtm+cTLZvnEy2b5xMtm+QVNmPrwwMj4Q7Hu+cTLZvnEy2b5xMtm+cTLZvl5XwT89kzRAeCbYPyvSVL5xMtm+cTLZvnEy2b5xMtm+cTLZvnEy2b5xMtm+cTLZvnEy2b5xMtm+cTLZvnEy2b5xMtm+cTLZvnEy2b5xMtm+/fLhPuNJDkAp8jJAWCmsP8zaYb5xMtm+QVNmPlDk1D8VUTFAKfIyQH5U7T/LyvK8cTLZvnEy2b5xMtm+cTLZvnEy2b5xMtm+cTLZvnEy2b5xMtm+cTLZvnEy2b5xMtm+cTLZvnEy2b5xMtm+3py4vpPFB0Ap8jJAKfIyQCnyMkA3ZR9AcLEZQMTMKkAp8jJAKfIyQCnyMkA1Fb4/cTLZvnEy2b5xMtm+cTLZvnEy2b5xMtm+cTLZvnEy2b5xMtm+cTLZvnEy2b5xMtm+cTLZvnEy2b5xMtm+cTLZvmzKrT8p8jJAKfIyQCnyMkAp8jJAKfIyQEsGIUBcEBhAKfIyQCnyMkAp8jJAVKArP3Ey2b5xMtm+cTLZvnEy2b5xMtm+cTLZvnEy2b5xMtm+cTLZvnEy2b5xMtm+cTLZvnEy2b5xMtm+cTLZvuc1TD/sDi5AKfIyQLhwAEDXNI0/C2bOPgtmzj60hYq8dtCtPinyMkAp8jJAyKreP/qCkb5xMtm+cTLZvnEy2b5xMtm+cTLZvnEy2b5xMtm+cTLZvnEy2b5xMtm+cTLZvnEy2b5xMtm+cTLZvv8Iv73SPxdAKfIyQJnzHEASjxE/cTLZvnEy2b5xMtm+cTLZvlSgKz9fpyJAKfIyQGScmD9xMtm+cTLZvnEy2b5xMtm+cTLZvnEy2b5xMtm+cTLZvnEy2b5xMtm+cTLZvnEy2b5xMtm+cTLZvi4hv76q/RNAKfIyQBVRMUA60RQ/cTLZvnEy2b5xMtm+cTLZvhDse77m4BhAKfIyQDTOFEDLyvK8cTLZvnEy2b5xMtm+cTLZvnEy2b5xMtm+cTLZvnEy2b5xMtm+cTLZvnEy2b5xMtm+cTLZvnEy2b5vHPw9KfIyQCnyMkD36g9ALAviPXEy2b5xMtm+cTLZvnEy2b4mTKc+KfIyQCnyMkB6PZo/cTLZvnEy2b5xMtm+cTLZvnEy2b5xMtm+cTLZvnEy2b5xMtm+cTLZvnEy2b5xMtm+cTLZvnEy2b5xMtm+/fLhPinyMkB23y5AYhMYP3Ey2b5xMtm+cTLZvnEy2b6NGLK+wTUgQCnyMkDsDi5ASweYvnEy2b5xMtm+cTLZvnEy2b5xMtm+cTLZvnEy2b5xMtm+cTLZvnEy2b5xMtm+cTLZvnEy2b5xMtm+cTLZvur5xz1GLT8/GNm6PnEy2b5xMtm+cTLZvnEy2b5xMtm+EwHQPynyMkCwKylA6UwOP3Ey2b5xMtm+cTLZvnEy2b5xMtm+cTLZvnEy2b5xMtm+cTLZvnEy2b5xMtm+cTLZvnEy2b5xMtm+cTLZvnEy2b5xMtm+cTLZvnEy2b5xMtm+cTLZvnEy2b5xMtm+hCvzvfqBGkAp8jJAqv0TQIrJR75xMtm+cTLZvnEy2b5xMtm+cTLZvnEy2b5xMtm+cTLZvnEy2b5xMtm+cTLZvnEy2b5xMtm+cTLZvnEy2b5xMtm+cTLZvnEy2b5xMtm+cTLZvnEy2b5xMtm+m4uevnL4wj+LgDBAnyEyQPMDpD9/pcW+cTLZvnEy2b5xMtm+cTLZvnEy2b5xMtm+cTLZvnEy2b5xMtm+cTLZvnEy2b5xMtm+cTLZvnEy2b5xMtm+cTLZvnEy2b5xMtm+cTLZvnEy2b5xMtm+cTLZviwL4j0p8jJAKfIyQP9fzj9xMtm+cTLZvnEy2b5xMtm+cTLZvnEy2b5xMtm+cTLZvnEy2b5xMtm+cTLZvnEy2b5xMtm+cTLZvnEy2b5xMtm+cTLZvnEy2b5xMtm+cTLZvnEy2b5xMtm+cTLZvsEIDDwZL+U/KfIyQCnyMkB6PZo/cTLZvnEy2b5xMtm+cTLZvnEy2b5xMtm+cTLZvnEy2b5xMtm+cTLZvnEy2b5xMtm+cTLZvnEy2b5xMtm+cTLZvnEy2b5xMtm+cTLZvnEy2b5xMtm+cTLZvnEy2b4Y2bo+2G0sQCnyMkDV1iFAEOx7vnEy2b5xMtm+cTLZvnEy2b5xMtm+cTLZvnEy2b5xMtm+cTLZvnEy2b5xMtm+cTLZvnEy2b5xMtm+cTLZvnEy2b5xMtm+cTLZvnEy2b5xMtm+cTLZvnEy2b5ZeoS+9+oPQCnyMkAp8jJAk7aGPnEy2b5xMtm+cTLZvnEy2b5xMtm+cTLZvnEy2b5xMtm+cTLZvnEy2b5xMtm+cTLZvnEy2b5xMtm+cTLZvnEy2b5xMtm+cTLZvnEy2b5xMtm+cTLZvnEy2b5xMtm+/0FMPinyMkAp8jJAwTUgQMvK8rxxMtm+cTLZvnEy2b5xMtm+cTLZvnEy2b5xMtm+cTLZvnEy2b5xMtm+cTLZvnEy2b5xMtm+cTLZvnEy2b5xMtm+cTLZvnEy2b5xMtm+cTLZvnEy2b5xMtm+0CnMvozH2T8p8jJATp0rQNkWCz4grtK+cTLZvnEy2b5xMtm+cTLZvnEy2b5xMtm+cTLZvnEy2b5xMtm+cTLZvnEy2b5xMtm+cTLZvnEy2b5xMtm+cTLZvnEy2b5xMtm+cTLZvnEy2b5xMtm+cTLZvtXHoD4p8jJAKfIyQIjpJUBxMtm+cTLZvnEy2b5xMtm+cTLZvnEy2b5xMtm+cTLZvnEy2b5xMtm+cTLZvnEy2b5xMtm+cTLZvnEy2b5xMtm+cTLZvnEy2b5xMtm+cTLZvnEy2b5xMtm+cTLZvnEy2b7Vx6A+KfIyQCnyMkBf/FU/cTLZvnEy2b5xMtm+cTLZvnEy2b5xMtm+cTLZvnEy2b5xMtm+cTLZvnEy2b5xMtm+cTLZvnEy2b5xMtm+cTLZvnEy2b5xMtm+cTLZvnEy2b5xMtm+cTLZvnEy2b5xMtm+cTLZvnEy2b5xMtm+cTLZvnEy2b5xMtm+cTLZvnEy2b5xMtm+cTLZvnEy2b5xMtm+cTLZvnEy2b5xMtm+cTLZvnEy2b5xMtm+cTLZvnEy2b5xMtm+cTLZvnEy2b5xMtm+cTLZvnEy2b5xMtm+cTLZvnEy2b5xMtm+cTLZvnEy2b5xMtm+cTLZvnEy2b5xMtm+cTLZvnEy2b5xMtm+cTLZvnEy2b5xMtm+cTLZvnEy2b5xMtm+cTLZvg==",
          "dtype": "f4",
          "shape": "28, 28"
         }
        }
       ],
       "layout": {
        "annotations": [
         {
          "font": {
           "size": 16
          },
          "showarrow": false,
          "text": "True: 6<br>Pred: 6",
          "x": 0.08399999999999999,
          "xanchor": "center",
          "xref": "paper",
          "y": 1,
          "yanchor": "bottom",
          "yref": "paper"
         },
         {
          "font": {
           "size": 16
          },
          "showarrow": false,
          "text": "True: 2<br>Pred: 2",
          "x": 0.292,
          "xanchor": "center",
          "xref": "paper",
          "y": 1,
          "yanchor": "bottom",
          "yref": "paper"
         },
         {
          "font": {
           "size": 16
          },
          "showarrow": false,
          "text": "True: 3<br>Pred: 3",
          "x": 0.5,
          "xanchor": "center",
          "xref": "paper",
          "y": 1,
          "yanchor": "bottom",
          "yref": "paper"
         },
         {
          "font": {
           "size": 16
          },
          "showarrow": false,
          "text": "True: 2<br>Pred: 2",
          "x": 0.708,
          "xanchor": "center",
          "xref": "paper",
          "y": 1,
          "yanchor": "bottom",
          "yref": "paper"
         },
         {
          "font": {
           "size": 16
          },
          "showarrow": false,
          "text": "True: 7<br>Pred: 7",
          "x": 0.9159999999999999,
          "xanchor": "center",
          "xref": "paper",
          "y": 1,
          "yanchor": "bottom",
          "yref": "paper"
         }
        ],
        "height": 250,
        "margin": {
         "b": 10,
         "l": 10,
         "r": 10,
         "t": 90
        },
        "template": {
         "data": {
          "bar": [
           {
            "error_x": {
             "color": "#2a3f5f"
            },
            "error_y": {
             "color": "#2a3f5f"
            },
            "marker": {
             "line": {
              "color": "#E5ECF6",
              "width": 0.5
             },
             "pattern": {
              "fillmode": "overlay",
              "size": 10,
              "solidity": 0.2
             }
            },
            "type": "bar"
           }
          ],
          "barpolar": [
           {
            "marker": {
             "line": {
              "color": "#E5ECF6",
              "width": 0.5
             },
             "pattern": {
              "fillmode": "overlay",
              "size": 10,
              "solidity": 0.2
             }
            },
            "type": "barpolar"
           }
          ],
          "carpet": [
           {
            "aaxis": {
             "endlinecolor": "#2a3f5f",
             "gridcolor": "white",
             "linecolor": "white",
             "minorgridcolor": "white",
             "startlinecolor": "#2a3f5f"
            },
            "baxis": {
             "endlinecolor": "#2a3f5f",
             "gridcolor": "white",
             "linecolor": "white",
             "minorgridcolor": "white",
             "startlinecolor": "#2a3f5f"
            },
            "type": "carpet"
           }
          ],
          "choropleth": [
           {
            "colorbar": {
             "outlinewidth": 0,
             "ticks": ""
            },
            "type": "choropleth"
           }
          ],
          "contour": [
           {
            "colorbar": {
             "outlinewidth": 0,
             "ticks": ""
            },
            "colorscale": [
             [
              0,
              "#0d0887"
             ],
             [
              0.1111111111111111,
              "#46039f"
             ],
             [
              0.2222222222222222,
              "#7201a8"
             ],
             [
              0.3333333333333333,
              "#9c179e"
             ],
             [
              0.4444444444444444,
              "#bd3786"
             ],
             [
              0.5555555555555556,
              "#d8576b"
             ],
             [
              0.6666666666666666,
              "#ed7953"
             ],
             [
              0.7777777777777778,
              "#fb9f3a"
             ],
             [
              0.8888888888888888,
              "#fdca26"
             ],
             [
              1,
              "#f0f921"
             ]
            ],
            "type": "contour"
           }
          ],
          "contourcarpet": [
           {
            "colorbar": {
             "outlinewidth": 0,
             "ticks": ""
            },
            "type": "contourcarpet"
           }
          ],
          "heatmap": [
           {
            "colorbar": {
             "outlinewidth": 0,
             "ticks": ""
            },
            "colorscale": [
             [
              0,
              "#0d0887"
             ],
             [
              0.1111111111111111,
              "#46039f"
             ],
             [
              0.2222222222222222,
              "#7201a8"
             ],
             [
              0.3333333333333333,
              "#9c179e"
             ],
             [
              0.4444444444444444,
              "#bd3786"
             ],
             [
              0.5555555555555556,
              "#d8576b"
             ],
             [
              0.6666666666666666,
              "#ed7953"
             ],
             [
              0.7777777777777778,
              "#fb9f3a"
             ],
             [
              0.8888888888888888,
              "#fdca26"
             ],
             [
              1,
              "#f0f921"
             ]
            ],
            "type": "heatmap"
           }
          ],
          "histogram": [
           {
            "marker": {
             "pattern": {
              "fillmode": "overlay",
              "size": 10,
              "solidity": 0.2
             }
            },
            "type": "histogram"
           }
          ],
          "histogram2d": [
           {
            "colorbar": {
             "outlinewidth": 0,
             "ticks": ""
            },
            "colorscale": [
             [
              0,
              "#0d0887"
             ],
             [
              0.1111111111111111,
              "#46039f"
             ],
             [
              0.2222222222222222,
              "#7201a8"
             ],
             [
              0.3333333333333333,
              "#9c179e"
             ],
             [
              0.4444444444444444,
              "#bd3786"
             ],
             [
              0.5555555555555556,
              "#d8576b"
             ],
             [
              0.6666666666666666,
              "#ed7953"
             ],
             [
              0.7777777777777778,
              "#fb9f3a"
             ],
             [
              0.8888888888888888,
              "#fdca26"
             ],
             [
              1,
              "#f0f921"
             ]
            ],
            "type": "histogram2d"
           }
          ],
          "histogram2dcontour": [
           {
            "colorbar": {
             "outlinewidth": 0,
             "ticks": ""
            },
            "colorscale": [
             [
              0,
              "#0d0887"
             ],
             [
              0.1111111111111111,
              "#46039f"
             ],
             [
              0.2222222222222222,
              "#7201a8"
             ],
             [
              0.3333333333333333,
              "#9c179e"
             ],
             [
              0.4444444444444444,
              "#bd3786"
             ],
             [
              0.5555555555555556,
              "#d8576b"
             ],
             [
              0.6666666666666666,
              "#ed7953"
             ],
             [
              0.7777777777777778,
              "#fb9f3a"
             ],
             [
              0.8888888888888888,
              "#fdca26"
             ],
             [
              1,
              "#f0f921"
             ]
            ],
            "type": "histogram2dcontour"
           }
          ],
          "mesh3d": [
           {
            "colorbar": {
             "outlinewidth": 0,
             "ticks": ""
            },
            "type": "mesh3d"
           }
          ],
          "parcoords": [
           {
            "line": {
             "colorbar": {
              "outlinewidth": 0,
              "ticks": ""
             }
            },
            "type": "parcoords"
           }
          ],
          "pie": [
           {
            "automargin": true,
            "type": "pie"
           }
          ],
          "scatter": [
           {
            "fillpattern": {
             "fillmode": "overlay",
             "size": 10,
             "solidity": 0.2
            },
            "type": "scatter"
           }
          ],
          "scatter3d": [
           {
            "line": {
             "colorbar": {
              "outlinewidth": 0,
              "ticks": ""
             }
            },
            "marker": {
             "colorbar": {
              "outlinewidth": 0,
              "ticks": ""
             }
            },
            "type": "scatter3d"
           }
          ],
          "scattercarpet": [
           {
            "marker": {
             "colorbar": {
              "outlinewidth": 0,
              "ticks": ""
             }
            },
            "type": "scattercarpet"
           }
          ],
          "scattergeo": [
           {
            "marker": {
             "colorbar": {
              "outlinewidth": 0,
              "ticks": ""
             }
            },
            "type": "scattergeo"
           }
          ],
          "scattergl": [
           {
            "marker": {
             "colorbar": {
              "outlinewidth": 0,
              "ticks": ""
             }
            },
            "type": "scattergl"
           }
          ],
          "scattermap": [
           {
            "marker": {
             "colorbar": {
              "outlinewidth": 0,
              "ticks": ""
             }
            },
            "type": "scattermap"
           }
          ],
          "scattermapbox": [
           {
            "marker": {
             "colorbar": {
              "outlinewidth": 0,
              "ticks": ""
             }
            },
            "type": "scattermapbox"
           }
          ],
          "scatterpolar": [
           {
            "marker": {
             "colorbar": {
              "outlinewidth": 0,
              "ticks": ""
             }
            },
            "type": "scatterpolar"
           }
          ],
          "scatterpolargl": [
           {
            "marker": {
             "colorbar": {
              "outlinewidth": 0,
              "ticks": ""
             }
            },
            "type": "scatterpolargl"
           }
          ],
          "scatterternary": [
           {
            "marker": {
             "colorbar": {
              "outlinewidth": 0,
              "ticks": ""
             }
            },
            "type": "scatterternary"
           }
          ],
          "surface": [
           {
            "colorbar": {
             "outlinewidth": 0,
             "ticks": ""
            },
            "colorscale": [
             [
              0,
              "#0d0887"
             ],
             [
              0.1111111111111111,
              "#46039f"
             ],
             [
              0.2222222222222222,
              "#7201a8"
             ],
             [
              0.3333333333333333,
              "#9c179e"
             ],
             [
              0.4444444444444444,
              "#bd3786"
             ],
             [
              0.5555555555555556,
              "#d8576b"
             ],
             [
              0.6666666666666666,
              "#ed7953"
             ],
             [
              0.7777777777777778,
              "#fb9f3a"
             ],
             [
              0.8888888888888888,
              "#fdca26"
             ],
             [
              1,
              "#f0f921"
             ]
            ],
            "type": "surface"
           }
          ],
          "table": [
           {
            "cells": {
             "fill": {
              "color": "#EBF0F8"
             },
             "line": {
              "color": "white"
             }
            },
            "header": {
             "fill": {
              "color": "#C8D4E3"
             },
             "line": {
              "color": "white"
             }
            },
            "type": "table"
           }
          ]
         },
         "layout": {
          "annotationdefaults": {
           "arrowcolor": "#2a3f5f",
           "arrowhead": 0,
           "arrowwidth": 1
          },
          "autotypenumbers": "strict",
          "coloraxis": {
           "colorbar": {
            "outlinewidth": 0,
            "ticks": ""
           }
          },
          "colorscale": {
           "diverging": [
            [
             0,
             "#8e0152"
            ],
            [
             0.1,
             "#c51b7d"
            ],
            [
             0.2,
             "#de77ae"
            ],
            [
             0.3,
             "#f1b6da"
            ],
            [
             0.4,
             "#fde0ef"
            ],
            [
             0.5,
             "#f7f7f7"
            ],
            [
             0.6,
             "#e6f5d0"
            ],
            [
             0.7,
             "#b8e186"
            ],
            [
             0.8,
             "#7fbc41"
            ],
            [
             0.9,
             "#4d9221"
            ],
            [
             1,
             "#276419"
            ]
           ],
           "sequential": [
            [
             0,
             "#0d0887"
            ],
            [
             0.1111111111111111,
             "#46039f"
            ],
            [
             0.2222222222222222,
             "#7201a8"
            ],
            [
             0.3333333333333333,
             "#9c179e"
            ],
            [
             0.4444444444444444,
             "#bd3786"
            ],
            [
             0.5555555555555556,
             "#d8576b"
            ],
            [
             0.6666666666666666,
             "#ed7953"
            ],
            [
             0.7777777777777778,
             "#fb9f3a"
            ],
            [
             0.8888888888888888,
             "#fdca26"
            ],
            [
             1,
             "#f0f921"
            ]
           ],
           "sequentialminus": [
            [
             0,
             "#0d0887"
            ],
            [
             0.1111111111111111,
             "#46039f"
            ],
            [
             0.2222222222222222,
             "#7201a8"
            ],
            [
             0.3333333333333333,
             "#9c179e"
            ],
            [
             0.4444444444444444,
             "#bd3786"
            ],
            [
             0.5555555555555556,
             "#d8576b"
            ],
            [
             0.6666666666666666,
             "#ed7953"
            ],
            [
             0.7777777777777778,
             "#fb9f3a"
            ],
            [
             0.8888888888888888,
             "#fdca26"
            ],
            [
             1,
             "#f0f921"
            ]
           ]
          },
          "colorway": [
           "#636efa",
           "#EF553B",
           "#00cc96",
           "#ab63fa",
           "#FFA15A",
           "#19d3f3",
           "#FF6692",
           "#B6E880",
           "#FF97FF",
           "#FECB52"
          ],
          "font": {
           "color": "#2a3f5f"
          },
          "geo": {
           "bgcolor": "white",
           "lakecolor": "white",
           "landcolor": "#E5ECF6",
           "showlakes": true,
           "showland": true,
           "subunitcolor": "white"
          },
          "hoverlabel": {
           "align": "left"
          },
          "hovermode": "closest",
          "mapbox": {
           "style": "light"
          },
          "paper_bgcolor": "white",
          "plot_bgcolor": "#E5ECF6",
          "polar": {
           "angularaxis": {
            "gridcolor": "white",
            "linecolor": "white",
            "ticks": ""
           },
           "bgcolor": "#E5ECF6",
           "radialaxis": {
            "gridcolor": "white",
            "linecolor": "white",
            "ticks": ""
           }
          },
          "scene": {
           "xaxis": {
            "backgroundcolor": "#E5ECF6",
            "gridcolor": "white",
            "gridwidth": 2,
            "linecolor": "white",
            "showbackground": true,
            "ticks": "",
            "zerolinecolor": "white"
           },
           "yaxis": {
            "backgroundcolor": "#E5ECF6",
            "gridcolor": "white",
            "gridwidth": 2,
            "linecolor": "white",
            "showbackground": true,
            "ticks": "",
            "zerolinecolor": "white"
           },
           "zaxis": {
            "backgroundcolor": "#E5ECF6",
            "gridcolor": "white",
            "gridwidth": 2,
            "linecolor": "white",
            "showbackground": true,
            "ticks": "",
            "zerolinecolor": "white"
           }
          },
          "shapedefaults": {
           "line": {
            "color": "#2a3f5f"
           }
          },
          "ternary": {
           "aaxis": {
            "gridcolor": "white",
            "linecolor": "white",
            "ticks": ""
           },
           "baxis": {
            "gridcolor": "white",
            "linecolor": "white",
            "ticks": ""
           },
           "bgcolor": "#E5ECF6",
           "caxis": {
            "gridcolor": "white",
            "linecolor": "white",
            "ticks": ""
           }
          },
          "title": {
           "x": 0.05
          },
          "xaxis": {
           "automargin": true,
           "gridcolor": "white",
           "linecolor": "white",
           "ticks": "",
           "title": {
            "standoff": 15
           },
           "zerolinecolor": "white",
           "zerolinewidth": 2
          },
          "yaxis": {
           "automargin": true,
           "gridcolor": "white",
           "linecolor": "white",
           "ticks": "",
           "title": {
            "standoff": 15
           },
           "zerolinecolor": "white",
           "zerolinewidth": 2
          }
         }
        },
        "title": {
         "text": "MNIST Predictions (First 5 Test Images)",
         "x": 0.5,
         "xanchor": "center",
         "y": 0.95,
         "yanchor": "top"
        },
        "width": 1000,
        "xaxis": {
         "anchor": "y",
         "domain": [
          0,
          0.16799999999999998
         ]
        },
        "xaxis2": {
         "anchor": "y2",
         "domain": [
          0.208,
          0.376
         ]
        },
        "xaxis3": {
         "anchor": "y3",
         "domain": [
          0.416,
          0.584
         ]
        },
        "xaxis4": {
         "anchor": "y4",
         "domain": [
          0.624,
          0.792
         ]
        },
        "xaxis5": {
         "anchor": "y5",
         "domain": [
          0.832,
          1
         ]
        },
        "yaxis": {
         "anchor": "x",
         "autorange": "reversed",
         "domain": [
          0,
          1
         ]
        },
        "yaxis2": {
         "anchor": "x2",
         "autorange": "reversed",
         "domain": [
          0,
          1
         ]
        },
        "yaxis3": {
         "anchor": "x3",
         "autorange": "reversed",
         "domain": [
          0,
          1
         ]
        },
        "yaxis4": {
         "anchor": "x4",
         "autorange": "reversed",
         "domain": [
          0,
          1
         ]
        },
        "yaxis5": {
         "anchor": "x5",
         "autorange": "reversed",
         "domain": [
          0,
          1
         ]
        }
       }
      }
     },
     "metadata": {},
     "output_type": "display_data"
    }
   ],
   "source": [
    "# Load test data\n",
    "_, test_loader = get_mnist_dataloaders(batch_size=5, shuffle_test=True)\n",
    "\n",
    "for batch_idx, (data, target) in enumerate(test_loader):\n",
    "    print(\"Data shape:\", data.shape)\n",
    "    print(\"Target shape:\", target.shape)\n",
    "    break\n",
    "\n",
    "data, target = next(iter(test_loader))\n",
    "data, target = data.to(device), target.to(device)\n",
    "\n",
    "# Run prediction\n",
    "with torch.no_grad():\n",
    "    outputs = model(data)\n",
    "    _, preds = torch.max(outputs, 1)\n",
    "\n",
    "# Plot 5 samples with predicted + actual labels\n",
    "fig = make_subplots(\n",
    "    rows=1, cols=5,\n",
    "    subplot_titles=[f\"True: {lbl.item()}<br>Pred: {pred.item()}\"\n",
    "                    for lbl, pred in zip(target[:5], preds[:5])]\n",
    ")\n",
    "\n",
    "for i, img in enumerate(data[:5]):\n",
    "    img = img.squeeze().cpu().numpy()\n",
    "    heatmap = go.Heatmap(\n",
    "        z=img,\n",
    "        colorscale=\"gray\",\n",
    "        showscale=False\n",
    "    )\n",
    "    fig.add_trace(heatmap, row=1, col=i+1)\n",
    "\n",
    "# Fix orientation (avoid flipped digits)\n",
    "fig.update_yaxes(autorange=\"reversed\", scaleanchor=None)\n",
    "\n",
    "fig.update_layout(\n",
    "    width=1000, height=250,\n",
    "    margin=dict(l=10, r=10, b=10, t=90),\n",
    "    title=dict(\n",
    "        text=\"MNIST Predictions (First 5 Test Images)\",\n",
    "        y=0.95,\n",
    "        x=0.5,\n",
    "        xanchor='center',\n",
    "        yanchor='top'\n",
    "    )\n",
    ")\n",
    "\n",
    "fig.show()"
   ]
  }
 ],
 "metadata": {
  "kernelspec": {
   "display_name": "venv",
   "language": "python",
   "name": "python3"
  },
  "language_info": {
   "codemirror_mode": {
    "name": "ipython",
    "version": 3
   },
   "file_extension": ".py",
   "mimetype": "text/x-python",
   "name": "python",
   "nbconvert_exporter": "python",
   "pygments_lexer": "ipython3",
   "version": "3.11.0"
  }
 },
 "nbformat": 4,
 "nbformat_minor": 5
}
