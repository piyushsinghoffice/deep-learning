{
 "cells": [
  {
   "cell_type": "markdown",
   "id": "67f0382a",
   "metadata": {},
   "source": [
    "# Variational Autoencoder (VAE) on MNIST\n",
    "\n",
    "In this tutorial, we implement a **Variational Autoencoder (VAE)** using PyTorch.  \n",
    "Unlike a standard autoencoder, a VAE does not just learn to reconstruct inputs — it learns a **probabilistic latent space** from which we can both reconstruct inputs *and* generate entirely new data samples."
   ]
  },
  {
   "cell_type": "markdown",
   "id": "71e65c03",
   "metadata": {},
   "source": [
    "##### What is a VAE?"
   ]
  },
  {
   "cell_type": "markdown",
   "id": "d785dbaf",
   "metadata": {},
   "source": [
    "A **Variational Autoencoder** is a generative model consisting of:\n",
    "\n",
    "- **Encoder**: Maps input data to a probability distribution (mean `μ` and log-variance `logσ²`) in the latent space.\n",
    "- **Reparameterization Trick**: Samples a latent vector `z ~ N(μ, σ²)` in a differentiable way, allowing backpropagation.\n",
    "- **Decoder**: Generates data by mapping latent vector `z` back to the input space.\n",
    "\n",
    "Thus, a VAE learns a **continuous, smooth latent space** that captures data variations."
   ]
  },
  {
   "cell_type": "markdown",
   "id": "21912424",
   "metadata": {},
   "source": [
    "##### Why VAEs?"
   ]
  },
  {
   "cell_type": "markdown",
   "id": "b36961fb",
   "metadata": {},
   "source": [
    "VAEs are powerful because they allow:\n",
    "- **Data Generation**: Sample new images by drawing `z` from a standard Gaussian prior.\n",
    "- **Interpolation**: Smoothly transition between two data points in latent space.\n",
    "- **Representation Learning**: Latent codes capture meaningful features of the data.\n",
    "- **Uncertainty Estimation**: Since outputs are probabilistic, VAEs can model uncertainty in data."
   ]
  },
  {
   "cell_type": "markdown",
   "id": "21ef1114",
   "metadata": {},
   "source": [
    "##### Architecture in This Notebook"
   ]
  },
  {
   "cell_type": "markdown",
   "id": "6f63e4a6",
   "metadata": {},
   "source": [
    "For **MNIST handwritten digits (28×28 grayscale)**:\n",
    "1. **Encoder**:  \n",
    "   - Input: 784 pixels → hidden layer (400 units)  \n",
    "   - Outputs two vectors: mean (`μ`) and log variance (`logσ²`) of latent distribution.  \n",
    "2. **Latent Space**:  \n",
    "   - 20-dimensional latent vector `z` sampled using reparameterization trick.  \n",
    "3. **Decoder**:  \n",
    "   - Latent vector → hidden layer → reconstructs 784 pixels.  \n",
    "   - Final activation: Sigmoid (pixel intensities between 0–1).  "
   ]
  },
  {
   "cell_type": "markdown",
   "id": "68d875af",
   "metadata": {},
   "source": [
    "##### Training Objective"
   ]
  },
  {
   "cell_type": "markdown",
   "id": "0e7eaac5",
   "metadata": {},
   "source": [
    "The VAE loss combines two terms:\n",
    "1. **Reconstruction Loss**: Binary Cross-Entropy (BCE) between input and output.\n",
    "2. **KL Divergence**: Regularizes the latent space by pushing the learned distribution towards a standard normal distribution `N(0,1)`.\n",
    "\n",
    "**Total Loss** = Reconstruction Loss + KL Divergence"
   ]
  },
  {
   "cell_type": "markdown",
   "id": "9d152f1a",
   "metadata": {},
   "source": [
    "##### Steps in This Notebook"
   ]
  },
  {
   "cell_type": "markdown",
   "id": "d60fe981",
   "metadata": {},
   "source": [
    "1. **Load MNIST dataset**.  \n",
    "2. **Define VAE model** with encoder, reparameterization, and decoder.  \n",
    "3. **Train the model** using combined BCE + KL loss.  \n",
    "4. **Evaluate reconstruction quality** on test data.  \n",
    "5. **Sample new digits** by drawing from the latent space.  "
   ]
  },
  {
   "cell_type": "markdown",
   "id": "895eae17",
   "metadata": {},
   "source": [
    "# Code"
   ]
  },
  {
   "cell_type": "markdown",
   "id": "d4ff1b18",
   "metadata": {},
   "source": [
    "### Imports"
   ]
  },
  {
   "cell_type": "code",
   "execution_count": 1,
   "id": "20211eb7",
   "metadata": {},
   "outputs": [],
   "source": [
    "import torch\n",
    "import torch.nn as nn\n",
    "import torch.nn.functional as F\n",
    "import torch.optim as optim\n",
    "from torchvision import datasets, transforms\n",
    "from torch.utils.data import DataLoader\n",
    "import matplotlib.pyplot as plt"
   ]
  },
  {
   "cell_type": "markdown",
   "id": "6ad19119",
   "metadata": {},
   "source": [
    "### Data Load"
   ]
  },
  {
   "cell_type": "code",
   "execution_count": 2,
   "id": "d6f7b1c4",
   "metadata": {},
   "outputs": [],
   "source": [
    "def get_mnist_dataloaders(batch_size=64, root=\"../../data\", shuffle_test=False):\n",
    "    # simple transforms\n",
    "    transform = transforms.Compose([\n",
    "        transforms.ToTensor(),\n",
    "        # transforms.Normalize((0.1307,), (0.3081,)),\n",
    "    ])\n",
    "    train_dataset = datasets.MNIST(root, train=True, download=True, transform=transform)\n",
    "    test_dataset  = datasets.MNIST(root, train=False, download=True, transform=transform)\n",
    "    train_loader = DataLoader(train_dataset, batch_size=batch_size, shuffle=True)\n",
    "    test_loader  = DataLoader(test_dataset, batch_size=batch_size, shuffle=shuffle_test)\n",
    "    return train_loader, test_loader"
   ]
  },
  {
   "cell_type": "markdown",
   "id": "2a6440f4",
   "metadata": {},
   "source": [
    "### Variational Autoencoder (VAE) Architecture"
   ]
  },
  {
   "cell_type": "code",
   "execution_count": 3,
   "id": "0c501463",
   "metadata": {},
   "outputs": [],
   "source": [
    "class VAE(nn.Module):\n",
    "    def __init__(self, input_size=28*28, hidden_size=400, latent_dim=20):\n",
    "        super(VAE, self).__init__()\n",
    "\n",
    "        # Encoder\n",
    "        self.fc1 = nn.Linear(input_size, hidden_size)\n",
    "        self.fc_mu = nn.Linear(hidden_size, latent_dim)       # mean\n",
    "        self.fc_logvar = nn.Linear(hidden_size, latent_dim)   # log variance\n",
    "\n",
    "        # Decoder\n",
    "        self.fc2 = nn.Linear(latent_dim, hidden_size)\n",
    "        self.fc3 = nn.Linear(hidden_size, input_size)\n",
    "\n",
    "    def encode(self, x):\n",
    "        h = F.relu(self.fc1(x))\n",
    "        return self.fc_mu(h), self.fc_logvar(h)\n",
    "\n",
    "    def reparameterize(self, mu, logvar):\n",
    "        std = torch.exp(0.5 * logvar)\n",
    "        eps = torch.randn_like(std)\n",
    "        return mu + eps * std\n",
    "\n",
    "    def decode(self, z):\n",
    "        h = F.relu(self.fc2(z))\n",
    "        return torch.sigmoid(self.fc3(h))\n",
    "\n",
    "    def forward(self, x):\n",
    "        x = x.view(x.size(0), -1)   # flatten\n",
    "        mu, logvar = self.encode(x)\n",
    "        z = self.reparameterize(mu, logvar)\n",
    "        recon_x = self.decode(z)\n",
    "        return recon_x.view(x.size(0), 1, 28, 28), mu, logvar"
   ]
  },
  {
   "cell_type": "code",
   "execution_count": 4,
   "id": "fce86300",
   "metadata": {},
   "outputs": [],
   "source": [
    "def vae_loss(recon_x, x, mu, logvar):\n",
    "    # Reconstruction loss (BCE)\n",
    "    bce = F.binary_cross_entropy(recon_x, x, reduction='sum')\n",
    "    \n",
    "    # KL Divergence: force latent distribution close to N(0,1)\n",
    "    kld = -0.5 * torch.sum(1 + logvar - mu.pow(2) - logvar.exp())\n",
    "    \n",
    "    return bce + kld, bce, kld"
   ]
  },
  {
   "cell_type": "markdown",
   "id": "b173c7cc",
   "metadata": {},
   "source": [
    "### Training"
   ]
  },
  {
   "cell_type": "code",
   "execution_count": 5,
   "id": "e11a2add",
   "metadata": {},
   "outputs": [],
   "source": [
    "def train(epochs=10, batch_size=128, lr=1e-3, device=None):\n",
    "    if device is None:\n",
    "        device = torch.device(\"cuda\" if torch.cuda.is_available() else \"cpu\")\n",
    "    print(\"Using device:\", device)\n",
    "\n",
    "    train_loader, test_loader = get_mnist_dataloaders(batch_size=batch_size)\n",
    "    model = VAE().to(device)\n",
    "    optimizer = optim.Adam(model.parameters(), lr=lr)\n",
    "\n",
    "    for epoch in range(1, epochs+1):\n",
    "        model.train()\n",
    "        train_loss = 0.0\n",
    "\n",
    "        for data, _ in train_loader:\n",
    "            data = data.to(device)\n",
    "            optimizer.zero_grad()\n",
    "            recon, mu, logvar = model(data)\n",
    "            loss, bce, kld = vae_loss(recon, data, mu, logvar)\n",
    "            loss.backward()\n",
    "            optimizer.step()\n",
    "            train_loss += loss.item()\n",
    "\n",
    "        avg_loss = train_loss / len(train_loader.dataset)\n",
    "        print(f\"Epoch {epoch}: Train Loss={avg_loss:.4f}\")\n",
    "\n",
    "    torch.save(model.state_dict(), \"vae.pth\")\n",
    "    print(\"Model saved to vae.pth\")\n",
    "\n",
    "    return model"
   ]
  },
  {
   "cell_type": "code",
   "execution_count": 6,
   "id": "af1e4b55",
   "metadata": {},
   "outputs": [
    {
     "name": "stdout",
     "output_type": "stream",
     "text": [
      "Using device: cpu\n",
      "Epoch 1: Train Loss=165.1359\n",
      "Epoch 2: Train Loss=121.7914\n",
      "Epoch 3: Train Loss=114.5933\n",
      "Epoch 4: Train Loss=111.6576\n",
      "Epoch 5: Train Loss=109.8731\n",
      "Epoch 6: Train Loss=108.7740\n",
      "Epoch 7: Train Loss=107.8821\n",
      "Epoch 8: Train Loss=107.1982\n",
      "Epoch 9: Train Loss=106.6537\n",
      "Epoch 10: Train Loss=106.2947\n",
      "Model saved to vae.pth\n"
     ]
    }
   ],
   "source": [
    "model = train(epochs=10, batch_size=128, lr=1e-3)"
   ]
  },
  {
   "cell_type": "markdown",
   "id": "1afe3408",
   "metadata": {},
   "source": [
    "### Testing and Visualising Digits"
   ]
  },
  {
   "cell_type": "code",
   "execution_count": 13,
   "id": "1ae8ff49",
   "metadata": {},
   "outputs": [
    {
     "data": {
      "image/png": "[encoded data removed]",
      "text/plain": [
       "<Figure size 2000x400 with 20 Axes>"
      ]
     },
     "metadata": {},
     "output_type": "display_data"
    }
   ],
   "source": [
    "# Load model\n",
    "device = torch.device(\"cuda\" if torch.cuda.is_available() else \"cpu\")\n",
    "model = VAE()\n",
    "model.load_state_dict(torch.load(\"vae.pth\", map_location=device))\n",
    "model.to(device)\n",
    "model.eval()\n",
    "\n",
    "# Reconstruct test images\n",
    "_, test_loader = get_mnist_dataloaders(batch_size=10, shuffle_test=True)\n",
    "images, _ = next(iter(test_loader))\n",
    "images = images.to(device)\n",
    "\n",
    "with torch.no_grad():\n",
    "    recon, mu, logvar = model(images)\n",
    "\n",
    "# Plot originals vs reconstructions\n",
    "n = 10\n",
    "plt.figure(figsize=(20, 4))\n",
    "for i in range(n):\n",
    "    # Original\n",
    "    ax = plt.subplot(2, n, i+1)\n",
    "    plt.imshow(images[i].cpu().squeeze(), cmap=\"gray\")\n",
    "    plt.title(\"Original\")\n",
    "    plt.axis(\"off\")\n",
    "\n",
    "    # Reconstructed\n",
    "    ax = plt.subplot(2, n, i+1+n)\n",
    "    plt.imshow(recon[i].cpu().squeeze(), cmap=\"gray\")\n",
    "    plt.title(\"Recon\")\n",
    "    plt.axis(\"off\")\n",
    "\n",
    "plt.suptitle(\"VAE Reconstructions\", fontsize=16)\n",
    "plt.show()"
   ]
  },
  {
   "cell_type": "code",
   "execution_count": 16,
   "id": "89007467",
   "metadata": {},
   "outputs": [
    {
     "data": {
      "image/png": "[encoded data removed]",
      "text/plain": [
       "<Figure size 2000x200 with 10 Axes>"
      ]
     },
     "metadata": {},
     "output_type": "display_data"
    }
   ],
   "source": [
    "# Sample new digits\n",
    "with torch.no_grad():\n",
    "    z = torch.randn(10, 20).to(device)  # 20 = latent_dim\n",
    "    samples = model.decode(z).view(-1, 1, 28, 28)\n",
    "\n",
    "plt.figure(figsize=(20, 2))\n",
    "for i in range(10):\n",
    "    ax = plt.subplot(1, 10, i+1)\n",
    "    plt.imshow(samples[i].cpu().squeeze(), cmap=\"gray\")\n",
    "    plt.axis(\"off\")\n",
    "plt.suptitle(\"Generated Digits from VAE\", fontsize=16)\n",
    "plt.show()"
   ]
  }
 ],
 "metadata": {
  "kernelspec": {
   "display_name": "venv",
   "language": "python",
   "name": "python3"
  },
  "language_info": {
   "codemirror_mode": {
    "name": "ipython",
    "version": 3
   },
   "file_extension": ".py",
   "mimetype": "text/x-python",
   "name": "python",
   "nbconvert_exporter": "python",
   "pygments_lexer": "ipython3",
   "version": "3.11.0"
  }
 },
 "nbformat": 4,
 "nbformat_minor": 5
}
