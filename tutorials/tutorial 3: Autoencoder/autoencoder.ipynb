{
 "cells": [
  {
   "cell_type": "markdown",
   "id": "3bba25e3",
   "metadata": {},
   "source": [
    "# Autoencoder on MNIST\n",
    "In this tutorial, we implement an **Autoencoder** using PyTorch.  \n",
    "Unlike classifiers (MLP, CNN), an autoencoder’s goal is **not** to predict labels, but to **learn a compressed representation** of input data and then reconstruct it."
   ]
  },
  {
   "cell_type": "markdown",
   "id": "73b4be4b",
   "metadata": {},
   "source": [
    "In this tutorial, we implement an **Autoencoder** using PyTorch.  \n",
    "Unlike classifiers (MLP, CNN), an autoencoder’s goal is **not** to predict labels, but to **learn a compressed representation** of input data and then reconstruct it."
   ]
  },
  {
   "cell_type": "markdown",
   "id": "5e43148a",
   "metadata": {},
   "source": [
    "##### What is an Autoencoder?"
   ]
  },
  {
   "cell_type": "markdown",
   "id": "5eb85c5e",
   "metadata": {},
   "source": [
    "An **Autoencoder** is a neural network trained to reconstruct its own input.  \n",
    "It consists of two main parts:\n",
    "\n",
    "- **Encoder**: Maps the input (e.g., a 28×28 image) into a lower-dimensional latent space (also called a *bottleneck*).\n",
    "- **Decoder**: Reconstructs the input from this compressed latent representation.\n",
    "\n",
    "The network learns by minimizing the difference between the input and the reconstructed output."
   ]
  },
  {
   "cell_type": "markdown",
   "id": "079b17e2",
   "metadata": {},
   "source": [
    "##### Why Autoencoders?"
   ]
  },
  {
   "cell_type": "markdown",
   "id": "fe820a8c",
   "metadata": {},
   "source": [
    "Autoencoders are useful for:\n",
    "- **Dimensionality reduction** (like a non-linear PCA).\n",
    "- **Feature learning**: The latent space often captures meaningful patterns in the data.\n",
    "- **Anomaly detection**: Unseen or unusual samples are poorly reconstructed.\n",
    "- **Pretraining**: Learned representations can help in downstream tasks."
   ]
  },
  {
   "cell_type": "markdown",
   "id": "d44ba223",
   "metadata": {},
   "source": [
    "##### Architecture in This Notebook"
   ]
  },
  {
   "cell_type": "markdown",
   "id": "966fc054",
   "metadata": {},
   "source": [
    "For **MNIST handwritten digits (28×28 grayscale)**:\n",
    "1. **Encoder**:  \n",
    "   - Input: 784 (28×28 flattened pixels)  \n",
    "   - Hidden layer: 128 units (ReLU)  \n",
    "   - Bottleneck: 32 units (latent vector)\n",
    "2. **Decoder**:  \n",
    "   - Expands from latent vector → hidden layer → reconstructs 784 pixels  \n",
    "   - Output reshaped back to 28×28  \n",
    "   - Final activation: Sigmoid (values between 0–1)"
   ]
  },
  {
   "cell_type": "markdown",
   "id": "a5d9ec97",
   "metadata": {},
   "source": [
    "##### Training Objective"
   ]
  },
  {
   "cell_type": "markdown",
   "id": "12e49d5d",
   "metadata": {},
   "source": [
    "- **Loss Function**: Mean Squared Error (MSE) between original and reconstructed images.  \n",
    "- **Optimizer**: Adam.  \n",
    "\n",
    "The network tries to minimize reconstruction error so that the decoded images look as close as possible to the input digits."
   ]
  },
  {
   "cell_type": "markdown",
   "id": "df1a762f",
   "metadata": {},
   "source": [
    "##### Steps in This Notebook"
   ]
  },
  {
   "cell_type": "markdown",
   "id": "efb7b4cb",
   "metadata": {},
   "source": [
    "1. **Load MNIST dataset**.  \n",
    "2. **Define the Autoencoder model** with encoder + decoder.  \n",
    "3. **Train the model** using reconstruction loss.  \n",
    "4. **Evaluate reconstruction quality** on test data.  \n",
    "5. **Visualize original vs reconstructed digits**."
   ]
  },
  {
   "cell_type": "markdown",
   "id": "6f261ae2",
   "metadata": {},
   "source": [
    "# Code"
   ]
  },
  {
   "cell_type": "markdown",
   "id": "24ab217e",
   "metadata": {},
   "source": [
    "### Imports"
   ]
  },
  {
   "cell_type": "code",
   "execution_count": 1,
   "id": "2745e2c0",
   "metadata": {},
   "outputs": [],
   "source": [
    "import torch\n",
    "import torch.nn as nn\n",
    "import torch.optim as optim\n",
    "from torchvision import datasets, transforms\n",
    "from torch.utils.data import DataLoader\n",
    "import matplotlib.pyplot as plt"
   ]
  },
  {
   "cell_type": "markdown",
   "id": "d4c4fe5b",
   "metadata": {},
   "source": [
    "### Data Load"
   ]
  },
  {
   "cell_type": "code",
   "execution_count": 2,
   "id": "0513c735",
   "metadata": {},
   "outputs": [],
   "source": [
    "def get_mnist_dataloaders(batch_size=64, root=\"../../data\", shuffle_test=False):\n",
    "    # simple transforms\n",
    "    transform = transforms.Compose([\n",
    "        transforms.ToTensor(),\n",
    "        transforms.Normalize((0.1307,), (0.3081,)),\n",
    "    ])\n",
    "    train_dataset = datasets.MNIST(root, train=True, download=True, transform=transform)\n",
    "    test_dataset  = datasets.MNIST(root, train=False, download=True, transform=transform)\n",
    "    train_loader = DataLoader(train_dataset, batch_size=batch_size, shuffle=True)\n",
    "    test_loader  = DataLoader(test_dataset, batch_size=batch_size, shuffle=shuffle_test)\n",
    "    return train_loader, test_loader"
   ]
  },
  {
   "cell_type": "markdown",
   "id": "bf9bcd91",
   "metadata": {},
   "source": [
    "### Autoencoder Architecture"
   ]
  },
  {
   "cell_type": "code",
   "execution_count": 3,
   "id": "3cd6f61b",
   "metadata": {},
   "outputs": [],
   "source": [
    "class Autoencoder(nn.Module):\n",
    "    def __init__(self, input_size=28*28, hidden_size=128, bottleneck_size=28):\n",
    "        super(Autoencoder, self).__init__()\n",
    "\n",
    "        # Encoder\n",
    "        self.encoder = nn.Sequential(\n",
    "            nn.Linear(input_size, hidden_size),\n",
    "            nn.ReLU(),\n",
    "            nn.Linear(hidden_size, bottleneck_size),\n",
    "            nn.ReLU()\n",
    "        )\n",
    "\n",
    "        # Decoder\n",
    "        self.decoder = nn.Sequential(\n",
    "            nn.Linear(bottleneck_size, hidden_size),\n",
    "            nn.ReLU(),\n",
    "            nn.Linear(hidden_size, input_size),\n",
    "            nn.Sigmoid()   # outputs between 0–1\n",
    "        )\n",
    "\n",
    "    def forward(self, x):\n",
    "        x = x.view(x.size(0), -1)      # flatten\n",
    "        encoded = self.encoder(x)\n",
    "        decoded = self.decoder(encoded)\n",
    "        decoded = decoded.view(x.size(0), 1, 28, 28)  # reshape back to image\n",
    "        return decoded\n"
   ]
  },
  {
   "cell_type": "code",
   "execution_count": 4,
   "id": "a01dd6c0",
   "metadata": {},
   "outputs": [],
   "source": [
    "def reconstruction_loss(outputs, inputs):\n",
    "    return torch.mean((outputs - inputs) ** 2)"
   ]
  },
  {
   "cell_type": "markdown",
   "id": "69c6d7fe",
   "metadata": {},
   "source": [
    "### Training"
   ]
  },
  {
   "cell_type": "code",
   "execution_count": 5,
   "id": "ff3c2aeb",
   "metadata": {},
   "outputs": [],
   "source": [
    "def train(epochs=5, batch_size=128, lr=1e-3, device=None):\n",
    "    if device is None:\n",
    "        device = torch.device(\"cuda\" if torch.cuda.is_available() else \"cpu\")\n",
    "    print(\"Using device:\", device)\n",
    "\n",
    "    train_loader, test_loader = get_mnist_dataloaders(batch_size=batch_size)\n",
    "    model = Autoencoder().to(device)\n",
    "    criterion = nn.MSELoss()\n",
    "    optimizer = optim.Adam(model.parameters(), lr=lr)\n",
    "\n",
    "    for epoch in range(1, epochs+1):\n",
    "        model.train()\n",
    "        running_loss = 0.0\n",
    "\n",
    "        for data, _ in train_loader:  # ignore labels\n",
    "            data = data.to(device)\n",
    "            optimizer.zero_grad()\n",
    "            outputs = model(data)\n",
    "            loss = criterion(outputs, data)\n",
    "            loss.backward()\n",
    "            optimizer.step()\n",
    "            running_loss += loss.item()\n",
    "\n",
    "        avg_loss = running_loss / len(train_loader)\n",
    "        print(f\"Epoch {epoch}: Train Loss={avg_loss:.4f}\")\n",
    "\n",
    "        # evaluate reconstruction on test set\n",
    "        model.eval()\n",
    "        test_loss = 0.0\n",
    "        with torch.no_grad():\n",
    "            for data, _ in test_loader:\n",
    "                data = data.to(device)\n",
    "                outputs = model(data)\n",
    "                loss = criterion(outputs, data)\n",
    "                test_loss += loss.item()\n",
    "        test_loss /= len(test_loader)\n",
    "        print(f\" → Test Loss={test_loss:.4f}\")\n",
    "\n",
    "    torch.save(model.state_dict(), \"autoencoder.pth\")\n",
    "    print(\"Model saved to autoencoder.pth\")\n",
    "\n",
    "    return model\n"
   ]
  },
  {
   "cell_type": "code",
   "execution_count": 6,
   "id": "67d6ec5b",
   "metadata": {},
   "outputs": [
    {
     "name": "stdout",
     "output_type": "stream",
     "text": [
      "Using device: cpu\n",
      "Epoch 1: Train Loss=0.6643\n",
      " → Test Loss=0.5932\n",
      "Epoch 2: Train Loss=0.5721\n",
      " → Test Loss=0.5656\n",
      "Epoch 3: Train Loss=0.5553\n",
      " → Test Loss=0.5552\n",
      "Epoch 4: Train Loss=0.5466\n",
      " → Test Loss=0.5487\n",
      "Epoch 5: Train Loss=0.5410\n",
      " → Test Loss=0.5444\n",
      "Epoch 6: Train Loss=0.5376\n",
      " → Test Loss=0.5419\n",
      "Epoch 7: Train Loss=0.5351\n",
      " → Test Loss=0.5398\n",
      "Epoch 8: Train Loss=0.5330\n",
      " → Test Loss=0.5379\n",
      "Epoch 9: Train Loss=0.5310\n",
      " → Test Loss=0.5358\n",
      "Epoch 10: Train Loss=0.5293\n",
      " → Test Loss=0.5348\n",
      "Model saved to autoencoder.pth\n"
     ]
    }
   ],
   "source": [
    "model = train(epochs=10, batch_size=128, lr=1e-3)"
   ]
  },
  {
   "cell_type": "markdown",
   "id": "b7fa7050",
   "metadata": {},
   "source": [
    "### Test and View Predictions"
   ]
  },
  {
   "cell_type": "code",
   "execution_count": 7,
   "id": "8f448ea1",
   "metadata": {},
   "outputs": [
    {
     "data": {
      "image/png": "[encoded data removed]",
      "text/plain": [
       "<Figure size 2000x400 with 20 Axes>"
      ]
     },
     "metadata": {},
     "output_type": "display_data"
    }
   ],
   "source": [
    "# Load model\n",
    "device = torch.device(\"cuda\" if torch.cuda.is_available() else \"cpu\")\n",
    "model = Autoencoder()\n",
    "model.load_state_dict(torch.load(\"autoencoder.pth\", map_location=device))\n",
    "model.to(device)\n",
    "model.eval()\n",
    "\n",
    "# Load test data\n",
    "_, test_loader = get_mnist_dataloaders(batch_size=10, shuffle_test=True)\n",
    "images, _ = next(iter(test_loader))\n",
    "images = images.to(device)\n",
    "\n",
    "# Get reconstructions\n",
    "with torch.no_grad():\n",
    "    outputs = model(images)\n",
    "\n",
    "# Convert back to CPU numpy\n",
    "images = images.cpu().numpy()\n",
    "outputs = outputs.cpu().numpy()\n",
    "\n",
    "# Plot originals vs reconstructions\n",
    "n = 10\n",
    "plt.figure(figsize=(20, 4))\n",
    "\n",
    "for i in range(n):\n",
    "    # Original\n",
    "    ax = plt.subplot(2, n, i + 1)\n",
    "    plt.imshow(images[i].squeeze(), cmap=\"gray\")\n",
    "    plt.title(\"Original\")\n",
    "    plt.axis(\"off\")\n",
    "\n",
    "    # Reconstructed\n",
    "    ax = plt.subplot(2, n, i + 1 + n)\n",
    "    plt.imshow(outputs[i].squeeze(), cmap=\"gray\")\n",
    "    plt.title(\"Reconstructed\")\n",
    "    plt.axis(\"off\")\n",
    "\n",
    "plt.suptitle(\"Autoencoder Reconstruction on MNIST\", fontsize=16)\n",
    "plt.show()"
   ]
  }
 ],
 "metadata": {
  "kernelspec": {
   "display_name": "venv",
   "language": "python",
   "name": "python3"
  },
  "language_info": {
   "codemirror_mode": {
    "name": "ipython",
    "version": 3
   },
   "file_extension": ".py",
   "mimetype": "text/x-python",
   "name": "python",
   "nbconvert_exporter": "python",
   "pygments_lexer": "ipython3",
   "version": "3.11.0"
  }
 },
 "nbformat": 4,
 "nbformat_minor": 5
}
