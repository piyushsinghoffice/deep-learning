{
 "cells": [
  {
   "cell_type": "markdown",
   "id": "3fa2e5ef",
   "metadata": {},
   "source": [
    "# Simple Neural Network (MLP) on MNIST\n",
    "\n",
    "In this tutorial, we implement the **simplest feedforward neural network** (also known as a *Multi-Layer Perceptron, MLP*) using **PyTorch**.  \n",
    "This acts as the **\"Hello World\"** of deep learning and provides the foundation to understand more complex architectures (CNNs, RNNs, Transformers, etc.)."
   ]
  },
  {
   "cell_type": "markdown",
   "id": "200b1700",
   "metadata": {},
   "source": [
    "##### What is an MLP?"
   ]
  },
  {
   "cell_type": "markdown",
   "id": "cff254e9",
   "metadata": {},
   "source": [
    "A **Multi-Layer Perceptron (MLP)** is a sequence of fully connected layers where:\n",
    "- Each neuron in one layer is connected to every neuron in the next.\n",
    "- Non-linear activation functions (like **ReLU**) allow the model to learn complex patterns.\n",
    "- The final layer produces class scores (logits).\n",
    "\n",
    "For MNIST (handwritten digit classification):\n",
    "- **Input layer**: Flattened 28×28 = 784 pixels.\n",
    "- **Hidden layers**: Two fully connected layers (128 and 64 units).\n",
    "- **Output layer**: 10 units (digits 0–9)."
   ]
  },
  {
   "cell_type": "markdown",
   "id": "f6a95be4",
   "metadata": {},
   "source": [
    "##### Why MNIST?"
   ]
  },
  {
   "cell_type": "markdown",
   "id": "1a65f534",
   "metadata": {},
   "source": [
    "The **MNIST dataset** is a classic benchmark of handwritten digits (0–9), with:\n",
    "- 60,000 training images  \n",
    "- 10,000 test images  \n",
    "- Each image is 28×28 grayscale  \n",
    "\n",
    "It is small, easy to train on a CPU/GPU, and perfect for learning the basics."
   ]
  },
  {
   "cell_type": "markdown",
   "id": "31bd1839",
   "metadata": {},
   "source": [
    "##### Training Objective"
   ]
  },
  {
   "cell_type": "markdown",
   "id": "8d59e3a6",
   "metadata": {},
   "source": [
    "We want the network to **minimize the Cross-Entropy Loss**, which measures the difference between the predicted probabilities and the true labels.  \n",
    "We use the **Adam optimizer** for efficient gradient-based learning."
   ]
  },
  {
   "cell_type": "markdown",
   "id": "31066602",
   "metadata": {},
   "source": [
    "##### Steps in This Notebook"
   ]
  },
  {
   "cell_type": "markdown",
   "id": "be884fbf",
   "metadata": {},
   "source": [
    "1. **Load MNIST dataset** with PyTorch’s `torchvision`.\n",
    "2. **Define the MLP model** with two hidden layers.\n",
    "3. **Train the model** using backpropagation.\n",
    "4. **Evaluate on test data**.\n",
    "5. **Visualize predictions** for random samples."
   ]
  },
  {
   "cell_type": "markdown",
   "id": "fdf2ca20",
   "metadata": {},
   "source": [
    "After completing this, you’ll have a working understanding of how a basic neural network works and be ready to move on to deeper architectures like CNNs."
   ]
  },
  {
   "cell_type": "markdown",
   "id": "a8da0ea2",
   "metadata": {},
   "source": [
    "# Code"
   ]
  },
  {
   "cell_type": "markdown",
   "id": "4b7b50d2",
   "metadata": {},
   "source": [
    "### Imports"
   ]
  },
  {
   "cell_type": "code",
   "execution_count": 1,
   "id": "2156278f",
   "metadata": {},
   "outputs": [],
   "source": [
    "import torch\n",
    "import torch.nn as nn\n",
    "import torch.nn.functional as F\n",
    "import torch.optim as optim\n",
    "from torch.utils.data import DataLoader\n",
    "from torchvision import datasets, transforms\n",
    "from PIL import Image\n",
    "\n",
    "import numpy as np\n",
    "import matplotlib.pyplot as plt\n",
    "import seaborn as sns\n",
    "import plotly.express as px\n",
    "from plotly.subplots import make_subplots\n",
    "import plotly.graph_objects as go"
   ]
  },
  {
   "cell_type": "markdown",
   "id": "86ad2f65",
   "metadata": {},
   "source": [
    "### Load Data"
   ]
  },
  {
   "cell_type": "code",
   "execution_count": 2,
   "id": "c178bc4a",
   "metadata": {},
   "outputs": [],
   "source": [
    "def get_mnist_dataloaders(batch_size=64, root=\"./data\", shuffle_test=False):\n",
    "    # simple transforms\n",
    "    transform = transforms.Compose([\n",
    "        transforms.ToTensor(),\n",
    "        transforms.Normalize((0.1307,), (0.3081,)),\n",
    "    ])\n",
    "    train_dataset = datasets.MNIST(root, train=True, download=True, transform=transform)\n",
    "    test_dataset  = datasets.MNIST(root, train=False, download=True, transform=transform)\n",
    "    train_loader = DataLoader(train_dataset, batch_size=batch_size, shuffle=True)\n",
    "    test_loader  = DataLoader(test_dataset, batch_size=batch_size, shuffle=shuffle_test)\n",
    "    return train_loader, test_loader"
   ]
  },
  {
   "cell_type": "code",
   "execution_count": 3,
   "id": "40ee6fd5",
   "metadata": {},
   "outputs": [
    {
     "name": "stdout",
     "output_type": "stream",
     "text": [
      "Number of training batches: 938\n",
      "Number of test batches: 157\n",
      "----------------------------------------\n",
      "Data shape: torch.Size([64, 1, 28, 28])\n",
      "Target shape: torch.Size([64])\n"
     ]
    },
    {
     "data": {
      "application/vnd.plotly.v1+json": {
       "config": {
        "plotlyServerURL": "https://plot.ly"
       },
       "data": [
        {
         "colorscale": [
          [
           0,
           "rgb(0, 0, 0)"
          ],
          [
           0.09090909090909091,
           "rgb(16, 16, 16)"
          ],
          [
           0.18181818181818182,
           "rgb(38, 38, 38)"
          ],
          [
           0.2727272727272727,
           "rgb(59, 59, 59)"
          ],
          [
           0.36363636363636365,
           "rgb(81, 80, 80)"
          ],
          [
           0.45454545454545453,
           "rgb(102, 101, 101)"
          ],
          [
           0.5454545454545454,
           "rgb(124, 123, 122)"
          ],
          [
           0.6363636363636364,
           "rgb(146, 146, 145)"
          ],
          [
           0.7272727272727273,
           "rgb(171, 171, 170)"
          ],
          [
           0.8181818181818182,
           "rgb(197, 197, 195)"
          ],
          [
           0.9090909090909091,
           "rgb(224, 224, 223)"
          ],
          [
           1,
           "rgb(254, 254, 253)"
          ]
         ],
         "showscale": false,
         "type": "heatmap",
         "xaxis": "x",
         "yaxis": "y",
         "z": {
          "bdata": "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",
          "dtype": "f4",
          "shape": "28, 28"
         }
        },
        {
         "colorscale": [
          [
           0,
           "rgb(0, 0, 0)"
          ],
          [
           0.09090909090909091,
           "rgb(16, 16, 16)"
          ],
          [
           0.18181818181818182,
           "rgb(38, 38, 38)"
          ],
          [
           0.2727272727272727,
           "rgb(59, 59, 59)"
          ],
          [
           0.36363636363636365,
           "rgb(81, 80, 80)"
          ],
          [
           0.45454545454545453,
           "rgb(102, 101, 101)"
          ],
          [
           0.5454545454545454,
           "rgb(124, 123, 122)"
          ],
          [
           0.6363636363636364,
           "rgb(146, 146, 145)"
          ],
          [
           0.7272727272727273,
           "rgb(171, 171, 170)"
          ],
          [
           0.8181818181818182,
           "rgb(197, 197, 195)"
          ],
          [
           0.9090909090909091,
           "rgb(224, 224, 223)"
          ],
          [
           1,
           "rgb(254, 254, 253)"
          ]
         ],
         "showscale": false,
         "type": "heatmap",
         "xaxis": "x2",
         "yaxis": "y2",
         "z": {
          "bdata": "cTLZvnEy2b5xMtm+cTLZvnEy2b5xMtm+cTLZvnEy2b5xMtm+cTLZvnEy2b5xMtm+cTLZvnEy2b5xMtm+cTLZvnEy2b5xMtm+cTLZvnEy2b5xMtm+cTLZvnEy2b5xMtm+cTLZvnEy2b5xMtm+cTLZvnEy2b5xMtm+cTLZvnEy2b5xMtm+cTLZvnEy2b5xMtm+cTLZvnEy2b5xMtm+cTLZvnEy2b5xMtm+cTLZvnEy2b5xMtm+cTLZvnEy2b5xMtm+cTLZvnEy2b5xMtm+cTLZvnEy2b5xMtm+cTLZvnEy2b5xMtm+cTLZvnEy2b5xMtm+cTLZvnEy2b5xMtm+cTLZvnEy2b5xMtm+cTLZvnEy2b5xMtm+cTLZvnEy2b5xMtm+cTLZvnEy2b5xMtm+cTLZvnEy2b5xMtm+cTLZvnEy2b5xMtm+cTLZvnEy2b5xMtm+cTLZvnEy2b5xMtm+cTLZvnEy2b5xMtm+cTLZvnEy2b5xMtm+cTLZvnEy2b5xMtm+cTLZvnEy2b5xMtm+cTLZvnEy2b5xMtm+cTLZvnEy2b5xMtm+cTLZvnEy2b5xMtm+cTLZvnEy2b5xMtm+cTLZvnEy2b5xMtm+cTLZvnEy2b5xMtm+cTLZvnEy2b4grtK+BacTvrYgnz+2IJ8/mjrGP4zH2T+IPlk/cTLZvnEy2b5xMtm+cTLZvnEy2b5xMtm+cTLZvnEy2b5xMtm+cTLZvnEy2b5xMtm+cTLZvnEy2b5xMtm+cTLZvnEy2b5xMtm+cTLZvnEy2b5xMtm+bm9CP7PCM0CtlB5AQ4iqP06dK0CzwjNAmfMcQDe6Uj9/pcW+cTLZvnEy2b5xMtm+qf6KvtApzL5xMtm+cTLZvnEy2b5xMtm+cTLZvnEy2b5xMtm+cTLZvnEy2b5xMtm+cTLZvnEy2b5xMtm+cTLZvmzKrT+zwjNAZIXWPz2Uq74FpxO+NiyAPzE3CkCmlvA/QVNmPnEy2b49lKu+UPuWP+l3I0Bjnga+cTLZvnEy2b5xMtm+cTLZvnEy2b5xMtm+cTLZvnEy2b5xMtm+cTLZvnEy2b5xMtm+cTLZvnEy2b5CGtm9s8IzQLPCM0BQ5NQ/pq8gvnEy2b5xMtm+cTLZvnEy2b7sD6W+ZIXWP7PCM0CUDLE/cTLZvnEy2b5xMtm+cTLZvnEy2b5xMtm+cTLZvnEy2b5xMtm+cTLZvnEy2b5xMtm+cTLZvnEy2b5xMtm+SweYvnIPhT/EzCpAs8IzQHNIJEAbKCU+cTLZvnEy2b5xMtm+EHhPP7PCM0Dr1Y4/qf6KvnEy2b5xMtm+cTLZvnEy2b5xMtm+cTLZvnEy2b5xMtm+cTLZvnEy2b5xMtm+cTLZvnEy2b5xMtm+cTLZvnEy2b5xMtm+Eo8RP/qBGkCzwjNAEwHQP0sHmL5xMtm+qf6KvpZcEkAJ9QZAEOx7vnEy2b5xMtm+cTLZvnEy2b5xMtm+cTLZvnEy2b5xMtm+cTLZvnEy2b5xMtm+cTLZvnEy2b5xMtm+cTLZvnEy2b5xMtm+cTLZvnEy2b6/aT89sCspQLPCM0D/X84/+oKRvsJ8yT+zwjNALF4oP3Ey2b5xMtm+cTLZvnEy2b5xMtm+cTLZvnEy2b5xMtm+cTLZvnEy2b5xMtm+cTLZvnEy2b5xMtm+cTLZvnEy2b5xMtm+cTLZvnEy2b5xMtm+cTLZvuM6jT67BwtAs8IzQP9fzj/36g9ACfUGQBDse75xMtm+cTLZvnEy2b5xMtm+cTLZvnEy2b5xMtm+cTLZvnEy2b5xMtm+cTLZvnEy2b5xMtm+cTLZvnEy2b5xMtm+cTLZvnEy2b5xMtm+cTLZvnEy2b5xMtm+YhMYPyZbKECzwjNAs8IzQAWO4z9xMtm+cTLZvnEy2b5xMtm+cTLZvnEy2b5xMtm+cTLZvnEy2b5xMtm+cTLZvnEy2b5xMtm+cTLZvnEy2b5xMtm+cTLZvnEy2b5xMtm+cTLZvnEy2b5xMtm+cTLZvnEy2b7nNUw/s8IzQLPCM0AFjuM/cTLZvnEy2b5xMtm+cTLZvnEy2b5xMtm+cTLZvnEy2b5xMtm+cTLZvnEy2b5xMtm+cTLZvnEy2b5xMtm+cTLZvnEy2b5xMtm+cTLZvnEy2b5xMtm+cTLZvnEy2b5xMtm+aF3BPrPCM0CzwjNAc0gkQFzq1D5xMtm+cTLZvnEy2b5xMtm+cTLZvnEy2b5xMtm+cTLZvnEy2b5xMtm+cTLZvnEy2b5xMtm+cTLZvnEy2b5xMtm+cTLZvnEy2b5xMtm+cTLZvnEy2b5xMtm+cTLZvog+WT+zwjNAs8IzQLPCM0D9GCVAb6phvXEy2b5xMtm+cTLZvnEy2b5xMtm+cTLZvnEy2b5xMtm+cTLZvnEy2b5xMtm+cTLZvnEy2b5xMtm+cTLZvnEy2b5xMtm+cTLZvnEy2b5xMtm+cTLZvnEy2b4fXfo/s8IzQJexRT8t0OY/s8IzQOlMDj9xMtm+cTLZvnEy2b5xMtm+cTLZvnEy2b5xMtm+cTLZvnEy2b5xMtm+cTLZvnEy2b5xMtm+cTLZvnEy2b5xMtm+cTLZvnEy2b5xMtm+cTLZvnEy2b68MDI+xMwqQEsGIUC/aT89s5ceP7PCM0CciidAQhrZvXEy2b5xMtm+cTLZvnEy2b5xMtm+cTLZvnEy2b5xMtm+cTLZvnEy2b5xMtm+cTLZvnEy2b5xMtm+cTLZvnEy2b5xMtm+cTLZvnEy2b5xMtm+O0PTP7PCM0ALvPg/cTLZvqn+ir5IbxZAs8IzQC/nqD9xMtm+cTLZvnEy2b5xMtm+cTLZvnEy2b5xMtm+cTLZvnEy2b5xMtm+cTLZvnEy2b5xMtm+cTLZvnEy2b5xMtm+cTLZvnEy2b5xMtm+cTLZvqaW8D+zwjNAC7z4P3Ey2b5xMtm+AQVjP7PCM0CGmcQ/cTLZvnEy2b5xMtm+cTLZvnEy2b5xMtm+cTLZvnEy2b5xMtm+cTLZvnEy2b5xMtm+cTLZvnEy2b5xMtm+cTLZvnEy2b5xMtm+cTLZvnEy2b6mlvA/s8IzQAu8+D9xMtm+cTLZvqUkMj+zwjNAhpnEP3Ey2b5xMtm+cTLZvnEy2b5xMtm+cTLZvnEy2b5xMtm+cTLZvnEy2b5xMtm+cTLZvnEy2b5xMtm+cTLZvnEy2b5xMtm+cTLZvnEy2b5xMtm+ppbwP7PCM0ALvPg/cTLZvnEy2b4xNwpAs8IzQIaZxD9xMtm+cTLZvnEy2b5xMtm+cTLZvnEy2b5xMtm+cTLZvnEy2b5xMtm+cTLZvnEy2b5xMtm+cTLZvnEy2b5xMtm+cTLZvnEy2b5xMtm+cTLZvqaW8D+zwjNAFVExQNHvtT/SPxdAKfIyQLPCM0AQeE8/cTLZvnEy2b5xMtm+cTLZvnEy2b5xMtm+cTLZvnEy2b5xMtm+cTLZvnEy2b5xMtm+cTLZvnEy2b5xMtm+cTLZvnEy2b5xMtm+cTLZvnEy2b60hYq85uAYQD2TNEA9kzRAPZM0QD2TNEDYwl8/IK7SvnEy2b5xMtm+cTLZvnEy2b5xMtm+cTLZvnEy2b5xMtm+cTLZvnEy2b5xMtm+cTLZvnEy2b5xMtm+cTLZvnEy2b5xMtm+cTLZvnEy2b5xMtm+cTLZvnEy2b5xMtm+cTLZvnEy2b5xMtm+cTLZvnEy2b5xMtm+cTLZvnEy2b5xMtm+cTLZvnEy2b5xMtm+cTLZvnEy2b5xMtm+cTLZvnEy2b5xMtm+cTLZvnEy2b5xMtm+cTLZvnEy2b5xMtm+cTLZvnEy2b5xMtm+cTLZvnEy2b5xMtm+cTLZvnEy2b5xMtm+cTLZvnEy2b5xMtm+cTLZvnEy2b5xMtm+cTLZvnEy2b5xMtm+cTLZvnEy2b5xMtm+cTLZvnEy2b5xMtm+cTLZvnEy2b5xMtm+cTLZvnEy2b5xMtm+cTLZvnEy2b5xMtm+cTLZvnEy2b5xMtm+cTLZvnEy2b5xMtm+cTLZvnEy2b5xMtm+cTLZvnEy2b5xMtm+cTLZvnEy2b5xMtm+cTLZvnEy2b5xMtm+cTLZvnEy2b5xMtm+cTLZvnEy2b5xMtm+cTLZvnEy2b5xMtm+cTLZvnEy2b5xMtm+cTLZvnEy2b5xMtm+cTLZvnEy2b5xMtm+cTLZvnEy2b5xMtm+cTLZvg==",
          "dtype": "f4",
          "shape": "28, 28"
         }
        },
        {
         "colorscale": [
          [
           0,
           "rgb(0, 0, 0)"
          ],
          [
           0.09090909090909091,
           "rgb(16, 16, 16)"
          ],
          [
           0.18181818181818182,
           "rgb(38, 38, 38)"
          ],
          [
           0.2727272727272727,
           "rgb(59, 59, 59)"
          ],
          [
           0.36363636363636365,
           "rgb(81, 80, 80)"
          ],
          [
           0.45454545454545453,
           "rgb(102, 101, 101)"
          ],
          [
           0.5454545454545454,
           "rgb(124, 123, 122)"
          ],
          [
           0.6363636363636364,
           "rgb(146, 146, 145)"
          ],
          [
           0.7272727272727273,
           "rgb(171, 171, 170)"
          ],
          [
           0.8181818181818182,
           "rgb(197, 197, 195)"
          ],
          [
           0.9090909090909091,
           "rgb(224, 224, 223)"
          ],
          [
           1,
           "rgb(254, 254, 253)"
          ]
         ],
         "showscale": false,
         "type": "heatmap",
         "xaxis": "x3",
         "yaxis": "y3",
         "z": {
          "bdata": "cTLZvnEy2b5xMtm+cTLZvnEy2b5xMtm+cTLZvnEy2b5xMtm+cTLZvnEy2b5xMtm+cTLZvnEy2b5xMtm+cTLZvnEy2b5xMtm+cTLZvnEy2b5xMtm+cTLZvnEy2b5xMtm+cTLZvnEy2b5xMtm+cTLZvnEy2b5xMtm+cTLZvnEy2b5xMtm+cTLZvnEy2b5xMtm+cTLZvnEy2b5xMtm+cTLZvnEy2b5xMtm+cTLZvnEy2b5xMtm+cTLZvnEy2b5xMtm+cTLZvnEy2b5xMtm+cTLZvnEy2b5xMtm+cTLZvnEy2b5xMtm+cTLZvnEy2b5xMtm+cTLZvnEy2b5xMtm+cTLZvnEy2b5xMtm+cTLZvnEy2b5xMtm+cTLZvnEy2b5xMtm+cTLZvnEy2b5xMtm+cTLZvnEy2b5xMtm+cTLZvnEy2b5xMtm+cTLZvnEy2b5xMtm+cTLZvnEy2b5xMtm+cTLZvnEy2b5xMtm+cTLZvnEy2b5xMtm+cTLZvnEy2b5xMtm+cTLZvnEy2b5xMtm+cTLZvnEy2b5xMtm+cTLZvnEy2b5xMtm+cTLZvnEy2b5xMtm+cTLZvnEy2b5xMtm+cTLZvnEy2b5xMtm+cTLZvnEy2b5xMtm+cTLZvnEy2b5xMtm+cTLZvnEy2b5xMtm+cTLZvnEy2b5xMtm+cTLZvnEy2b5xMtm+cTLZvnEy2b5xMtm+cTLZvnEy2b5xMtm+cTLZvnEy2b5xMtm+cTLZvnEy2b5xMtm+cTLZvnEy2b5xMtm+cTLZvnEy2b5xMtm+cTLZvnEy2b5xMtm+cTLZvnEy2b5xMtm+cTLZvnEy2b5xMtm+cTLZvnEy2b5xMtm+cTLZvnEy2b5xMtm+cTLZvnEy2b5xMtm+cTLZvnEy2b5xMtm+cTLZvnEy2b5xMtm+cTLZvnEy2b5xMtm+cTLZvnEy2b5xMtm+cTLZvnEy2b5xMtm+cTLZvhKPET9Q5NQ/PZM0QPca9z+/aT89cTLZvnEy2b5xMtm+cTLZvnEy2b5xMtm+cTLZvnEy2b5xMtm+cTLZvnEy2b5xMtm+cTLZvnEy2b5xMtm+cTLZvnEy2b5xMtm+cTLZvnEy2b5xMtm+tIWKvEJBAUCfITJAs8IzQMTMKkCzwjNA4LIDQHEy2b5xMtm+cTLZvnEy2b5xMtm+cTLZvnEy2b5xMtm+cTLZvnEy2b5xMtm+cTLZvnEy2b5xMtm+cTLZvnEy2b5xMtm+cTLZvnEy2b5xMtm+cIYEPzr8KUCzwjNAp2YJQCxeKD8pR2Y/7A4uQBVRMUC64cc+cTLZvnEy2b5xMtm+cTLZvnEy2b5xMtm+cTLZvnEy2b5xMtm+cTLZvnEy2b5xMtm+cTLZvnEy2b5xMtm+cTLZvnEy2b5xMtm+R7gtvm0aD0CzwjNAc0gkQKn+ir4uIb++uHAAQLPCM0CzwjNAqK2yP3Ey2b5xMtm+cTLZvnEy2b5xMtm+cTLZvnEy2b5xMtm+cTLZvnEy2b5xMtm+cTLZvnEy2b5xMtm+cTLZvnEy2b5xMtm+cTLZvsvBoD+zwjNATp0rQOM6jT5xMtm+EOx7vmI+LUCzwjNAs8IzQIg+WT9xMtm+cTLZvnEy2b5xMtm+cTLZvnEy2b5xMtm+cTLZvnEy2b5xMtm+cTLZvnEy2b5xMtm+cTLZvnEy2b5xMtm+cTLZvpuLnr5ZeQ1As8IzQB2WCEBxMtm+cTLZvnEy2b4FjuM/s8IzQOwOLkBCGtm9cTLZvnEy2b5xMtm+cTLZvnEy2b5xMtm+cTLZvnEy2b5xMtm+cTLZvnEy2b5xMtm+cTLZvnEy2b5xMtm+cTLZvnEy2b5CGtm9s8IzQLPCM0BDiKo/cTLZvvqCkb4bRqc/FVExQLPCM0BKtr8/cTLZvnEy2b5xMtm+cTLZvnEy2b5xMtm+cTLZvnEy2b5xMtm+cTLZvnEy2b5xMtm+cTLZvnEy2b5xMtm+cTLZvnEy2b5xMtm+EOx7vubgGECzwjNAz9jzP0e4Lb4bRqc/s8IzQLPCM0CzwjNADdO6P3Ey2b5xMtm+cTLZvnEy2b5xMtm+cTLZvnEy2b5xMtm+cTLZvnEy2b5xMtm+cTLZvnEy2b5xMtm+cTLZvnEy2b5xMtm+cTLZvnEy2b5Ktr8/s8IzQLPCM0CzwjNAs8IzQLPCM0CzwjNAs8IzQA3Tuj9xMtm+cTLZvnEy2b5xMtm+cTLZvnEy2b5xMtm+cTLZvnEy2b5xMtm+cTLZvnEy2b5xMtm+cTLZvnEy2b5xMtm+cTLZvnEy2b5xMtm+RIxzPY7emz9F2AtARdgLQMdUtD565oq9s8IzQLPCM0AN07o/cTLZvnEy2b5xMtm+cTLZvnEy2b5xMtm+cTLZvnEy2b5xMtm+cTLZvnEy2b5xMtm+cTLZvnEy2b5xMtm+cTLZvnEy2b5xMtm+cTLZvnEy2b5xMtm+cTLZvnEy2b5xMtm+b+NuvrPCM0CzwjNADdO6P3Ey2b5xMtm+cTLZvnEy2b5xMtm+cTLZvnEy2b5xMtm+cTLZvnEy2b5xMtm+cTLZvnEy2b5xMtm+cTLZvnEy2b5xMtm+cTLZvnEy2b5xMtm+cTLZvnEy2b5xMtm+cTLZvm/jbr6zwjNAs8IzQA3Tuj9xMtm+cTLZvnEy2b5xMtm+cTLZvnEy2b5xMtm+cTLZvnEy2b5xMtm+cTLZvnEy2b5xMtm+cTLZvnEy2b5xMtm+cTLZvnEy2b5xMtm+cTLZvnEy2b5xMtm+cTLZvnEy2b7LyvK8s8IzQLPCM0AN07o/cTLZvnEy2b5xMtm+cTLZvnEy2b5xMtm+cTLZvnEy2b5xMtm+cTLZvnEy2b5xMtm+cTLZvnEy2b5xMtm+cTLZvnEy2b5xMtm+cTLZvnEy2b5xMtm+cTLZvnEy2b5xMtm+QxZ9P7PCM0CzwjNAvE60P3Ey2b5xMtm+cTLZvnEy2b5xMtm+cTLZvnEy2b5xMtm+cTLZvnEy2b5xMtm+cTLZvnEy2b5xMtm+cTLZvnEy2b5xMtm+cTLZvnEy2b5xMtm+cTLZvnEy2b5xMtm+cTLZvkMWfT+zwjNAs8IzQONbcz5xMtm+cTLZvnEy2b5xMtm+cTLZvnEy2b5xMtm+cTLZvnEy2b5xMtm+cTLZvnEy2b5xMtm+cTLZvnEy2b5xMtm+cTLZvnEy2b5xMtm+cTLZvnEy2b5xMtm+cTLZvnEy2b5+JAZAs8IzQLPCM0DjW3M+cTLZvnEy2b5xMtm+cTLZvnEy2b5xMtm+cTLZvnEy2b5xMtm+cTLZvnEy2b5xMtm+cTLZvnEy2b5xMtm+cTLZvnEy2b5xMtm+cTLZvnEy2b5xMtm+cTLZvnEy2b5xMtm+z6gMQLPCM0Ap8jJAQVNmPnEy2b5xMtm+cTLZvnEy2b5xMtm+cTLZvnEy2b5xMtm+cTLZvnEy2b5xMtm+cTLZvnEy2b5xMtm+cTLZvnEy2b5xMtm+cTLZvnEy2b5xMtm+cTLZvnEy2b5xMtm+cTLZvs+oDECzwjNA9+oPQHEy2b5xMtm+cTLZvnEy2b5xMtm+cTLZvnEy2b5xMtm+cTLZvnEy2b5xMtm+cTLZvnEy2b5xMtm+cTLZvnEy2b5xMtm+cTLZvnEy2b5xMtm+cTLZvnEy2b5xMtm+cTLZvnEy2b7PqAxAs8IzQPfqD0BxMtm+cTLZvnEy2b5xMtm+cTLZvnEy2b5xMtm+cTLZvnEy2b5xMtm+cTLZvnEy2b5xMtm+cTLZvnEy2b5xMtm+cTLZvnEy2b5xMtm+cTLZvnEy2b5xMtm+cTLZvnEy2b5xMtm+32KiPzP++z+/80g/cTLZvnEy2b5xMtm+cTLZvnEy2b5xMtm+cTLZvnEy2b5xMtm+cTLZvnEy2b5xMtm+cTLZvnEy2b5xMtm+cTLZvnEy2b5xMtm+cTLZvnEy2b5xMtm+cTLZvnEy2b5xMtm+cTLZvnEy2b5xMtm+cTLZvnEy2b5xMtm+cTLZvnEy2b5xMtm+cTLZvnEy2b5xMtm+cTLZvnEy2b5xMtm+cTLZvnEy2b5xMtm+cTLZvnEy2b5xMtm+cTLZvnEy2b5xMtm+cTLZvnEy2b5xMtm+cTLZvnEy2b5xMtm+cTLZvnEy2b5xMtm+cTLZvnEy2b5xMtm+cTLZvnEy2b5xMtm+cTLZvnEy2b5xMtm+cTLZvg==",
          "dtype": "f4",
          "shape": "28, 28"
         }
        },
        {
         "colorscale": [
          [
           0,
           "rgb(0, 0, 0)"
          ],
          [
           0.09090909090909091,
           "rgb(16, 16, 16)"
          ],
          [
           0.18181818181818182,
           "rgb(38, 38, 38)"
          ],
          [
           0.2727272727272727,
           "rgb(59, 59, 59)"
          ],
          [
           0.36363636363636365,
           "rgb(81, 80, 80)"
          ],
          [
           0.45454545454545453,
           "rgb(102, 101, 101)"
          ],
          [
           0.5454545454545454,
           "rgb(124, 123, 122)"
          ],
          [
           0.6363636363636364,
           "rgb(146, 146, 145)"
          ],
          [
           0.7272727272727273,
           "rgb(171, 171, 170)"
          ],
          [
           0.8181818181818182,
           "rgb(197, 197, 195)"
          ],
          [
           0.9090909090909091,
           "rgb(224, 224, 223)"
          ],
          [
           1,
           "rgb(254, 254, 253)"
          ]
         ],
         "showscale": false,
         "type": "heatmap",
         "xaxis": "x4",
         "yaxis": "y4",
         "z": {
          "bdata": "cTLZvnEy2b5xMtm+cTLZvnEy2b5xMtm+cTLZvnEy2b5xMtm+cTLZvnEy2b5xMtm+cTLZvnEy2b5xMtm+cTLZvnEy2b5xMtm+cTLZvnEy2b5xMtm+cTLZvnEy2b5xMtm+cTLZvnEy2b5xMtm+cTLZvnEy2b5xMtm+cTLZvnEy2b5xMtm+cTLZvnEy2b5xMtm+cTLZvnEy2b5xMtm+cTLZvnEy2b5xMtm+cTLZvnEy2b5xMtm+cTLZvnEy2b5xMtm+cTLZvnEy2b5xMtm+cTLZvnEy2b5xMtm+cTLZvnEy2b5xMtm+cTLZvnEy2b5xMtm+cTLZvnEy2b5xMtm+cTLZvnEy2b5xMtm+cTLZvnEy2b5xMtm+cTLZvnEy2b5xMtm+cTLZvnEy2b5xMtm+cTLZvnEy2b5xMtm+cTLZvnEy2b5xMtm+cTLZvnEy2b5xMtm+cTLZvnEy2b5xMtm+cTLZvnEy2b5xMtm+cTLZvnEy2b5xMtm+cTLZvnEy2b5xMtm+cTLZvnEy2b5xMtm+cTLZvnEy2b5xMtm+cTLZvnEy2b5xMtm+cTLZvnEy2b5xMtm+cTLZvnEy2b5xMtm+cTLZvnEy2b5xMtm+cTLZvnEy2b5xMtm+cTLZvnEy2b5xMtm+cTLZvnEy2b5xMtm+cTLZvnEy2b5xMtm+cTLZvnEy2b5xMtm+cTLZvnEy2b5xMtm+cTLZvnEy2b5xMtm+cTLZvnEy2b5xMtm+cTLZvnEy2b5xMtm+cTLZvnEy2b5xMtm+cTLZvnEy2b5xMtm+cTLZvnEy2b5xMtm+cTLZvnEy2b5xMtm+cTLZvnEy2b5xMtm+cTLZvnEy2b5xMtm+cTLZvnEy2b5xMtm+cTLZvnEy2b5xMtm+cTLZvnEy2b5xMtm+cTLZvnEy2b5xMtm+cTLZvnEy2b5xMtm+cTLZvnEy2b5xMtm+jRiyvl/8VT8fXfo/qv0TQMpPcz9xMtm+cTLZvnEy2b5xMtm+cTLZvnEy2b5xMtm+cTLZvnEy2b5xMtm+cTLZvnEy2b5xMtm+cTLZvnEy2b5xMtm+cTLZvnEy2b5xMtm+cTLZvnEy2b5xMtm+7A+lvuvVjj/9GCVAN7pSP6itsj+zwjNAGNm6PnEy2b5xMtm+cTLZvuwPpb46Rws9cTLZvnEy2b5xMtm+cTLZvnEy2b5xMtm+cTLZvnEy2b5xMtm+cTLZvnEy2b5xMtm+cTLZvnEy2b5xMtm+cTLZvnbQrT6I6SVAiD5ZP3Ey2b49lKu+R5/9P6itsj9xMtm+cTLZvsvK8rz36g9AgbsQQN6cuL5xMtm+cTLZvnEy2b5xMtm+cTLZvnEy2b5xMtm+cTLZvnEy2b5xMtm+cTLZvnEy2b5xMtm+cTLZviCu0r75Mbk/677MP3Ey2b5xMtm+cTLZvv92kD8AsC9AC7z4P7QJ3T/sDi5As8IzQEJBAUBxMtm+cTLZvnEy2b5xMtm+cTLZvnEy2b5xMtm+cTLZvnEy2b5xMtm+cTLZvnEy2b5xMtm+cTLZvnEy2b565oq9llwSQEsHmL5xMtm+cTLZvnEy2b5xMtm+cIYEP0OIqj9DiKo/QxZ9P7PCM0D/dpA/cTLZvnEy2b5xMtm+cTLZvnEy2b5xMtm+cTLZvnEy2b5xMtm+cTLZvnEy2b5xMtm+cTLZvnEy2b5xMtm+vfekvUhEAT9xMtm+cTLZvnEy2b5xMtm+cTLZvnEy2b5xMtm+cTLZvnL4wj+nZglAjRiyvnEy2b5xMtm+cTLZvnEy2b5xMtm+cTLZvnEy2b5xMtm+cTLZvnEy2b5xMtm+cTLZvnEy2b5xMtm+cTLZvl45Pz4uIb++cTLZvnEy2b5xMtm+cTLZvnEy2b5xMtm+cTLZvoQr870AsC9AQxZ9P3Ey2b5xMtm+cTLZvnEy2b5xMtm+cTLZvnEy2b5xMtm+cTLZvnEy2b5xMtm+cTLZvnEy2b5xMtm+cTLZvnEy2b5xMtm+cTLZvnEy2b5xMtm+cTLZvnEy2b5xMtm+cTLZvnEy2b7XHcs/RdgLQHEy2b5xMtm+cTLZvnEy2b5xMtm+cTLZvnEy2b5xMtm+cTLZvnEy2b5xMtm+cTLZvnEy2b5xMtm+cTLZvnEy2b5xMtm+cTLZvnEy2b5xMtm+cTLZvnEy2b5xMtm+cTLZvnEy2b7q+cc9nIonQCZMpz5xMtm+cTLZvnEy2b5xMtm+cTLZvnEy2b5xMtm+cTLZvnEy2b5xMtm+cTLZvnEy2b5xMtm+cTLZvnEy2b5xMtm+cTLZvnEy2b5xMtm+cTLZvnEy2b5xMtm+cTLZvnEy2b5xMtm+yKrePzP++z9/pcW+cTLZvnEy2b5xMtm+cTLZvnEy2b5xMtm+cTLZvnEy2b5xMtm+cTLZvnEy2b5xMtm+cTLZvnEy2b5xMtm+cTLZvnEy2b5xMtm+cTLZvnEy2b5xMtm+cTLZvnEy2b5xMtm+x1S0PouAMEB65oq9cTLZvnEy2b5xMtm+cTLZvnEy2b5xMtm+cTLZvnEy2b5xMtm+cTLZvnEy2b5xMtm+cTLZvnEy2b5xMtm+cTLZvnEy2b5xMtm+cTLZvnEy2b5xMtm+NL+TPpL17j+TxQdAcvjCP6r9E0DIqt4/cTLZvnEy2b7sD6W+OkcLPXEy2b5xMtm+cTLZvnEy2b5xMtm+cTLZvnEy2b5xMtm+cTLZvnEy2b5xMtm+cTLZvnEy2b5xMtm+cTLZvnEy2b5xMtm+OkcLPRK6JkCEUhtAEwHQP5nzHEA9kzRAnIonQIRSG0CEUhtASG8WQJtRiD9xMtm+cTLZvnEy2b5xMtm+cTLZvnEy2b5xMtm+cTLZvnEy2b5xMtm+cTLZvnEy2b5xMtm+cTLZvnEy2b5xMtm+cTLZvtkWCz4mTKc+LiG/vnEy2b6GmcQ/KfIyQFYS6j8TAdA/estsP40Ysr5xMtm+cTLZvnEy2b5xMtm+cTLZvnEy2b5xMtm+cTLZvnEy2b5xMtm+cTLZvnEy2b5xMtm+cTLZvnEy2b5xMtm+cTLZvnEy2b5xMtm+cTLZvnEy2b6bi56+NM4UQBMB0D9xMtm+cTLZvnEy2b5xMtm+cTLZvnEy2b5xMtm+cTLZvnEy2b5xMtm+cTLZvnEy2b5xMtm+cTLZvnEy2b5xMtm+cTLZvnEy2b5xMtm+cTLZvnEy2b5xMtm+cTLZvnEy2b5xMtm+Q4iqP7PCM0ASjxE/cTLZvnEy2b5xMtm+cTLZvnEy2b5xMtm+cTLZvnEy2b5xMtm+cTLZvnEy2b5xMtm+cTLZvnEy2b5xMtm+cTLZvnEy2b5xMtm+cTLZvnEy2b5xMtm+cTLZvnEy2b5xMtm++oKRvvqBGkB+VO0/3py4vnEy2b5xMtm+cTLZvnEy2b5xMtm+cTLZvnEy2b5xMtm+cTLZvnEy2b5xMtm+cTLZvnEy2b5xMtm+cTLZvnEy2b5xMtm+cTLZvnEy2b5xMtm+cTLZvnEy2b5xMtm+cTLZvqUkMj+zwjNAiD5ZP3Ey2b5xMtm+cTLZvnEy2b5xMtm+cTLZvnEy2b5xMtm+cTLZvnEy2b5xMtm+cTLZvnEy2b5xMtm+cTLZvnEy2b5xMtm+cTLZvnEy2b5xMtm+cTLZvnEy2b5xMtm+cTLZvnEy2b4N07o/mfMcQLSFirxxMtm+cTLZvnEy2b5xMtm+cTLZvnEy2b5xMtm+cTLZvnEy2b5xMtm+cTLZvnEy2b5xMtm+cTLZvnEy2b5xMtm+cTLZvnEy2b5xMtm+cTLZvnEy2b5xMtm+cTLZvnEy2b5xMtm+QXHoP1SgKz9xMtm+cTLZvnEy2b5xMtm+cTLZvnEy2b5xMtm+cTLZvnEy2b5xMtm+cTLZvnEy2b5xMtm+cTLZvnEy2b5xMtm+cTLZvnEy2b5xMtm+cTLZvnEy2b5xMtm+cTLZvnEy2b5xMtm+cTLZvnEy2b5xMtm+cTLZvnEy2b5xMtm+cTLZvnEy2b5xMtm+cTLZvnEy2b5xMtm+cTLZvnEy2b5xMtm+cTLZvnEy2b5xMtm+cTLZvnEy2b5xMtm+cTLZvnEy2b5xMtm+cTLZvnEy2b5xMtm+cTLZvnEy2b5xMtm+cTLZvnEy2b5xMtm+cTLZvnEy2b5xMtm+cTLZvnEy2b5xMtm+cTLZvnEy2b5xMtm+cTLZvnEy2b5xMtm+cTLZvg==",
          "dtype": "f4",
          "shape": "28, 28"
         }
        },
        {
         "colorscale": [
          [
           0,
           "rgb(0, 0, 0)"
          ],
          [
           0.09090909090909091,
           "rgb(16, 16, 16)"
          ],
          [
           0.18181818181818182,
           "rgb(38, 38, 38)"
          ],
          [
           0.2727272727272727,
           "rgb(59, 59, 59)"
          ],
          [
           0.36363636363636365,
           "rgb(81, 80, 80)"
          ],
          [
           0.45454545454545453,
           "rgb(102, 101, 101)"
          ],
          [
           0.5454545454545454,
           "rgb(124, 123, 122)"
          ],
          [
           0.6363636363636364,
           "rgb(146, 146, 145)"
          ],
          [
           0.7272727272727273,
           "rgb(171, 171, 170)"
          ],
          [
           0.8181818181818182,
           "rgb(197, 197, 195)"
          ],
          [
           0.9090909090909091,
           "rgb(224, 224, 223)"
          ],
          [
           1,
           "rgb(254, 254, 253)"
          ]
         ],
         "showscale": false,
         "type": "heatmap",
         "xaxis": "x5",
         "yaxis": "y5",
         "z": {
          "bdata": "cTLZvnEy2b5xMtm+cTLZvnEy2b5xMtm+cTLZvnEy2b5xMtm+cTLZvnEy2b5xMtm+cTLZvnEy2b5xMtm+cTLZvnEy2b5xMtm+cTLZvnEy2b5xMtm+cTLZvnEy2b5xMtm+cTLZvnEy2b5xMtm+cTLZvnEy2b5xMtm+cTLZvnEy2b5xMtm+cTLZvnEy2b5xMtm+cTLZvnEy2b5xMtm+cTLZvnEy2b5xMtm+cTLZvnEy2b5xMtm+cTLZvnEy2b5xMtm+cTLZvnEy2b5xMtm+cTLZvnEy2b5xMtm+cTLZvnEy2b5xMtm+cTLZvnEy2b5xMtm+cTLZvnEy2b5xMtm+cTLZvnEy2b5xMtm+cTLZvnEy2b5xMtm+cTLZvnEy2b5xMtm+cTLZvnEy2b5xMtm+cTLZvnEy2b5xMtm+cTLZvnEy2b5xMtm+cTLZvnEy2b5xMtm+cTLZvnEy2b5xMtm+cTLZvnEy2b5xMtm+cTLZvnEy2b5xMtm+cTLZvnEy2b5xMtm+cTLZvnEy2b5xMtm+cTLZvnEy2b5xMtm+cTLZvnEy2b5xMtm+cTLZvnEy2b5xMtm+cTLZvnEy2b5xMtm+cTLZvnEy2b5xMtm+cTLZvnEy2b5xMtm+cTLZvnEy2b5xMtm+cTLZvnEy2b5xMtm+cTLZvnEy2b5xMtm+cTLZvnEy2b5xMtm+cTLZvnEy2b5xMtm+cTLZvnEy2b5xMtm+cTLZvnEy2b5xMtm+cTLZvnEy2b5xMtm+cTLZvnEy2b5xMtm+cTLZvnEy2b5xMtm+cTLZvnEy2b5xMtm+bm9CPz2TNEA9kzRAs8IzQHL4wj88WpU/x1S0PkSMcz1xMtm+cTLZvnEy2b5xMtm+cTLZvnEy2b5xMtm+cTLZvnEy2b5xMtm+cTLZvnEy2b5xMtm+cTLZvnEy2b5xMtm+cTLZvnEy2b5xMtm+GyglPul3I0Ap8jJAKfIyQCnyMkAp8jJAKfIyQIuAMECLgDBArZQeQAEFYz9xMtm+cTLZvnEy2b5xMtm+cTLZvnEy2b5xMtm+cTLZvnEy2b5xMtm+cTLZvnEy2b5xMtm+cTLZvnEy2b5xMtm+cTLZvl/8VT8p8jJAKfIyQCnyMkAp8jJAKfIyQCnyMkAp8jJAKfIyQCnyMkCfITJArZQeQBsoJT5xMtm+cTLZvnEy2b5xMtm+cTLZvnEy2b5xMtm+cTLZvnEy2b5xMtm+cTLZvnEy2b5xMtm+cTLZvnEy2b7Vx6A+JlsoQCnyMkAp8jJAKfIyQCnyMkAp8jJAKfIyQCnyMkAp8jJAKfIyQCnyMkApR2Y/cTLZvnEy2b5xMtm+cTLZvnEy2b5xMtm+cTLZvnEy2b5xMtm+cTLZvnEy2b5xMtm+cTLZvnEy2b5xMtm+cTLZvk536D6aOsY/Xjk/PkIa2b1CGtm9QhrZveNbcz6aOsY/5uAYQCnyMkAp8jJAKUdmP3Ey2b5xMtm+cTLZvnEy2b5xMtm+cTLZvnEy2b5xMtm+cTLZvnEy2b5xMtm+cTLZvnEy2b5xMtm+cTLZvnEy2b5xMtm+cTLZvnEy2b5xMtm+cTLZvnEy2b5xMtm+cTLZvrQJ3T8p8jJAKfIyQClHZj9xMtm+cTLZvnEy2b5xMtm+cTLZvnEy2b5xMtm+cTLZvnEy2b5xMtm+cTLZvnEy2b5xMtm+cTLZvnEy2b5xMtm+cTLZvnEy2b5xMtm+cTLZvnEy2b5xMtm+GNm6PvORdj+wKylAKfIyQCnyMkApR2Y/cTLZvnEy2b5xMtm+cTLZvnEy2b5xMtm+cTLZvnEy2b5xMtm+cTLZvnEy2b5xMtm+cTLZvnEy2b5xMtm+cTLZvm+qYb1CMoA+cTLZvnEy2b5xMtm+zWY1P7ArKUAp8jJAKfIyQCnyMkDV1iFA6MA6vnEy2b5xMtm+cTLZvnEy2b5xMtm+cTLZvnEy2b5xMtm+cTLZvnEy2b5xMtm+cTLZvnEy2b5xMtm+cTLZvjrRFD/m4BhA/RglQKdmCUCnZglAp2YJQCZbKEAp8jJAKfIyQCnyMkAjxB1AGyglPnEy2b5xMtm+cTLZvnEy2b5xMtm+cTLZvnEy2b5xMtm+cTLZvnEy2b5xMtm+cTLZvnEy2b5xMtm+cTLZvnEy2b4J9QZAKfIyQCnyMkAp8jJAKfIyQCnyMkAp8jJAKfIyQONJDkCgaNs/QVNmPnEy2b5xMtm+cTLZvnEy2b5xMtm+cTLZvnEy2b5xMtm+cTLZvnEy2b5xMtm+cTLZvnEy2b5xMtm+cTLZvnEy2b5xMtm+rZQeQCnyMkAp8jJAKfIyQCnyMkAp8jJAKfIyQCnyMkASjxE/cTLZvnEy2b5xMtm+cTLZvnEy2b5xMtm+cTLZvnEy2b5xMtm+cTLZvnEy2b5xMtm+cTLZvnEy2b5xMtm+cTLZvnEy2b5xMtm+cTLZvh2WCEAp8jJAKfIyQCnyMkAp8jJAKfIyQCnyMkAp8jJA3UvgP3Ey2b5xMtm+cTLZvnEy2b5xMtm+cTLZvnEy2b5xMtm+cTLZvnEy2b5xMtm+cTLZvnEy2b5xMtm+cTLZvnEy2b5xMtm+cTLZvnEy2b7qhy29Eo8RPxKPET8SjxE/Eo8RP0MWfT86/ClAKfIyQFl5DUBxMtm+cTLZvnEy2b5xMtm+cTLZvnEy2b5xMtm+cTLZvnEy2b5xMtm+cTLZvnEy2b5xMtm+cTLZvnEy2b5xMtm+cTLZvnEy2b5xMtm+cTLZvnEy2b5xMtm+cTLZvnEy2b5xMtm+R5/9PynyMkBZeQ1AcTLZvnEy2b5xMtm+cTLZvnEy2b5xMtm+cTLZvnEy2b5xMtm+cTLZvnEy2b5xMtm+cTLZvnEy2b5xMtm+cTLZvnEy2b5xMtm+cTLZvnEy2b5xMtm+cTLZvnEy2b5xMtm+m4uevvRTBUAp8jJAWXkNQHEy2b5xMtm+cTLZvnEy2b5xMtm+cTLZvnEy2b5xMtm+cTLZvnEy2b5xMtm+cTLZvnEy2b5xMtm+cTLZvnEy2b5xMtm+cTLZvvqCkb6XsUU/LiG/vnEy2b5xMtm+1cegPqaW8D8p8jJAdt8uQNc0jT9xMtm+cTLZvnEy2b5xMtm+cTLZvnEy2b5xMtm+cTLZvnEy2b5xMtm+cTLZvnEy2b5xMtm+cTLZvnEy2b5xMtm+cTLZvnEy2b5RiWk/KfIyQDtD0z81Fb4/NRW+P9XWIUAp8jJAKfIyQLhwAEBxMtm+cTLZvnEy2b5xMtm+cTLZvnEy2b5xMtm+cTLZvnEy2b5xMtm+cTLZvnEy2b5xMtm+cTLZvnEy2b5xMtm+cTLZvnEy2b5xMtm+NiyAPynyMkAp8jJAKfIyQCnyMkAp8jJAKfIyQJZcEkDLyvK8cTLZvnEy2b5xMtm+cTLZvnEy2b5xMtm+cTLZvnEy2b5xMtm+cTLZvnEy2b5xMtm+cTLZvnEy2b5xMtm+cTLZvnEy2b5xMtm+cTLZvlDk1D8p8jJAKfIyQCnyMkAp8jJAFVExQOWQtz/qhy29cTLZvnEy2b5xMtm+cTLZvnEy2b5xMtm+cTLZvnEy2b5xMtm+cTLZvnEy2b5xMtm+cTLZvnEy2b5xMtm+cTLZvnEy2b5xMtm+cTLZvnEy2b5BU2Y+BY7jP8+oDEB4Jtg/0e+1P81mNT9xMtm+cTLZvnEy2b5xMtm+cTLZvnEy2b5xMtm+cTLZvnEy2b5xMtm+cTLZvnEy2b5xMtm+cTLZvnEy2b5xMtm+cTLZvnEy2b5xMtm+cTLZvnEy2b5xMtm+cTLZvnEy2b5xMtm+cTLZvnEy2b5xMtm+cTLZvnEy2b5xMtm+cTLZvnEy2b5xMtm+cTLZvnEy2b5xMtm+cTLZvnEy2b5xMtm+cTLZvnEy2b5xMtm+cTLZvnEy2b5xMtm+cTLZvnEy2b5xMtm+cTLZvnEy2b5xMtm+cTLZvnEy2b5xMtm+cTLZvnEy2b5xMtm+cTLZvnEy2b5xMtm+cTLZvnEy2b5xMtm+cTLZvnEy2b5xMtm+cTLZvnEy2b5xMtm+cTLZvnEy2b5xMtm+cTLZvnEy2b5xMtm+cTLZvnEy2b5xMtm+cTLZvnEy2b5xMtm+cTLZvnEy2b5xMtm+cTLZvnEy2b5xMtm+cTLZvnEy2b5xMtm+cTLZvnEy2b5xMtm+cTLZvnEy2b5xMtm+cTLZvg==",
          "dtype": "f4",
          "shape": "28, 28"
         }
        }
       ],
       "layout": {
        "annotations": [
         {
          "font": {
           "size": 16
          },
          "showarrow": false,
          "text": "Label: 6",
          "x": 0.08399999999999999,
          "xanchor": "center",
          "xref": "paper",
          "y": 1,
          "yanchor": "bottom",
          "yref": "paper"
         },
         {
          "font": {
           "size": 16
          },
          "showarrow": false,
          "text": "Label: 8",
          "x": 0.292,
          "xanchor": "center",
          "xref": "paper",
          "y": 1,
          "yanchor": "bottom",
          "yref": "paper"
         },
         {
          "font": {
           "size": 16
          },
          "showarrow": false,
          "text": "Label: 9",
          "x": 0.5,
          "xanchor": "center",
          "xref": "paper",
          "y": 1,
          "yanchor": "bottom",
          "yref": "paper"
         },
         {
          "font": {
           "size": 16
          },
          "showarrow": false,
          "text": "Label: 7",
          "x": 0.708,
          "xanchor": "center",
          "xref": "paper",
          "y": 1,
          "yanchor": "bottom",
          "yref": "paper"
         },
         {
          "font": {
           "size": 16
          },
          "showarrow": false,
          "text": "Label: 3",
          "x": 0.9159999999999999,
          "xanchor": "center",
          "xref": "paper",
          "y": 1,
          "yanchor": "bottom",
          "yref": "paper"
         }
        ],
        "height": 250,
        "margin": {
         "b": 10,
         "l": 10,
         "r": 10,
         "t": 60
        },
        "template": {
         "data": {
          "bar": [
           {
            "error_x": {
             "color": "#2a3f5f"
            },
            "error_y": {
             "color": "#2a3f5f"
            },
            "marker": {
             "line": {
              "color": "#E5ECF6",
              "width": 0.5
             },
             "pattern": {
              "fillmode": "overlay",
              "size": 10,
              "solidity": 0.2
             }
            },
            "type": "bar"
           }
          ],
          "barpolar": [
           {
            "marker": {
             "line": {
              "color": "#E5ECF6",
              "width": 0.5
             },
             "pattern": {
              "fillmode": "overlay",
              "size": 10,
              "solidity": 0.2
             }
            },
            "type": "barpolar"
           }
          ],
          "carpet": [
           {
            "aaxis": {
             "endlinecolor": "#2a3f5f",
             "gridcolor": "white",
             "linecolor": "white",
             "minorgridcolor": "white",
             "startlinecolor": "#2a3f5f"
            },
            "baxis": {
             "endlinecolor": "#2a3f5f",
             "gridcolor": "white",
             "linecolor": "white",
             "minorgridcolor": "white",
             "startlinecolor": "#2a3f5f"
            },
            "type": "carpet"
           }
          ],
          "choropleth": [
           {
            "colorbar": {
             "outlinewidth": 0,
             "ticks": ""
            },
            "type": "choropleth"
           }
          ],
          "contour": [
           {
            "colorbar": {
             "outlinewidth": 0,
             "ticks": ""
            },
            "colorscale": [
             [
              0,
              "#0d0887"
             ],
             [
              0.1111111111111111,
              "#46039f"
             ],
             [
              0.2222222222222222,
              "#7201a8"
             ],
             [
              0.3333333333333333,
              "#9c179e"
             ],
             [
              0.4444444444444444,
              "#bd3786"
             ],
             [
              0.5555555555555556,
              "#d8576b"
             ],
             [
              0.6666666666666666,
              "#ed7953"
             ],
             [
              0.7777777777777778,
              "#fb9f3a"
             ],
             [
              0.8888888888888888,
              "#fdca26"
             ],
             [
              1,
              "#f0f921"
             ]
            ],
            "type": "contour"
           }
          ],
          "contourcarpet": [
           {
            "colorbar": {
             "outlinewidth": 0,
             "ticks": ""
            },
            "type": "contourcarpet"
           }
          ],
          "heatmap": [
           {
            "colorbar": {
             "outlinewidth": 0,
             "ticks": ""
            },
            "colorscale": [
             [
              0,
              "#0d0887"
             ],
             [
              0.1111111111111111,
              "#46039f"
             ],
             [
              0.2222222222222222,
              "#7201a8"
             ],
             [
              0.3333333333333333,
              "#9c179e"
             ],
             [
              0.4444444444444444,
              "#bd3786"
             ],
             [
              0.5555555555555556,
              "#d8576b"
             ],
             [
              0.6666666666666666,
              "#ed7953"
             ],
             [
              0.7777777777777778,
              "#fb9f3a"
             ],
             [
              0.8888888888888888,
              "#fdca26"
             ],
             [
              1,
              "#f0f921"
             ]
            ],
            "type": "heatmap"
           }
          ],
          "histogram": [
           {
            "marker": {
             "pattern": {
              "fillmode": "overlay",
              "size": 10,
              "solidity": 0.2
             }
            },
            "type": "histogram"
           }
          ],
          "histogram2d": [
           {
            "colorbar": {
             "outlinewidth": 0,
             "ticks": ""
            },
            "colorscale": [
             [
              0,
              "#0d0887"
             ],
             [
              0.1111111111111111,
              "#46039f"
             ],
             [
              0.2222222222222222,
              "#7201a8"
             ],
             [
              0.3333333333333333,
              "#9c179e"
             ],
             [
              0.4444444444444444,
              "#bd3786"
             ],
             [
              0.5555555555555556,
              "#d8576b"
             ],
             [
              0.6666666666666666,
              "#ed7953"
             ],
             [
              0.7777777777777778,
              "#fb9f3a"
             ],
             [
              0.8888888888888888,
              "#fdca26"
             ],
             [
              1,
              "#f0f921"
             ]
            ],
            "type": "histogram2d"
           }
          ],
          "histogram2dcontour": [
           {
            "colorbar": {
             "outlinewidth": 0,
             "ticks": ""
            },
            "colorscale": [
             [
              0,
              "#0d0887"
             ],
             [
              0.1111111111111111,
              "#46039f"
             ],
             [
              0.2222222222222222,
              "#7201a8"
             ],
             [
              0.3333333333333333,
              "#9c179e"
             ],
             [
              0.4444444444444444,
              "#bd3786"
             ],
             [
              0.5555555555555556,
              "#d8576b"
             ],
             [
              0.6666666666666666,
              "#ed7953"
             ],
             [
              0.7777777777777778,
              "#fb9f3a"
             ],
             [
              0.8888888888888888,
              "#fdca26"
             ],
             [
              1,
              "#f0f921"
             ]
            ],
            "type": "histogram2dcontour"
           }
          ],
          "mesh3d": [
           {
            "colorbar": {
             "outlinewidth": 0,
             "ticks": ""
            },
            "type": "mesh3d"
           }
          ],
          "parcoords": [
           {
            "line": {
             "colorbar": {
              "outlinewidth": 0,
              "ticks": ""
             }
            },
            "type": "parcoords"
           }
          ],
          "pie": [
           {
            "automargin": true,
            "type": "pie"
           }
          ],
          "scatter": [
           {
            "fillpattern": {
             "fillmode": "overlay",
             "size": 10,
             "solidity": 0.2
            },
            "type": "scatter"
           }
          ],
          "scatter3d": [
           {
            "line": {
             "colorbar": {
              "outlinewidth": 0,
              "ticks": ""
             }
            },
            "marker": {
             "colorbar": {
              "outlinewidth": 0,
              "ticks": ""
             }
            },
            "type": "scatter3d"
           }
          ],
          "scattercarpet": [
           {
            "marker": {
             "colorbar": {
              "outlinewidth": 0,
              "ticks": ""
             }
            },
            "type": "scattercarpet"
           }
          ],
          "scattergeo": [
           {
            "marker": {
             "colorbar": {
              "outlinewidth": 0,
              "ticks": ""
             }
            },
            "type": "scattergeo"
           }
          ],
          "scattergl": [
           {
            "marker": {
             "colorbar": {
              "outlinewidth": 0,
              "ticks": ""
             }
            },
            "type": "scattergl"
           }
          ],
          "scattermap": [
           {
            "marker": {
             "colorbar": {
              "outlinewidth": 0,
              "ticks": ""
             }
            },
            "type": "scattermap"
           }
          ],
          "scattermapbox": [
           {
            "marker": {
             "colorbar": {
              "outlinewidth": 0,
              "ticks": ""
             }
            },
            "type": "scattermapbox"
           }
          ],
          "scatterpolar": [
           {
            "marker": {
             "colorbar": {
              "outlinewidth": 0,
              "ticks": ""
             }
            },
            "type": "scatterpolar"
           }
          ],
          "scatterpolargl": [
           {
            "marker": {
             "colorbar": {
              "outlinewidth": 0,
              "ticks": ""
             }
            },
            "type": "scatterpolargl"
           }
          ],
          "scatterternary": [
           {
            "marker": {
             "colorbar": {
              "outlinewidth": 0,
              "ticks": ""
             }
            },
            "type": "scatterternary"
           }
          ],
          "surface": [
           {
            "colorbar": {
             "outlinewidth": 0,
             "ticks": ""
            },
            "colorscale": [
             [
              0,
              "#0d0887"
             ],
             [
              0.1111111111111111,
              "#46039f"
             ],
             [
              0.2222222222222222,
              "#7201a8"
             ],
             [
              0.3333333333333333,
              "#9c179e"
             ],
             [
              0.4444444444444444,
              "#bd3786"
             ],
             [
              0.5555555555555556,
              "#d8576b"
             ],
             [
              0.6666666666666666,
              "#ed7953"
             ],
             [
              0.7777777777777778,
              "#fb9f3a"
             ],
             [
              0.8888888888888888,
              "#fdca26"
             ],
             [
              1,
              "#f0f921"
             ]
            ],
            "type": "surface"
           }
          ],
          "table": [
           {
            "cells": {
             "fill": {
              "color": "#EBF0F8"
             },
             "line": {
              "color": "white"
             }
            },
            "header": {
             "fill": {
              "color": "#C8D4E3"
             },
             "line": {
              "color": "white"
             }
            },
            "type": "table"
           }
          ]
         },
         "layout": {
          "annotationdefaults": {
           "arrowcolor": "#2a3f5f",
           "arrowhead": 0,
           "arrowwidth": 1
          },
          "autotypenumbers": "strict",
          "coloraxis": {
           "colorbar": {
            "outlinewidth": 0,
            "ticks": ""
           }
          },
          "colorscale": {
           "diverging": [
            [
             0,
             "#8e0152"
            ],
            [
             0.1,
             "#c51b7d"
            ],
            [
             0.2,
             "#de77ae"
            ],
            [
             0.3,
             "#f1b6da"
            ],
            [
             0.4,
             "#fde0ef"
            ],
            [
             0.5,
             "#f7f7f7"
            ],
            [
             0.6,
             "#e6f5d0"
            ],
            [
             0.7,
             "#b8e186"
            ],
            [
             0.8,
             "#7fbc41"
            ],
            [
             0.9,
             "#4d9221"
            ],
            [
             1,
             "#276419"
            ]
           ],
           "sequential": [
            [
             0,
             "#0d0887"
            ],
            [
             0.1111111111111111,
             "#46039f"
            ],
            [
             0.2222222222222222,
             "#7201a8"
            ],
            [
             0.3333333333333333,
             "#9c179e"
            ],
            [
             0.4444444444444444,
             "#bd3786"
            ],
            [
             0.5555555555555556,
             "#d8576b"
            ],
            [
             0.6666666666666666,
             "#ed7953"
            ],
            [
             0.7777777777777778,
             "#fb9f3a"
            ],
            [
             0.8888888888888888,
             "#fdca26"
            ],
            [
             1,
             "#f0f921"
            ]
           ],
           "sequentialminus": [
            [
             0,
             "#0d0887"
            ],
            [
             0.1111111111111111,
             "#46039f"
            ],
            [
             0.2222222222222222,
             "#7201a8"
            ],
            [
             0.3333333333333333,
             "#9c179e"
            ],
            [
             0.4444444444444444,
             "#bd3786"
            ],
            [
             0.5555555555555556,
             "#d8576b"
            ],
            [
             0.6666666666666666,
             "#ed7953"
            ],
            [
             0.7777777777777778,
             "#fb9f3a"
            ],
            [
             0.8888888888888888,
             "#fdca26"
            ],
            [
             1,
             "#f0f921"
            ]
           ]
          },
          "colorway": [
           "#636efa",
           "#EF553B",
           "#00cc96",
           "#ab63fa",
           "#FFA15A",
           "#19d3f3",
           "#FF6692",
           "#B6E880",
           "#FF97FF",
           "#FECB52"
          ],
          "font": {
           "color": "#2a3f5f"
          },
          "geo": {
           "bgcolor": "white",
           "lakecolor": "white",
           "landcolor": "#E5ECF6",
           "showlakes": true,
           "showland": true,
           "subunitcolor": "white"
          },
          "hoverlabel": {
           "align": "left"
          },
          "hovermode": "closest",
          "mapbox": {
           "style": "light"
          },
          "paper_bgcolor": "white",
          "plot_bgcolor": "#E5ECF6",
          "polar": {
           "angularaxis": {
            "gridcolor": "white",
            "linecolor": "white",
            "ticks": ""
           },
           "bgcolor": "#E5ECF6",
           "radialaxis": {
            "gridcolor": "white",
            "linecolor": "white",
            "ticks": ""
           }
          },
          "scene": {
           "xaxis": {
            "backgroundcolor": "#E5ECF6",
            "gridcolor": "white",
            "gridwidth": 2,
            "linecolor": "white",
            "showbackground": true,
            "ticks": "",
            "zerolinecolor": "white"
           },
           "yaxis": {
            "backgroundcolor": "#E5ECF6",
            "gridcolor": "white",
            "gridwidth": 2,
            "linecolor": "white",
            "showbackground": true,
            "ticks": "",
            "zerolinecolor": "white"
           },
           "zaxis": {
            "backgroundcolor": "#E5ECF6",
            "gridcolor": "white",
            "gridwidth": 2,
            "linecolor": "white",
            "showbackground": true,
            "ticks": "",
            "zerolinecolor": "white"
           }
          },
          "shapedefaults": {
           "line": {
            "color": "#2a3f5f"
           }
          },
          "ternary": {
           "aaxis": {
            "gridcolor": "white",
            "linecolor": "white",
            "ticks": ""
           },
           "baxis": {
            "gridcolor": "white",
            "linecolor": "white",
            "ticks": ""
           },
           "bgcolor": "#E5ECF6",
           "caxis": {
            "gridcolor": "white",
            "linecolor": "white",
            "ticks": ""
           }
          },
          "title": {
           "x": 0.05
          },
          "xaxis": {
           "automargin": true,
           "gridcolor": "white",
           "linecolor": "white",
           "ticks": "",
           "title": {
            "standoff": 15
           },
           "zerolinecolor": "white",
           "zerolinewidth": 2
          },
          "yaxis": {
           "automargin": true,
           "gridcolor": "white",
           "linecolor": "white",
           "ticks": "",
           "title": {
            "standoff": 15
           },
           "zerolinecolor": "white",
           "zerolinewidth": 2
          }
         }
        },
        "title": {
         "text": "First 5 MNIST Images",
         "x": 0.5,
         "xanchor": "center",
         "y": 0.95,
         "yanchor": "top"
        },
        "width": 1000,
        "xaxis": {
         "anchor": "y",
         "domain": [
          0,
          0.16799999999999998
         ]
        },
        "xaxis2": {
         "anchor": "y2",
         "domain": [
          0.208,
          0.376
         ]
        },
        "xaxis3": {
         "anchor": "y3",
         "domain": [
          0.416,
          0.584
         ]
        },
        "xaxis4": {
         "anchor": "y4",
         "domain": [
          0.624,
          0.792
         ]
        },
        "xaxis5": {
         "anchor": "y5",
         "domain": [
          0.832,
          1
         ]
        },
        "yaxis": {
         "anchor": "x",
         "autorange": "reversed",
         "domain": [
          0,
          1
         ]
        },
        "yaxis2": {
         "anchor": "x2",
         "autorange": "reversed",
         "domain": [
          0,
          1
         ]
        },
        "yaxis3": {
         "anchor": "x3",
         "autorange": "reversed",
         "domain": [
          0,
          1
         ]
        },
        "yaxis4": {
         "anchor": "x4",
         "autorange": "reversed",
         "domain": [
          0,
          1
         ]
        },
        "yaxis5": {
         "anchor": "x5",
         "autorange": "reversed",
         "domain": [
          0,
          1
         ]
        }
       }
      }
     },
     "metadata": {},
     "output_type": "display_data"
    }
   ],
   "source": [
    "train_data, test_data = get_mnist_dataloaders()\n",
    "print(f\"Number of training batches: {len(train_data)}\")\n",
    "print(f\"Number of test batches: {len(test_data)}\\n{'-'*40}\")\n",
    "\n",
    "for batch_idx, (data, target) in enumerate(train_data):\n",
    "    print(\"Data shape:\", data.shape)\n",
    "    print(\"Target shape:\", target.shape)\n",
    "    break\n",
    "\n",
    "# Create a 1x5 subplot grid\n",
    "fig = make_subplots(rows=1, cols=5,\n",
    "                    subplot_titles=[f\"Label: {lbl.item()}\" for lbl in target[:5]])\n",
    "\n",
    "for i, (img, label) in enumerate(zip(data[:5], target[:5])):\n",
    "    img = img.squeeze().numpy()\n",
    "    heatmap = go.Heatmap(\n",
    "        z=img,\n",
    "        colorscale=\"gray\",\n",
    "        showscale=False\n",
    "    )\n",
    "    fig.add_trace(heatmap, row=1, col=i+1)\n",
    "\n",
    "# Fix orientation: y-axis reversed, no mirroring\n",
    "fig.update_yaxes(autorange=\"reversed\", scaleanchor=None)\n",
    "\n",
    "fig.update_layout(\n",
    "    width=1000, height=250,\n",
    "    margin=dict(l=10, r=10, b=10, t=60),  # increase top margin\n",
    "    title=dict(\n",
    "        text=\"First 5 MNIST Images\",\n",
    "        y=0.95,               # position closer to top (0–1 range)\n",
    "        x=0.5,                # center\n",
    "        xanchor='center',\n",
    "        yanchor='top'\n",
    "    )\n",
    ")\n",
    "\n",
    "fig.show()\n",
    "\n",
    "del train_data, test_data, data, target, batch_idx, img, label, heatmap, fig"
   ]
  },
  {
   "cell_type": "markdown",
   "id": "372cc92d",
   "metadata": {},
   "source": [
    "### Simple Neural Network"
   ]
  },
  {
   "cell_type": "code",
   "execution_count": 4,
   "id": "06861a3d",
   "metadata": {},
   "outputs": [],
   "source": [
    "class SimpleMLP(nn.Module):\n",
    "    def __init__(self, input_size=28*28, hidden_sizes=[128, 64], num_classes=10):\n",
    "        super(SimpleMLP, self).__init__()\n",
    "        self.fc1 = nn.Linear(input_size, hidden_sizes[0])\n",
    "        self.fc2 = nn.Linear(hidden_sizes[0], hidden_sizes[1])\n",
    "        self.fc3 = nn.Linear(hidden_sizes[1], num_classes)\n",
    "    \n",
    "    def forward(self, x):\n",
    "        x = x.view(x.size(0), -1)  # flatten\n",
    "        x = F.relu(self.fc1(x))\n",
    "        x = F.relu(self.fc2(x))\n",
    "        x = self.fc3(x)\n",
    "        return x\n"
   ]
  },
  {
   "cell_type": "markdown",
   "id": "b1bc128d",
   "metadata": {},
   "source": [
    "```mermaid\n",
    "graph LR\n",
    "    A[\"Input Layer (28x28 = 784)\"] --> B[\"FC1: Linear (784 → 128)\"]\n",
    "    B --> C[ReLU]\n",
    "    C --> D[\"FC2: Linear(128 → 64)\"]\n",
    "    D --> E[ReLU]\n",
    "    E --> F[\"FC3: Linear(64 → 10)\"]\n",
    "    F --> G[\"Output Layer (10 classes)\"]\n",
    "```"
   ]
  },
  {
   "cell_type": "code",
   "execution_count": 5,
   "id": "20ea1d8e",
   "metadata": {},
   "outputs": [],
   "source": [
    "def accuracy(outputs, labels):\n",
    "    \"\"\"Compute accuracy, given logits outputs and true labels.\"\"\"\n",
    "    _, preds = torch.max(outputs, 1)\n",
    "    return torch.mean((preds == labels).float())\n"
   ]
  },
  {
   "cell_type": "code",
   "execution_count": 6,
   "id": "3daaee87",
   "metadata": {},
   "outputs": [],
   "source": [
    "def train(\n",
    "    epochs=5,\n",
    "    batch_size=64,\n",
    "    learning_rate=1e-3,\n",
    "    device=None\n",
    "):\n",
    "    if device is None:\n",
    "        device = torch.device(\"cuda\" if torch.cuda.is_available() else \"cpu\")\n",
    "    print(\"Using device:\", device)\n",
    "    \n",
    "    train_loader, test_loader = get_mnist_dataloaders(batch_size=batch_size)\n",
    "    model = SimpleMLP().to(device)\n",
    "    criterion = nn.CrossEntropyLoss()\n",
    "    optimizer = optim.Adam(model.parameters(), lr=learning_rate)\n",
    "    \n",
    "    for epoch in range(1, epochs + 1):\n",
    "        model.train()\n",
    "        running_loss = 0.0\n",
    "        running_acc = 0.0\n",
    "        for batch_idx, (data, target) in enumerate(train_loader):\n",
    "            data, target = data.to(device), target.to(device)\n",
    "            optimizer.zero_grad()\n",
    "            outputs = model(data)\n",
    "            loss = criterion(outputs, target)\n",
    "            loss.backward()\n",
    "            optimizer.step()\n",
    "            \n",
    "            running_loss += loss.item()\n",
    "            running_acc += accuracy(outputs, target).item()\n",
    "        \n",
    "        avg_loss = running_loss / len(train_loader)\n",
    "        avg_acc  = running_acc / len(train_loader)\n",
    "        print(f\"Epoch {epoch} — loss: {avg_loss:.4f}, acc: {avg_acc:.4f}\")\n",
    "        \n",
    "        # evaluate on test set\n",
    "        model.eval()\n",
    "        test_loss = 0.0\n",
    "        test_acc = 0.0\n",
    "        with torch.no_grad():\n",
    "            for data, target in test_loader:\n",
    "                data, target = data.to(device), target.to(device)\n",
    "                outputs = model(data)\n",
    "                loss = criterion(outputs, target)\n",
    "                test_loss += loss.item()\n",
    "                test_acc += accuracy(outputs, target).item()\n",
    "        test_loss /= len(test_loader)\n",
    "        test_acc  /= len(test_loader)\n",
    "        print(f\" → Test — loss: {test_loss:.4f}, acc: {test_acc:.4f}\")\n",
    "    \n",
    "    return model\n"
   ]
  },
  {
   "cell_type": "code",
   "execution_count": 7,
   "id": "aa927ee4",
   "metadata": {},
   "outputs": [
    {
     "name": "stdout",
     "output_type": "stream",
     "text": [
      "Using device: cpu\n",
      "Epoch 1 — loss: 0.3180, acc: 0.9075\n",
      " → Test — loss: 0.1528, acc: 0.9539\n",
      "Epoch 2 — loss: 0.1333, acc: 0.9597\n",
      " → Test — loss: 0.1285, acc: 0.9612\n",
      "Epoch 3 — loss: 0.0947, acc: 0.9715\n",
      " → Test — loss: 0.0991, acc: 0.9714\n",
      "Model saved to simple_mlp.pth\n"
     ]
    }
   ],
   "source": [
    "model = train(epochs=3, batch_size=128, learning_rate=1e-3)\n",
    "\n",
    "torch.save(model.state_dict(), \"simple_mlp.pth\")\n",
    "print(\"Model saved to simple_mlp.pth\")"
   ]
  },
  {
   "cell_type": "code",
   "execution_count": 8,
   "id": "cd660fc8",
   "metadata": {},
   "outputs": [
    {
     "data": {
      "text/plain": [
       "SimpleMLP(\n",
       "  (fc1): Linear(in_features=784, out_features=128, bias=True)\n",
       "  (fc2): Linear(in_features=128, out_features=64, bias=True)\n",
       "  (fc3): Linear(in_features=64, out_features=10, bias=True)\n",
       ")"
      ]
     },
     "execution_count": 8,
     "metadata": {},
     "output_type": "execute_result"
    }
   ],
   "source": [
    "# Load trained model\n",
    "device = torch.device(\"cuda\" if torch.cuda.is_available() else \"cpu\")\n",
    "model = SimpleMLP()\n",
    "model.load_state_dict(torch.load(\"simple_mlp.pth\", map_location=device))\n",
    "model.to(device)\n",
    "model.eval()"
   ]
  },
  {
   "cell_type": "code",
   "execution_count": 17,
   "id": "45f64807",
   "metadata": {},
   "outputs": [
    {
     "name": "stdout",
     "output_type": "stream",
     "text": [
      "Data shape: torch.Size([5, 1, 28, 28])\n",
      "Target shape: torch.Size([5])\n"
     ]
    },
    {
     "data": {
      "application/vnd.plotly.v1+json": {
       "config": {
        "plotlyServerURL": "https://plot.ly"
       },
       "data": [
        {
         "colorscale": [
          [
           0,
           "rgb(0, 0, 0)"
          ],
          [
           0.09090909090909091,
           "rgb(16, 16, 16)"
          ],
          [
           0.18181818181818182,
           "rgb(38, 38, 38)"
          ],
          [
           0.2727272727272727,
           "rgb(59, 59, 59)"
          ],
          [
           0.36363636363636365,
           "rgb(81, 80, 80)"
          ],
          [
           0.45454545454545453,
           "rgb(102, 101, 101)"
          ],
          [
           0.5454545454545454,
           "rgb(124, 123, 122)"
          ],
          [
           0.6363636363636364,
           "rgb(146, 146, 145)"
          ],
          [
           0.7272727272727273,
           "rgb(171, 171, 170)"
          ],
          [
           0.8181818181818182,
           "rgb(197, 197, 195)"
          ],
          [
           0.9090909090909091,
           "rgb(224, 224, 223)"
          ],
          [
           1,
           "rgb(254, 254, 253)"
          ]
         ],
         "showscale": false,
         "type": "heatmap",
         "xaxis": "x",
         "yaxis": "y",
         "z": {
          "bdata": "cTLZvnEy2b5xMtm+cTLZvnEy2b5xMtm+cTLZvnEy2b5xMtm+cTLZvnEy2b5xMtm+cTLZvnEy2b5xMtm+cTLZvnEy2b5xMtm+cTLZvnEy2b5xMtm+cTLZvnEy2b5xMtm+cTLZvnEy2b5xMtm+cTLZvnEy2b5xMtm+cTLZvnEy2b5xMtm+cTLZvnEy2b5xMtm+cTLZvnEy2b5xMtm+cTLZvnEy2b5xMtm+cTLZvnEy2b5xMtm+cTLZvnEy2b5xMtm+cTLZvnEy2b5xMtm+cTLZvnEy2b5xMtm+cTLZvnEy2b5xMtm+cTLZvnEy2b5xMtm+cTLZvnEy2b5xMtm+cTLZvnEy2b5xMtm+cTLZvnEy2b5xMtm+cTLZvnEy2b5xMtm+cTLZvnEy2b5xMtm+cTLZvnEy2b5xMtm+cTLZvnEy2b5xMtm+cTLZvnEy2b5xMtm+cTLZvnEy2b5xMtm+cTLZvnEy2b5xMtm+cTLZvnEy2b5xMtm+cTLZvnEy2b5xMtm+cTLZvnEy2b5xMtm+cTLZvnEy2b5xMtm+cTLZvnEy2b5xMtm+cTLZvnEy2b5xMtm+cTLZvnEy2b5xMtm+cTLZvnEy2b5xMtm+cTLZvnEy2b5xMtm+cTLZvnEy2b5xMtm+cTLZvnEy2b5xMtm+cTLZvnEy2b5xMtm+cTLZvnEy2b5xMtm+cTLZvnEy2b5xMtm+cTLZvnEy2b5xMtm+cTLZvnEy2b5xMtm+cTLZvnEy2b5xMtm+cTLZvnEy2b5xMtm+cTLZvnEy2b5xMtm+cTLZvnEy2b5xMtm+cTLZvgWnE760hYq8cTLZvm8c/D36gpG+BacTvhDse75xMtm+cTLZvnEy2b5xMtm+cTLZvnEy2b5xMtm+cTLZvnEy2b5xMtm+cTLZvnEy2b5xMtm+cTLZvnEy2b5xMtm+cTLZvnEy2b5xMtm+oEpZPuvVjj/m4BhAiOklQFxA/z8p8jJARdgLQObgGECBuxBAXED/P+WQtz9DFn0/PZSrvnEy2b5xMtm+cTLZvnEy2b5xMtm+cTLZvnEy2b5xMtm+cTLZvnEy2b5xMtm+OkcLPXCxGUAz/vs/1dYhQNhtLECfITJAnyEyQJ8hMkCfITJAKfIyQJ8hMkCfITJAnyEyQJ8hMkAp8jJAnyEyQMiq3j9xMtm+cTLZvnEy2b5xMtm+cTLZvnEy2b5xMtm+cTLZvnEy2b5xMtm+cTLZvgWnE76I6SVAnyEyQJ8hMkDEzCpAqv0TQEef/T9Hn/0/3UvgP9jCXz+q/RNA7A4uQJ8hMkCfITJAKfIyQJ8hMkDYbSxA29khP3Ey2b5xMtm+cTLZvnEy2b5xMtm+cTLZvnEy2b5xMtm+cTLZvnEy2b4Q7Hu+/RglQLo38j8mTKc+akmuPIrJR75xMtm+cTLZvorJR75xMtm+islHvtvZIT9KzYE/+TG5P20aD0CfITJAnyEyQDr8KUA60RQ/cTLZvnEy2b5xMtm+cTLZvnEy2b5xMtm+cTLZvnEy2b5xMtm+cTLZvje6Uj9qSa48cTLZvnEy2b5xMtm+cTLZvnEy2b5xMtm+cTLZvnEy2b5xMtm+cTLZvnEy2b6KyUe+CfUGQCnyMkAp8jJA+TG5P3Ey2b5xMtm+cTLZvnEy2b5xMtm+cTLZvnEy2b5xMtm+cTLZvnEy2b5xMtm+cTLZvnEy2b5xMtm+cTLZvnEy2b5xMtm+cTLZvnEy2b5xMtm+cTLZvnEy2b5xMtm+cTLZvqavIL6I6SVAnyEyQPkxuT9xMtm+cTLZvnEy2b5xMtm+cTLZvnEy2b5xMtm+cTLZvnEy2b5xMtm+cTLZvnEy2b5xMtm+cTLZvnEy2b5xMtm+cTLZvnEy2b5xMtm+cTLZvnEy2b5xMtm+cTLZvnEy2b7sD6W+6XcjQJ8hMkBDiKo/cTLZvnEy2b5xMtm+cTLZvnEy2b5xMtm+cTLZvnEy2b5xMtm+cTLZvnEy2b5xMtm+cTLZvnEy2b5xMtm+cTLZvnEy2b5xMtm+cTLZvnEy2b5xMtm+cTLZvnEy2b5xMtm+mjrGP58hMkD9GCVAy8ryvHEy2b5xMtm+cTLZvnEy2b5xMtm+cTLZvnEy2b5xMtm+cTLZvnEy2b5xMtm+cTLZvnEy2b4Y2bo+9xr3P4G7EECBuxBAgbsQQAyMEUCBuxBAgbsQQGzKrT96y2w/KLmTPzr8KUCfITJA0e+1P3Ey2b5xMtm+cTLZvnEy2b5xMtm+cTLZvnEy2b5xMtm+cTLZvnEy2b5xMtm+cTLZvm+qYb184i4/s8IzQCnyMkAp8jJAKfIyQCnyMkA9kzRAKfIyQCnyMkAp8jJAKfIyQD2TNEAp8jJAIC0TQJ777j5xMtm+cTLZvnEy2b5xMtm+cTLZvnEy2b5xMtm+cTLZvnEy2b5xMtm+b6phvbo38j/V1iFAnyEyQCnyMkCfITJAnyEyQJ8hMkCfITJAKfIyQJ8hMkCfITJAnyEyQJ8hMkAp8jJAnyEyQKavIL5xMtm+cTLZvnEy2b5xMtm+cTLZvnEy2b5xMtm+cTLZvnEy2b5xMtm+y8ryvJZcEkCfITJAnyEyQJ8hMkAp8jJA2G0sQDr8KUCfITJAnyEyQCnyMkCfITJAnyEyQJ8hMkCfITJAKfIyQJ8hMkDb2SE/cTLZvnEy2b5xMtm+cTLZvnEy2b5xMtm+cTLZvnEy2b5xMtm+cTLZvg3Tuj+fITJAnyEyQJ8hMkAJ9QZAej2aPzS/kz6EQ5o+nyEyQJ8hMkAp8jJAnyEyQOwOLkBHn/0/qv0TQCnyMkCfITJA2G0sQDS/kz5xMtm+cTLZvnEy2b5xMtm+cTLZvnEy2b5xMtm+cTLZvnEy2b5CQQFAnyEyQJ8hMkCaOsY/PZSrvnofGD46Rws9w5OLP58hMkCfITJAKfIyQAWO4z+8MDI+cTLZvorJR75khdY/nyEyQJ8hMkB+JAZAislHvnEy2b5xMtm+cTLZvnEy2b5xMtm+cTLZvnEy2b5xMtm+s8IzQCnyMkD5Mbk/bxz8PS3Q5j8MjBFAoEpZPthtLECGmcQ/estsP3Ey2b5xMtm+cTLZvnEy2b5xMtm+islHvoBrrz+LgDBAKfIyQG0aD0BxMtm+cTLZvnEy2b5xMtm+cTLZvnEy2b5xMtm+cTLZvinyMkCfITJAnyEyQJ8hMkCfITJAxMwqQM/Y8z+GsIY/pq8gvnEy2b5xMtm+cTLZvnEy2b5xMtm+cTLZvnEy2b5xMtm+1cegPt9ioj8ouZM/cTLZvnEy2b5xMtm+cTLZvnEy2b5xMtm+cTLZvnEy2b6TxQdAnyEyQBVRMUBF2AtAyKreP2ScmD+n6K09cTLZvnEy2b5xMtm+cTLZvnEy2b5xMtm+cTLZvnEy2b5xMtm+cTLZvnEy2b5xMtm+cTLZvnEy2b5xMtm+cTLZvnEy2b5xMtm+cTLZvnEy2b5xMtm+QxZ9P0ef/T9UoCs/cTLZvnEy2b5xMtm+cTLZvnEy2b5xMtm+cTLZvnEy2b5xMtm+cTLZvnEy2b5xMtm+cTLZvnEy2b5xMtm+cTLZvnEy2b5xMtm+cTLZvnEy2b5xMtm+cTLZvnEy2b5xMtm+cTLZvnEy2b5xMtm+cTLZvnEy2b5xMtm+cTLZvnEy2b5xMtm+cTLZvnEy2b5xMtm+cTLZvnEy2b5xMtm+cTLZvnEy2b5xMtm+cTLZvnEy2b5xMtm+cTLZvnEy2b5xMtm+cTLZvnEy2b5xMtm+cTLZvnEy2b5xMtm+cTLZvnEy2b5xMtm+cTLZvnEy2b5xMtm+cTLZvnEy2b5xMtm+cTLZvnEy2b5xMtm+cTLZvnEy2b5xMtm+cTLZvnEy2b5xMtm+cTLZvnEy2b5xMtm+cTLZvnEy2b5xMtm+cTLZvnEy2b5xMtm+cTLZvnEy2b5xMtm+cTLZvnEy2b5xMtm+cTLZvnEy2b5xMtm+cTLZvnEy2b5xMtm+cTLZvnEy2b5xMtm+cTLZvnEy2b5xMtm+cTLZvnEy2b5xMtm+cTLZvnEy2b5xMtm+cTLZvnEy2b5xMtm+cTLZvnEy2b5xMtm+cTLZvnEy2b5xMtm+cTLZvnEy2b5xMtm+cTLZvnEy2b5xMtm+cTLZvnEy2b5xMtm+cTLZvnEy2b5xMtm+cTLZvnEy2b5xMtm+cTLZvnEy2b5xMtm+cTLZvg==",
          "dtype": "f4",
          "shape": "28, 28"
         }
        },
        {
         "colorscale": [
          [
           0,
           "rgb(0, 0, 0)"
          ],
          [
           0.09090909090909091,
           "rgb(16, 16, 16)"
          ],
          [
           0.18181818181818182,
           "rgb(38, 38, 38)"
          ],
          [
           0.2727272727272727,
           "rgb(59, 59, 59)"
          ],
          [
           0.36363636363636365,
           "rgb(81, 80, 80)"
          ],
          [
           0.45454545454545453,
           "rgb(102, 101, 101)"
          ],
          [
           0.5454545454545454,
           "rgb(124, 123, 122)"
          ],
          [
           0.6363636363636364,
           "rgb(146, 146, 145)"
          ],
          [
           0.7272727272727273,
           "rgb(171, 171, 170)"
          ],
          [
           0.8181818181818182,
           "rgb(197, 197, 195)"
          ],
          [
           0.9090909090909091,
           "rgb(224, 224, 223)"
          ],
          [
           1,
           "rgb(254, 254, 253)"
          ]
         ],
         "showscale": false,
         "type": "heatmap",
         "xaxis": "x2",
         "yaxis": "y2",
         "z": {
          "bdata": "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",
          "dtype": "f4",
          "shape": "28, 28"
         }
        },
        {
         "colorscale": [
          [
           0,
           "rgb(0, 0, 0)"
          ],
          [
           0.09090909090909091,
           "rgb(16, 16, 16)"
          ],
          [
           0.18181818181818182,
           "rgb(38, 38, 38)"
          ],
          [
           0.2727272727272727,
           "rgb(59, 59, 59)"
          ],
          [
           0.36363636363636365,
           "rgb(81, 80, 80)"
          ],
          [
           0.45454545454545453,
           "rgb(102, 101, 101)"
          ],
          [
           0.5454545454545454,
           "rgb(124, 123, 122)"
          ],
          [
           0.6363636363636364,
           "rgb(146, 146, 145)"
          ],
          [
           0.7272727272727273,
           "rgb(171, 171, 170)"
          ],
          [
           0.8181818181818182,
           "rgb(197, 197, 195)"
          ],
          [
           0.9090909090909091,
           "rgb(224, 224, 223)"
          ],
          [
           1,
           "rgb(254, 254, 253)"
          ]
         ],
         "showscale": false,
         "type": "heatmap",
         "xaxis": "x3",
         "yaxis": "y3",
         "z": {
          "bdata": "cTLZvnEy2b5xMtm+cTLZvnEy2b5xMtm+cTLZvnEy2b5xMtm+cTLZvnEy2b5xMtm+cTLZvnEy2b5xMtm+cTLZvnEy2b5xMtm+cTLZvnEy2b5xMtm+cTLZvnEy2b5xMtm+cTLZvnEy2b5xMtm+cTLZvnEy2b5xMtm+cTLZvnEy2b5xMtm+cTLZvnEy2b5xMtm+cTLZvnEy2b5xMtm+cTLZvnEy2b5xMtm+cTLZvnEy2b5xMtm+cTLZvnEy2b5xMtm+cTLZvnEy2b5xMtm+cTLZvnEy2b5xMtm+cTLZvnEy2b5xMtm+cTLZvnEy2b5xMtm+cTLZvnEy2b5xMtm+cTLZvnEy2b5xMtm+cTLZvnEy2b5xMtm+cTLZvnEy2b5xMtm+cTLZvnEy2b5xMtm+cTLZvnEy2b5xMtm+cTLZvnEy2b5xMtm+cTLZvnEy2b5xMtm+cTLZvnEy2b5xMtm+cTLZvnEy2b5xMtm+cTLZvnEy2b5xMtm+cTLZvnEy2b5xMtm+cTLZvnEy2b5xMtm+cTLZvnEy2b5xMtm+cTLZvnEy2b5xMtm+cTLZvnEy2b5xMtm+cTLZvnEy2b5xMtm+cTLZvnEy2b5xMtm+cTLZvnEy2b5xMtm+cTLZvnEy2b5xMtm+cTLZvnEy2b5xMtm+cTLZvnEy2b7enLi+ej2aPz2TNEA9kzRAPZM0QAyMEUAsXig/IK7SvnEy2b5xMtm+cTLZvnEy2b5xMtm+cTLZvnEy2b5xMtm+cTLZvnEy2b5xMtm+cTLZvnEy2b5xMtm+cTLZvnEy2b5xMtm+cTLZvpuLnr6/aT890j8XQCnyMkAp8jJATp0rQBVRMUAp8jJAALAvQG+qYb1xMtm+cTLZvnEy2b5xMtm+cTLZvnEy2b5xMtm+cTLZvnEy2b5xMtm+cTLZvnEy2b5xMtm+cTLZvnEy2b5xMtm+cTLZvsvK8rw0zhRAKfIyQCnyMkAAsC9AHZYIQIQr8731qDg/cvjCP1biAkAFpxO+73/1Ps1mNT8grtK+cTLZvnEy2b5xMtm+cTLZvnEy2b5xMtm+cTLZvnEy2b5xMtm+cTLZvnEy2b5xMtm+b+NuvtjCXz+q/RNAKfIyQHbfLkAdlghAOtEUP3Ey2b5xMtm+cTLZvnEy2b5xMtm+NiyAPynyMkA6/ClAQAT8PnEy2b5xMtm+cTLZvnEy2b5xMtm+cTLZvnEy2b5xMtm+cTLZvnEy2b5xMtm+cTLZvs1mNT8p8jJAKfIyQHbfLkDDk4s/cTLZvnEy2b5xMtm+cTLZvnEy2b5xMtm+cTLZvvkxuT8p8jJA9+oPQD2Uq75xMtm+cTLZvnEy2b5xMtm+cTLZvnEy2b5xMtm+cTLZvnEy2b5xMtm+0CnMvrwwMj6q/RNAKfIyQDdlH0DDk4s/cTLZvnEy2b5xMtm+cTLZvnEy2b5xMtm+cTLZvhDse74TGJI/KfIyQNI/F0BLB5i+cTLZvnEy2b5xMtm+cTLZvnEy2b5xMtm+cTLZvnEy2b5xMtm+cTLZvj2Uq74J9QZAKfIyQHbfLkDpTA4/cTLZvnEy2b5xMtm+cTLZvnEy2b5xMtm+cTLZvnEy2b5yD4U/KfIyQCnyMkCKyUe+cTLZvnEy2b5xMtm+cTLZvnEy2b5xMtm+cTLZvnEy2b5xMtm+cTLZvnEy2b6/aT89KfIyQHbfLkB+VO0/cTLZvnEy2b5xMtm+cTLZvnEy2b5xMtm+cTLZvszaYb6gSlk+hFIbQCnyMkCu28c/jRiyvnEy2b5xMtm+cTLZvnEy2b5xMtm+cTLZvnEy2b5xMtm+cTLZvnEy2b5xMtm+GyglPjdlH0BiPi1AZIXWP6avIL5xMtm+cTLZvnEy2b5xMtm+cTLZvnEy2b7zkXY/KfIyQCnyMkDP2PM/PZSrvnEy2b5xMtm+cTLZvnEy2b5xMtm+cTLZvnEy2b5xMtm+cTLZvnEy2b5xMtm+cTLZvi4hv77Iqt4/KfIyQCnyMkBub0I/cTLZvnEy2b5xMtm+cTLZvl45Pz5f/FU/JlsoQNXWIUC4cABANL+TPnEy2b5xMtm+cTLZvnEy2b5xMtm+cTLZvnEy2b5xMtm+cTLZvnEy2b5xMtm+cTLZvnEy2b5/pcW+73/1Pg8jHEAp8jJAIC0TQN1L4D8FpxO+zNphvl/8VT+ciidAKfIyQH4kBkDHVLQ+cTLZvnEy2b5xMtm+cTLZvnEy2b5xMtm+cTLZvnEy2b5xMtm+cTLZvnEy2b5xMtm+cTLZvnEy2b5xMtm+cTLZvnEy2b7jW3M+KfIyQCnyMkAp8jJANM4UQIG7EEAp8jJAX6ciQJQMsT/6gpG+cTLZvnEy2b5xMtm+cTLZvnEy2b5xMtm+cTLZvnEy2b5xMtm+cTLZvnEy2b5xMtm+cTLZvnEy2b5xMtm+cTLZvnEy2b5xMtm+3py4vrrhxz7jefU/KfIyQCnyMkAp8jJAKfIyQCZbKEB6Hxg+cTLZvnEy2b5xMtm+cTLZvnEy2b5xMtm+cTLZvnEy2b5xMtm+cTLZvnEy2b5xMtm+cTLZvnEy2b5xMtm+cTLZvnEy2b5xMtm+cTLZvnEy2b5xMtm+PZSrvv92kD8p8jJAKfIyQCnyMkAp8jJAN7pSP3Ey2b5xMtm+cTLZvnEy2b5xMtm+cTLZvnEy2b5xMtm+cTLZvnEy2b5xMtm+cTLZvnEy2b5xMtm+cTLZvnEy2b5xMtm+cTLZvnEy2b5xMtm+cTLZvnEy2b4Y2bo+KfIyQCnyMkAp8jJAKfIyQMTMKkBqs+s/zNphvnEy2b5xMtm+cTLZvnEy2b5xMtm+cTLZvnEy2b5xMtm+cTLZvnEy2b5xMtm+cTLZvnEy2b5xMtm+cTLZvnEy2b5xMtm+cTLZvnEy2b664cc+C7z4P+l3I0BknJg/6octvUq2vz8p8jJAKfIyQF5XwT9xMtm+cTLZvnEy2b5xMtm+cTLZvnEy2b5xMtm+cTLZvnEy2b5xMtm+cTLZvnEy2b5xMtm+cTLZvnEy2b5xMtm+cTLZvnEy2b5xMtm+EwHQPynyMkCtlB5AOkcLPXEy2b49lKu+uwcLQCnyMkDYbSxApwKJu3Ey2b5xMtm+cTLZvnEy2b5xMtm+cTLZvnEy2b5xMtm+cTLZvnEy2b5xMtm+cTLZvnEy2b5xMtm+cTLZvnEy2b5xMtm+BBwlP+wOLkAp8jJAi4AwQPkxuT82LIA/NiyAP/qBGkAp8jJA/1/OP6avIL5xMtm+cTLZvnEy2b5xMtm+cTLZvnEy2b5xMtm+cTLZvnEy2b5xMtm+cTLZvnEy2b5xMtm+cTLZvnEy2b5xMtm+cTLZvr9pPz0p8jJAKfIyQCnyMkAp8jJAKfIyQCnyMkAp8jJANM4UQGOeBr5xMtm+cTLZvnEy2b5xMtm+cTLZvnEy2b5xMtm+cTLZvnEy2b5xMtm+cTLZvnEy2b5xMtm+cTLZvnEy2b5xMtm+cTLZvnEy2b4grtK+LF4oP47emz9y+MI/KfIyQCnyMkBcEBhAjt6bP3rmir1xMtm+cTLZvnEy2b5xMtm+cTLZvnEy2b5xMtm+cTLZvnEy2b5xMtm+cTLZvnEy2b5xMtm+cTLZvnEy2b5xMtm+cTLZvnEy2b5xMtm+cTLZvnEy2b5xMtm+cTLZvnEy2b5xMtm+cTLZvnEy2b5xMtm+cTLZvnEy2b5xMtm+cTLZvnEy2b5xMtm+cTLZvnEy2b5xMtm+cTLZvnEy2b5xMtm+cTLZvnEy2b5xMtm+cTLZvnEy2b5xMtm+cTLZvnEy2b5xMtm+cTLZvnEy2b5xMtm+cTLZvnEy2b5xMtm+cTLZvnEy2b5xMtm+cTLZvnEy2b5xMtm+cTLZvnEy2b5xMtm+cTLZvnEy2b5xMtm+cTLZvnEy2b5xMtm+cTLZvnEy2b5xMtm+cTLZvnEy2b5xMtm+cTLZvnEy2b5xMtm+cTLZvnEy2b5xMtm+cTLZvnEy2b5xMtm+cTLZvnEy2b5xMtm+cTLZvnEy2b5xMtm+cTLZvnEy2b5xMtm+cTLZvnEy2b5xMtm+cTLZvnEy2b5xMtm+cTLZvnEy2b5xMtm+cTLZvnEy2b5xMtm+cTLZvnEy2b5xMtm+cTLZvnEy2b5xMtm+cTLZvnEy2b5xMtm+cTLZvnEy2b5xMtm+cTLZvnEy2b5xMtm+cTLZvg==",
          "dtype": "f4",
          "shape": "28, 28"
         }
        },
        {
         "colorscale": [
          [
           0,
           "rgb(0, 0, 0)"
          ],
          [
           0.09090909090909091,
           "rgb(16, 16, 16)"
          ],
          [
           0.18181818181818182,
           "rgb(38, 38, 38)"
          ],
          [
           0.2727272727272727,
           "rgb(59, 59, 59)"
          ],
          [
           0.36363636363636365,
           "rgb(81, 80, 80)"
          ],
          [
           0.45454545454545453,
           "rgb(102, 101, 101)"
          ],
          [
           0.5454545454545454,
           "rgb(124, 123, 122)"
          ],
          [
           0.6363636363636364,
           "rgb(146, 146, 145)"
          ],
          [
           0.7272727272727273,
           "rgb(171, 171, 170)"
          ],
          [
           0.8181818181818182,
           "rgb(197, 197, 195)"
          ],
          [
           0.9090909090909091,
           "rgb(224, 224, 223)"
          ],
          [
           1,
           "rgb(254, 254, 253)"
          ]
         ],
         "showscale": false,
         "type": "heatmap",
         "xaxis": "x4",
         "yaxis": "y4",
         "z": {
          "bdata": "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",
          "dtype": "f4",
          "shape": "28, 28"
         }
        },
        {
         "colorscale": [
          [
           0,
           "rgb(0, 0, 0)"
          ],
          [
           0.09090909090909091,
           "rgb(16, 16, 16)"
          ],
          [
           0.18181818181818182,
           "rgb(38, 38, 38)"
          ],
          [
           0.2727272727272727,
           "rgb(59, 59, 59)"
          ],
          [
           0.36363636363636365,
           "rgb(81, 80, 80)"
          ],
          [
           0.45454545454545453,
           "rgb(102, 101, 101)"
          ],
          [
           0.5454545454545454,
           "rgb(124, 123, 122)"
          ],
          [
           0.6363636363636364,
           "rgb(146, 146, 145)"
          ],
          [
           0.7272727272727273,
           "rgb(171, 171, 170)"
          ],
          [
           0.8181818181818182,
           "rgb(197, 197, 195)"
          ],
          [
           0.9090909090909091,
           "rgb(224, 224, 223)"
          ],
          [
           1,
           "rgb(254, 254, 253)"
          ]
         ],
         "showscale": false,
         "type": "heatmap",
         "xaxis": "x5",
         "yaxis": "y5",
         "z": {
          "bdata": "cTLZvnEy2b5xMtm+cTLZvnEy2b5xMtm+cTLZvnEy2b5xMtm+cTLZvnEy2b5xMtm+cTLZvnEy2b5xMtm+cTLZvnEy2b5xMtm+cTLZvnEy2b5xMtm+cTLZvnEy2b5xMtm+cTLZvnEy2b5xMtm+cTLZvnEy2b5xMtm+cTLZvnEy2b5xMtm+cTLZvnEy2b5xMtm+cTLZvnEy2b5xMtm+cTLZvnEy2b5xMtm+cTLZvnEy2b5xMtm+cTLZvnEy2b5xMtm+cTLZvnEy2b5xMtm+cTLZvnEy2b5xMtm+cTLZvnEy2b5xMtm+cTLZvnEy2b5xMtm+cTLZvnEy2b5xMtm+cTLZvnEy2b5xMtm+cTLZvnEy2b5xMtm+cTLZvnEy2b5xMtm+cTLZvnEy2b5xMtm+cTLZvnEy2b5xMtm+cTLZvnEy2b5xMtm+cTLZvnEy2b5xMtm+cTLZvnEy2b5xMtm+cTLZvnEy2b5xMtm+cTLZvnEy2b5xMtm+cTLZvnEy2b5xMtm+cTLZvnEy2b5xMtm+cTLZvnEy2b5xMtm+cTLZvnEy2b5xMtm+cTLZvnEy2b5xMtm+cTLZvnEy2b5xMtm+cTLZvnEy2b5xMtm+cTLZvnEy2b5xMtm+cTLZvnEy2b5xMtm+cTLZvnEy2b5xMtm+cTLZvnEy2b5xMtm+cTLZvnEy2b5whgQ//1/OP/qBGkCMx9k/k7aGPnEy2b5xMtm+cTLZvnEy2b5xMtm+cTLZvnEy2b5xMtm+cTLZvnEy2b5xMtm+cTLZvnEy2b5xMtm+cTLZvnEy2b5xMtm+cTLZvnEy2b5xMtm+cTLZvnEy2b4TGJI/2G0sQAyMEUD/dpA/ppbwP+l3I0Bl15M9cTLZvnEy2b5xMtm+cTLZvnEy2b5xMtm+cTLZvnEy2b5xMtm+cTLZvnEy2b5xMtm+cTLZvnEy2b5xMtm+cTLZvnEy2b5xMtm+cTLZvnEy2b5vHPw9nyEyQAEFYz9xMtm+cTLZvvqCkb66N/I/DdO6P3Ey2b5xMtm+cTLZvnEy2b5xMtm+cTLZvnEy2b5xMtm+cTLZvnEy2b5xMtm+cTLZvnEy2b5xMtm+cTLZvnEy2b5xMtm+cTLZvnEy2b5eOT8+1dYhQGhdwT5xMtm+cTLZvnEy2b5xMtm+WXkNQGzKrT9xMtm+cTLZvnEy2b5xMtm+cTLZvnEy2b5xMtm+cTLZvnEy2b5xMtm+cTLZvnEy2b5xMtm+cTLZvnEy2b5xMtm+cTLZvnEy2b6gSlk+DyMcQNjCXz9xMtm+cTLZvnEy2b5xMtm+EHhPP+wOLkDHVLQ+cTLZvnEy2b5xMtm+cTLZvnEy2b5xMtm+cTLZvnEy2b5xMtm+cTLZvnEy2b5xMtm+cTLZvnEy2b5xMtm+cTLZvnEy2b49lKu+zBECQEFx6D9xMtm+cTLZvnEy2b5xMtm+6vnHPZnzHEALvPg/cTLZvnEy2b5xMtm+cTLZvnEy2b5xMtm+cTLZvnEy2b5xMtm+cTLZvnEy2b5xMtm+cTLZvnEy2b5xMtm+cTLZvnEy2b5xMtm+LF4oPyAtE0D6gpG+cTLZvnEy2b5xMtm+ZdeTPTdlH0BHn/0/EOx7vnEy2b5xMtm+cTLZvnEy2b5xMtm+cTLZvnEy2b5xMtm+cTLZvnEy2b5xMtm+cTLZvnEy2b5xMtm+cTLZvnEy2b5xMtm+cTLZvixeKD/0UwVAcTLZvnEy2b5xMtm+C2bOPq2UHkAz/vs/GyglPnEy2b5xMtm+cTLZvnEy2b5xMtm+cTLZvnEy2b5xMtm+cTLZvnEy2b5xMtm+cTLZvnEy2b5xMtm+cTLZvnEy2b5xMtm+cTLZvnEy2b4sXig/hFIbQDE3CkD5Mbk/+TG5P4uAMEDMEQJA2RYLPnEy2b5xMtm+cTLZvnEy2b5xMtm+cTLZvnEy2b5xMtm+cTLZvnEy2b5xMtm+cTLZvnEy2b5xMtm+cTLZvnEy2b5xMtm+cTLZvnEy2b5xMtm+LF4oP7PCM0BDiKo/VuICQP9fzj9DFn0/b+NuvnEy2b5xMtm+cTLZvnEy2b5xMtm+cTLZvnEy2b5xMtm+cTLZvnEy2b5xMtm+cTLZvnEy2b5xMtm+cTLZvnEy2b5xMtm+cTLZvnEy2b5xMtm+3py4vo7emz89kzRAO0PTPyvSVL5xMtm+cTLZvnEy2b5xMtm+cTLZvnEy2b5xMtm+cTLZvnEy2b5xMtm+cTLZvnEy2b5xMtm+cTLZvnEy2b5xMtm+cTLZvnEy2b5xMtm+cTLZvnEy2b5xMtm+BacTvuu+zD+wKylAEromQJyKJ0C0hYq8cTLZvnEy2b5xMtm+cTLZvnEy2b5xMtm+cTLZvnEy2b5xMtm+cTLZvnEy2b5xMtm+cTLZvnEy2b5xMtm+cTLZvnEy2b5xMtm+cTLZvnEy2b5xMtm+f6XFvpL17j+TxQdARIxzPfkxuT8PIxxAcTLZvnEy2b5xMtm+cTLZvnEy2b5xMtm+cTLZvnEy2b5xMtm+cTLZvnEy2b5xMtm+cTLZvnEy2b5xMtm+cTLZvnEy2b5xMtm+cTLZvnEy2b5xMtm+cTLZvkOIqj+zwjNAEo8RP3Ey2b6EQ5o+6XcjQEe4Lb5xMtm+cTLZvnEy2b5xMtm+cTLZvnEy2b5xMtm+cTLZvnEy2b5xMtm+cTLZvnEy2b5xMtm+cTLZvnEy2b5xMtm+cTLZvnEy2b5xMtm+cTLZvo0Ysr40zhRAwnzJPy4hv75xMtm+/wi/vV+nIkBc6tQ+cTLZvnEy2b5xMtm+cTLZvnEy2b5xMtm+cTLZvnEy2b5xMtm+cTLZvnEy2b5xMtm+cTLZvnEy2b5xMtm+cTLZvnEy2b5xMtm+cTLZvnEy2b5LB5i+s8IzQErNgT9xMtm+cTLZvnEy2b6+nhVAB6WlP3Ey2b5xMtm+cTLZvnEy2b5xMtm+cTLZvnEy2b5xMtm+cTLZvnEy2b5xMtm+cTLZvnEy2b5xMtm+cTLZvnEy2b5xMtm+cTLZvnEy2b5xMtm+SweYvrPCM0CorbI/cTLZvnEy2b7q+cc9xMwqQLYgnz9xMtm+cTLZvnEy2b5xMtm+cTLZvnEy2b5xMtm+cTLZvnEy2b5xMtm+cTLZvnEy2b5xMtm+cTLZvnEy2b5xMtm+cTLZvnEy2b5xMtm+cTLZviCu0r7x7OE/nyEyQGScmD8r0lS+Eo8RP7PCM0BOd+g+cTLZvnEy2b5xMtm+cTLZvnEy2b5xMtm+cTLZvnEy2b5xMtm+cTLZvnEy2b5xMtm+cTLZvnEy2b5xMtm+cTLZvnEy2b5xMtm+cTLZvnEy2b5xMtm+QjKAPul3I0CzwjNArZQeQJyKJ0A3ZR9AwQgMPHEy2b5xMtm+cTLZvnEy2b5xMtm+cTLZvnEy2b5xMtm+cTLZvnEy2b5xMtm+cTLZvnEy2b5xMtm+cTLZvnEy2b5xMtm+cTLZvnEy2b5xMtm+cTLZvnEy2b6TtoY+677MP7hwAECiDXA/wQgMPHEy2b5xMtm+cTLZvnEy2b5xMtm+cTLZvnEy2b5xMtm+cTLZvnEy2b5xMtm+cTLZvnEy2b5xMtm+cTLZvnEy2b5xMtm+cTLZvnEy2b5xMtm+cTLZvnEy2b5xMtm+cTLZvnEy2b5xMtm+cTLZvnEy2b5xMtm+cTLZvnEy2b5xMtm+cTLZvnEy2b5xMtm+cTLZvnEy2b5xMtm+cTLZvnEy2b5xMtm+cTLZvnEy2b5xMtm+cTLZvnEy2b5xMtm+cTLZvnEy2b5xMtm+cTLZvnEy2b5xMtm+cTLZvnEy2b5xMtm+cTLZvnEy2b5xMtm+cTLZvnEy2b5xMtm+cTLZvnEy2b5xMtm+cTLZvnEy2b5xMtm+cTLZvnEy2b5xMtm+cTLZvnEy2b5xMtm+cTLZvnEy2b5xMtm+cTLZvnEy2b5xMtm+cTLZvnEy2b5xMtm+cTLZvnEy2b5xMtm+cTLZvnEy2b5xMtm+cTLZvnEy2b5xMtm+cTLZvnEy2b5xMtm+cTLZvnEy2b5xMtm+cTLZvnEy2b5xMtm+cTLZvnEy2b5xMtm+cTLZvnEy2b5xMtm+cTLZvnEy2b5xMtm+cTLZvnEy2b5xMtm+cTLZvnEy2b5xMtm+cTLZvnEy2b5xMtm+cTLZvnEy2b5xMtm+cTLZvnEy2b5xMtm+cTLZvg==",
          "dtype": "f4",
          "shape": "28, 28"
         }
        }
       ],
       "layout": {
        "annotations": [
         {
          "font": {
           "size": 16
          },
          "showarrow": false,
          "text": "True: 2<br>Pred: 2",
          "x": 0.08399999999999999,
          "xanchor": "center",
          "xref": "paper",
          "y": 1,
          "yanchor": "bottom",
          "yref": "paper"
         },
         {
          "font": {
           "size": 16
          },
          "showarrow": false,
          "text": "True: 6<br>Pred: 6",
          "x": 0.292,
          "xanchor": "center",
          "xref": "paper",
          "y": 1,
          "yanchor": "bottom",
          "yref": "paper"
         },
         {
          "font": {
           "size": 16
          },
          "showarrow": false,
          "text": "True: 8<br>Pred: 8",
          "x": 0.5,
          "xanchor": "center",
          "xref": "paper",
          "y": 1,
          "yanchor": "bottom",
          "yref": "paper"
         },
         {
          "font": {
           "size": 16
          },
          "showarrow": false,
          "text": "True: 6<br>Pred: 6",
          "x": 0.708,
          "xanchor": "center",
          "xref": "paper",
          "y": 1,
          "yanchor": "bottom",
          "yref": "paper"
         },
         {
          "font": {
           "size": 16
          },
          "showarrow": false,
          "text": "True: 8<br>Pred: 8",
          "x": 0.9159999999999999,
          "xanchor": "center",
          "xref": "paper",
          "y": 1,
          "yanchor": "bottom",
          "yref": "paper"
         }
        ],
        "height": 250,
        "margin": {
         "b": 10,
         "l": 10,
         "r": 10,
         "t": 90
        },
        "template": {
         "data": {
          "bar": [
           {
            "error_x": {
             "color": "#2a3f5f"
            },
            "error_y": {
             "color": "#2a3f5f"
            },
            "marker": {
             "line": {
              "color": "#E5ECF6",
              "width": 0.5
             },
             "pattern": {
              "fillmode": "overlay",
              "size": 10,
              "solidity": 0.2
             }
            },
            "type": "bar"
           }
          ],
          "barpolar": [
           {
            "marker": {
             "line": {
              "color": "#E5ECF6",
              "width": 0.5
             },
             "pattern": {
              "fillmode": "overlay",
              "size": 10,
              "solidity": 0.2
             }
            },
            "type": "barpolar"
           }
          ],
          "carpet": [
           {
            "aaxis": {
             "endlinecolor": "#2a3f5f",
             "gridcolor": "white",
             "linecolor": "white",
             "minorgridcolor": "white",
             "startlinecolor": "#2a3f5f"
            },
            "baxis": {
             "endlinecolor": "#2a3f5f",
             "gridcolor": "white",
             "linecolor": "white",
             "minorgridcolor": "white",
             "startlinecolor": "#2a3f5f"
            },
            "type": "carpet"
           }
          ],
          "choropleth": [
           {
            "colorbar": {
             "outlinewidth": 0,
             "ticks": ""
            },
            "type": "choropleth"
           }
          ],
          "contour": [
           {
            "colorbar": {
             "outlinewidth": 0,
             "ticks": ""
            },
            "colorscale": [
             [
              0,
              "#0d0887"
             ],
             [
              0.1111111111111111,
              "#46039f"
             ],
             [
              0.2222222222222222,
              "#7201a8"
             ],
             [
              0.3333333333333333,
              "#9c179e"
             ],
             [
              0.4444444444444444,
              "#bd3786"
             ],
             [
              0.5555555555555556,
              "#d8576b"
             ],
             [
              0.6666666666666666,
              "#ed7953"
             ],
             [
              0.7777777777777778,
              "#fb9f3a"
             ],
             [
              0.8888888888888888,
              "#fdca26"
             ],
             [
              1,
              "#f0f921"
             ]
            ],
            "type": "contour"
           }
          ],
          "contourcarpet": [
           {
            "colorbar": {
             "outlinewidth": 0,
             "ticks": ""
            },
            "type": "contourcarpet"
           }
          ],
          "heatmap": [
           {
            "colorbar": {
             "outlinewidth": 0,
             "ticks": ""
            },
            "colorscale": [
             [
              0,
              "#0d0887"
             ],
             [
              0.1111111111111111,
              "#46039f"
             ],
             [
              0.2222222222222222,
              "#7201a8"
             ],
             [
              0.3333333333333333,
              "#9c179e"
             ],
             [
              0.4444444444444444,
              "#bd3786"
             ],
             [
              0.5555555555555556,
              "#d8576b"
             ],
             [
              0.6666666666666666,
              "#ed7953"
             ],
             [
              0.7777777777777778,
              "#fb9f3a"
             ],
             [
              0.8888888888888888,
              "#fdca26"
             ],
             [
              1,
              "#f0f921"
             ]
            ],
            "type": "heatmap"
           }
          ],
          "histogram": [
           {
            "marker": {
             "pattern": {
              "fillmode": "overlay",
              "size": 10,
              "solidity": 0.2
             }
            },
            "type": "histogram"
           }
          ],
          "histogram2d": [
           {
            "colorbar": {
             "outlinewidth": 0,
             "ticks": ""
            },
            "colorscale": [
             [
              0,
              "#0d0887"
             ],
             [
              0.1111111111111111,
              "#46039f"
             ],
             [
              0.2222222222222222,
              "#7201a8"
             ],
             [
              0.3333333333333333,
              "#9c179e"
             ],
             [
              0.4444444444444444,
              "#bd3786"
             ],
             [
              0.5555555555555556,
              "#d8576b"
             ],
             [
              0.6666666666666666,
              "#ed7953"
             ],
             [
              0.7777777777777778,
              "#fb9f3a"
             ],
             [
              0.8888888888888888,
              "#fdca26"
             ],
             [
              1,
              "#f0f921"
             ]
            ],
            "type": "histogram2d"
           }
          ],
          "histogram2dcontour": [
           {
            "colorbar": {
             "outlinewidth": 0,
             "ticks": ""
            },
            "colorscale": [
             [
              0,
              "#0d0887"
             ],
             [
              0.1111111111111111,
              "#46039f"
             ],
             [
              0.2222222222222222,
              "#7201a8"
             ],
             [
              0.3333333333333333,
              "#9c179e"
             ],
             [
              0.4444444444444444,
              "#bd3786"
             ],
             [
              0.5555555555555556,
              "#d8576b"
             ],
             [
              0.6666666666666666,
              "#ed7953"
             ],
             [
              0.7777777777777778,
              "#fb9f3a"
             ],
             [
              0.8888888888888888,
              "#fdca26"
             ],
             [
              1,
              "#f0f921"
             ]
            ],
            "type": "histogram2dcontour"
           }
          ],
          "mesh3d": [
           {
            "colorbar": {
             "outlinewidth": 0,
             "ticks": ""
            },
            "type": "mesh3d"
           }
          ],
          "parcoords": [
           {
            "line": {
             "colorbar": {
              "outlinewidth": 0,
              "ticks": ""
             }
            },
            "type": "parcoords"
           }
          ],
          "pie": [
           {
            "automargin": true,
            "type": "pie"
           }
          ],
          "scatter": [
           {
            "fillpattern": {
             "fillmode": "overlay",
             "size": 10,
             "solidity": 0.2
            },
            "type": "scatter"
           }
          ],
          "scatter3d": [
           {
            "line": {
             "colorbar": {
              "outlinewidth": 0,
              "ticks": ""
             }
            },
            "marker": {
             "colorbar": {
              "outlinewidth": 0,
              "ticks": ""
             }
            },
            "type": "scatter3d"
           }
          ],
          "scattercarpet": [
           {
            "marker": {
             "colorbar": {
              "outlinewidth": 0,
              "ticks": ""
             }
            },
            "type": "scattercarpet"
           }
          ],
          "scattergeo": [
           {
            "marker": {
             "colorbar": {
              "outlinewidth": 0,
              "ticks": ""
             }
            },
            "type": "scattergeo"
           }
          ],
          "scattergl": [
           {
            "marker": {
             "colorbar": {
              "outlinewidth": 0,
              "ticks": ""
             }
            },
            "type": "scattergl"
           }
          ],
          "scattermap": [
           {
            "marker": {
             "colorbar": {
              "outlinewidth": 0,
              "ticks": ""
             }
            },
            "type": "scattermap"
           }
          ],
          "scattermapbox": [
           {
            "marker": {
             "colorbar": {
              "outlinewidth": 0,
              "ticks": ""
             }
            },
            "type": "scattermapbox"
           }
          ],
          "scatterpolar": [
           {
            "marker": {
             "colorbar": {
              "outlinewidth": 0,
              "ticks": ""
             }
            },
            "type": "scatterpolar"
           }
          ],
          "scatterpolargl": [
           {
            "marker": {
             "colorbar": {
              "outlinewidth": 0,
              "ticks": ""
             }
            },
            "type": "scatterpolargl"
           }
          ],
          "scatterternary": [
           {
            "marker": {
             "colorbar": {
              "outlinewidth": 0,
              "ticks": ""
             }
            },
            "type": "scatterternary"
           }
          ],
          "surface": [
           {
            "colorbar": {
             "outlinewidth": 0,
             "ticks": ""
            },
            "colorscale": [
             [
              0,
              "#0d0887"
             ],
             [
              0.1111111111111111,
              "#46039f"
             ],
             [
              0.2222222222222222,
              "#7201a8"
             ],
             [
              0.3333333333333333,
              "#9c179e"
             ],
             [
              0.4444444444444444,
              "#bd3786"
             ],
             [
              0.5555555555555556,
              "#d8576b"
             ],
             [
              0.6666666666666666,
              "#ed7953"
             ],
             [
              0.7777777777777778,
              "#fb9f3a"
             ],
             [
              0.8888888888888888,
              "#fdca26"
             ],
             [
              1,
              "#f0f921"
             ]
            ],
            "type": "surface"
           }
          ],
          "table": [
           {
            "cells": {
             "fill": {
              "color": "#EBF0F8"
             },
             "line": {
              "color": "white"
             }
            },
            "header": {
             "fill": {
              "color": "#C8D4E3"
             },
             "line": {
              "color": "white"
             }
            },
            "type": "table"
           }
          ]
         },
         "layout": {
          "annotationdefaults": {
           "arrowcolor": "#2a3f5f",
           "arrowhead": 0,
           "arrowwidth": 1
          },
          "autotypenumbers": "strict",
          "coloraxis": {
           "colorbar": {
            "outlinewidth": 0,
            "ticks": ""
           }
          },
          "colorscale": {
           "diverging": [
            [
             0,
             "#8e0152"
            ],
            [
             0.1,
             "#c51b7d"
            ],
            [
             0.2,
             "#de77ae"
            ],
            [
             0.3,
             "#f1b6da"
            ],
            [
             0.4,
             "#fde0ef"
            ],
            [
             0.5,
             "#f7f7f7"
            ],
            [
             0.6,
             "#e6f5d0"
            ],
            [
             0.7,
             "#b8e186"
            ],
            [
             0.8,
             "#7fbc41"
            ],
            [
             0.9,
             "#4d9221"
            ],
            [
             1,
             "#276419"
            ]
           ],
           "sequential": [
            [
             0,
             "#0d0887"
            ],
            [
             0.1111111111111111,
             "#46039f"
            ],
            [
             0.2222222222222222,
             "#7201a8"
            ],
            [
             0.3333333333333333,
             "#9c179e"
            ],
            [
             0.4444444444444444,
             "#bd3786"
            ],
            [
             0.5555555555555556,
             "#d8576b"
            ],
            [
             0.6666666666666666,
             "#ed7953"
            ],
            [
             0.7777777777777778,
             "#fb9f3a"
            ],
            [
             0.8888888888888888,
             "#fdca26"
            ],
            [
             1,
             "#f0f921"
            ]
           ],
           "sequentialminus": [
            [
             0,
             "#0d0887"
            ],
            [
             0.1111111111111111,
             "#46039f"
            ],
            [
             0.2222222222222222,
             "#7201a8"
            ],
            [
             0.3333333333333333,
             "#9c179e"
            ],
            [
             0.4444444444444444,
             "#bd3786"
            ],
            [
             0.5555555555555556,
             "#d8576b"
            ],
            [
             0.6666666666666666,
             "#ed7953"
            ],
            [
             0.7777777777777778,
             "#fb9f3a"
            ],
            [
             0.8888888888888888,
             "#fdca26"
            ],
            [
             1,
             "#f0f921"
            ]
           ]
          },
          "colorway": [
           "#636efa",
           "#EF553B",
           "#00cc96",
           "#ab63fa",
           "#FFA15A",
           "#19d3f3",
           "#FF6692",
           "#B6E880",
           "#FF97FF",
           "#FECB52"
          ],
          "font": {
           "color": "#2a3f5f"
          },
          "geo": {
           "bgcolor": "white",
           "lakecolor": "white",
           "landcolor": "#E5ECF6",
           "showlakes": true,
           "showland": true,
           "subunitcolor": "white"
          },
          "hoverlabel": {
           "align": "left"
          },
          "hovermode": "closest",
          "mapbox": {
           "style": "light"
          },
          "paper_bgcolor": "white",
          "plot_bgcolor": "#E5ECF6",
          "polar": {
           "angularaxis": {
            "gridcolor": "white",
            "linecolor": "white",
            "ticks": ""
           },
           "bgcolor": "#E5ECF6",
           "radialaxis": {
            "gridcolor": "white",
            "linecolor": "white",
            "ticks": ""
           }
          },
          "scene": {
           "xaxis": {
            "backgroundcolor": "#E5ECF6",
            "gridcolor": "white",
            "gridwidth": 2,
            "linecolor": "white",
            "showbackground": true,
            "ticks": "",
            "zerolinecolor": "white"
           },
           "yaxis": {
            "backgroundcolor": "#E5ECF6",
            "gridcolor": "white",
            "gridwidth": 2,
            "linecolor": "white",
            "showbackground": true,
            "ticks": "",
            "zerolinecolor": "white"
           },
           "zaxis": {
            "backgroundcolor": "#E5ECF6",
            "gridcolor": "white",
            "gridwidth": 2,
            "linecolor": "white",
            "showbackground": true,
            "ticks": "",
            "zerolinecolor": "white"
           }
          },
          "shapedefaults": {
           "line": {
            "color": "#2a3f5f"
           }
          },
          "ternary": {
           "aaxis": {
            "gridcolor": "white",
            "linecolor": "white",
            "ticks": ""
           },
           "baxis": {
            "gridcolor": "white",
            "linecolor": "white",
            "ticks": ""
           },
           "bgcolor": "#E5ECF6",
           "caxis": {
            "gridcolor": "white",
            "linecolor": "white",
            "ticks": ""
           }
          },
          "title": {
           "x": 0.05
          },
          "xaxis": {
           "automargin": true,
           "gridcolor": "white",
           "linecolor": "white",
           "ticks": "",
           "title": {
            "standoff": 15
           },
           "zerolinecolor": "white",
           "zerolinewidth": 2
          },
          "yaxis": {
           "automargin": true,
           "gridcolor": "white",
           "linecolor": "white",
           "ticks": "",
           "title": {
            "standoff": 15
           },
           "zerolinecolor": "white",
           "zerolinewidth": 2
          }
         }
        },
        "title": {
         "text": "MNIST Predictions (First 5 Test Images)",
         "x": 0.5,
         "xanchor": "center",
         "y": 0.95,
         "yanchor": "top"
        },
        "width": 1000,
        "xaxis": {
         "anchor": "y",
         "domain": [
          0,
          0.16799999999999998
         ]
        },
        "xaxis2": {
         "anchor": "y2",
         "domain": [
          0.208,
          0.376
         ]
        },
        "xaxis3": {
         "anchor": "y3",
         "domain": [
          0.416,
          0.584
         ]
        },
        "xaxis4": {
         "anchor": "y4",
         "domain": [
          0.624,
          0.792
         ]
        },
        "xaxis5": {
         "anchor": "y5",
         "domain": [
          0.832,
          1
         ]
        },
        "yaxis": {
         "anchor": "x",
         "autorange": "reversed",
         "domain": [
          0,
          1
         ]
        },
        "yaxis2": {
         "anchor": "x2",
         "autorange": "reversed",
         "domain": [
          0,
          1
         ]
        },
        "yaxis3": {
         "anchor": "x3",
         "autorange": "reversed",
         "domain": [
          0,
          1
         ]
        },
        "yaxis4": {
         "anchor": "x4",
         "autorange": "reversed",
         "domain": [
          0,
          1
         ]
        },
        "yaxis5": {
         "anchor": "x5",
         "autorange": "reversed",
         "domain": [
          0,
          1
         ]
        }
       }
      }
     },
     "metadata": {},
     "output_type": "display_data"
    }
   ],
   "source": [
    "# Load test data\n",
    "_, test_loader = get_mnist_dataloaders(batch_size=5, shuffle_test=True)\n",
    "\n",
    "for batch_idx, (data, target) in enumerate(test_loader):\n",
    "    print(\"Data shape:\", data.shape)\n",
    "    print(\"Target shape:\", target.shape)\n",
    "    break\n",
    "\n",
    "data, target = next(iter(test_loader))\n",
    "data, target = data.to(device), target.to(device)\n",
    "\n",
    "# Run prediction\n",
    "with torch.no_grad():\n",
    "    outputs = model(data)\n",
    "    _, preds = torch.max(outputs, 1)\n",
    "\n",
    "# Plot 5 samples with predicted + actual labels\n",
    "fig = make_subplots(\n",
    "    rows=1, cols=5,\n",
    "    subplot_titles=[f\"True: {lbl.item()}<br>Pred: {pred.item()}\"\n",
    "                    for lbl, pred in zip(target[:5], preds[:5])]\n",
    ")\n",
    "\n",
    "for i, img in enumerate(data[:5]):\n",
    "    img = img.squeeze().cpu().numpy()\n",
    "    heatmap = go.Heatmap(\n",
    "        z=img,\n",
    "        colorscale=\"gray\",\n",
    "        showscale=False\n",
    "    )\n",
    "    fig.add_trace(heatmap, row=1, col=i+1)\n",
    "\n",
    "# Fix orientation (avoid flipped digits)\n",
    "fig.update_yaxes(autorange=\"reversed\", scaleanchor=None)\n",
    "\n",
    "fig.update_layout(\n",
    "    width=1000, height=250,\n",
    "    margin=dict(l=10, r=10, b=10, t=90),\n",
    "    title=dict(\n",
    "        text=\"MNIST Predictions (First 5 Test Images)\",\n",
    "        y=0.95,\n",
    "        x=0.5,\n",
    "        xanchor='center',\n",
    "        yanchor='top'\n",
    "    )\n",
    ")\n",
    "\n",
    "fig.show()"
   ]
  }
 ],
 "metadata": {
  "kernelspec": {
   "display_name": "venv",
   "language": "python",
   "name": "python3"
  },
  "language_info": {
   "codemirror_mode": {
    "name": "ipython",
    "version": 3
   },
   "file_extension": ".py",
   "mimetype": "text/x-python",
   "name": "python",
   "nbconvert_exporter": "python",
   "pygments_lexer": "ipython3",
   "version": "3.11.0"
  }
 },
 "nbformat": 4,
 "nbformat_minor": 5
}
